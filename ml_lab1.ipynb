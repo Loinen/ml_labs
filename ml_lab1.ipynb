{
  "nbformat": 4,
  "nbformat_minor": 0,
  "metadata": {
    "kernelspec": {
      "display_name": "Python 3",
      "language": "python",
      "name": "python3"
    },
    "language_info": {
      "codemirror_mode": {
        "name": "ipython",
        "version": 3
      },
      "file_extension": ".py",
      "mimetype": "text/x-python",
      "name": "python",
      "nbconvert_exporter": "python",
      "pygments_lexer": "ipython3",
      "version": "3.7.5"
    },
    "colab": {
      "name": "ml_lab1.ipynb",
      "provenance": []
    }
  },
  "cells": [
    {
      "cell_type": "markdown",
      "metadata": {
        "id": "RD-2PYwE9amb"
      },
      "source": [
        "# Лабораторная работа 1. Работа с матрицами"
      ]
    },
    {
      "cell_type": "markdown",
      "metadata": {
        "id": "ZMrHYLEv9amo"
      },
      "source": [
        "## Часть 1. Библиотеки"
      ]
    },
    {
      "cell_type": "markdown",
      "metadata": {
        "id": "qAMH5BQR9amp"
      },
      "source": [
        "В этой лабораторной работе вам понадобятся три библиотеки:\n",
        "\n",
        "- `numpy` - основная библиотека для работы с матрицами;\n",
        "- `scipy`, а точнее модуль `scipy.linalg`, содержащий множество функций линейной алгебры.\n",
        "\n",
        "Подключить их можно следующим образом:"
      ]
    },
    {
      "cell_type": "code",
      "metadata": {
        "id": "DzC2H9XB9ams"
      },
      "source": [
        "# Запустите этот код\n",
        "import numpy as np\n",
        "import scipy.linalg as sla"
      ],
      "execution_count": 1,
      "outputs": []
    },
    {
      "cell_type": "markdown",
      "metadata": {
        "id": "yKIVs3id9ams"
      },
      "source": [
        "Теперь вы можете вызвать, например, функцию `scipy.linalg.det()` с помощью кода `sla.det()`, а функцию `numpy.exp()` - с помощью кода `np.exp()`."
      ]
    },
    {
      "cell_type": "markdown",
      "metadata": {
        "id": "LuvHSDUq9amu"
      },
      "source": [
        "**Основные объекты и операции линейной алгебры в NumPy и SciPy**"
      ]
    },
    {
      "cell_type": "markdown",
      "metadata": {
        "id": "HywpcrKy9amv"
      },
      "source": [
        "Основной объект, с которым вам придётся работать в этой и в следующих лабораторных - это матрицы. В библиотеке `numpy` они представлены классом `numpy.ndarray`. Матрицу можно создать из двумерного (а на самом деле и не только двумерного) массива следующим образом:"
      ]
    },
    {
      "cell_type": "code",
      "metadata": {
        "colab": {
          "base_uri": "https://localhost:8080/"
        },
        "id": "w_m2NQir9amx",
        "outputId": "6bdd0c4f-927f-40c4-91b8-bedb3d053241"
      },
      "source": [
        "# Запустите этот код\n",
        "A = np.array([[1, 2, 3], [4, 5, 6]])\n",
        "\n",
        "print(A)\n",
        "print(A.shape) # пара (число строк, число столбцов)"
      ],
      "execution_count": null,
      "outputs": [
        {
          "output_type": "stream",
          "text": [
            "[[1 2 3]\n",
            " [4 5 6]]\n",
            "(2, 3)\n"
          ],
          "name": "stdout"
        }
      ]
    },
    {
      "cell_type": "markdown",
      "metadata": {
        "id": "J_eDNTt69am0"
      },
      "source": [
        "Обратите внимание, что матрица заполняется *по строкам*.\n",
        "\n",
        "Есть и много других конструкторов матриц. Например, единичная матрица размера $n\\times n$ создаётся с помощью функции `numpy.eye(n)`. Со всем многообразием конструкторов можно ознакомиться [на этой странице](https://numpy.org/doc/stable/reference/routines.array-creation.html)."
      ]
    },
    {
      "cell_type": "markdown",
      "metadata": {
        "id": "Tbo7uuWC9am0"
      },
      "source": [
        "Зачастую бывает нужно получить доступ к подматрицам данной матрицы, и `numpy` предоставляет множество удобных средств, как это сделать (такая операция называется *slicing*):\n",
        "- элемент с номером `(i,j)`: `A[i,j]`\n",
        "- i-я строка матрицы: `A[i,:]`\n",
        "- j-й столбец матрицы: `A[:,j]`\n",
        "\n",
        "**Внимание!** Оба варианта, и `A[i,:]`, и `A[:,j]`, дают не строку или столбец, а одномерный вектор. Если вы хотите получить вектор-строку или вектор-столбец соответственно, используйте вот такой синтаксис: `A[i:i+1,:]`, и `A[:,j:j+1]`\n",
        "- строки с нулевой по i-ю: `A[:i+1,:]`\n",
        "- столбцы с j-го по последний: `A[:,j:]`\n",
        "- строки с i-й по k-ю: `A[i:k,:]`\n",
        "\n",
        "В некоторых случаях нужно получить доступ к (прямоугольной) подматрице, элементы которой находятся на пересечении строк из списка `rows` и столбцов `columns`. В этом случае `A[rows, columns]` даст не то, что вы ожидаете (можете попробовать это сделать сами и увидеть, что получится; только возьмите `rows` и `columns` одного размера). Справиться с этой задачей позволяет выражение `A[np.ix_(rows, columns)]`."
      ]
    },
    {
      "cell_type": "markdown",
      "metadata": {
        "id": "x-tzG6oC9am2"
      },
      "source": [
        "*Умножение матриц* производится с помощью оператора `np.dot()`. Есть два варианта написания: `A.dot(B)` и `np.dot(A, B)`.\n",
        "\n",
        "Обычные знаки арифметических действий (`+`, `-`, `*`) зарезервированы для поэлементных операций. Например, `A * B` - это матрица, элементами которой являются произведения $A_{ij}B_{ij}$. Помимо этих есть и множество других поэлементных операций. Например, `numpy.exp(A)` - это матрица, элементами которой являются экспоненты элементов матрицы `A`."
      ]
    },
    {
      "cell_type": "markdown",
      "metadata": {
        "id": "1XDphR249am4"
      },
      "source": [
        "Чтобы получить матрицу, *транспонированную* к матрице `A`, напишите просто `A.T`. "
      ]
    },
    {
      "cell_type": "markdown",
      "metadata": {
        "id": "GWFLbKk49am4"
      },
      "source": [
        "В некоторых случаях бывает нужно создавать *случайные матрицы*: например, при проведении экспериментов или для инициализации итеративных методов. Средства для этого предоставляет пакет [numpy.random](https://numpy.org/doc/stable/reference/random/index.html). Так, `np.random.rand(m,n)` - это матрица $m\\times n$, элементы которой независимо выбраны из равномерного распределения на интервале `[0;1)`. "
      ]
    },
    {
      "cell_type": "markdown",
      "metadata": {
        "id": "QcVzjk9Y9am4"
      },
      "source": [
        "Для *решения систем линейных уравнений* в пакете `scipy.linalg` есть множество методов, рассмотрение которых выходит за пределы курса линейной алгебры. Мы предлагаем пользоваться функцией `scipy.linalg.solve`, основанной на методе Гаусса. Отметим, что `scipy.linalg.solve(A, B)` выдаёт решение уравнения $AX = B$ (или ошибку), где $B$ может быть как вектором, так и матрицей.\n",
        "\n",
        "Найти обратную матрицу для матрицы $A$ можно с помощью функции `sla.inv(A)`."
      ]
    },
    {
      "cell_type": "markdown",
      "metadata": {
        "id": "supJKt199am5"
      },
      "source": [
        "**Копирование сложных объектов в Python**"
      ]
    },
    {
      "cell_type": "markdown",
      "metadata": {
        "id": "etsZwkbi9am5"
      },
      "source": [
        "Когда вы делаете присваивание каких-то сложных объектов, как правило оно происходит по ссылке. Например, код\n",
        "```\n",
        "B = A\n",
        "B[0,0] = 10\n",
        "```\n",
        "приведёт к изменению матрицы `A`.\n",
        "\n",
        "Не попадайтесь в эту ловушку! Если вы хотите работать с копией как с независимой матрицей, используйте метод `copy()`:\n",
        "```\n",
        "B = A.copy()\n",
        "```"
      ]
    },
    {
      "cell_type": "markdown",
      "metadata": {
        "id": "5JxjYci49am6"
      },
      "source": [
        "**Где искать помощь**"
      ]
    },
    {
      "cell_type": "markdown",
      "metadata": {
        "id": "Yfn-dF2g9am7"
      },
      "source": [
        "Библиотеки `numpy` и `scipy` снабжены прекрасной документацией. Если у вас возникают вопросы о том, как работает та или иная функция (или даже как называется функция, выполняющая то, что вам нужно), вы почти всегда можете найти там ответы.\n",
        "\n",
        "[Ссылка на документацию пакета scipy.linalg](https://docs.scipy.org/doc/scipy/reference/linalg.html)"
      ]
    },
    {
      "cell_type": "markdown",
      "metadata": {
        "id": "MKLfBbqp9am7"
      },
      "source": [
        "**Задание 1**"
      ]
    },
    {
      "cell_type": "markdown",
      "metadata": {
        "id": "P8NPRQ0S9am7"
      },
      "source": [
        "В качестве первого задания найдите соответствующие функции в библиотеке и сделайте следующее:\n",
        "\n",
        "- создайте нулевую матрицу $Z$ размера $3\\times4$;\n",
        "\n",
        "- создайте диагональную матрицу $5\\times5$ с диагональными элементами 1, 2, 3, 4 и 5;\n",
        "\n",
        "- найдите её след;\n",
        "\n",
        "- найдите обратную к ней матрицу;\n",
        "\n",
        "- сгенерируйте случайную матрицу $X$ размера $4\\times5$;\n",
        "\n",
        "- найдите определитель подматрицы матрицы $X$, расположенной на пересечении 2 и 3 строки и 1 и 2 столбца; считаем, что строки и столбцы нумеруются с единицы (используйте slicing!). Такой определитель называется *минором* матрицы $X$;\n",
        "\n",
        "- найдите произведение $X^TX$.\n",
        "\n",
        "Пожалуйста, каждый пункт делайте в новом блоке и не забывайте выводить результаты."
      ]
    },
    {
      "cell_type": "code",
      "metadata": {
        "colab": {
          "base_uri": "https://localhost:8080/"
        },
        "id": "CC6PYgY69am7",
        "outputId": "9c91a3f9-5bf3-48c7-99a3-e6814297cbfe"
      },
      "source": [
        "import numpy as np\n",
        "import scipy.linalg as sla\n",
        "# создайте нулевую матрицу Z размера 3×4;\n",
        "Z = np.zeros((3,4))\n",
        "print(Z, Z.shape)"
      ],
      "execution_count": 1,
      "outputs": [
        {
          "output_type": "stream",
          "text": [
            "[[0. 0. 0. 0.]\n",
            " [0. 0. 0. 0.]\n",
            " [0. 0. 0. 0.]] (3, 4)\n"
          ],
          "name": "stdout"
        }
      ]
    },
    {
      "cell_type": "code",
      "metadata": {
        "colab": {
          "base_uri": "https://localhost:8080/"
        },
        "id": "sgad9F3lC2Rh",
        "outputId": "bbe6fa6b-e74d-40d0-c765-7c4f129231fa"
      },
      "source": [
        "# создайте диагональную матрицу 5×5 с диагональными элементами 1, 2, 3, 4 и 5;\n",
        "Z = np.diag(np.arange(1, 6))\n",
        "print(Z)"
      ],
      "execution_count": 7,
      "outputs": [
        {
          "output_type": "stream",
          "text": [
            "[[1 0 0 0 0]\n",
            " [0 2 0 0 0]\n",
            " [0 0 3 0 0]\n",
            " [0 0 0 4 0]\n",
            " [0 0 0 0 5]]\n"
          ],
          "name": "stdout"
        }
      ]
    },
    {
      "cell_type": "code",
      "metadata": {
        "colab": {
          "base_uri": "https://localhost:8080/"
        },
        "id": "ANebHxN8C0qY",
        "outputId": "f7e68819-ffd0-4889-8d87-1a8ff9da4b30"
      },
      "source": [
        "# найдите её след\n",
        "diag_sum = np.trace(Z)\n",
        "print(diag_sum)"
      ],
      "execution_count": 8,
      "outputs": [
        {
          "output_type": "stream",
          "text": [
            "15\n"
          ],
          "name": "stdout"
        }
      ]
    },
    {
      "cell_type": "code",
      "metadata": {
        "colab": {
          "base_uri": "https://localhost:8080/"
        },
        "id": "cjgLOQ1tC7T2",
        "outputId": "8be7d17b-811c-46d1-daa1-1ee0c7ec5b25"
      },
      "source": [
        "# найдите обратную к ней матрицу;\n",
        "res = sla.inv(Z)\n",
        "print(res)\n",
        "# чтобы проверить умножим Z на обратную\n",
        "# check = np.matmul(Z, res)\n",
        "# print(check)"
      ],
      "execution_count": 9,
      "outputs": [
        {
          "output_type": "stream",
          "text": [
            "[[ 1.          0.         -0.          0.         -0.        ]\n",
            " [ 0.          0.5        -0.          0.         -0.        ]\n",
            " [ 0.          0.          0.33333333  0.         -0.        ]\n",
            " [ 0.          0.          0.          0.25       -0.        ]\n",
            " [ 0.          0.          0.          0.          0.2       ]]\n"
          ],
          "name": "stdout"
        }
      ]
    },
    {
      "cell_type": "code",
      "metadata": {
        "colab": {
          "base_uri": "https://localhost:8080/"
        },
        "id": "IiIRXehiC795",
        "outputId": "9b6af2ee-4603-43fd-e224-a5461748f17c"
      },
      "source": [
        "# сгенерируйте случайную матрицу X размера 4×5;\n",
        "X = np.random.rand(4,5)\n",
        "X = np.random.randint(1, 6, (4, 5))\n",
        "print(X)"
      ],
      "execution_count": 117,
      "outputs": [
        {
          "output_type": "stream",
          "text": [
            "[[1 4 3 4 5]\n",
            " [3 4 4 2 5]\n",
            " [1 2 2 1 4]\n",
            " [2 5 3 5 3]]\n"
          ],
          "name": "stdout"
        }
      ]
    },
    {
      "cell_type": "code",
      "metadata": {
        "id": "c1hbQ9-zDGN-",
        "outputId": "c99287cc-ec75-4d99-df72-e49bf5a8008b",
        "colab": {
          "base_uri": "https://localhost:8080/"
        }
      },
      "source": [
        "# найдите определитель подматрицы матрицы X, расположенной на пересечении 2 и 3 строки и 1 и 2 столбца; считаем, что строки и столбцы нумеруются с единицы (используйте slicing!). \n",
        "# Такой определитель называется минором матрицы X;\n",
        "X_det = X.copy()\n",
        "X_det = X_det[np.ix_([1,2],[0,1])]\n",
        "print(X_det)\n",
        "det = np.linalg.det(X_det) \n",
        "print(det)\n",
        "print(np.linalg.det(X_det.T))\n"
      ],
      "execution_count": 53,
      "outputs": [
        {
          "output_type": "stream",
          "text": [
            "[[3 3]\n",
            " [4 2]]\n",
            "-6.0\n",
            "-6.0\n"
          ],
          "name": "stdout"
        }
      ]
    },
    {
      "cell_type": "code",
      "metadata": {
        "colab": {
          "base_uri": "https://localhost:8080/"
        },
        "id": "oxYS9lQSDGac",
        "outputId": "7d184824-7829-457b-c94c-8f61936ac3f9"
      },
      "source": [
        "# найдите произведение XT X.\n",
        "print(X, \"\\n\\n\", X.T)\n",
        "res = np.dot(X.T,X)\n",
        "print(res)\n",
        "print()"
      ],
      "execution_count": 118,
      "outputs": [
        {
          "output_type": "stream",
          "text": [
            "[[1 4 3 4 5]\n",
            " [3 4 4 2 5]\n",
            " [1 2 2 1 4]\n",
            " [2 5 3 5 3]] \n",
            "\n",
            " [[1 3 1 2]\n",
            " [4 4 2 5]\n",
            " [3 4 2 3]\n",
            " [4 2 1 5]\n",
            " [5 5 4 3]]\n",
            "[[15 28 23 21 30]\n",
            " [28 61 47 51 63]\n",
            " [23 47 38 37 52]\n",
            " [21 51 37 46 49]\n",
            " [30 63 52 49 75]]\n",
            "\n"
          ],
          "name": "stdout"
        }
      ]
    },
    {
      "cell_type": "markdown",
      "metadata": {
        "id": "KseIJ8G39am7"
      },
      "source": [
        "## Часть 2. Матричные вычисления"
      ]
    },
    {
      "cell_type": "markdown",
      "metadata": {
        "id": "RbEES-6K9am8"
      },
      "source": [
        "Использование циклов в Python лучше по возможности избегать и важно уметь находить способы делать всё библиотечными средствами.\n",
        "\n",
        "В качестве примера рассмотрим две задачи:\n",
        "\n",
        "**1.** Предположим, нужно вычислить суммы элементов в каждой строке матрицы `A`. Ясно, что можно написать простую функцию с двумя циклами, которая это посчитает, но так лучше не делать. Правильный способ такой:\n",
        "```\n",
        "A.sum(axis=1)\n",
        "```\n",
        "Параметр `axis=1` означает, что суммы берутся по строкам. Если вы хотите просуммировать по столбцам, укажите `axis=0`. Если вообще пропустить параметр `axis` (вызвать `A.sum()`), то функция вернёт сумму *всех* элементов матрицы.\n",
        "\n",
        "**2.** Теперь допустим, что нам нужно каждый столбец матрицы `A` нужно умножить на некоторое число. Более точно, пусть у нас есть (одномерный) вектор `w = np.array([w_1,...,w_n])`, и мы должны `i`-й столбец `A` умножить на число `w_i`. Опять же, это можно сделать в пару циклов, но лучше использовать операцию поэлементного умножения:\n",
        "```\n",
        "A * w.reshape((1,n))\n",
        "```\n",
        "Оператор `reshape` нужен для того, чтобы из одномерного вектора сделать вектор-строку.\n",
        "\n",
        "Аналогично если на числа `w_1,...,w_n` умножаются *строки* матрицы, нужно превратить `w` в вектор-столбец:\n",
        "```\n",
        "A * w.reshape((n,1))\n",
        "```"
      ]
    },
    {
      "cell_type": "markdown",
      "metadata": {
        "id": "yfQdbS6R9am8"
      },
      "source": [
        "Дальше вам будет предложено попрактиковаться в матричных вычислениях. В следующих трёх заданиях нельзя пользоваться циклами; вместо этого постарайтесь свести всё к библиотечным функциям. Чтобы убедиться, что получилось именно то, что нужно, пишите собственные тесты со случайными матрицами."
      ]
    },
    {
      "cell_type": "markdown",
      "metadata": {
        "id": "ThUpuLre9am8"
      },
      "source": [
        "**Задание 2** Напишите функцию `prod_and_sq_sum(A)`, вычисляющую произведение и сумму квадратов диагональных элементов квадратной матрицы `A`."
      ]
    },
    {
      "cell_type": "code",
      "metadata": {
        "id": "Vb-dVFEa9am9"
      },
      "source": [
        "def prod_and_sq_sum(A):\n",
        "  diag = np.diag(A)\n",
        "  prod = np.prod(diag)\n",
        "  sq = np.square(diag)\n",
        "  print (diag,\"prod:\", prod, \"sq:\", sq, \"sum(sq):\", sum(sq))"
      ],
      "execution_count": 59,
      "outputs": []
    },
    {
      "cell_type": "code",
      "metadata": {
        "id": "mB_PK2mnVyg-",
        "outputId": "5022184d-d11a-4f35-cda9-3b17aa320eab",
        "colab": {
          "base_uri": "https://localhost:8080/"
        }
      },
      "source": [
        "# проверка\n",
        "A = np.random.randint(1, 6, (4, 4))\n",
        "print(A)\n",
        "prod_and_sq_sum(A)\n",
        "A = np.ones((4,4))\n",
        "print(A)\n",
        "prod_and_sq_sum(A)"
      ],
      "execution_count": 66,
      "outputs": [
        {
          "output_type": "stream",
          "text": [
            "[[3 1 3 4]\n",
            " [1 4 2 1]\n",
            " [2 4 5 1]\n",
            " [3 4 4 4]]\n",
            "[3 4 5 4] prod: 240 sq: [ 9 16 25 16] sum(sq): 66\n",
            "[[1 1 1 1]\n",
            " [1 1 1 1]\n",
            " [1 1 1 1]\n",
            " [1 1 1 1]]\n",
            "[1 1 1 1] prod: 1 sq: [1 1 1 1] sum(sq): 4\n"
          ],
          "name": "stdout"
        }
      ]
    },
    {
      "cell_type": "markdown",
      "metadata": {
        "id": "qM8eA6Kt9am-"
      },
      "source": [
        "**Задание 3** Для матриц `A` и `B` размера $n\\times m$ обозначим через $a_1,\\ldots,a_m$ и $b_1,\\ldots,b_m$ соответственно их столбцы. Напишите функцию `f(A, B, k)`, вычисляющую\n",
        "\n",
        "$$\\sum_{i=1}^{\\min(k,m)}a_i^Tb_i$$"
      ]
    },
    {
      "cell_type": "code",
      "metadata": {
        "id": "D88LQOle9am-"
      },
      "source": [
        "def f(A, B, k):\n",
        "  # каждый столбец а транспонировать и умножить на каждый столбец матрицы б, суммировать\n",
        "  #print(\"at\", AT[:, :k], \"a\", A[:k, :].T, \"b\", B[:k, :])\n",
        "  print(A.reshape((-1,k)))\n",
        "  A = A[:, :k].T \n",
        "  B = B[:, :k]\n",
        "  # sum = AT[:, :k] * B[:, :k]\n",
        "  print(\"A\\n\", A, \"\\nB\\n\", B)\n",
        "  prod = A * B\n",
        "  print(\"prod\\n\", prod, \"\\nsum\\n\", np.sum(prod, axis = 0))"
      ],
      "execution_count": 52,
      "outputs": []
    },
    {
      "cell_type": "code",
      "metadata": {
        "id": "YepEk8vLV0_q",
        "outputId": "922e239c-bfbb-47ab-87bd-cb015dbbee6c",
        "colab": {
          "base_uri": "https://localhost:8080/"
        }
      },
      "source": [
        "# проверка\n",
        "import numpy as np\n",
        "import scipy.linalg as sla\n",
        "n = np.random.randint(2, 5)\n",
        "m = np.random.randint(4, 5)\n",
        "k = np.random.randint(2, 4)\n",
        "print(k)\n",
        "\n",
        "A = np.random.randint(1, 6, (n, m))\n",
        "B = np.random.randint(1, 6, (n, m))\n",
        "k = min(k,m)\n",
        "print(\"A\\n\", A, \"\\nB\\n\", B)\n",
        "f(A, B, k)"
      ],
      "execution_count": 53,
      "outputs": [
        {
          "output_type": "stream",
          "text": [
            "3\n",
            "A\n",
            " [[1 4 4 3]\n",
            " [2 2 2 1]\n",
            " [5 4 4 1]] \n",
            "B\n",
            " [[3 3 1 2]\n",
            " [2 2 2 1]\n",
            " [5 5 4 2]]\n",
            "[[1 4 4]\n",
            " [3 2 2]\n",
            " [2 1 5]\n",
            " [4 4 1]]\n",
            "A\n",
            " [[1 2 5]\n",
            " [4 2 4]\n",
            " [4 2 4]] \n",
            "B\n",
            " [[3 3 1]\n",
            " [2 2 2]\n",
            " [5 5 4]]\n",
            "prod\n",
            " [[ 3  6  5]\n",
            " [ 8  4  8]\n",
            " [20 10 16]] \n",
            "sum\n",
            " [31 20 29]\n"
          ],
          "name": "stdout"
        }
      ]
    },
    {
      "cell_type": "markdown",
      "metadata": {
        "id": "ahigE5T29am-"
      },
      "source": [
        "**Задание 4** Напишите функцию `get_diag(A,B)`, принимающую две матрицы `A` и `B` и возвращающую вектор диагональных элементов произведения `AB`, не вычисляя произведение целиком. "
      ]
    },
    {
      "cell_type": "code",
      "metadata": {
        "id": "n3yvf6Y99am-"
      },
      "source": [
        "def get_diag(A, B):\n",
        "  diagA = np.diag(A)\n",
        "  diagB = np.diag(B)\n",
        "  prod = diagA * diagB\n",
        "  print(\"A\", diagA, \"B\", diagB, \"\\nprod\", prod)"
      ],
      "execution_count": 91,
      "outputs": []
    },
    {
      "cell_type": "code",
      "metadata": {
        "id": "6ImoJLJ3V1vW",
        "outputId": "0501d690-6701-442e-de97-52246f4f62ea",
        "colab": {
          "base_uri": "https://localhost:8080/"
        }
      },
      "source": [
        "# проверка\n",
        "A = np.random.randint(1, 6, (4, 4))\n",
        "B = np.random.randint(1, 6, (4, 4))\n",
        "print(A,\"\\n\\n\", B)\n",
        "get_diag(A, B)\n",
        "C = np.ones((4,4))\n",
        "D = np.full((4,4), 2)\n",
        "get_diag(C, D)"
      ],
      "execution_count": 97,
      "outputs": [
        {
          "output_type": "stream",
          "text": [
            "[[4 4 3 5]\n",
            " [1 1 5 4]\n",
            " [3 2 4 3]\n",
            " [5 2 5 2]] \n",
            "\n",
            " [[2 5 2 4]\n",
            " [3 5 3 1]\n",
            " [3 4 4 5]\n",
            " [5 2 2 3]]\n",
            "A [4 1 4 2] B [2 5 4 3] \n",
            "prod [ 8  5 16  6]\n",
            "A [1. 1. 1. 1.] B [2 2 2 2] \n",
            "prod [2. 2. 2. 2.]\n"
          ],
          "name": "stdout"
        }
      ]
    }
  ]
}