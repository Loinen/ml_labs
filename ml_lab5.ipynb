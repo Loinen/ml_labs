{
  "nbformat": 4,
  "nbformat_minor": 0,
  "metadata": {
    "kernelspec": {
      "display_name": "Python 3",
      "language": "python",
      "name": "python3"
    },
    "language_info": {
      "codemirror_mode": {
        "name": "ipython",
        "version": 3
      },
      "file_extension": ".py",
      "mimetype": "text/x-python",
      "name": "python",
      "nbconvert_exporter": "python",
      "pygments_lexer": "ipython3",
      "version": "3.7.5"
    },
    "colab": {
      "name": "ml_lab5.ipynb",
      "provenance": []
    }
  },
  "cells": [
    {
      "cell_type": "markdown",
      "metadata": {
        "id": "oCs4LE1BsfeS"
      },
      "source": [
        "# Лабораторная работа 5. Полный конвейер анализа данных"
      ]
    },
    {
      "cell_type": "markdown",
      "metadata": {
        "id": "tysjL0pksfeV"
      },
      "source": [
        "В этой работе мы построим полный конвейер анализа данных:\n",
        "1. [Загрузка данных.](#1.-Загрузка-данных)\n",
        "1. [Изучение данных.](#2.-Изучение-данных)\n",
        "1. [Предобработка данных.](#3.-Предобработка-данных)\n",
        "1. [Train/validation/test datasets.](#4.-Train/validation/test-datasets)\n",
        "1. [Построение моделей и оценка качества.](#5.-Построение-моделей-и-оценка-качества)\n",
        "1. [Предсказание на новых данных.](#6.-Предсказание-на-новых-данных)\n",
        "\n",
        "Строить такой конвейер будем с использованием известного набора данных - про пассажиров [\"Титаника\"](https://ru.wikipedia.org/wiki/Титаник) (см. файлы `train.csv` и `test.csv`). Потребуется на основе признаков пассажиров предсказать, кто из них выживет при крушении.  \n",
        "В конце работы мы отправим результаты предсказания в систему [Kaggle](https://www.kaggle.com/c/titanic)."
      ]
    },
    {
      "cell_type": "markdown",
      "metadata": {
        "id": "U-QAZbQssfeW"
      },
      "source": [
        "## 1. Загрузка данных\n",
        "__Задание 1.__  \n",
        "Загрузите обучающие (`train.csv`) и тестовые (`test.csv`) данные с использованием `pandas`. Данные хранятся в файлах формата [CSV](https://ru.wikipedia.org/wiki/CSV) (Comma-Separated Values).  \n",
        "Описание признаков содержится в файле `description.txt` .  \n",
        "Выведите размерность обоих массивов данных.  \n",
        "Обратите внимание, что в тестовых данных количество признаков меньше на единицу, чем в обучающих - отсутствует целевая переменная `Survived`. Результаты предсказания на тестовых данных будут отправляться на сервер Kaggle."
      ]
    },
    {
      "cell_type": "code",
      "metadata": {
        "id": "EYeGBrXIsfeX"
      },
      "source": [
        "import numpy as np\n",
        "import scipy.linalg as sla\n",
        "import matplotlib.pyplot as plt\n",
        "import pandas as pd\n",
        "%matplotlib inline"
      ],
      "execution_count": 1,
      "outputs": []
    },
    {
      "cell_type": "code",
      "metadata": {
        "id": "a-XwHR3Xsrmq",
        "outputId": "d74cbfb8-8a29-4c4a-c0ca-24967f8e9345",
        "colab": {
          "base_uri": "https://localhost:8080/"
        }
      },
      "source": [
        "train = pd.read_csv(\"train.csv\") # lab5_input\n",
        "test = pd.read_csv(\"test.csv\") # lab5_input\n",
        "print(\"train\", train.shape)\n",
        "print(\"test\",test.shape) # нет Survived столбца"
      ],
      "execution_count": 13,
      "outputs": [
        {
          "output_type": "stream",
          "text": [
            "train (891, 12)\n",
            "test (418, 11)\n"
          ],
          "name": "stdout"
        }
      ]
    },
    {
      "cell_type": "markdown",
      "metadata": {
        "id": "ZtEXQfMxsfeY"
      },
      "source": [
        "## 2. Изучение данных\n",
        "Важнейшим этапом анализа данных является их изучение. Всегда полезно исследовать признаки, понять их смысл, внимательно посмотреть на значения признаков для разных объектов.  \n",
        "Изучите признаки в нашем примере с \"Титаником\" (файл `description.txt`).  \n",
        "Известно, что женщины и дети имели преимущество при посадке в спасательные шлюпки. Также известно о значительном имущественном неравенстве среди пассажиров. Следовательно, признаки `Age`, `Sex` и `Pclass`, вероятно, будут иметь большое значение при предсказании."
      ]
    },
    {
      "cell_type": "markdown",
      "metadata": {
        "id": "6fmJ3LT1sfeZ"
      },
      "source": [
        "__Задание 2.__  \n",
        "Выведите информацию об обучающем наборе данных.  \n",
        "    *Воспользуйтесь функциями `pandas.DataFrame.describe()` и `pandas.DataFrame.info()`*."
      ]
    },
    {
      "cell_type": "code",
      "metadata": {
        "id": "r0QHr3Dfsfeb",
        "outputId": "c9c8efd8-f9aa-4d6f-95b5-a07965a510b2",
        "colab": {
          "base_uri": "https://localhost:8080/"
        }
      },
      "source": [
        "# Ваш код здесь\n",
        "print(train.describe())\n",
        "print(train.info())"
      ],
      "execution_count": 9,
      "outputs": [
        {
          "output_type": "stream",
          "text": [
            "       PassengerId    Survived      Pclass  ...       SibSp       Parch        Fare\n",
            "count   891.000000  891.000000  891.000000  ...  891.000000  891.000000  891.000000\n",
            "mean    446.000000    0.383838    2.308642  ...    0.523008    0.381594   32.204208\n",
            "std     257.353842    0.486592    0.836071  ...    1.102743    0.806057   49.693429\n",
            "min       1.000000    0.000000    1.000000  ...    0.000000    0.000000    0.000000\n",
            "25%     223.500000    0.000000    2.000000  ...    0.000000    0.000000    7.910400\n",
            "50%     446.000000    0.000000    3.000000  ...    0.000000    0.000000   14.454200\n",
            "75%     668.500000    1.000000    3.000000  ...    1.000000    0.000000   31.000000\n",
            "max     891.000000    1.000000    3.000000  ...    8.000000    6.000000  512.329200\n",
            "\n",
            "[8 rows x 7 columns]\n",
            "<class 'pandas.core.frame.DataFrame'>\n",
            "RangeIndex: 891 entries, 0 to 890\n",
            "Data columns (total 12 columns):\n",
            " #   Column       Non-Null Count  Dtype  \n",
            "---  ------       --------------  -----  \n",
            " 0   PassengerId  891 non-null    int64  \n",
            " 1   Survived     891 non-null    int64  \n",
            " 2   Pclass       891 non-null    int64  \n",
            " 3   Name         891 non-null    object \n",
            " 4   Sex          891 non-null    object \n",
            " 5   Age          714 non-null    float64\n",
            " 6   SibSp        891 non-null    int64  \n",
            " 7   Parch        891 non-null    int64  \n",
            " 8   Ticket       891 non-null    object \n",
            " 9   Fare         891 non-null    float64\n",
            " 10  Cabin        204 non-null    object \n",
            " 11  Embarked     889 non-null    object \n",
            "dtypes: float64(2), int64(5), object(5)\n",
            "memory usage: 83.7+ KB\n",
            "None\n"
          ],
          "name": "stdout"
        }
      ]
    },
    {
      "cell_type": "markdown",
      "metadata": {
        "id": "syXoDWbLsfeb"
      },
      "source": [
        "__Задание 3.__  \n",
        "Выведите первые десять записей в обучающем наборе данных."
      ]
    },
    {
      "cell_type": "code",
      "metadata": {
        "id": "lEA3Brogsfec",
        "outputId": "e24d1d40-85fb-404f-f5a1-77733332baf8",
        "colab": {
          "base_uri": "https://localhost:8080/"
        }
      },
      "source": [
        "print(train.head(10))"
      ],
      "execution_count": 11,
      "outputs": [
        {
          "output_type": "stream",
          "text": [
            "   PassengerId  Survived  Pclass  ...     Fare Cabin  Embarked\n",
            "0            1         0       3  ...   7.2500   NaN         S\n",
            "1            2         1       1  ...  71.2833   C85         C\n",
            "2            3         1       3  ...   7.9250   NaN         S\n",
            "3            4         1       1  ...  53.1000  C123         S\n",
            "4            5         0       3  ...   8.0500   NaN         S\n",
            "5            6         0       3  ...   8.4583   NaN         Q\n",
            "6            7         0       1  ...  51.8625   E46         S\n",
            "7            8         0       3  ...  21.0750   NaN         S\n",
            "8            9         1       3  ...  11.1333   NaN         S\n",
            "9           10         1       2  ...  30.0708   NaN         C\n",
            "\n",
            "[10 rows x 12 columns]\n"
          ],
          "name": "stdout"
        }
      ]
    },
    {
      "cell_type": "markdown",
      "metadata": {
        "id": "QfMcqlAJsfed"
      },
      "source": [
        "__Задание 4.__  \n",
        "Выведите количество объектов и их относительную частоту в обучающих данных для каждого из уникальных значений для признаков `Sex` и `Pclass` .  \n",
        "*Воспользуйтесь функцией* `value_counts()`."
      ]
    },
    {
      "cell_type": "code",
      "metadata": {
        "id": "1Ji1EUTFsfed",
        "outputId": "3a3520b8-1b45-4cb5-f768-10400477fe97",
        "colab": {
          "base_uri": "https://localhost:8080/"
        }
      },
      "source": [
        "# Ваш код здесь\n",
        "print(train.value_counts(\"Sex\"))\n",
        "print(train.value_counts(\"Pclass\"))"
      ],
      "execution_count": 16,
      "outputs": [
        {
          "output_type": "stream",
          "text": [
            "Sex\n",
            "male      577\n",
            "female    314\n",
            "dtype: int64\n",
            "Pclass\n",
            "3    491\n",
            "1    216\n",
            "2    184\n",
            "dtype: int64\n"
          ],
          "name": "stdout"
        }
      ]
    },
    {
      "cell_type": "markdown",
      "metadata": {
        "id": "4M6ymUPEsfeg"
      },
      "source": [
        "__Задание 5.__  \n",
        "Выведите процент выживших (вероятность выживания) по полам и классам. Также нарисуйте диаграммы по этим вероятностям.  \n",
        "    *Воспользуйтесь функциями `pandas.pivot_table()` и `pandas.DataFrame.plot.bar()`*."
      ]
    },
    {
      "cell_type": "code",
      "metadata": {
        "id": "-sm_tsDKsfeg",
        "outputId": "ee85ceb8-f299-4425-b9c4-d89aeff80563",
        "colab": {
          "base_uri": "https://localhost:8080/",
          "height": 143
        }
      },
      "source": [
        "import matplotlib.pyplot as plt\n",
        "\n",
        "sex_pivot = train.pivot_table(index=\"Sex\", values=\"Survived\")\n",
        "sex_pivot"
      ],
      "execution_count": 18,
      "outputs": [
        {
          "output_type": "execute_result",
          "data": {
            "text/html": [
              "<div>\n",
              "<style scoped>\n",
              "    .dataframe tbody tr th:only-of-type {\n",
              "        vertical-align: middle;\n",
              "    }\n",
              "\n",
              "    .dataframe tbody tr th {\n",
              "        vertical-align: top;\n",
              "    }\n",
              "\n",
              "    .dataframe thead th {\n",
              "        text-align: right;\n",
              "    }\n",
              "</style>\n",
              "<table border=\"1\" class=\"dataframe\">\n",
              "  <thead>\n",
              "    <tr style=\"text-align: right;\">\n",
              "      <th></th>\n",
              "      <th>Survived</th>\n",
              "    </tr>\n",
              "    <tr>\n",
              "      <th>Sex</th>\n",
              "      <th></th>\n",
              "    </tr>\n",
              "  </thead>\n",
              "  <tbody>\n",
              "    <tr>\n",
              "      <th>female</th>\n",
              "      <td>0.742038</td>\n",
              "    </tr>\n",
              "    <tr>\n",
              "      <th>male</th>\n",
              "      <td>0.188908</td>\n",
              "    </tr>\n",
              "  </tbody>\n",
              "</table>\n",
              "</div>"
            ],
            "text/plain": [
              "        Survived\n",
              "Sex             \n",
              "female  0.742038\n",
              "male    0.188908"
            ]
          },
          "metadata": {
            "tags": []
          },
          "execution_count": 18
        }
      ]
    },
    {
      "cell_type": "code",
      "metadata": {
        "id": "RTZNxKNksfeh",
        "outputId": "505c78a9-e75e-4906-973a-99a354eb31dc",
        "colab": {
          "base_uri": "https://localhost:8080/",
          "height": 304
        }
      },
      "source": [
        "sex_pivot.plot.bar()\n",
        "plt.show()"
      ],
      "execution_count": 19,
      "outputs": [
        {
          "output_type": "display_data",
          "data": {
            "image/png": "[encoded data removed]",
            "text/plain": [
              "<Figure size 432x288 with 1 Axes>"
            ]
          },
          "metadata": {
            "tags": [],
            "needs_background": "light"
          }
        }
      ]
    },
    {
      "cell_type": "code",
      "metadata": {
        "id": "jTjmWyFzsfeh"
      },
      "source": [
        ""
      ],
      "execution_count": null,
      "outputs": []
    },
    {
      "cell_type": "markdown",
      "metadata": {
        "id": "kOvPNgxZsfei"
      },
      "source": [
        "__Задание 6.__  \n",
        "Выведите все уникальные значения признаков `Age`, `Sex` и `Pclass` в обучающем наборе данных."
      ]
    },
    {
      "cell_type": "code",
      "metadata": {
        "id": "r5YeGqcSsfej",
        "outputId": "dc24c2fe-61ca-45ef-8f8f-5351874b21d5",
        "colab": {
          "base_uri": "https://localhost:8080/"
        }
      },
      "source": [
        "print(train.value_counts(\"Age\").index.tolist()) #no nan\n",
        "print(train['Age'].unique())\n",
        "print(train['Sex'].unique())\n",
        "print(train['Pclass'].unique())"
      ],
      "execution_count": 41,
      "outputs": [
        {
          "output_type": "stream",
          "text": [
            "[24.0, 22.0, 18.0, 30.0, 19.0, 28.0, 21.0, 25.0, 36.0, 29.0, 26.0, 27.0, 32.0, 35.0, 16.0, 31.0, 23.0, 33.0, 20.0, 34.0, 39.0, 17.0, 42.0, 40.0, 45.0, 38.0, 2.0, 4.0, 50.0, 48.0, 47.0, 44.0, 54.0, 9.0, 51.0, 1.0, 3.0, 14.0, 41.0, 37.0, 52.0, 49.0, 58.0, 15.0, 43.0, 5.0, 60.0, 62.0, 56.0, 8.0, 11.0, 61.0, 46.0, 7.0, 65.0, 6.0, 13.0, 32.5, 28.5, 30.5, 40.5, 45.5, 55.0, 0.83, 57.0, 59.0, 63.0, 64.0, 0.75, 70.0, 71.0, 10.0, 0.92, 0.67, 80.0, 12.0, 14.5, 20.5, 23.5, 24.5, 74.0, 34.5, 36.5, 53.0, 55.5, 66.0, 70.5, 0.42]\n",
            "[22.   38.   26.   35.     nan 54.    2.   27.   14.    4.   58.   20.\n",
            " 39.   55.   31.   34.   15.   28.    8.   19.   40.   66.   42.   21.\n",
            " 18.    3.    7.   49.   29.   65.   28.5   5.   11.   45.   17.   32.\n",
            " 16.   25.    0.83 30.   33.   23.   24.   46.   59.   71.   37.   47.\n",
            " 14.5  70.5  32.5  12.    9.   36.5  51.   55.5  40.5  44.    1.   61.\n",
            " 56.   50.   36.   45.5  20.5  62.   41.   52.   63.   23.5   0.92 43.\n",
            " 60.   10.   64.   13.   48.    0.75 53.   57.   80.   70.   24.5   6.\n",
            "  0.67 30.5   0.42 34.5  74.  ]\n",
            "['male' 'female']\n",
            "[3 1 2]\n"
          ],
          "name": "stdout"
        }
      ]
    },
    {
      "cell_type": "markdown",
      "metadata": {
        "id": "Suzg9dIMsfej"
      },
      "source": [
        "__Задание 7.__  \n",
        "Также важно знать распределение объектов по значениям целевой переменной (`Survived`).  \n",
        "Cоздайте два новых DataFrame: в первом (`survived`) будут только те объекты, у которых значение признака `Survived` равно 1, во втором (`died`) - только те объекты, у которых значение этого признака равно 0.  \n",
        "Выведите количество объектов в обоих DataFrame."
      ]
    },
    {
      "cell_type": "code",
      "metadata": {
        "id": "FK361CuIsfek",
        "outputId": "898381c8-d19d-4291-f09a-8a5e73a0ea77",
        "colab": {
          "base_uri": "https://localhost:8080/"
        }
      },
      "source": [
        "survived = pd.DataFrame()\n",
        "survived = train[train.Survived != 0]\n",
        "died = pd.DataFrame()\n",
        "died = train[train.Survived == 0]\n",
        "print(\"survived\", survived.shape, \"died\", died.shape)\n",
        "#print(died, survived)"
      ],
      "execution_count": 53,
      "outputs": [
        {
          "output_type": "stream",
          "text": [
            "survived (342, 12) died (549, 12)\n"
          ],
          "name": "stdout"
        }
      ]
    },
    {
      "cell_type": "markdown",
      "metadata": {
        "id": "WwGsbW8fsfek"
      },
      "source": [
        "## 3. Предобработка данных"
      ]
    },
    {
      "cell_type": "markdown",
      "metadata": {
        "id": "gCsT9wxRsfel"
      },
      "source": [
        "Признаки `Sex` и `Pclass` являются номинальными (категориальными).  \n",
        "Признак `Age` является количественным."
      ]
    },
    {
      "cell_type": "markdown",
      "metadata": {
        "id": "WnngpT5Tsfel"
      },
      "source": [
        "__Задание 8.__  \n",
        "Выведите статистику по признаку `Age` (воспользуйтесь функцией `describe()`)."
      ]
    },
    {
      "cell_type": "code",
      "metadata": {
        "id": "tVlVsasXsfel",
        "outputId": "a89d309a-7774-4508-c3d3-2e7db34a79f4",
        "colab": {
          "base_uri": "https://localhost:8080/"
        }
      },
      "source": [
        "print(train['Age'].describe())"
      ],
      "execution_count": 52,
      "outputs": [
        {
          "output_type": "stream",
          "text": [
            "count    714.000000\n",
            "mean      29.699118\n",
            "std       14.526497\n",
            "min        0.420000\n",
            "25%       20.125000\n",
            "50%       28.000000\n",
            "75%       38.000000\n",
            "max       80.000000\n",
            "Name: Age, dtype: float64\n"
          ],
          "name": "stdout"
        }
      ]
    },
    {
      "cell_type": "markdown",
      "metadata": {
        "id": "5YVfSNnAsfem"
      },
      "source": [
        "Видно, что признак `Age` имеет меньше значений, чем количество объектов в обучающей выборке - это означает, что у некоторых объектов для этого признака значение пропущено (`NaN`)."
      ]
    },
    {
      "cell_type": "markdown",
      "metadata": {
        "id": "tfU9-bopsfem"
      },
      "source": [
        "Для замены пропущенных значений (NA/NaN) каким-либо определенным значением можно воспользоваться функцией `fillna()`."
      ]
    },
    {
      "cell_type": "markdown",
      "metadata": {
        "id": "Kaxx7eO9sfen"
      },
      "source": [
        "Построим диаграмму зависимости выживания от возраста:"
      ]
    },
    {
      "cell_type": "code",
      "metadata": {
        "id": "yMKKscmjsfen",
        "outputId": "d3f959b4-8b49-46aa-d11a-e7f3e51be6e9",
        "colab": {
          "base_uri": "https://localhost:8080/",
          "height": 265
        }
      },
      "source": [
        "survived[\"Age\"].plot.hist(alpha=0.5,color='red',bins=50)\n",
        "died[\"Age\"].plot.hist(alpha=0.5,color='blue',bins=50)\n",
        "plt.legend(['Survived','Died'])\n",
        "plt.show()"
      ],
      "execution_count": 54,
      "outputs": [
        {
          "output_type": "display_data",
          "data": {
            "image/png": "[encoded data removed]",
            "text/plain": [
              "<Figure size 432x288 with 1 Axes>"
            ]
          },
          "metadata": {
            "tags": [],
            "needs_background": "light"
          }
        }
      ]
    },
    {
      "cell_type": "markdown",
      "metadata": {
        "id": "_nk2Xj9Xsfeo"
      },
      "source": [
        "Из диаграммы видно, что для некоторых диапазонов возрастов вероятность выживания выше. Чтобы это учесть, можно преобразовать количественный признак `Age` в категориальный при помощи выделения в нем ряда диапазонов. Для этого можно воспользоваться функцией `cut()` .  \n",
        "При этом необходимо помнить, что преобразования, применяемые к обучающим данным, должны быть так же применены к тестовым, иначе модели будут обучаться на данных одного вида, а тестироваться на другом виде данных."
      ]
    },
    {
      "cell_type": "markdown",
      "metadata": {
        "id": "w9994iEJsfep"
      },
      "source": [
        "__Задание 9.__  \n",
        "Написать функцию `process_age`, которая принимает на вход `DataFrame`, границы диапазонов и названия диапазонов, а возвращает новый `DataFrame`, в котором все пропущенные значения признака `Age` заменены на `-0.5` и добавлен новый категориальный признак `Age_categories` со следующими значениями:\n",
        "- \"Missing\" если `Age` $\\in (-1, 0]$\n",
        "- \"Infant\" если `Age` $\\in (0, 5]$\n",
        "- \"Child\" если `Age` $\\in (5, 12]$\n",
        "- \"Teenager\" если `Age` $\\in (12, 18]$\n",
        "- \"Young_Adult\" если `Age` $\\in (18, 35]$\n",
        "- \"Adult\" если `Age` $\\in (35, 60]$\n",
        "- \"Senior\" если `Age` $\\in (60, 100]$"
      ]
    },
    {
      "cell_type": "code",
      "metadata": {
        "id": "sRIY2zoYsfep"
      },
      "source": [
        "def process_age(df, cut_points, label_names):\n",
        "    # Ваш код здесь\n",
        "\n",
        "cut_points = [-1, 0, 5, 12, 18, 35, 60, 100]\n",
        "label_names = [\"Missing\", \"Infant\", \"Child\", \"Teenager\", \"Young_Adult\", \"Adult\", \"Senior\"]\n",
        "\n",
        "train = process_age(train,cut_points,label_names)\n",
        "test = process_age(test,cut_points,label_names)\n",
        "\n",
        "age_cat_pivot = train.pivot_table(index=\"Age_categories\",values=\"Survived\")\n",
        "age_cat_pivot.plot.bar()\n",
        "plt.show()"
      ],
      "execution_count": null,
      "outputs": []
    },
    {
      "cell_type": "markdown",
      "metadata": {
        "id": "MdKemJKBsfep"
      },
      "source": [
        "Перед применением моделей машинного обучения следует подготовить категориальные признаки (`Sex`, `Pclass` и `Age_categories`).  \n",
        "Такую подготовку следует делать, даже если значениями категориального признака являются числа [1, 2, 3], как в `Pclass`. Дело в том, что отношения между классами не соответствуют отношениям между числами, например, второй класс не в два раза \"ценнее\" первого класса.  "
      ]
    },
    {
      "cell_type": "markdown",
      "metadata": {
        "id": "THFR6E2rsfep"
      },
      "source": [
        "Для подготовки категориальных признаков воспользуемся *бинаризацией* (*one-hot encoding*), т.е. создадим для каждого уникального значения категориального признака новый признак (*dummy variables*). Для этого можно воспользоваться функцией `get_dummies()`."
      ]
    },
    {
      "cell_type": "markdown",
      "metadata": {
        "id": "iab9UXDKsfep"
      },
      "source": [
        "__Задание 10.__  \n",
        "Напишите функцию `create_dummies`, на вход которой поступает `DataFrame` и название признака, а на выходе возвращается `DataFrame`, дополненный новыми бинарными признаками, соответствующими уникальным значениям данного входного признака.  \n",
        "Примените разработанную функцию к обучающим и тестовым данным для признаков `Sex`, `Pclass` и `Age_categories`."
      ]
    },
    {
      "cell_type": "code",
      "metadata": {
        "id": "J09kI0Otsfep"
      },
      "source": [
        "def create_dummies(df, column_name):\n",
        "    # Ваш код здесь\n",
        "\n",
        "train = create_dummies(train, \"Pclass\")\n",
        "test = create_dummies(test, \"Pclass\")\n",
        "\n",
        "train = create_dummies(train, \"Sex\")\n",
        "test = create_dummies(test, \"Sex\")\n",
        "\n",
        "train = create_dummies(train, \"Age_categories\")\n",
        "test = create_dummies(test, \"Age_categories\")"
      ],
      "execution_count": null,
      "outputs": []
    },
    {
      "cell_type": "code",
      "metadata": {
        "id": "FkoiZXVysfeq"
      },
      "source": [
        "train.info()"
      ],
      "execution_count": null,
      "outputs": []
    },
    {
      "cell_type": "code",
      "metadata": {
        "id": "B1C05Lp9sfeq"
      },
      "source": [
        "train.describe()"
      ],
      "execution_count": null,
      "outputs": []
    },
    {
      "cell_type": "code",
      "metadata": {
        "id": "ramNN2izsfer"
      },
      "source": [
        "train.head()"
      ],
      "execution_count": null,
      "outputs": []
    },
    {
      "cell_type": "markdown",
      "metadata": {
        "id": "_AvDsRMXsfer"
      },
      "source": [
        "## 4. Train/validation/test datasets"
      ]
    },
    {
      "cell_type": "markdown",
      "metadata": {
        "id": "wnKYQpmzsfes"
      },
      "source": [
        "Для выбора моделей и подбора их параметров нужно уметь оценивать качество моделей. Чтобы вычислить метрики качества, необходимо знать правильные ответы (значения целевой переменной). Мы знаем правильные ответы для обучающего набора данных (`train`), но если мы будем оценивать качество модели на тех же данных, на которых модель обучается, это приведет к *переобучению* (*overfitting*) - ситуации, когда модель хорошо работает на известных ей данных, но имеет низкую обобщающую способность, т.е плохо предсказывает целевую переменную для новых данных.  \n",
        "Поэтому качество модели оценивают с использованием *отложенной выборки* (*hold-out set*) - таких данных, для которых известны правильные ответы, но эти данные не использовались в процессе обучения.  \n",
        "Есть два основных способа использования отложенной выборки:  \n",
        "1. случайное разделение исходных размеченных данных на обучающую и тестовую выборки;\n",
        "1. k-кратная перекрестная проверка (k-fold cross-validation).  \n",
        "  \n",
        "В случае, когда такие отложенные тестовые данные используются для подбора параметров моделей, их называют *валидационными* (*validation*).\n"
      ]
    },
    {
      "cell_type": "markdown",
      "metadata": {
        "id": "o0k-c3l6sfes"
      },
      "source": [
        "__Задание 11.__  \n",
        "Разделите исходную размеченную выборку на обучающую (80%) и валидационную (20%).  \n",
        "Можно использовать функцию `train_test_split()` с параметром `random_state=42` .  \n",
        "Выведите размерность получившихся массивов данных."
      ]
    },
    {
      "cell_type": "code",
      "metadata": {
        "id": "5Sy_l8VXsfes"
      },
      "source": [
        "# Ваш код здесь"
      ],
      "execution_count": null,
      "outputs": []
    },
    {
      "cell_type": "markdown",
      "metadata": {
        "id": "DBUwZ-cesfet"
      },
      "source": [
        "## 5. Построение моделей и оценка качества"
      ]
    },
    {
      "cell_type": "markdown",
      "metadata": {
        "id": "oF2kjy54sfet"
      },
      "source": [
        "__Задание 12.__  \n",
        "1. Обучите логистическую регрессию для предсказания целевой переменной на обучающем наборе данных.\n",
        "1. Выведите значения весовых коэффициентов построенной модели.\n",
        "1. Выведите значения, возвращаемые моделью (степень уверенности модели), для первых десяти примеров из обучающих данных.\n",
        "1. Выведите совместно предсказания модели и истинные ответы для первых десяти примеров из обучающих данных."
      ]
    },
    {
      "cell_type": "code",
      "metadata": {
        "id": "h3TbTz0Asfet"
      },
      "source": [
        "# Ваш код здесь"
      ],
      "execution_count": null,
      "outputs": []
    },
    {
      "cell_type": "markdown",
      "metadata": {
        "id": "FXQJ2moisfeu"
      },
      "source": [
        "__Задание 13.__  \n",
        "1. Выведите значение метрики `accuracy` построенной модели логистической регрессии для обучающих и валидационных данных.\n",
        "1. Выведите матрицу ошибок (*confusion matrix*) для обучающих и валидационных данных."
      ]
    },
    {
      "cell_type": "code",
      "metadata": {
        "id": "4aw0eQ6ssfeu"
      },
      "source": [
        "# Ваш код здесь"
      ],
      "execution_count": null,
      "outputs": []
    },
    {
      "cell_type": "markdown",
      "metadata": {
        "id": "yiuFeD1Ksfeu"
      },
      "source": [
        "__Задание 14.__  \n",
        "Получите значения метрики `accuracy` для логистической регрессии при помощи процедуры перекрестной проверки по 10 блокам (*10-fold cross-validation*) ([Cross-validation: evaluating estimator performance](https://scikit-learn.org/stable/modules/cross_validation.html)).  \n",
        "Можно воспользоваться функциями [cross_val_score](https://scikit-learn.org/stable/modules/generated/sklearn.model_selection.cross_val_score.html) или [cross_validate](https://scikit-learn.org/stable/modules/generated/sklearn.model_selection.cross_validate.html) .  \n",
        "Выведите значения `accuracy` для всех разбиений, а также максимум, минимум и среднее.  \n",
        "Сравните полученные результаты с оценками на основе отложенной выборки."
      ]
    },
    {
      "cell_type": "code",
      "metadata": {
        "id": "8JfEXVR_sfev"
      },
      "source": [
        "# Ваш код здесь"
      ],
      "execution_count": null,
      "outputs": []
    },
    {
      "cell_type": "markdown",
      "metadata": {
        "id": "JY0DjrE_sfew"
      },
      "source": [
        "__Задание 15.__  \n",
        "Постройте простой базовый классификатор (*baseline*) для сравнения с моделями машинного обучения.  \n",
        "Пусть базовый классификатор предсказывает выживание только женщин (вспомните соотношение выживаемости женщин и мужчин в обучающем наборе данных).  \n",
        "Получите значение `accuracy` для такого классификатора на всех размеченных данных."
      ]
    },
    {
      "cell_type": "code",
      "metadata": {
        "id": "oY2sECNcsfew"
      },
      "source": [
        "# Ваш код здесь"
      ],
      "execution_count": null,
      "outputs": []
    },
    {
      "cell_type": "markdown",
      "metadata": {
        "id": "UGB7yigrsfex"
      },
      "source": [
        "## 6. Предсказание на новых данных"
      ]
    },
    {
      "cell_type": "markdown",
      "metadata": {
        "id": "a231ZdE1sfey"
      },
      "source": [
        "__Задание 16.__  \n",
        "1. Обучите логистическую регрессию на всех доступных размеченных данных (`train.csv`).  \n",
        "1. Получите предсказание для тестовых данных (`test.csv`)."
      ]
    },
    {
      "cell_type": "code",
      "metadata": {
        "id": "ASBOiMKtsfez"
      },
      "source": [
        "# Ваш код здесь"
      ],
      "execution_count": null,
      "outputs": []
    },
    {
      "cell_type": "markdown",
      "metadata": {
        "id": "VLVLdB5usfez"
      },
      "source": [
        "__Задание 17.__  \n",
        "Создайте файл с результатами (*submission*) для отправки на сервер Kaggle."
      ]
    },
    {
      "cell_type": "code",
      "metadata": {
        "id": "jnAUPSYKsfez"
      },
      "source": [
        "test_ids = test[\"PassengerId\"]\n",
        "submission_df = {\"PassengerId\": test_ids,\n",
        "                 \"Survived\": test_predictions}\n",
        "submission = pd.DataFrame(submission_df)"
      ],
      "execution_count": null,
      "outputs": []
    },
    {
      "cell_type": "code",
      "metadata": {
        "id": "p09rF080sfez"
      },
      "source": [
        "submission.to_csv('output/titanic_submission.csv', index=False)"
      ],
      "execution_count": null,
      "outputs": []
    },
    {
      "cell_type": "markdown",
      "metadata": {
        "id": "idYW2R6Vsfez"
      },
      "source": [
        "__Задание 18.__  \n",
        "Отправьте полученный файл на сервер Kaggle.  \n",
        "Для этого нужно:\n",
        "1. Зарегистрироваться на [Kaggle](https://www.kaggle.com).\n",
        "1. Принять участие в [соревновании](https://www.kaggle.com/c/titanic/) (*Join Competition*).\n",
        "1. Отправить файл с результатами (*Submit Predictions*).  \n",
        "\n",
        "Проверьте в таблице результатов, что ваш результат принят."
      ]
    }
  ]
}