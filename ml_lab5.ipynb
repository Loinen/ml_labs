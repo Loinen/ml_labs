{
  "nbformat": 4,
  "nbformat_minor": 0,
  "metadata": {
    "kernelspec": {
      "display_name": "Python 3",
      "language": "python",
      "name": "python3"
    },
    "language_info": {
      "codemirror_mode": {
        "name": "ipython",
        "version": 3
      },
      "file_extension": ".py",
      "mimetype": "text/x-python",
      "name": "python",
      "nbconvert_exporter": "python",
      "pygments_lexer": "ipython3",
      "version": "3.7.5"
    },
    "colab": {
      "name": "ml_lab5.ipynb",
      "provenance": []
    }
  },
  "cells": [
    {
      "cell_type": "markdown",
      "metadata": {
        "id": "oCs4LE1BsfeS"
      },
      "source": [
        "# Лабораторная работа 5. Полный конвейер анализа данных"
      ]
    },
    {
      "cell_type": "markdown",
      "metadata": {
        "id": "tysjL0pksfeV"
      },
      "source": [
        "В этой работе мы построим полный конвейер анализа данных:\n",
        "1. [Загрузка данных.](#1.-Загрузка-данных)\n",
        "1. [Изучение данных.](#2.-Изучение-данных)\n",
        "1. [Предобработка данных.](#3.-Предобработка-данных)\n",
        "1. [Train/validation/test datasets.](#4.-Train/validation/test-datasets)\n",
        "1. [Построение моделей и оценка качества.](#5.-Построение-моделей-и-оценка-качества)\n",
        "1. [Предсказание на новых данных.](#6.-Предсказание-на-новых-данных)\n",
        "\n",
        "Строить такой конвейер будем с использованием известного набора данных - про пассажиров [\"Титаника\"](https://ru.wikipedia.org/wiki/Титаник) (см. файлы `train.csv` и `test.csv`). Потребуется на основе признаков пассажиров предсказать, кто из них выживет при крушении.  \n",
        "В конце работы мы отправим результаты предсказания в систему [Kaggle](https://www.kaggle.com/c/titanic)."
      ]
    },
    {
      "cell_type": "markdown",
      "metadata": {
        "id": "U-QAZbQssfeW"
      },
      "source": [
        "## 1. Загрузка данных\n",
        "__Задание 1.__  \n",
        "Загрузите обучающие (`train.csv`) и тестовые (`test.csv`) данные с использованием `pandas`. Данные хранятся в файлах формата [CSV](https://ru.wikipedia.org/wiki/CSV) (Comma-Separated Values).  \n",
        "Описание признаков содержится в файле `description.txt` .  \n",
        "Выведите размерность обоих массивов данных.  \n",
        "Обратите внимание, что в тестовых данных количество признаков меньше на единицу, чем в обучающих - отсутствует целевая переменная `Survived`. Результаты предсказания на тестовых данных будут отправляться на сервер Kaggle."
      ]
    },
    {
      "cell_type": "code",
      "metadata": {
        "id": "EYeGBrXIsfeX"
      },
      "source": [
        "import numpy as np\n",
        "import scipy.linalg as sla\n",
        "import matplotlib.pyplot as plt\n",
        "import pandas as pd\n",
        "%matplotlib inline"
      ],
      "execution_count": 1,
      "outputs": []
    },
    {
      "cell_type": "code",
      "metadata": {
        "colab": {
          "base_uri": "https://localhost:8080/"
        },
        "id": "a-XwHR3Xsrmq",
        "outputId": "e6653567-1ed3-42d9-b764-7351b9495efc"
      },
      "source": [
        "train = pd.read_csv(\"train.csv\") # lab5_input\n",
        "test = pd.read_csv(\"test.csv\") # lab5_input\n",
        "print(\"train\", train.shape)\n",
        "print(\"test\",test.shape) # нет Survived столбца"
      ],
      "execution_count": 2,
      "outputs": [
        {
          "output_type": "stream",
          "text": [
            "train (891, 12)\n",
            "test (418, 11)\n"
          ],
          "name": "stdout"
        }
      ]
    },
    {
      "cell_type": "markdown",
      "metadata": {
        "id": "ZtEXQfMxsfeY"
      },
      "source": [
        "## 2. Изучение данных\n",
        "Важнейшим этапом анализа данных является их изучение. Всегда полезно исследовать признаки, понять их смысл, внимательно посмотреть на значения признаков для разных объектов.  \n",
        "Изучите признаки в нашем примере с \"Титаником\" (файл `description.txt`).  \n",
        "Известно, что женщины и дети имели преимущество при посадке в спасательные шлюпки. Также известно о значительном имущественном неравенстве среди пассажиров. Следовательно, признаки `Age`, `Sex` и `Pclass`, вероятно, будут иметь большое значение при предсказании."
      ]
    },
    {
      "cell_type": "markdown",
      "metadata": {
        "id": "6fmJ3LT1sfeZ"
      },
      "source": [
        "__Задание 2.__  \n",
        "Выведите информацию об обучающем наборе данных.  \n",
        "    *Воспользуйтесь функциями `pandas.DataFrame.describe()` и `pandas.DataFrame.info()`*."
      ]
    },
    {
      "cell_type": "code",
      "metadata": {
        "id": "r0QHr3Dfsfeb"
      },
      "source": [
        "# Ваш код здесь\n",
        "print(train.describe())\n",
        "print(train.info())"
      ],
      "execution_count": null,
      "outputs": []
    },
    {
      "cell_type": "markdown",
      "metadata": {
        "id": "syXoDWbLsfeb"
      },
      "source": [
        "__Задание 3.__  \n",
        "Выведите первые десять записей в обучающем наборе данных."
      ]
    },
    {
      "cell_type": "code",
      "metadata": {
        "id": "lEA3Brogsfec"
      },
      "source": [
        "train.head(10)"
      ],
      "execution_count": null,
      "outputs": []
    },
    {
      "cell_type": "markdown",
      "metadata": {
        "id": "QfMcqlAJsfed"
      },
      "source": [
        "__Задание 4.__  \n",
        "Выведите количество объектов и их относительную частоту в обучающих данных для каждого из уникальных значений для признаков `Sex` и `Pclass` .  \n",
        "*Воспользуйтесь функцией* `value_counts()`."
      ]
    },
    {
      "cell_type": "code",
      "metadata": {
        "id": "1Ji1EUTFsfed"
      },
      "source": [
        "# Ваш код здесь\n",
        "print(train.value_counts(\"Sex\"))\n",
        "print(train.value_counts(\"Pclass\"))"
      ],
      "execution_count": null,
      "outputs": []
    },
    {
      "cell_type": "markdown",
      "metadata": {
        "id": "4M6ymUPEsfeg"
      },
      "source": [
        "__Задание 5.__  \n",
        "Выведите процент выживших (вероятность выживания) по полам и классам. Также нарисуйте диаграммы по этим вероятностям.  \n",
        "    *Воспользуйтесь функциями `pandas.pivot_table()` и `pandas.DataFrame.plot.bar()`*."
      ]
    },
    {
      "cell_type": "code",
      "metadata": {
        "colab": {
          "base_uri": "https://localhost:8080/",
          "height": 143
        },
        "id": "-sm_tsDKsfeg",
        "outputId": "ae5632d7-c1f5-48f4-fac7-817c4f69af98"
      },
      "source": [
        "import matplotlib.pyplot as plt\n",
        "\n",
        "sex_pivot = train.pivot_table(index=\"Sex\", values=\"Survived\")\n",
        "sex_pivot"
      ],
      "execution_count": 6,
      "outputs": [
        {
          "output_type": "execute_result",
          "data": {
            "text/html": [
              "<div>\n",
              "<style scoped>\n",
              "    .dataframe tbody tr th:only-of-type {\n",
              "        vertical-align: middle;\n",
              "    }\n",
              "\n",
              "    .dataframe tbody tr th {\n",
              "        vertical-align: top;\n",
              "    }\n",
              "\n",
              "    .dataframe thead th {\n",
              "        text-align: right;\n",
              "    }\n",
              "</style>\n",
              "<table border=\"1\" class=\"dataframe\">\n",
              "  <thead>\n",
              "    <tr style=\"text-align: right;\">\n",
              "      <th></th>\n",
              "      <th>Survived</th>\n",
              "    </tr>\n",
              "    <tr>\n",
              "      <th>Sex</th>\n",
              "      <th></th>\n",
              "    </tr>\n",
              "  </thead>\n",
              "  <tbody>\n",
              "    <tr>\n",
              "      <th>female</th>\n",
              "      <td>0.742038</td>\n",
              "    </tr>\n",
              "    <tr>\n",
              "      <th>male</th>\n",
              "      <td>0.188908</td>\n",
              "    </tr>\n",
              "  </tbody>\n",
              "</table>\n",
              "</div>"
            ],
            "text/plain": [
              "        Survived\n",
              "Sex             \n",
              "female  0.742038\n",
              "male    0.188908"
            ]
          },
          "metadata": {
            "tags": []
          },
          "execution_count": 6
        }
      ]
    },
    {
      "cell_type": "code",
      "metadata": {
        "id": "GqYPQfkoC3vF",
        "outputId": "14ec7692-d000-49db-facc-96c26bd7f9e6",
        "colab": {
          "base_uri": "https://localhost:8080/",
          "height": 175
        }
      },
      "source": [
        "Pclass_pivot = train.pivot_table(index=\"Pclass\", values=\"Survived\")\n",
        "Pclass_pivot"
      ],
      "execution_count": 7,
      "outputs": [
        {
          "output_type": "execute_result",
          "data": {
            "text/html": [
              "<div>\n",
              "<style scoped>\n",
              "    .dataframe tbody tr th:only-of-type {\n",
              "        vertical-align: middle;\n",
              "    }\n",
              "\n",
              "    .dataframe tbody tr th {\n",
              "        vertical-align: top;\n",
              "    }\n",
              "\n",
              "    .dataframe thead th {\n",
              "        text-align: right;\n",
              "    }\n",
              "</style>\n",
              "<table border=\"1\" class=\"dataframe\">\n",
              "  <thead>\n",
              "    <tr style=\"text-align: right;\">\n",
              "      <th></th>\n",
              "      <th>Survived</th>\n",
              "    </tr>\n",
              "    <tr>\n",
              "      <th>Pclass</th>\n",
              "      <th></th>\n",
              "    </tr>\n",
              "  </thead>\n",
              "  <tbody>\n",
              "    <tr>\n",
              "      <th>1</th>\n",
              "      <td>0.629630</td>\n",
              "    </tr>\n",
              "    <tr>\n",
              "      <th>2</th>\n",
              "      <td>0.472826</td>\n",
              "    </tr>\n",
              "    <tr>\n",
              "      <th>3</th>\n",
              "      <td>0.242363</td>\n",
              "    </tr>\n",
              "  </tbody>\n",
              "</table>\n",
              "</div>"
            ],
            "text/plain": [
              "        Survived\n",
              "Pclass          \n",
              "1       0.629630\n",
              "2       0.472826\n",
              "3       0.242363"
            ]
          },
          "metadata": {
            "tags": []
          },
          "execution_count": 7
        }
      ]
    },
    {
      "cell_type": "code",
      "metadata": {
        "colab": {
          "base_uri": "https://localhost:8080/",
          "height": 563
        },
        "id": "RTZNxKNksfeh",
        "outputId": "edac5ae8-83a2-40b4-8ca1-a4bf8db3b7e8"
      },
      "source": [
        "sex_pivot.plot.bar()\n",
        "Pclass_pivot.plot.bar()\n",
        "plt.show()"
      ],
      "execution_count": 8,
      "outputs": [
        {
          "output_type": "display_data",
          "data": {
            "image/png": "[encoded data removed]",
            "text/plain": [
              "<Figure size 432x288 with 1 Axes>"
            ]
          },
          "metadata": {
            "tags": [],
            "needs_background": "light"
          }
        },
        {
          "output_type": "display_data",
          "data": {
            "image/png": "[encoded data removed]",
            "text/plain": [
              "<Figure size 432x288 with 1 Axes>"
            ]
          },
          "metadata": {
            "tags": [],
            "needs_background": "light"
          }
        }
      ]
    },
    {
      "cell_type": "markdown",
      "metadata": {
        "id": "kOvPNgxZsfei"
      },
      "source": [
        "__Задание 6.__  \n",
        "Выведите все уникальные значения признаков `Age`, `Sex` и `Pclass` в обучающем наборе данных."
      ]
    },
    {
      "cell_type": "code",
      "metadata": {
        "colab": {
          "base_uri": "https://localhost:8080/"
        },
        "id": "r5YeGqcSsfej",
        "outputId": "08fd6d8f-d7a4-48da-f74d-36b62007347d"
      },
      "source": [
        "print(train.value_counts(\"Age\").index.tolist()) #no nan\n",
        "print(train['Age'].unique())\n",
        "print(train['Sex'].unique())\n",
        "print(train['Pclass'].unique())"
      ],
      "execution_count": 9,
      "outputs": [
        {
          "output_type": "stream",
          "text": [
            "[24.0, 22.0, 18.0, 30.0, 19.0, 28.0, 21.0, 25.0, 36.0, 29.0, 26.0, 27.0, 32.0, 35.0, 16.0, 31.0, 23.0, 33.0, 20.0, 34.0, 39.0, 17.0, 42.0, 40.0, 45.0, 38.0, 2.0, 4.0, 50.0, 48.0, 47.0, 44.0, 54.0, 9.0, 51.0, 1.0, 3.0, 14.0, 41.0, 37.0, 52.0, 49.0, 58.0, 15.0, 43.0, 5.0, 60.0, 62.0, 56.0, 8.0, 11.0, 61.0, 46.0, 7.0, 65.0, 6.0, 13.0, 32.5, 28.5, 30.5, 40.5, 45.5, 55.0, 0.83, 57.0, 59.0, 63.0, 64.0, 0.75, 70.0, 71.0, 10.0, 0.92, 0.67, 80.0, 12.0, 14.5, 20.5, 23.5, 24.5, 74.0, 34.5, 36.5, 53.0, 55.5, 66.0, 70.5, 0.42]\n",
            "[22.   38.   26.   35.     nan 54.    2.   27.   14.    4.   58.   20.\n",
            " 39.   55.   31.   34.   15.   28.    8.   19.   40.   66.   42.   21.\n",
            " 18.    3.    7.   49.   29.   65.   28.5   5.   11.   45.   17.   32.\n",
            " 16.   25.    0.83 30.   33.   23.   24.   46.   59.   71.   37.   47.\n",
            " 14.5  70.5  32.5  12.    9.   36.5  51.   55.5  40.5  44.    1.   61.\n",
            " 56.   50.   36.   45.5  20.5  62.   41.   52.   63.   23.5   0.92 43.\n",
            " 60.   10.   64.   13.   48.    0.75 53.   57.   80.   70.   24.5   6.\n",
            "  0.67 30.5   0.42 34.5  74.  ]\n",
            "['male' 'female']\n",
            "[3 1 2]\n"
          ],
          "name": "stdout"
        }
      ]
    },
    {
      "cell_type": "markdown",
      "metadata": {
        "id": "Suzg9dIMsfej"
      },
      "source": [
        "__Задание 7.__  \n",
        "Также важно знать распределение объектов по значениям целевой переменной (`Survived`).  \n",
        "Cоздайте два новых DataFrame: в первом (`survived`) будут только те объекты, у которых значение признака `Survived` равно 1, во втором (`died`) - только те объекты, у которых значение этого признака равно 0.  \n",
        "Выведите количество объектов в обоих DataFrame."
      ]
    },
    {
      "cell_type": "code",
      "metadata": {
        "colab": {
          "base_uri": "https://localhost:8080/"
        },
        "id": "FK361CuIsfek",
        "outputId": "11d794a1-d650-488e-8cc7-ec4fb144212b"
      },
      "source": [
        "survived = pd.DataFrame()\n",
        "survived = train[train.Survived == 1]\n",
        "died = pd.DataFrame()\n",
        "died = train[train.Survived == 0]\n",
        "print(\"survived\", survived.shape, \"died\", died.shape)\n",
        "#print(died, survived)"
      ],
      "execution_count": 21,
      "outputs": [
        {
          "output_type": "stream",
          "text": [
            "survived (342, 25) died (549, 25)\n"
          ],
          "name": "stdout"
        }
      ]
    },
    {
      "cell_type": "markdown",
      "metadata": {
        "id": "WwGsbW8fsfek"
      },
      "source": [
        "## 3. Предобработка данных"
      ]
    },
    {
      "cell_type": "markdown",
      "metadata": {
        "id": "gCsT9wxRsfel"
      },
      "source": [
        "Признаки `Sex` и `Pclass` являются номинальными (категориальными).  \n",
        "Признак `Age` является количественным."
      ]
    },
    {
      "cell_type": "markdown",
      "metadata": {
        "id": "WnngpT5Tsfel"
      },
      "source": [
        "__Задание 8.__  \n",
        "Выведите статистику по признаку `Age` (воспользуйтесь функцией `describe()`)."
      ]
    },
    {
      "cell_type": "code",
      "metadata": {
        "id": "tVlVsasXsfel"
      },
      "source": [
        "print(train['Age'].describe())"
      ],
      "execution_count": null,
      "outputs": []
    },
    {
      "cell_type": "markdown",
      "metadata": {
        "id": "5YVfSNnAsfem"
      },
      "source": [
        "Видно, что признак `Age` имеет меньше значений, чем количество объектов в обучающей выборке - это означает, что у некоторых объектов для этого признака значение пропущено (`NaN`)."
      ]
    },
    {
      "cell_type": "markdown",
      "metadata": {
        "id": "tfU9-bopsfem"
      },
      "source": [
        "Для замены пропущенных значений (NA/NaN) каким-либо определенным значением можно воспользоваться функцией `fillna()`."
      ]
    },
    {
      "cell_type": "markdown",
      "metadata": {
        "id": "Kaxx7eO9sfen"
      },
      "source": [
        "Построим диаграмму зависимости выживания от возраста:"
      ]
    },
    {
      "cell_type": "code",
      "metadata": {
        "colab": {
          "base_uri": "https://localhost:8080/",
          "height": 265
        },
        "id": "yMKKscmjsfen",
        "outputId": "c50eeba9-067a-4093-cd0f-787253378d7f"
      },
      "source": [
        "survived[\"Age\"].plot.hist(alpha=0.5,color='red',bins=50)\n",
        "died[\"Age\"].plot.hist(alpha=0.5,color='blue',bins=50)\n",
        "plt.legend(['Survived','Died'])\n",
        "plt.show()"
      ],
      "execution_count": 12,
      "outputs": [
        {
          "output_type": "display_data",
          "data": {
            "image/png": "[encoded data removed]",
            "text/plain": [
              "<Figure size 432x288 with 1 Axes>"
            ]
          },
          "metadata": {
            "tags": [],
            "needs_background": "light"
          }
        }
      ]
    },
    {
      "cell_type": "markdown",
      "metadata": {
        "id": "_nk2Xj9Xsfeo"
      },
      "source": [
        "Из диаграммы видно, что для некоторых диапазонов возрастов вероятность выживания выше. Чтобы это учесть, можно преобразовать количественный признак `Age` в категориальный при помощи выделения в нем ряда диапазонов. Для этого можно воспользоваться функцией `cut()` .  \n",
        "При этом необходимо помнить, что преобразования, применяемые к обучающим данным, должны быть так же применены к тестовым, иначе модели будут обучаться на данных одного вида, а тестироваться на другом виде данных."
      ]
    },
    {
      "cell_type": "markdown",
      "metadata": {
        "id": "w9994iEJsfep"
      },
      "source": [
        "__Задание 9.__  \n",
        "Написать функцию `process_age`, которая принимает на вход `DataFrame`, границы диапазонов и названия диапазонов, а возвращает новый `DataFrame`, в котором все пропущенные значения признака `Age` заменены на `-0.5` и добавлен новый категориальный признак `Age_categories` со следующими значениями:\n",
        "- \"Missing\" если `Age` $\\in (-1, 0]$\n",
        "- \"Infant\" если `Age` $\\in (0, 5]$\n",
        "- \"Child\" если `Age` $\\in (5, 12]$\n",
        "- \"Teenager\" если `Age` $\\in (12, 18]$\n",
        "- \"Young_Adult\" если `Age` $\\in (18, 35]$\n",
        "- \"Adult\" если `Age` $\\in (35, 60]$\n",
        "- \"Senior\" если `Age` $\\in (60, 100]$"
      ]
    },
    {
      "cell_type": "code",
      "metadata": {
        "colab": {
          "base_uri": "https://localhost:8080/",
          "height": 331
        },
        "id": "sRIY2zoYsfep",
        "outputId": "3e3d3a64-60f8-480f-fd66-050d43823245"
      },
      "source": [
        "def process_age(df, cut_points, label_names):\n",
        "    df['Age'] = df['Age'].replace(np.NaN, -0.5) #fillna\n",
        "    df['Age_categories'] = pd.cut(df['Age'], bins=cut_points, labels=label_names)\n",
        "    return df\n",
        "\n",
        "cut_points = [-1, 0, 5, 12, 18, 35, 60, 100]\n",
        "label_names = [\"Missing\", \"Infant\", \"Child\", \"Teenager\", \"Young_Adult\", \"Adult\", \"Senior\"]\n",
        "train = process_age(train,cut_points,label_names)\n",
        "test = process_age(test,cut_points,label_names)\n",
        "\n",
        "age_cat_pivot = train.pivot_table(index=\"Age_categories\",values=\"Survived\")\n",
        "age_cat_pivot.plot.bar()\n",
        "plt.show()"
      ],
      "execution_count": 13,
      "outputs": [
        {
          "output_type": "display_data",
          "data": {
            "image/png": "[encoded data removed]",
            "text/plain": [
              "<Figure size 432x288 with 1 Axes>"
            ]
          },
          "metadata": {
            "tags": [],
            "needs_background": "light"
          }
        }
      ]
    },
    {
      "cell_type": "markdown",
      "metadata": {
        "id": "MdKemJKBsfep"
      },
      "source": [
        "Перед применением моделей машинного обучения следует подготовить категориальные признаки (`Sex`, `Pclass` и `Age_categories`).  \n",
        "Такую подготовку следует делать, даже если значениями категориального признака являются числа [1, 2, 3], как в `Pclass`. Дело в том, что отношения между классами не соответствуют отношениям между числами, например, второй класс не в два раза \"ценнее\" первого класса.  "
      ]
    },
    {
      "cell_type": "markdown",
      "metadata": {
        "id": "THFR6E2rsfep"
      },
      "source": [
        "Для подготовки категориальных признаков воспользуемся *бинаризацией* (*one-hot encoding*), т.е. создадим для каждого уникального значения категориального признака новый признак (*dummy variables*). Для этого можно воспользоваться функцией `get_dummies()`."
      ]
    },
    {
      "cell_type": "markdown",
      "metadata": {
        "id": "iab9UXDKsfep"
      },
      "source": [
        "__Задание 10.__  \n",
        "Напишите функцию `create_dummies`, на вход которой поступает `DataFrame` и название признака, а на выходе возвращается `DataFrame`, дополненный новыми бинарными признаками, соответствующими уникальным значениям данного входного признака.  \n",
        "Примените разработанную функцию к обучающим и тестовым данным для признаков `Sex`, `Pclass` и `Age_categories`."
      ]
    },
    {
      "cell_type": "code",
      "metadata": {
        "id": "J09kI0Otsfep"
      },
      "source": [
        "def create_dummies(df, column_name):\n",
        "    dum = pd.get_dummies(df[column_name], prefix=[column_name])\n",
        "    df = pd.concat([df,dum],axis=1)\n",
        "    return df\n",
        "\n",
        "train = create_dummies(train, \"Pclass\")\n",
        "test = create_dummies(test, \"Pclass\")\n",
        "\n",
        "train = create_dummies(train, \"Sex\")\n",
        "test = create_dummies(test, \"Sex\")\n",
        "\n",
        "train = create_dummies(train, \"Age_categories\")\n",
        "test = create_dummies(test, \"Age_categories\")"
      ],
      "execution_count": 14,
      "outputs": []
    },
    {
      "cell_type": "code",
      "metadata": {
        "id": "FkoiZXVysfeq"
      },
      "source": [
        "train.info()"
      ],
      "execution_count": null,
      "outputs": []
    },
    {
      "cell_type": "code",
      "metadata": {
        "id": "B1C05Lp9sfeq"
      },
      "source": [
        "train.describe()"
      ],
      "execution_count": null,
      "outputs": []
    },
    {
      "cell_type": "code",
      "metadata": {
        "id": "ramNN2izsfer"
      },
      "source": [
        "train.head()"
      ],
      "execution_count": null,
      "outputs": []
    },
    {
      "cell_type": "markdown",
      "metadata": {
        "id": "_AvDsRMXsfer"
      },
      "source": [
        "## 4. Train/validation/test datasets"
      ]
    },
    {
      "cell_type": "markdown",
      "metadata": {
        "id": "wnKYQpmzsfes"
      },
      "source": [
        "Для выбора моделей и подбора их параметров нужно уметь оценивать качество моделей. Чтобы вычислить метрики качества, необходимо знать правильные ответы (значения целевой переменной). Мы знаем правильные ответы для обучающего набора данных (`train`), но если мы будем оценивать качество модели на тех же данных, на которых модель обучается, это приведет к *переобучению* (*overfitting*) - ситуации, когда модель хорошо работает на известных ей данных, но имеет низкую обобщающую способность, т.е плохо предсказывает целевую переменную для новых данных.  \n",
        "Поэтому качество модели оценивают с использованием *отложенной выборки* (*hold-out set*) - таких данных, для которых известны правильные ответы, но эти данные не использовались в процессе обучения.  \n",
        "Есть два основных способа использования отложенной выборки:  \n",
        "1. случайное разделение исходных размеченных данных на обучающую и тестовую выборки;\n",
        "1. k-кратная перекрестная проверка (k-fold cross-validation).  \n",
        "  \n",
        "В случае, когда такие отложенные тестовые данные используются для подбора параметров моделей, их называют *валидационными* (*validation*).\n"
      ]
    },
    {
      "cell_type": "markdown",
      "metadata": {
        "id": "o0k-c3l6sfes"
      },
      "source": [
        "__Задание 11.__  \n",
        "Разделите исходную размеченную выборку на обучающую (80%) и валидационную (20%).  \n",
        "Можно использовать функцию `train_test_split()` с параметром `random_state=42` .  \n",
        "Выведите размерность получившихся массивов данных."
      ]
    },
    {
      "cell_type": "code",
      "metadata": {
        "colab": {
          "base_uri": "https://localhost:8080/"
        },
        "id": "5Sy_l8VXsfes",
        "outputId": "52b1b2e7-871a-4231-8732-346f1d347ea1"
      },
      "source": [
        "from sklearn.model_selection import train_test_split\n",
        "y = train['Survived']\n",
        "df = train.copy()\n",
        "df = df.drop(['PassengerId', 'Survived', 'Pclass', 'Name', 'Sex', 'Age',\n",
        "                 'SibSp', 'Parch', 'Ticket', 'Fare', 'Cabin', 'Embarked', 'Age_categories'], axis = 1) \n",
        "x_train, x_test, y_train, y_test = train_test_split(df, y, train_size=0.8, random_state=42)\n",
        "print(x_train.shape, x_test.shape, y_train.shape, y_test.shape) "
      ],
      "execution_count": 27,
      "outputs": [
        {
          "output_type": "stream",
          "text": [
            "(712, 12) (179, 12) (712,) (179,)\n"
          ],
          "name": "stdout"
        }
      ]
    },
    {
      "cell_type": "markdown",
      "metadata": {
        "id": "DBUwZ-cesfet"
      },
      "source": [
        "## 5. Построение моделей и оценка качества"
      ]
    },
    {
      "cell_type": "markdown",
      "metadata": {
        "id": "oF2kjy54sfet"
      },
      "source": [
        "__Задание 12.__  \n",
        "1. Обучите логистическую регрессию для предсказания целевой переменной на обучающем наборе данных.\n",
        "1. Выведите значения весовых коэффициентов построенной модели.\n",
        "1. Выведите значения, возвращаемые моделью (степень уверенности модели), для первых десяти примеров из обучающих данных.\n",
        "1. Выведите совместно предсказания модели и истинные ответы для первых десяти примеров из обучающих данных."
      ]
    },
    {
      "cell_type": "code",
      "metadata": {
        "id": "h3TbTz0Asfet"
      },
      "source": [
        "from sklearn.linear_model import LogisticRegression\n",
        "\n",
        "model = LogisticRegression(random_state=42)\n",
        "model.fit(x_train, y_train)\n",
        "\n",
        "print('Весовые коэффициенты:', model.coef_)\n",
        "print('\\nСтепень уверенности модели:', model.predict_proba(x_test[:10])[:,1])\n",
        "\n",
        "y_pred = model.predict(x_test)\n",
        "y_real = y_test[:10]\n",
        "\n",
        "print('\\nПредсказанные значения:', list(y_pred[:10]))\n",
        "print('Истинные значения:     ', list(y_real))"
      ],
      "execution_count": null,
      "outputs": []
    },
    {
      "cell_type": "markdown",
      "metadata": {
        "id": "FXQJ2moisfeu"
      },
      "source": [
        "__Задание 13.__  \n",
        "1. Выведите значение метрики `accuracy` построенной модели логистической регрессии для обучающих и валидационных данных.\n",
        "1. Выведите матрицу ошибок (*confusion matrix*) для обучающих и валидационных данных."
      ]
    },
    {
      "cell_type": "code",
      "metadata": {
        "id": "4aw0eQ6ssfeu"
      },
      "source": [
        "from sklearn.metrics import confusion_matrix, plot_confusion_matrix\n",
        "\n",
        "print('Accuracy\\ntrain:', model.score(x_train, y_train), '\\ntest: ', model.score(x_test, y_test))\n",
        "\n",
        "confusionMatrix = confusion_matrix(y_test, y_pred)\n",
        "# print('Confusion matrix:\\n', confusionMatrix) # TP - 92, TN - 13, FP - 22, FN - 52\n",
        "plot_confusion_matrix(model, x_test, y_test)\n",
        "plot_confusion_matrix(model, x_train, y_train, values_format='d')"
      ],
      "execution_count": null,
      "outputs": []
    },
    {
      "cell_type": "markdown",
      "metadata": {
        "id": "yiuFeD1Ksfeu"
      },
      "source": [
        "__Задание 14.__  \n",
        "Получите значения метрики `accuracy` для логистической регрессии при помощи процедуры перекрестной проверки по 10 блокам (*10-fold cross-validation*) ([Cross-validation: evaluating estimator performance](https://scikit-learn.org/stable/modules/cross_validation.html)).  \n",
        "Можно воспользоваться функциями [cross_val_score](https://scikit-learn.org/stable/modules/generated/sklearn.model_selection.cross_val_score.html) или [cross_validate](https://scikit-learn.org/stable/modules/generated/sklearn.model_selection.cross_validate.html) .  \n",
        "Выведите значения `accuracy` для всех разбиений, а также максимум, минимум и среднее.  \n",
        "Сравните полученные результаты с оценками на основе отложенной выборки."
      ]
    },
    {
      "cell_type": "code",
      "metadata": {
        "colab": {
          "base_uri": "https://localhost:8080/"
        },
        "id": "8JfEXVR_sfev",
        "outputId": "de1b4490-50b8-46b0-aa39-f398016f6e91"
      },
      "source": [
        "from sklearn.model_selection import cross_val_score\n",
        "\n",
        "score = cross_val_score(model, df, y, cv=10)\n",
        "print('Accuracy', score)\n",
        "print('\\nMin ', min(score), 'Max ', max(score), 'Mean ', np.mean(score))\n",
        "print('\\nMean logreg score:', model.score(x_test, y_test))"
      ],
      "execution_count": 66,
      "outputs": [
        {
          "output_type": "stream",
          "text": [
            "Accuracy [0.8        0.82022472 0.76404494 0.87640449 0.80898876 0.78651685\n",
            " 0.76404494 0.76404494 0.83146067 0.80898876]\n",
            "\n",
            "Min  0.7640449438202247 Max  0.8764044943820225 Mean  0.8024719101123596\n",
            "\n",
            "Mean logreg score: 0.8044692737430168\n"
          ],
          "name": "stdout"
        }
      ]
    },
    {
      "cell_type": "markdown",
      "metadata": {
        "id": "JY0DjrE_sfew"
      },
      "source": [
        "__Задание 15.__  \n",
        "Постройте простой базовый классификатор (*baseline*) для сравнения с моделями машинного обучения.  \n",
        "Пусть базовый классификатор предсказывает выживание только женщин (вспомните соотношение выживаемости женщин и мужчин в обучающем наборе данных).  \n",
        "Получите значение `accuracy` для такого классификатора на всех размеченных данных."
      ]
    },
    {
      "cell_type": "code",
      "metadata": {
        "colab": {
          "base_uri": "https://localhost:8080/"
        },
        "id": "oY2sECNcsfew",
        "outputId": "019e6ac4-70eb-43e4-becd-0b49f575573f"
      },
      "source": [
        "from sklearn.dummy import DummyClassifier\n",
        "\n",
        "df_female = train.copy()\n",
        "df_female = df_female[df_female.Sex == 'female'] # X\n",
        "y = df_female['Survived']\n",
        "df_female = df_female.drop(['PassengerId', 'Survived', 'Pclass', 'Name', 'Sex', 'Age',\n",
        "                 'SibSp', 'Parch', 'Ticket', 'Fare', 'Cabin', 'Embarked', 'Age_categories'], axis = 1) \n",
        "\n",
        "dummyModel = DummyClassifier(strategy=\"stratified\", random_state=42) # “stratified”: генерирует прогнозы с учетом распределения классов обучающей выборки\n",
        "dummyModel.fit(df_female, y) # обучаем на женщинах"
      ],
      "execution_count": 83,
      "outputs": [
        {
          "output_type": "stream",
          "text": [
            "(251, 12) (63, 12) (251,) (63,)\n"
          ],
          "name": "stdout"
        },
        {
          "output_type": "execute_result",
          "data": {
            "text/plain": [
              "DummyClassifier(constant=None, random_state=42, strategy='stratified')"
            ]
          },
          "metadata": {
            "tags": []
          },
          "execution_count": 83
        }
      ]
    },
    {
      "cell_type": "code",
      "metadata": {
        "id": "nlGsYMVQF94k",
        "outputId": "5e33f867-f946-4935-919f-62dac78b0943",
        "colab": {
          "base_uri": "https://localhost:8080/",
          "height": 317
        }
      },
      "source": [
        "# 0.74 женщины (577ч), 0.18 - мужчины (314ч)\n",
        "X = train.drop(['PassengerId', 'Survived', 'Pclass', 'Name', 'Sex', 'Age',\n",
        "                 'SibSp', 'Parch', 'Ticket', 'Fare', 'Cabin', 'Embarked', 'Age_categories'], axis = 1) \n",
        "y = train['Survived']\n",
        "\n",
        "print('Accuracy ', dummyModel.score(X, y))\n",
        "plot_confusion_matrix(dummyModel, X, y, values_format='d')"
      ],
      "execution_count": 90,
      "outputs": [
        {
          "output_type": "stream",
          "text": [
            "Accuracy  0.4489337822671156\n"
          ],
          "name": "stdout"
        },
        {
          "output_type": "execute_result",
          "data": {
            "text/plain": [
              "<sklearn.metrics._plot.confusion_matrix.ConfusionMatrixDisplay at 0x7f6c4297e750>"
            ]
          },
          "metadata": {
            "tags": []
          },
          "execution_count": 90
        },
        {
          "output_type": "display_data",
          "data": {
            "image/png": "[encoded data removed]",
            "text/plain": [
              "<Figure size 432x288 with 2 Axes>"
            ]
          },
          "metadata": {
            "tags": [],
            "needs_background": "light"
          }
        }
      ]
    },
    {
      "cell_type": "code",
      "metadata": {
        "id": "7kSzD_5jYBx8",
        "outputId": "b06624a9-8023-49b5-d982-639d8850ec5d",
        "colab": {
          "base_uri": "https://localhost:8080/",
          "height": 143
        }
      },
      "source": [
        "sex_pivot = train.pivot_table(index=\"Sex\", values=\"Survived\")\n",
        "sex_pivot"
      ],
      "execution_count": 95,
      "outputs": [
        {
          "output_type": "execute_result",
          "data": {
            "text/html": [
              "<div>\n",
              "<style scoped>\n",
              "    .dataframe tbody tr th:only-of-type {\n",
              "        vertical-align: middle;\n",
              "    }\n",
              "\n",
              "    .dataframe tbody tr th {\n",
              "        vertical-align: top;\n",
              "    }\n",
              "\n",
              "    .dataframe thead th {\n",
              "        text-align: right;\n",
              "    }\n",
              "</style>\n",
              "<table border=\"1\" class=\"dataframe\">\n",
              "  <thead>\n",
              "    <tr style=\"text-align: right;\">\n",
              "      <th></th>\n",
              "      <th>Survived</th>\n",
              "    </tr>\n",
              "    <tr>\n",
              "      <th>Sex</th>\n",
              "      <th></th>\n",
              "    </tr>\n",
              "  </thead>\n",
              "  <tbody>\n",
              "    <tr>\n",
              "      <th>female</th>\n",
              "      <td>0.742038</td>\n",
              "    </tr>\n",
              "    <tr>\n",
              "      <th>male</th>\n",
              "      <td>0.188908</td>\n",
              "    </tr>\n",
              "  </tbody>\n",
              "</table>\n",
              "</div>"
            ],
            "text/plain": [
              "        Survived\n",
              "Sex             \n",
              "female  0.742038\n",
              "male    0.188908"
            ]
          },
          "metadata": {
            "tags": []
          },
          "execution_count": 95
        }
      ]
    },
    {
      "cell_type": "code",
      "metadata": {
        "id": "NaWP4UYIYJag",
        "outputId": "533cf77d-2de6-44ed-802d-f5ddcde078d2",
        "colab": {
          "base_uri": "https://localhost:8080/",
          "height": 143
        }
      },
      "source": [
        "y_pred = dummyModel.predict(X)\n",
        "X['Survived'] = y_pred\n",
        "X['Sex'] = train['Sex']\n",
        "sex_pivot2 = X.pivot_table(index=\"Sex\", values=\"Survived\")\n",
        "sex_pivot2"
      ],
      "execution_count": 98,
      "outputs": [
        {
          "output_type": "execute_result",
          "data": {
            "text/html": [
              "<div>\n",
              "<style scoped>\n",
              "    .dataframe tbody tr th:only-of-type {\n",
              "        vertical-align: middle;\n",
              "    }\n",
              "\n",
              "    .dataframe tbody tr th {\n",
              "        vertical-align: top;\n",
              "    }\n",
              "\n",
              "    .dataframe thead th {\n",
              "        text-align: right;\n",
              "    }\n",
              "</style>\n",
              "<table border=\"1\" class=\"dataframe\">\n",
              "  <thead>\n",
              "    <tr style=\"text-align: right;\">\n",
              "      <th></th>\n",
              "      <th>Survived</th>\n",
              "    </tr>\n",
              "    <tr>\n",
              "      <th>Sex</th>\n",
              "      <th></th>\n",
              "    </tr>\n",
              "  </thead>\n",
              "  <tbody>\n",
              "    <tr>\n",
              "      <th>female</th>\n",
              "      <td>0.754777</td>\n",
              "    </tr>\n",
              "    <tr>\n",
              "      <th>male</th>\n",
              "      <td>0.738302</td>\n",
              "    </tr>\n",
              "  </tbody>\n",
              "</table>\n",
              "</div>"
            ],
            "text/plain": [
              "        Survived\n",
              "Sex             \n",
              "female  0.754777\n",
              "male    0.738302"
            ]
          },
          "metadata": {
            "tags": []
          },
          "execution_count": 98
        }
      ]
    },
    {
      "cell_type": "markdown",
      "metadata": {
        "id": "UGB7yigrsfex"
      },
      "source": [
        "## 6. Предсказание на новых данных"
      ]
    },
    {
      "cell_type": "markdown",
      "metadata": {
        "id": "a231ZdE1sfey"
      },
      "source": [
        "__Задание 16.__  \n",
        "1. Обучите логистическую регрессию на всех доступных размеченных данных (`train.csv`).  \n",
        "1. Получите предсказание для тестовых данных (`test.csv`)."
      ]
    },
    {
      "cell_type": "code",
      "metadata": {
        "id": "ASBOiMKtsfez"
      },
      "source": [
        "y = train['Survived']\n",
        "X_test = test.copy()\n",
        "X_test = X_test.drop(['PassengerId', 'Pclass', 'Name', 'Sex', 'Age', 'SibSp', 'Parch', 'Ticket', \n",
        "                      'Fare', 'Cabin', 'Embarked', 'Age_categories'], axis = 1) \n",
        "model = LogisticRegression(random_state=42)\n",
        "model.fit(df, y) \n",
        "test_predictions = model.predict(X_test)"
      ],
      "execution_count": 104,
      "outputs": []
    },
    {
      "cell_type": "markdown",
      "metadata": {
        "id": "VLVLdB5usfez"
      },
      "source": [
        "__Задание 17.__  \n",
        "Создайте файл с результатами (*submission*) для отправки на сервер Kaggle."
      ]
    },
    {
      "cell_type": "code",
      "metadata": {
        "id": "jnAUPSYKsfez"
      },
      "source": [
        "test_ids = test[\"PassengerId\"]\n",
        "submission_df = {\"PassengerId\": test_ids,\n",
        "                 \"Survived\": test_predictions}\n",
        "submission = pd.DataFrame(submission_df)"
      ],
      "execution_count": 105,
      "outputs": []
    },
    {
      "cell_type": "code",
      "metadata": {
        "id": "p09rF080sfez"
      },
      "source": [
        "submission.to_csv('titanic_submission.csv', index=False)"
      ],
      "execution_count": 106,
      "outputs": []
    },
    {
      "cell_type": "markdown",
      "metadata": {
        "id": "idYW2R6Vsfez"
      },
      "source": [
        "__Задание 18.__  \n",
        "Отправьте полученный файл на сервер Kaggle.  \n",
        "Для этого нужно:\n",
        "1. Зарегистрироваться на [Kaggle](https://www.kaggle.com).\n",
        "1. Принять участие в [соревновании](https://www.kaggle.com/c/titanic/) (*Join Competition*).\n",
        "1. Отправить файл с результатами (*Submit Predictions*).  \n",
        "\n",
        "Проверьте в таблице результатов, что ваш результат принят."
      ]
    },
    {
      "cell_type": "markdown",
      "metadata": {
        "id": "1zJlvKKIituJ"
      },
      "source": [
        "![изображение.png](data:image/png;base64,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)"
      ]
    }
  ]
}