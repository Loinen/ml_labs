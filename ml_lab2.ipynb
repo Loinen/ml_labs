{
  "nbformat": 4,
  "nbformat_minor": 0,
  "metadata": {
    "kernelspec": {
      "display_name": "Python 3",
      "language": "python",
      "name": "python3"
    },
    "language_info": {
      "codemirror_mode": {
        "name": "ipython",
        "version": 3
      },
      "file_extension": ".py",
      "mimetype": "text/x-python",
      "name": "python",
      "nbconvert_exporter": "python",
      "pygments_lexer": "ipython3",
      "version": "3.7.5"
    },
    "colab": {
      "name": "ml_lab2.ipynb",
      "provenance": [],
      "toc_visible": true
    }
  },
  "cells": [
    {
      "cell_type": "markdown",
      "metadata": {
        "id": "ZZ-BORqePU7Z"
      },
      "source": [
        "# Лабораторная работа 2. Линейная регрессия. Нормальное уравнение"
      ]
    },
    {
      "cell_type": "markdown",
      "metadata": {
        "id": "1PqhqKzDPU7k"
      },
      "source": [
        "Если для оценки качества в регресии используется среднеквадратичная ошибка (*mean squared error, MSE*), то ошибка на одном примере (*функция потерь*) будет определяться выражением:\n",
        "\n",
        "$$L(y,a)=(a-y)^2$$\n",
        "\n",
        "а суммарная ошибка (*функционал ошибки*):\n",
        "\n",
        "$$MSE(a,X)=\\frac1{l}\\sum_{i=1}^lL(y_i,a(\\overrightarrow{x_i}))=\\frac1{l}\\sum_{i=1}^l(a(\\overrightarrow{x_i})-y_i)^2$$\n",
        "\n",
        "В случае линейной регресии:\n",
        "\n",
        "$$a(\\overrightarrow{x_i})=\\langle \\overrightarrow{w},\\overrightarrow{x_i}\\rangle$$\n",
        "\n",
        "Задача оптимизации:\n",
        "\n",
        "$$\\frac1{l}\\sum_{i=1}^l (\\langle \\overrightarrow{w},\\overrightarrow{x_i}\\rangle-y_i)^2\\to \\min_{\\overrightarrow{w}}$$\n",
        "\n",
        "Тогда, продифференцировав функционал ошибки по $\\overrightarrow{w}$, приравняв его нулю и решив полученное уравнение, получим следующее выражение для оптимального вектора весов, которое называется *нормальным уравнением*:\n",
        "\n",
        "$$\\overrightarrow{w}_{opt} = \\left(X^TX\\right)^{-1}X^Ty.$$"
      ]
    },
    {
      "cell_type": "markdown",
      "metadata": {
        "id": "6kU_lkZhPU7l"
      },
      "source": [
        "**Задание 1. Пример из лекций**\n",
        "\n",
        "Напишите функцию ``get_weight``, которая находит вектор весов на основе нормального уравнения.\n",
        "\n",
        "Полезные функции: ``numpy.ones(n)`` для создания массива из единиц длины $n$ и ``numpy.concatenate((А, В), axis=1)`` для слияния двух матриц по столбцам (пара ``А`` и ``В`` превращается в матрицу ``[A B]``).\n",
        "\n",
        "Проверьте работу функции на простом примере из лекций:\n",
        "\n",
        "$$x_1=2, x_2=3, x_3=5$$\n",
        "\n",
        "$$y_1=1, y_2=3, y_3=4$$\n",
        "\n",
        "Нарисуйте исходные данные и полученную линию регресии при помощи ``matplotlib``: для рисования точек используйте ``plt.scatter``, для рисования линии $-$ ``plt.plot``."
      ]
    },
    {
      "cell_type": "code",
      "metadata": {
        "id": "a_Da8KwPPU7n"
      },
      "source": [
        "import numpy as np\n",
        "import scipy.linalg as sla\n",
        "import matplotlib.pyplot as plt\n",
        "%matplotlib inline"
      ],
      "execution_count": 1,
      "outputs": []
    },
    {
      "cell_type": "code",
      "metadata": {
        "id": "X-J0cHTfPU7p"
      },
      "source": [
        "def get_weight(X, y):\n",
        "    wgt = np.dot(np.dot(np.linalg.inv(np.dot(X.T, X)), X.T), y)\n",
        "    return wgt  # Возвращаем вектор весов"
      ],
      "execution_count": 2,
      "outputs": []
    },
    {
      "cell_type": "code",
      "metadata": {
        "id": "UXF4DnZ_Wvkj",
        "colab": {
          "base_uri": "https://localhost:8080/",
          "height": 437
        },
        "outputId": "8da3ff52-64a1-4f6d-b537-f7005459e9df"
      },
      "source": [
        "# test \n",
        "X = np.array([2, 3, 5]) \n",
        "y = np.array([1, 3, 4])\n",
        "plt.scatter(X, y, 40, marker='o', color='Red')\n",
        "y = y.reshape(3, 1) \n",
        "X = X.reshape(3, 1) \n",
        "X = np.hstack((np.ones((X.shape[0], 1)), X)) # столбец из единиц\n",
        "print(X, y)\n",
        "weights = get_weight(X, y)\n",
        "print(weights) # -0.43 + 0.93\n",
        "#X = np.array([2, 3, 5]) \n",
        "plt.plot(X, weights[0]+weights[1]*X)"
      ],
      "execution_count": 3,
      "outputs": [
        {
          "output_type": "stream",
          "text": [
            "[[1. 2.]\n",
            " [1. 3.]\n",
            " [1. 5.]] [[1]\n",
            " [3]\n",
            " [4]]\n",
            "[[-0.42857143]\n",
            " [ 0.92857143]]\n"
          ],
          "name": "stdout"
        },
        {
          "output_type": "execute_result",
          "data": {
            "text/plain": [
              "[<matplotlib.lines.Line2D at 0x7f8b30525d10>,\n",
              " <matplotlib.lines.Line2D at 0x7f8b3053c510>]"
            ]
          },
          "metadata": {
            "tags": []
          },
          "execution_count": 3
        },
        {
          "output_type": "display_data",
          "data": {
            "image/png": "[encoded data removed]",
            "text/plain": [
              "<Figure size 432x288 with 1 Axes>"
            ]
          },
          "metadata": {
            "tags": [],
            "needs_background": "light"
          }
        }
      ]
    },
    {
      "cell_type": "markdown",
      "metadata": {
        "id": "pIW5dQdFPU7q"
      },
      "source": [
        "Найдите значения функционалов ошибки $MSE$, $RMSE$, $R^2$."
      ]
    },
    {
      "cell_type": "code",
      "metadata": {
        "id": "H5h3H-6xPU7r"
      },
      "source": [
        "from sklearn.metrics import mean_squared_error, r2_score \n",
        "\n",
        "def MSE(y_test, y_predict):\n",
        "    mse = np.mean((y_test - y_predict)**2) # Ваш код здесь\n",
        "    return mse # Возвращаем значение ошибки\n",
        "\n",
        "def RMSE(y_test, y_predict):\n",
        "    mse = MSE(y_test, y_predict)\n",
        "    rmse = np.sqrt(mse) # Ваш код здесь\n",
        "    return rmse # Возвращаем значение ошибки\n",
        "\n",
        "def R2(y_test, y_predict):\n",
        "    mse = MSE(y_test, y_predict)# Ваш код здесь\n",
        "    y = np.full(y_test.shape[0], np.mean(y_test))\n",
        "    y = y.reshape(y.shape[0], 1)\n",
        "    z = np.mean((y_test - y)**2)\n",
        "    r2 = 1-(mse/z)\n",
        "    return r2 # Возвращаем значение ошибки"
      ],
      "execution_count": 39,
      "outputs": []
    },
    {
      "cell_type": "code",
      "metadata": {
        "colab": {
          "base_uri": "https://localhost:8080/"
        },
        "id": "89LbysafCDqr",
        "outputId": "f9ebbb25-c088-4cff-ca07-48eab44c89c0"
      },
      "source": [
        "# сравниваем\n",
        "y_test = y\n",
        "y_predict = weights[0]+weights[1]*X[:,1]\n",
        "y_predict = y_predict.reshape(3, 1) \n",
        "\n",
        "t5 = weights[0]+weights[1]*5 \n",
        "print(t5) # 4.2\n",
        "\n",
        "print(y_test, y_predict)\n",
        "mse = MSE(y_test, y_predict)\n",
        "rmse = RMSE(y_test, y_predict)\n",
        "r2 = R2(y_test, y_predict)\n",
        "\n",
        "mse_sl = mean_squared_error(y_test, y_predict)\n",
        "rmse_sl = mean_squared_error(y_test, y_predict, squared=False) # mse\\rmse squared = True\\False default=True If True returns MSE value, False RMSE \n",
        "r2_sl = r2_score(y_test, y_predict)\n",
        "print(\"MSE\", mse, \"RMSE\", rmse, \"R2\", r2, \"\\nSL\\nMSE\", mse_sl, \"RMSE\", rmse_sl, \"R2\", r2_sl)"
      ],
      "execution_count": 17,
      "outputs": [
        {
          "output_type": "stream",
          "text": [
            "[4.21428571]\n",
            "[[1]\n",
            " [3]\n",
            " [4]] [[1.42857143]\n",
            " [2.35714286]\n",
            " [4.21428571]]\n",
            "MSE 0.21428571428571427 RMSE 0.4629100498862757 R2 0.8622448979591837 \n",
            "SL\n",
            "MSE 0.21428571428571427 RMSE 0.4629100498862757 R2 0.8622448979591837\n"
          ],
          "name": "stdout"
        }
      ]
    },
    {
      "cell_type": "markdown",
      "metadata": {
        "id": "ejHoLFt2PU7r"
      },
      "source": [
        "Сравите полученные значения с библиотечными функциями $MSE$ и $R2$ из [scikit-learn](https://scikit-learn.org/stable/modules/model_evaluation.html#regression-metrics)."
      ]
    },
    {
      "cell_type": "markdown",
      "metadata": {
        "id": "yYPWWbuAPU7s"
      },
      "source": [
        "**Задание 2. Более сложный пример**.\n",
        "Скачайте файлы ``ml_lab2_train.txt`` и ``ml_lab2_test.txt``. В первом из них находится обучающая выборка, а во втором - тестовая. Каждый из файлов содержит два столбца чисел, разделённых пробелами: в первом $-$ $n$ точек (значения аргумента $x$), во втором $-$ значения некоторой функции $y = f(x)$ в этих точках, искажённые случайным шумом. Ваша задача $-$ по обучающей выборке подобрать функцию $y = a(x)$, приближающую неизвестную вам зависимость."
      ]
    },
    {
      "cell_type": "markdown",
      "metadata": {
        "id": "Fd4kMF0uPU7t"
      },
      "source": [
        "Загрузим обучающие и тестовые данные (не забудьте ввести правильный путь!)."
      ]
    },
    {
      "cell_type": "code",
      "metadata": {
        "id": "e3i7F8wmPU7t"
      },
      "source": [
        "data_train = np.loadtxt('ml_lab2_train.txt', delimiter=',')\n",
        "data_test = np.loadtxt('ml_lab2_test.txt', delimiter=',')"
      ],
      "execution_count": 21,
      "outputs": []
    },
    {
      "cell_type": "code",
      "metadata": {
        "id": "TJpyMWTIPU7w"
      },
      "source": [
        "X_train = data_train[:,0]\n",
        "y_train = data_train[:,1]\n",
        "\n",
        "X_train = X_train.reshape(X_train.shape[0], 1) \n",
        "X_train = np.hstack((np.ones((X_train.shape[0], 1)), X_train))\n",
        "y_train = y_train.reshape(y_train.shape[0], 1) \n",
        "\n",
        "# Сделайте то же для тестовой выборки\n",
        "X_test = data_test[:,0]\n",
        "y_test = data_test[:,1]\n",
        "\n",
        "X_test = X_test.reshape(X_test.shape[0], 1) \n",
        "X_test = np.hstack((np.ones((X_test.shape[0], 1)), X_test))\n",
        "y_test = y_test.reshape(y_test.shape[0], 1)"
      ],
      "execution_count": 67,
      "outputs": []
    },
    {
      "cell_type": "markdown",
      "metadata": {
        "id": "VpRYQ4rMPU7w"
      },
      "source": [
        "Найдите с помощью функции ``get_weight`` линейную функцию ($y = kx + b$), наилучшим образом приближающую неизвестную зависимость."
      ]
    },
    {
      "cell_type": "code",
      "metadata": {
        "id": "csA7oDPoPU7y"
      },
      "source": [
        "# Ваш код здесь\n",
        "y_predict = get_weight(X_train, y_train)"
      ],
      "execution_count": 73,
      "outputs": []
    },
    {
      "cell_type": "markdown",
      "metadata": {
        "id": "yPMNtWeYPU7y"
      },
      "source": [
        "Нарисуйте на плоскости точки $(x_i, y_i)$ и полученную линейную функцию."
      ]
    },
    {
      "cell_type": "code",
      "metadata": {
        "id": "P7gPVnpnPU7y",
        "colab": {
          "base_uri": "https://localhost:8080/",
          "height": 284
        },
        "outputId": "10bfa7b9-5916-4e1e-ad1c-dd9627c0005a"
      },
      "source": [
        "# Ваш код здесь\n",
        "plt.plot(X_train, y_predict[0]+y_predict[1]*X_train)\n",
        "plt.scatter(X_train[:, 1:], y_train, 40, marker='o', color='Red')"
      ],
      "execution_count": 69,
      "outputs": [
        {
          "output_type": "execute_result",
          "data": {
            "text/plain": [
              "<matplotlib.collections.PathCollection at 0x7f8b1ad24350>"
            ]
          },
          "metadata": {
            "tags": []
          },
          "execution_count": 69
        },
        {
          "output_type": "display_data",
          "data": {
            "image/png": "[encoded data removed]",
            "text/plain": [
              "<Figure size 432x288 with 1 Axes>"
            ]
          },
          "metadata": {
            "tags": [],
            "needs_background": "light"
          }
        }
      ]
    },
    {
      "cell_type": "markdown",
      "metadata": {
        "id": "xm_6mGgtPU7z"
      },
      "source": [
        "Найдите значения функционалов ошибки $MSE$, $RMSE$, $R^2$. Сравните их со значениями библиотечных функций `scikit-learn`."
      ]
    },
    {
      "cell_type": "code",
      "metadata": {
        "id": "h7Te7swKPU7z",
        "outputId": "3ba7f59f-d801-4d58-a7c2-c9141d7cb2fa",
        "colab": {
          "base_uri": "https://localhost:8080/",
          "height": 303
        }
      },
      "source": [
        "# Ваш код здесь\n",
        "plt.plot(X_test, y_predict[0]+y_predict[1]*X_test)\n",
        "plt.scatter(X_test[:, 1:], y_test, 40, marker='o', color='Red')\n",
        "\n",
        "y_predict2 = y_predict[0]+y_predict[1]*X_test[:,1]\n",
        "y_predict2 = y_predict2.reshape(y_predict2.shape[0], 1) \n",
        "mse = MSE(y_test, y_predict2)\n",
        "rmse = RMSE(y_test, y_predict2)\n",
        "r2 = R2(y_test, y_predict2)\n",
        "\n",
        "mse_sl = mean_squared_error(y_test, y_predict2)\n",
        "rmse_sl = mean_squared_error(y_test, y_predict2, squared=False)\n",
        "r2_sl = r2_score(y_test, y_predict2)\n",
        "print(\"MSE\", mse, \"RMSE\", rmse, \"R2\", r2, \"SL\\nMSE\", mse_sl, \"RMSE\", rmse_sl, \"R2\", r2_sl)"
      ],
      "execution_count": 81,
      "outputs": [
        {
          "output_type": "stream",
          "text": [
            "MSE 0.43512020040488686 RMSE 0.6596364153114099 R2 0.6848801332179677 SL\n",
            "MSE 0.43512020040488686 RMSE 0.6596364153114099 R2 0.6848801332179677\n"
          ],
          "name": "stdout"
        },
        {
          "output_type": "display_data",
          "data": {
            "image/png": "[encoded data removed]",
            "text/plain": [
              "<Figure size 432x288 with 1 Axes>"
            ]
          },
          "metadata": {
            "tags": [],
            "needs_background": "light"
          }
        }
      ]
    }
  ]
}