{
  "nbformat": 4,
  "nbformat_minor": 0,
  "metadata": {
    "kernelspec": {
      "display_name": "Python 3",
      "language": "python",
      "name": "python3"
    },
    "language_info": {
      "codemirror_mode": {
        "name": "ipython",
        "version": 3
      },
      "file_extension": ".py",
      "mimetype": "text/x-python",
      "name": "python",
      "nbconvert_exporter": "python",
      "pygments_lexer": "ipython3",
      "version": "3.7.5"
    },
    "colab": {
      "name": "ml_lab2.ipynb",
      "provenance": []
    }
  },
  "cells": [
    {
      "cell_type": "markdown",
      "metadata": {
        "id": "ZZ-BORqePU7Z"
      },
      "source": [
        "# Лабораторная работа 2. Линейная регрессия. Нормальное уравнение"
      ]
    },
    {
      "cell_type": "markdown",
      "metadata": {
        "id": "1PqhqKzDPU7k"
      },
      "source": [
        "Если для оценки качества в регресии используется среднеквадратичная ошибка (*mean squared error, MSE*), то ошибка на одном примере (*функция потерь*) будет определяться выражением:\n",
        "\n",
        "$$L(y,a)=(a-y)^2$$\n",
        "\n",
        "а суммарная ошибка (*функционал ошибки*):\n",
        "\n",
        "$$MSE(a,X)=\\frac1{l}\\sum_{i=1}^lL(y_i,a(\\overrightarrow{x_i}))=\\frac1{l}\\sum_{i=1}^l(a(\\overrightarrow{x_i})-y_i)^2$$\n",
        "\n",
        "В случае линейной регресии:\n",
        "\n",
        "$$a(\\overrightarrow{x_i})=\\langle \\overrightarrow{w},\\overrightarrow{x_i}\\rangle$$\n",
        "\n",
        "Задача оптимизации:\n",
        "\n",
        "$$\\frac1{l}\\sum_{i=1}^l (\\langle \\overrightarrow{w},\\overrightarrow{x_i}\\rangle-y_i)^2\\to \\min_{\\overrightarrow{w}}$$\n",
        "\n",
        "Тогда, продифференцировав функционал ошибки по $\\overrightarrow{w}$, приравняв его нулю и решив полученное уравнение, получим следующее выражение для оптимального вектора весов, которое называется *нормальным уравнением*:\n",
        "\n",
        "$$\\overrightarrow{w}_{opt} = \\left(X^TX\\right)^{-1}X^Ty.$$"
      ]
    },
    {
      "cell_type": "markdown",
      "metadata": {
        "id": "6kU_lkZhPU7l"
      },
      "source": [
        "**Задание 1. Пример из лекций**\n",
        "\n",
        "Напишите функцию ``get_weight``, которая находит вектор весов на основе нормального уравнения.\n",
        "\n",
        "Полезные функции: ``numpy.ones(n)`` для создания массива из единиц длины $n$ и ``numpy.concatenate((А, В), axis=1)`` для слияния двух матриц по столбцам (пара ``А`` и ``В`` превращается в матрицу ``[A B]``).\n",
        "\n",
        "Проверьте работу функции на простом примере из лекций:\n",
        "\n",
        "$$x_1=2, x_2=3, x_3=5$$\n",
        "\n",
        "$$y_1=1, y_2=3, y_3=4$$\n",
        "\n",
        "Нарисуйте исходные данные и полученную линию регресии при помощи ``matplotlib``: для рисования точек используйте ``plt.scatter``, для рисования линии $-$ ``plt.plot``."
      ]
    },
    {
      "cell_type": "code",
      "metadata": {
        "id": "a_Da8KwPPU7n"
      },
      "source": [
        "import numpy as np\n",
        "import scipy.linalg as sla\n",
        "import matplotlib.pyplot as plt\n",
        "%matplotlib inline"
      ],
      "execution_count": 42,
      "outputs": []
    },
    {
      "cell_type": "code",
      "metadata": {
        "id": "X-J0cHTfPU7p"
      },
      "source": [
        "def get_weight(X, y):\n",
        "    wgt = np.dot(np.dot(np.linalg.inv(np.dot(X.T, X)), X.T), y)\n",
        "    return wgt  # Возвращаем вектор весов"
      ],
      "execution_count": 3,
      "outputs": []
    },
    {
      "cell_type": "code",
      "metadata": {
        "id": "UXF4DnZ_Wvkj",
        "outputId": "dadf331a-a5e5-4069-bb02-81bc66f8d919",
        "colab": {
          "base_uri": "https://localhost:8080/",
          "height": 399
        }
      },
      "source": [
        "# test Использовать на практике векторный вид вместо циклов В лабе добавляем столбец из единиц в признаках  X = np.hstack((np.ones((X.shape[0], 1)), X))\n",
        "X = np.array([2, 3, 5]) \n",
        "y = np.array([1, 3, 4])\n",
        "plt.scatter(X, y)\n",
        "\n",
        "X = X.reshape(3, 1) \n",
        "print(X, np.ones((X.shape[0], 1)))\n",
        "X = np.hstack((np.ones((X.shape[0], 1)), X))\n",
        "weights = get_weight(X, y)\n",
        "print(weights) # -0.43 + 0.93\n",
        "plt.plot(weights)\n"
      ],
      "execution_count": 43,
      "outputs": [
        {
          "output_type": "stream",
          "text": [
            "[[2]\n",
            " [3]\n",
            " [5]] [[1.]\n",
            " [1.]\n",
            " [1.]]\n",
            "[-0.42857143  0.92857143]\n"
          ],
          "name": "stdout"
        },
        {
          "output_type": "execute_result",
          "data": {
            "text/plain": [
              "[<matplotlib.lines.Line2D at 0x7febb5271310>]"
            ]
          },
          "metadata": {
            "tags": []
          },
          "execution_count": 43
        },
        {
          "output_type": "display_data",
          "data": {
            "image/png": "[encoded data removed]",
            "text/plain": [
              "<Figure size 432x288 with 1 Axes>"
            ]
          },
          "metadata": {
            "tags": [],
            "needs_background": "light"
          }
        }
      ]
    },
    {
      "cell_type": "markdown",
      "metadata": {
        "id": "pIW5dQdFPU7q"
      },
      "source": [
        "Найдите значения функционалов ошибки $MSE$, $RMSE$, $R^2$."
      ]
    },
    {
      "cell_type": "code",
      "metadata": {
        "id": "H5h3H-6xPU7r"
      },
      "source": [
        "from sklearn.metrics import mean_squared_error, r2_score # mse\\rmse squared = True\\False default=True If True returns MSE value, False RMSE \n",
        "\n",
        "def MSE(y_test, y_predict):\n",
        "    mse = np.mean((y_test - y_predict))**2 # Ваш код здесь\n",
        "    return mse # Возвращаем значение ошибки\n",
        "\n",
        "def RMSE(y_test, y_predict):\n",
        "    mse = MSE(y_test, y_predict)\n",
        "    rmse = np.sqrt(mse) # Ваш код здесь\n",
        "    return rmse # Возвращаем значение ошибки\n",
        "\n",
        "def R2(y_test, y_predict):\n",
        "    # Ваш код здесь\n",
        "    mse = MSE(y_test, y_predict)\n",
        "    z = np.mean(y_test - np.mean(y_test))\n",
        "    r2 = 1 - (mse/z)\n",
        "    return r2 # Возвращаем значение ошибки"
      ],
      "execution_count": null,
      "outputs": []
    },
    {
      "cell_type": "code",
      "metadata": {
        "id": "89LbysafCDqr"
      },
      "source": [
        "# сравниваем\n",
        "mse = MSE(y_test, y_predict)\n",
        "rmse = RMSE(y_test, y_predict)\n",
        "r2 = R2(y_test, y_predict)\n",
        "\n",
        "mse_sl = mean_squared_error(y_test, y_predict)\n",
        "rmse_sl = mean_squared_error(y_test, y_predict, squared=False)\n",
        "r2_sl = r2_score(y_test, y_predict)\n",
        "print(\"MSE\", mse, \"RMSE\", rmse, \"R2\", r2, \"SL\\nMSE\", mse_sl, \"RMSE\", rmse_sl, \"R2\", r2_sl)"
      ],
      "execution_count": null,
      "outputs": []
    },
    {
      "cell_type": "markdown",
      "metadata": {
        "id": "ejHoLFt2PU7r"
      },
      "source": [
        "Сравите полученные значения с библиотечными функциями $MSE$ и $R2$ из [scikit-learn](https://scikit-learn.org/stable/modules/model_evaluation.html#regression-metrics)."
      ]
    },
    {
      "cell_type": "markdown",
      "metadata": {
        "id": "yYPWWbuAPU7s"
      },
      "source": [
        "**Задание 2. Более сложный пример**.\n",
        "Скачайте файлы ``ml_lab2_train.txt`` и ``ml_lab2_test.txt``. В первом из них находится обучающая выборка, а во втором - тестовая. Каждый из файлов содержит два столбца чисел, разделённых пробелами: в первом $-$ $n$ точек (значения аргумента $x$), во втором $-$ значения некоторой функции $y = f(x)$ в этих точках, искажённые случайным шумом. Ваша задача $-$ по обучающей выборке подобрать функцию $y = a(x)$, приближающую неизвестную вам зависимость."
      ]
    },
    {
      "cell_type": "markdown",
      "metadata": {
        "id": "Fd4kMF0uPU7t"
      },
      "source": [
        "Загрузим обучающие и тестовые данные (не забудьте ввести правильный путь!)."
      ]
    },
    {
      "cell_type": "code",
      "metadata": {
        "id": "e3i7F8wmPU7t"
      },
      "source": [
        "data_train = np.loadtxt('.../ml_lab2_train.txt', delimiter=',')\n",
        "data_test = np.loadtxt('.../ml_lab2_test.txt', delimiter=',')"
      ],
      "execution_count": null,
      "outputs": []
    },
    {
      "cell_type": "code",
      "metadata": {
        "id": "TJpyMWTIPU7w"
      },
      "source": [
        "X_train = data_train[:,0]\n",
        "y_train = data_train[:,1]\n",
        "\n",
        "# Сделайте то же для тестовой выборки\n",
        "X_test = data_test[:,0]\n",
        "y_test = data_test[:,1]"
      ],
      "execution_count": null,
      "outputs": []
    },
    {
      "cell_type": "markdown",
      "metadata": {
        "id": "VpRYQ4rMPU7w"
      },
      "source": [
        "Найдите с помощью функции ``get_weight`` линейную функцию ($y = kx + b$), наилучшим образом приближающую неизвестную зависимость."
      ]
    },
    {
      "cell_type": "code",
      "metadata": {
        "id": "csA7oDPoPU7y"
      },
      "source": [
        "# Ваш код здесь\n",
        "y_predict = get_weight(X, y)\n"
      ],
      "execution_count": null,
      "outputs": []
    },
    {
      "cell_type": "markdown",
      "metadata": {
        "id": "yPMNtWeYPU7y"
      },
      "source": [
        "Нарисуйте на плоскости точки $(x_i, y_i)$ и полученную линейную функцию."
      ]
    },
    {
      "cell_type": "code",
      "metadata": {
        "id": "P7gPVnpnPU7y"
      },
      "source": [
        "# Ваш код здесь\n",
        "plt.plot(y_predict)\n",
        "plt.scatter(y_predict)"
      ],
      "execution_count": null,
      "outputs": []
    },
    {
      "cell_type": "markdown",
      "metadata": {
        "id": "xm_6mGgtPU7z"
      },
      "source": [
        "Найдите значения функционалов ошибки $MSE$, $RMSE$, $R^2$. Сравните их со значениями библиотечных функций `scikit-learn`."
      ]
    },
    {
      "cell_type": "code",
      "metadata": {
        "id": "h7Te7swKPU7z"
      },
      "source": [
        "# Ваш код здесь\n",
        "mse = MSE(y_test, y_predict)\n",
        "rmse = RMSE(y_test, y_predict)\n",
        "r2 = R2(y_test, y_predict)\n",
        "\n",
        "mse_sl = mean_squared_error(y_test, y_predict)\n",
        "rmse_sl = mean_squared_error(y_test, y_predict, squared=False)\n",
        "r2_sl = r2_score(y_test, y_predict)\n",
        "print(\"MSE\", mse, \"RMSE\", rmse, \"R2\", r2, \"SL\\nMSE\", mse_sl, \"RMSE\", rmse_sl, \"R2\", r2_sl)"
      ],
      "execution_count": null,
      "outputs": []
    }
  ]
}