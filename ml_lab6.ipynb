{
  "nbformat": 4,
  "nbformat_minor": 0,
  "metadata": {
    "kernelspec": {
      "display_name": "Python 3",
      "language": "python",
      "name": "python3"
    },
    "language_info": {
      "codemirror_mode": {
        "name": "ipython",
        "version": 3
      },
      "file_extension": ".py",
      "mimetype": "text/x-python",
      "name": "python",
      "nbconvert_exporter": "python",
      "pygments_lexer": "ipython3",
      "version": "3.8.5"
    },
    "colab": {
      "name": "ml_lab6.ipynb",
      "provenance": []
    }
  },
  "cells": [
    {
      "cell_type": "markdown",
      "metadata": {
        "id": "OYsMHtyE-SY4"
      },
      "source": [
        "# Лабораторная работа 6. Выбор оптимального классификатора"
      ]
    },
    {
      "cell_type": "markdown",
      "metadata": {
        "id": "4uDaYQuO-SY8"
      },
      "source": [
        "В этой лабораторной работе вам потребуется выбрать наилучший классификатор с оптимальными параметрами для задачи про пассажиров [\"Титаника\"](https://ru.wikipedia.org/wiki/Титаник)."
      ]
    },
    {
      "cell_type": "markdown",
      "metadata": {
        "id": "kgI_NOXe-SY9"
      },
      "source": [
        "__Задание 1.__  \n",
        "Загрузите данные (см. предыдущую лабораторную работу)."
      ]
    },
    {
      "cell_type": "code",
      "metadata": {
        "id": "UGjOXIIc-SZA"
      },
      "source": [
        "import numpy as np\n",
        "import matplotlib.pyplot as plt\n",
        "import pandas as pd\n",
        "%matplotlib inline\n",
        "\n",
        "train = pd.read_csv(\"train.csv\") # lab5_input\n",
        "test = pd.read_csv(\"test.csv\") # lab5_input\n"
      ],
      "execution_count": null,
      "outputs": []
    },
    {
      "cell_type": "markdown",
      "metadata": {
        "id": "RzESnbVq-SZB"
      },
      "source": [
        "__Задание 2.__  \n",
        "Проведите предобработку данных (см. предыдущую лабораторную работу)."
      ]
    },
    {
      "cell_type": "code",
      "metadata": {
        "id": "ygn9Cotl-SZC"
      },
      "source": [
        "def process_age(df, cut_points, label_names):\n",
        "    df['Age'] = df['Age'].replace(np.NaN, -0.5) #fillna\n",
        "    df['Age_categories'] = pd.cut(df['Age'], bins=cut_points, labels=label_names)\n",
        "    return df\n",
        "\n",
        "cut_points = [-1, 0, 5, 12, 18, 35, 60, 100]\n",
        "label_names = [\"Missing\", \"Infant\", \"Child\", \"Teenager\", \"Young_Adult\", \"Adult\", \"Senior\"]\n",
        "train = process_age(train,cut_points,label_names)\n",
        "test = process_age(test,cut_points,label_names)\n",
        "\n",
        "age_cat_pivot = train.pivot_table(index=\"Age_categories\",values=\"Survived\")\n",
        "age_cat_pivot.plot.bar()\n",
        "plt.show()"
      ],
      "execution_count": null,
      "outputs": []
    },
    {
      "cell_type": "code",
      "metadata": {
        "id": "g59lM_RVkD2l"
      },
      "source": [
        "def create_dummies(df, column_name):\n",
        "    dum = pd.get_dummies(df[column_name], prefix=[column_name])\n",
        "    df = pd.concat([df,dum],axis=1)\n",
        "    return df\n",
        "\n",
        "train = create_dummies(train, \"Pclass\")\n",
        "test = create_dummies(test, \"Pclass\")\n",
        "\n",
        "train = create_dummies(train, \"Sex\")\n",
        "test = create_dummies(test, \"Sex\")\n",
        "\n",
        "train = create_dummies(train, \"Age_categories\")\n",
        "test = create_dummies(test, \"Age_categories\")"
      ],
      "execution_count": null,
      "outputs": []
    },
    {
      "cell_type": "markdown",
      "metadata": {
        "id": "ocej4tPp-SZD"
      },
      "source": [
        "__Задание 3.__  \n",
        "Примените масштабирование признаков (`StandardScaler`, `MinMaxScaler`)."
      ]
    },
    {
      "cell_type": "code",
      "metadata": {
        "id": "3Q_ToXzV-SZE"
      },
      "source": [
        "# Ваш код здесь"
      ],
      "execution_count": null,
      "outputs": []
    },
    {
      "cell_type": "markdown",
      "metadata": {
        "id": "1dZylz7X-SZE"
      },
      "source": [
        "__Задание 4.__  \n",
        "Примените различные преобразования признаков (`PolynomialFeatures`)."
      ]
    },
    {
      "cell_type": "code",
      "metadata": {
        "id": "uuXKuP4_-SZG"
      },
      "source": [
        "# Ваш код здесь"
      ],
      "execution_count": null,
      "outputs": []
    },
    {
      "cell_type": "markdown",
      "metadata": {
        "id": "xLSt8MmV-SZH"
      },
      "source": [
        "__Задание 5.__  \n",
        "Обучите несколько классификаторов, в том числе:  \n",
        "1. Логистическую регрессию (`LogisticRegression`).\n",
        "1. Метод опорных векторов (`SVC`).\n",
        "1. Метод *k* ближайших соседей (`KNeighborsClassifier`).\n",
        "1. Наивный байесовский классификатор (`MultinomialNB`).\n",
        "1. Деревья решений (`DecisionTreeClassifier`).\n",
        "1. Случайный лес (`RandomForestClassifier`).\n",
        "1. AdaBoost (`AdaBoost`).\n",
        "1. Градиентный бустинг (`GradientBoostingClassifier`).\n",
        "\n",
        "Для обучения и проверки качества можно использовать функцию `train_test_split()`."
      ]
    },
    {
      "cell_type": "code",
      "metadata": {
        "id": "7H-O22PD-SZJ"
      },
      "source": [
        "# Ваш код здесь"
      ],
      "execution_count": null,
      "outputs": []
    },
    {
      "cell_type": "markdown",
      "metadata": {
        "id": "RP2sHlpM-SZJ"
      },
      "source": [
        "__Задание 6.__  \n",
        "При помощи `Pipeline` и `GridSearchCV` выберите оптимальную архитектуру:\n",
        "1. Метод масштабирования.\n",
        "1. Степень полинома в `PolynomialFeatures`.\n",
        "1. Параметры классификаторов (в том числе, параметры регуляризации).\n",
        "\n",
        "Заносите в таблицу Excel результаты тестирования (варианты параметров, оценки качества)."
      ]
    },
    {
      "cell_type": "code",
      "metadata": {
        "id": "SlYQ0sjl-SZK"
      },
      "source": [
        "# Ваш код здесь"
      ],
      "execution_count": null,
      "outputs": []
    },
    {
      "cell_type": "markdown",
      "metadata": {
        "id": "VBYihCsN-SZK"
      },
      "source": [
        "__Задание 7.__  \n",
        "1. Выберите несколько лучших классификаторов (от 3 до 10).\n",
        "1. Обучите выбранные классификаторы на всех доступных размеченных данных.\n",
        "1. Получите результаты предсказания для тестовых данных.\n",
        "1. Отправьте результаты на сервер [Kaggle](https://ru.wikipedia.org/wiki/Титаник)."
      ]
    },
    {
      "cell_type": "code",
      "metadata": {
        "id": "unNr1_U3-SZL"
      },
      "source": [
        "# Ваш код здесь"
      ],
      "execution_count": null,
      "outputs": []
    }
  ]
}