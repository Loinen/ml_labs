{
  "nbformat": 4,
  "nbformat_minor": 0,
  "metadata": {
    "kernelspec": {
      "display_name": "Python 3",
      "language": "python",
      "name": "python3"
    },
    "language_info": {
      "codemirror_mode": {
        "name": "ipython",
        "version": 3
      },
      "file_extension": ".py",
      "mimetype": "text/x-python",
      "name": "python",
      "nbconvert_exporter": "python",
      "pygments_lexer": "ipython3",
      "version": "3.8.5"
    },
    "colab": {
      "name": "ml_lab6.ipynb",
      "provenance": [],
      "toc_visible": true
    }
  },
  "cells": [
    {
      "cell_type": "markdown",
      "metadata": {
        "id": "OYsMHtyE-SY4"
      },
      "source": [
        "# Лабораторная работа 6. Выбор оптимального классификатора"
      ]
    },
    {
      "cell_type": "markdown",
      "metadata": {
        "id": "4uDaYQuO-SY8"
      },
      "source": [
        "В этой лабораторной работе вам потребуется выбрать наилучший классификатор с оптимальными параметрами для задачи про пассажиров [\"Титаника\"](https://ru.wikipedia.org/wiki/Титаник)."
      ]
    },
    {
      "cell_type": "markdown",
      "metadata": {
        "id": "kgI_NOXe-SY9"
      },
      "source": [
        "__Задание 1.__  \n",
        "Загрузите данные (см. предыдущую лабораторную работу)."
      ]
    },
    {
      "cell_type": "code",
      "metadata": {
        "colab": {
          "base_uri": "https://localhost:8080/"
        },
        "id": "UGjOXIIc-SZA",
        "outputId": "8aa753cd-957a-4ed9-eb31-566e21bbdbf3"
      },
      "source": [
        "import numpy as np\n",
        "import matplotlib.pyplot as plt\n",
        "import pandas as pd\n",
        "%matplotlib inline\n",
        "\n",
        "train = pd.read_csv(\"train.csv\") # lab5_input\n",
        "test = pd.read_csv(\"test.csv\") # lab5_input\n",
        "print(train.value_counts(\"SibSp\"), train.shape)\n"
      ],
      "execution_count": 104,
      "outputs": [
        {
          "output_type": "stream",
          "text": [
            "SibSp\n",
            "0    608\n",
            "1    209\n",
            "2     28\n",
            "4     18\n",
            "3     16\n",
            "8      7\n",
            "5      5\n",
            "dtype: int64 (891, 12)\n"
          ],
          "name": "stdout"
        }
      ]
    },
    {
      "cell_type": "markdown",
      "metadata": {
        "id": "RzESnbVq-SZB"
      },
      "source": [
        "__Задание 2.__  \n",
        "Проведите предобработку данных (см. предыдущую лабораторную работу)."
      ]
    },
    {
      "cell_type": "code",
      "metadata": {
        "colab": {
          "base_uri": "https://localhost:8080/",
          "height": 331
        },
        "id": "ygn9Cotl-SZC",
        "outputId": "f240fcd7-4a90-4b19-96fb-fb80555606a8"
      },
      "source": [
        "def process_age(df, cut_points, label_names):\n",
        "    df['Age'] = df['Age'].replace(np.NaN, -0.5) #fillna\n",
        "    df['Age_categories'] = pd.cut(df['Age'], bins=cut_points, labels=label_names)\n",
        "    return df\n",
        "\n",
        "cut_points = [-1, 0, 5, 12, 18, 35, 60, 100]\n",
        "label_names = [\"Missing\", \"Infant\", \"Child\", \"Teenager\", \"Young_Adult\", \"Adult\", \"Senior\"]\n",
        "train = process_age(train,cut_points,label_names)\n",
        "test = process_age(test,cut_points,label_names)\n",
        "\n",
        "age_cat_pivot = train.pivot_table(index=\"Age_categories\",values=\"Survived\")\n",
        "age_cat_pivot.plot.bar()\n",
        "plt.show()"
      ],
      "execution_count": 105,
      "outputs": [
        {
          "output_type": "display_data",
          "data": {
            "image/png": "[encoded data removed]",
            "text/plain": [
              "<Figure size 432x288 with 1 Axes>"
            ]
          },
          "metadata": {
            "tags": [],
            "needs_background": "light"
          }
        }
      ]
    },
    {
      "cell_type": "code",
      "metadata": {
        "id": "g59lM_RVkD2l"
      },
      "source": [
        "def create_dummies(df, column_name):\n",
        "    dum = pd.get_dummies(df[column_name], prefix=[column_name])\n",
        "    df = pd.concat([df,dum],axis=1)\n",
        "    return df\n",
        "\n",
        "train = create_dummies(train, \"Pclass\")\n",
        "test = create_dummies(test, \"Pclass\")\n",
        "\n",
        "train = create_dummies(train, \"Sex\")\n",
        "test = create_dummies(test, \"Sex\")\n",
        "\n",
        "train = create_dummies(train, \"Age_categories\")\n",
        "test = create_dummies(test, \"Age_categories\")\n",
        "\n",
        "train = create_dummies(train, \"Embarked\")\n",
        "test = create_dummies(test, \"Embarked\")"
      ],
      "execution_count": 106,
      "outputs": []
    },
    {
      "cell_type": "markdown",
      "metadata": {
        "id": "ocej4tPp-SZD"
      },
      "source": [
        "__Задание 3.__  \n",
        "Примените масштабирование признаков (`StandardScaler`, `MinMaxScaler`)."
      ]
    },
    {
      "cell_type": "code",
      "metadata": {
        "id": "3Q_ToXzV-SZE"
      },
      "source": [
        "from sklearn.preprocessing import StandardScaler, MinMaxScaler\n",
        "drop_cols = ['Name', 'Sex', 'PassengerId', 'Age', 'Age_categories', 'Ticket', 'Cabin', 'Embarked', 'Pclass']\n",
        "train = train.drop(columns=drop_cols, axis=1)\n",
        "test = test.drop(columns=drop_cols, axis=1)\n",
        "#print(train[train.isnull().any(axis=1)])\n",
        "\n",
        "features = ['Parch', 'SibSp', 'Fare']\n",
        "train[features]= StandardScaler().fit_transform(train[features])\n",
        "test[features]= StandardScaler().fit_transform(test[features])"
      ],
      "execution_count": 107,
      "outputs": []
    },
    {
      "cell_type": "markdown",
      "metadata": {
        "id": "1dZylz7X-SZE"
      },
      "source": [
        "__Задание 4.__  \n",
        "Примените различные преобразования признаков (`PolynomialFeatures`)."
      ]
    },
    {
      "cell_type": "code",
      "metadata": {
        "colab": {
          "base_uri": "https://localhost:8080/"
        },
        "id": "uuXKuP4_-SZG",
        "outputId": "4c1b273f-b65e-4da3-8e10-017c665b83c4"
      },
      "source": [
        "# Ваш код здесь\n",
        "print(train)"
      ],
      "execution_count": 108,
      "outputs": [
        {
          "output_type": "stream",
          "text": [
            "     Survived     SibSp  ...  ['Embarked']_Q  ['Embarked']_S\n",
            "0           0  0.432793  ...               0               1\n",
            "1           1  0.432793  ...               0               0\n",
            "2           1 -0.474545  ...               0               1\n",
            "3           1  0.432793  ...               0               1\n",
            "4           0 -0.474545  ...               0               1\n",
            "..        ...       ...  ...             ...             ...\n",
            "886         0 -0.474545  ...               0               1\n",
            "887         1 -0.474545  ...               0               1\n",
            "888         0  0.432793  ...               0               1\n",
            "889         1 -0.474545  ...               0               0\n",
            "890         0 -0.474545  ...               1               0\n",
            "\n",
            "[891 rows x 19 columns]\n"
          ],
          "name": "stdout"
        }
      ]
    },
    {
      "cell_type": "markdown",
      "metadata": {
        "id": "xLSt8MmV-SZH"
      },
      "source": [
        "__Задание 5.__  \n",
        "Обучите несколько классификаторов, в том числе:  \n",
        "1. Логистическую регрессию (`LogisticRegression`).\n",
        "1. Метод опорных векторов (`SVC`).\n",
        "1. Метод *k* ближайших соседей (`KNeighborsClassifier`).\n",
        "1. Наивный байесовский классификатор (`MultinomialNB`).\n",
        "1. Деревья решений (`DecisionTreeClassifier`).\n",
        "1. Случайный лес (`RandomForestClassifier`).\n",
        "1. AdaBoost (`AdaBoost`).\n",
        "1. Градиентный бустинг (`GradientBoostingClassifier`).\n",
        "\n",
        "Для обучения и проверки качества можно использовать функцию `train_test_split()`."
      ]
    },
    {
      "cell_type": "code",
      "metadata": {
        "id": "7H-O22PD-SZJ"
      },
      "source": [
        "from sklearn.linear_model import LogisticRegression\n",
        "from sklearn.svm import SVC\n",
        "from sklearn.neighbors import KNeighborsClassifier\n",
        "from sklearn.naive_bayes import GaussianNB\n",
        "from sklearn.tree import DecisionTreeClassifier\n",
        "from sklearn.ensemble import RandomForestClassifier, AdaBoostClassifier, GradientBoostingClassifier\n",
        "\n",
        "from sklearn.pipeline import Pipeline\n",
        "from sklearn.model_selection import train_test_split, GridSearchCV"
      ],
      "execution_count": 109,
      "outputs": []
    },
    {
      "cell_type": "code",
      "metadata": {
        "id": "AdYM2lOyyIzR",
        "outputId": "441534eb-607c-487e-f7fd-43b12c19f656",
        "colab": {
          "base_uri": "https://localhost:8080/"
        }
      },
      "source": [
        "y = train['Survived']\n",
        "df = train.copy()\n",
        "\n",
        "x_train, x_test, y_train, y_test = train_test_split(df, y, train_size=0.8, random_state=42)\n",
        "print(x_train.shape, x_test.shape, y_train.shape, y_test.shape) "
      ],
      "execution_count": 110,
      "outputs": [
        {
          "output_type": "stream",
          "text": [
            "(712, 19) (179, 19) (712,) (179,)\n"
          ],
          "name": "stdout"
        }
      ]
    },
    {
      "cell_type": "code",
      "metadata": {
        "id": "iTfbnlicyszm",
        "outputId": "84b4ec03-206e-4380-b892-6b843877728f",
        "colab": {
          "base_uri": "https://localhost:8080/"
        }
      },
      "source": [
        "# Логистическая регрессия\n",
        "lr = LogisticRegression(random_state=42)\n",
        "lr.fit(x_train, y_train) \n",
        "y_pred = lr.predict(x_test)\n",
        "print(lr.score(x_test, y_test))"
      ],
      "execution_count": 111,
      "outputs": [
        {
          "output_type": "stream",
          "text": [
            "1.0\n"
          ],
          "name": "stdout"
        }
      ]
    },
    {
      "cell_type": "code",
      "metadata": {
        "id": "Yiz_YG-ZyxEj",
        "outputId": "5382d96a-4608-4a38-dbf1-90351d027e01",
        "colab": {
          "base_uri": "https://localhost:8080/"
        }
      },
      "source": [
        "# Метод опорных векторов (SVC)\n",
        "svc = SVC()\n",
        "svc.fit(x_train, y_train)\n",
        "y_pred = svc.predict(x_test)\n",
        "print(svc.score(x_test, y_test))"
      ],
      "execution_count": 112,
      "outputs": [
        {
          "output_type": "stream",
          "text": [
            "0.994413407821229\n"
          ],
          "name": "stdout"
        }
      ]
    },
    {
      "cell_type": "code",
      "metadata": {
        "id": "BRO8X7lIyxMl",
        "outputId": "8e13632b-1bc7-4c07-fcb1-648cdc13172d",
        "colab": {
          "base_uri": "https://localhost:8080/"
        }
      },
      "source": [
        "# Метод k ближайших соседей (KNeighborsClassifier)\n",
        "knn = KNeighborsClassifier(n_neighbors = 3)\n",
        "knn.fit(x_train, y_train)\n",
        "y_pred = knn.predict(x_test)\n",
        "print(knn.score(x_test, y_test))"
      ],
      "execution_count": 113,
      "outputs": [
        {
          "output_type": "stream",
          "text": [
            "0.9441340782122905\n"
          ],
          "name": "stdout"
        }
      ]
    },
    {
      "cell_type": "code",
      "metadata": {
        "id": "5XZL0xBhyxYL",
        "outputId": "205e4d06-ac82-4563-9524-bd438d9b024e",
        "colab": {
          "base_uri": "https://localhost:8080/"
        }
      },
      "source": [
        "# Наивный байесовский классификатор (MultinomialNB)\n",
        "gaussian = GaussianNB()\n",
        "gaussian.fit(x_train, y_train)\n",
        "y_pred = gaussian.predict(x_test)\n",
        "print(gaussian.score(x_test, y_test))"
      ],
      "execution_count": 114,
      "outputs": [
        {
          "output_type": "stream",
          "text": [
            "1.0\n"
          ],
          "name": "stdout"
        }
      ]
    },
    {
      "cell_type": "code",
      "metadata": {
        "id": "-UWMi3Uvyxep",
        "outputId": "f522f216-d1bd-43d3-8a40-d63ee0a19969",
        "colab": {
          "base_uri": "https://localhost:8080/"
        }
      },
      "source": [
        "# Деревья решений (DecisionTreeClassifier)\n",
        "decision_tree = DecisionTreeClassifier()\n",
        "decision_tree.fit(x_train, y_train)\n",
        "y_pred = decision_tree.predict(x_test)\n",
        "print(decision_tree.score(x_test, y_test))"
      ],
      "execution_count": 115,
      "outputs": [
        {
          "output_type": "stream",
          "text": [
            "1.0\n"
          ],
          "name": "stdout"
        }
      ]
    },
    {
      "cell_type": "code",
      "metadata": {
        "id": "xQiXvuaEy-Ta",
        "outputId": "2303a81c-bfd7-4169-9911-996553944320",
        "colab": {
          "base_uri": "https://localhost:8080/"
        }
      },
      "source": [
        "# Случайный лес (RandomForestClassifier)\n",
        "random_forest = RandomForestClassifier(n_estimators=100)\n",
        "random_forest.fit(x_train, y_train)\n",
        "y_pred = random_forest.predict(x_test)\n",
        "print(random_forest.score(x_test, y_test))"
      ],
      "execution_count": 116,
      "outputs": [
        {
          "output_type": "stream",
          "text": [
            "1.0\n"
          ],
          "name": "stdout"
        }
      ]
    },
    {
      "cell_type": "code",
      "metadata": {
        "id": "M6TvjzVFy_sR",
        "outputId": "38ac1f9a-5291-4508-9d6c-23b7aa8ffe3a",
        "colab": {
          "base_uri": "https://localhost:8080/"
        }
      },
      "source": [
        "# AdaBoost (AdaBoost)\n",
        "ada = AdaBoostClassifier(n_estimators=100, random_state=0)\n",
        "ada.fit(x_train, y_train)\n",
        "y_pred = ada.predict(x_test)\n",
        "print(ada.score(x_test, y_test))"
      ],
      "execution_count": 117,
      "outputs": [
        {
          "output_type": "stream",
          "text": [
            "1.0\n"
          ],
          "name": "stdout"
        }
      ]
    },
    {
      "cell_type": "code",
      "metadata": {
        "id": "uDDKSGEozBQP",
        "outputId": "5e5adec1-19fe-434d-929d-c1b50d4ecd0b",
        "colab": {
          "base_uri": "https://localhost:8080/"
        }
      },
      "source": [
        "# Градиентный бустинг (GradientBoostingClassifier)\n",
        "gbc = GradientBoostingClassifier(n_estimators=100, learning_rate=1.0, max_depth=1, random_state=0).fit(x_train, y_train)\n",
        "print(gbc.score(x_test, y_test))"
      ],
      "execution_count": 118,
      "outputs": [
        {
          "output_type": "stream",
          "text": [
            "1.0\n"
          ],
          "name": "stdout"
        }
      ]
    },
    {
      "cell_type": "markdown",
      "metadata": {
        "id": "RP2sHlpM-SZJ"
      },
      "source": [
        "__Задание 6.__  \n",
        "При помощи `Pipeline` и `GridSearchCV` выберите оптимальную архитектуру:\n",
        "1. Метод масштабирования.\n",
        "1. Степень полинома в `PolynomialFeatures`.\n",
        "1. Параметры классификаторов (в том числе, параметры регуляризации).\n",
        "\n",
        "Заносите в таблицу Excel результаты тестирования (варианты параметров, оценки качества)."
      ]
    },
    {
      "cell_type": "code",
      "metadata": {
        "id": "SlYQ0sjl-SZK"
      },
      "source": [
        ""
      ],
      "execution_count": 118,
      "outputs": []
    },
    {
      "cell_type": "markdown",
      "metadata": {
        "id": "VBYihCsN-SZK"
      },
      "source": [
        "__Задание 7.__  \n",
        "1. Выберите несколько лучших классификаторов (от 3 до 10).\n",
        "1. Обучите выбранные классификаторы на всех доступных размеченных данных.\n",
        "1. Получите результаты предсказания для тестовых данных.\n",
        "1. Отправьте результаты на сервер [Kaggle](https://ru.wikipedia.org/wiki/Титаник)."
      ]
    },
    {
      "cell_type": "code",
      "metadata": {
        "id": "unNr1_U3-SZL"
      },
      "source": [
        "# Ваш код здесь"
      ],
      "execution_count": 119,
      "outputs": []
    }
  ]
}