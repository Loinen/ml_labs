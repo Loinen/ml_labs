{
  "nbformat": 4,
  "nbformat_minor": 0,
  "metadata": {
    "colab": {
      "name": "stroke_prediction.ipynb",
      "provenance": [],
      "authorship_tag": "ABX9TyMwgTPEtwEhpJPaTQbWFZ/5",
      "include_colab_link": true
    },
    "kernelspec": {
      "name": "python3",
      "display_name": "Python 3"
    },
    "language_info": {
      "name": "python"
    },
    "accelerator": "TPU"
  },
  "cells": [
    {
      "cell_type": "markdown",
      "metadata": {
        "id": "view-in-github",
        "colab_type": "text"
      },
      "source": [
        "<a href=\"https://colab.research.google.com/github/Loinen/ml_labs/blob/main/ml_stroke_prediction.ipynb\" target=\"_parent\"><img src=\"https://colab.research.google.com/assets/colab-badge.svg\" alt=\"Open In Colab\"/></a>"
      ]
    },
    {
      "cell_type": "markdown",
      "metadata": {
        "id": "OYsMHtyE-SY4"
      },
      "source": [
        "# ПОСТРОЕНИЕ ПРЕДСКАЗАТЕЛЬНОЙ МОДЕЛИ ВОЗНИКНОВЕНИЯ ИНСУЛЬТА"
      ]
    },
    {
      "cell_type": "markdown",
      "metadata": {
        "id": "4uDaYQuO-SY8"
      },
      "source": [
        "В данной работе будет построена предсказательная модель возникновения инсульта на основе данных о [пациентах](https://www.kaggle.com/fedesoriano/stroke-prediction-dataset) c kaggle."
      ]
    },
    {
      "cell_type": "markdown",
      "metadata": {
        "id": "kgI_NOXe-SY9"
      },
      "source": [
        "# 1. Загрузка данных и библиотек"
      ]
    },
    {
      "cell_type": "code",
      "metadata": {
        "id": "UGjOXIIc-SZA",
        "colab": {
          "base_uri": "https://localhost:8080/"
        },
        "outputId": "1aca39f6-21ce-41f6-dfc7-ae592732775d"
      },
      "source": [
        "import numpy as np\n",
        "import matplotlib.pyplot as plt\n",
        "import pandas as pd\n",
        "import seaborn as sns\n",
        "import warnings\n",
        "\n",
        "from sklearn.preprocessing import PolynomialFeatures, StandardScaler, MinMaxScaler\n",
        "from sklearn.linear_model import LogisticRegression\n",
        "from sklearn.svm import SVC, LinearSVC\n",
        "from sklearn.neighbors import KNeighborsClassifier\n",
        "from sklearn.naive_bayes import MultinomialNB\n",
        "from sklearn.tree import DecisionTreeClassifier\n",
        "from sklearn.ensemble import RandomForestClassifier, AdaBoostClassifier, GradientBoostingClassifier, ExtraTreesClassifier, BaggingClassifier\n",
        "from sklearn.pipeline import Pipeline\n",
        "from sklearn.model_selection import train_test_split, GridSearchCV, StratifiedKFold, StratifiedShuffleSplit\n",
        "from sklearn import model_selection\n",
        "from sklearn.metrics import classification_report, plot_confusion_matrix\n",
        "from sklearn.feature_selection import SelectFromModel\n",
        "\n",
        "import plotly.graph_objs as go\n",
        "\n",
        "%matplotlib inline\n",
        "\n",
        "dataset = pd.read_csv(\"stroke_data.csv\")\n",
        "print(dataset.shape)"
      ],
      "execution_count": 337,
      "outputs": [
        {
          "output_type": "stream",
          "text": [
            "(5110, 12)\n"
          ],
          "name": "stdout"
        }
      ]
    },
    {
      "cell_type": "markdown",
      "metadata": {
        "id": "RzESnbVq-SZB"
      },
      "source": [
        "# 2. Анализ датасета\n",
        "\n",
        "1.   id: уникальный идентификатор\n",
        "2.   gender: Male, Female, Other\n",
        "3.   age: возраст пациента\n",
        "4.   hypertension: 0, если у пациента нет артериальной гипертензии, 1, если есть\n",
        "5.   heart_disease: 0, если у пациента нет сердечных заболеваний, 1, если есть\n",
        "6.   ever_married: No или Yes\n",
        "7.   work_type: children, Govt_jov, Never_worked, Private или Self-employed - тип занятости\n",
        "8.   Residence_type: Rural - Сельский или Urban - Городской\n",
        "9.   avg_gluosis_level: средний уровень глюкозы в крови\n",
        "10.  bmi: индекс массы тела\n",
        "11.  smoking_status: статус курения - formerly smoked - «ранее курил», never smoked, smokes или Unknown\n",
        "12.  stroke: 1, если у пациента был инсульт, или 0, если нет.\n"
      ]
    },
    {
      "cell_type": "code",
      "metadata": {
        "id": "3hUZZ5Wi25qg",
        "outputId": "af865dc3-42c0-417b-9f22-fc4935f4aaf1",
        "colab": {
          "base_uri": "https://localhost:8080/",
          "height": 261
        }
      },
      "source": [
        "dataset.head(5)"
      ],
      "execution_count": 338,
      "outputs": [
        {
          "output_type": "execute_result",
          "data": {
            "text/html": [
              "<div>\n",
              "<style scoped>\n",
              "    .dataframe tbody tr th:only-of-type {\n",
              "        vertical-align: middle;\n",
              "    }\n",
              "\n",
              "    .dataframe tbody tr th {\n",
              "        vertical-align: top;\n",
              "    }\n",
              "\n",
              "    .dataframe thead th {\n",
              "        text-align: right;\n",
              "    }\n",
              "</style>\n",
              "<table border=\"1\" class=\"dataframe\">\n",
              "  <thead>\n",
              "    <tr style=\"text-align: right;\">\n",
              "      <th></th>\n",
              "      <th>id</th>\n",
              "      <th>gender</th>\n",
              "      <th>age</th>\n",
              "      <th>hypertension</th>\n",
              "      <th>heart_disease</th>\n",
              "      <th>ever_married</th>\n",
              "      <th>work_type</th>\n",
              "      <th>Residence_type</th>\n",
              "      <th>avg_glucose_level</th>\n",
              "      <th>bmi</th>\n",
              "      <th>smoking_status</th>\n",
              "      <th>stroke</th>\n",
              "    </tr>\n",
              "  </thead>\n",
              "  <tbody>\n",
              "    <tr>\n",
              "      <th>0</th>\n",
              "      <td>9046</td>\n",
              "      <td>Male</td>\n",
              "      <td>67.0</td>\n",
              "      <td>0</td>\n",
              "      <td>1</td>\n",
              "      <td>Yes</td>\n",
              "      <td>Private</td>\n",
              "      <td>Urban</td>\n",
              "      <td>228.69</td>\n",
              "      <td>36.6</td>\n",
              "      <td>formerly smoked</td>\n",
              "      <td>1</td>\n",
              "    </tr>\n",
              "    <tr>\n",
              "      <th>1</th>\n",
              "      <td>51676</td>\n",
              "      <td>Female</td>\n",
              "      <td>61.0</td>\n",
              "      <td>0</td>\n",
              "      <td>0</td>\n",
              "      <td>Yes</td>\n",
              "      <td>Self-employed</td>\n",
              "      <td>Rural</td>\n",
              "      <td>202.21</td>\n",
              "      <td>NaN</td>\n",
              "      <td>never smoked</td>\n",
              "      <td>1</td>\n",
              "    </tr>\n",
              "    <tr>\n",
              "      <th>2</th>\n",
              "      <td>31112</td>\n",
              "      <td>Male</td>\n",
              "      <td>80.0</td>\n",
              "      <td>0</td>\n",
              "      <td>1</td>\n",
              "      <td>Yes</td>\n",
              "      <td>Private</td>\n",
              "      <td>Rural</td>\n",
              "      <td>105.92</td>\n",
              "      <td>32.5</td>\n",
              "      <td>never smoked</td>\n",
              "      <td>1</td>\n",
              "    </tr>\n",
              "    <tr>\n",
              "      <th>3</th>\n",
              "      <td>60182</td>\n",
              "      <td>Female</td>\n",
              "      <td>49.0</td>\n",
              "      <td>0</td>\n",
              "      <td>0</td>\n",
              "      <td>Yes</td>\n",
              "      <td>Private</td>\n",
              "      <td>Urban</td>\n",
              "      <td>171.23</td>\n",
              "      <td>34.4</td>\n",
              "      <td>smokes</td>\n",
              "      <td>1</td>\n",
              "    </tr>\n",
              "    <tr>\n",
              "      <th>4</th>\n",
              "      <td>1665</td>\n",
              "      <td>Female</td>\n",
              "      <td>79.0</td>\n",
              "      <td>1</td>\n",
              "      <td>0</td>\n",
              "      <td>Yes</td>\n",
              "      <td>Self-employed</td>\n",
              "      <td>Rural</td>\n",
              "      <td>174.12</td>\n",
              "      <td>24.0</td>\n",
              "      <td>never smoked</td>\n",
              "      <td>1</td>\n",
              "    </tr>\n",
              "  </tbody>\n",
              "</table>\n",
              "</div>"
            ],
            "text/plain": [
              "      id  gender   age  ...   bmi   smoking_status stroke\n",
              "0   9046    Male  67.0  ...  36.6  formerly smoked      1\n",
              "1  51676  Female  61.0  ...   NaN     never smoked      1\n",
              "2  31112    Male  80.0  ...  32.5     never smoked      1\n",
              "3  60182  Female  49.0  ...  34.4           smokes      1\n",
              "4   1665  Female  79.0  ...  24.0     never smoked      1\n",
              "\n",
              "[5 rows x 12 columns]"
            ]
          },
          "metadata": {
            "tags": []
          },
          "execution_count": 338
        }
      ]
    },
    {
      "cell_type": "code",
      "metadata": {
        "colab": {
          "base_uri": "https://localhost:8080/"
        },
        "id": "PuYrgvkN0_st",
        "outputId": "9b3bf891-b1b5-49ad-8346-3be8da8ebf80"
      },
      "source": [
        "dataset.info()"
      ],
      "execution_count": 339,
      "outputs": [
        {
          "output_type": "stream",
          "text": [
            "<class 'pandas.core.frame.DataFrame'>\n",
            "RangeIndex: 5110 entries, 0 to 5109\n",
            "Data columns (total 12 columns):\n",
            " #   Column             Non-Null Count  Dtype  \n",
            "---  ------             --------------  -----  \n",
            " 0   id                 5110 non-null   int64  \n",
            " 1   gender             5110 non-null   object \n",
            " 2   age                5110 non-null   float64\n",
            " 3   hypertension       5110 non-null   int64  \n",
            " 4   heart_disease      5110 non-null   int64  \n",
            " 5   ever_married       5110 non-null   object \n",
            " 6   work_type          5110 non-null   object \n",
            " 7   Residence_type     5110 non-null   object \n",
            " 8   avg_glucose_level  5110 non-null   float64\n",
            " 9   bmi                4909 non-null   float64\n",
            " 10  smoking_status     5110 non-null   object \n",
            " 11  stroke             5110 non-null   int64  \n",
            "dtypes: float64(3), int64(4), object(5)\n",
            "memory usage: 479.2+ KB\n"
          ],
          "name": "stdout"
        }
      ]
    },
    {
      "cell_type": "code",
      "metadata": {
        "colab": {
          "base_uri": "https://localhost:8080/",
          "height": 300
        },
        "id": "Ydq7HzFjzZwr",
        "outputId": "6aa629c0-2a47-4d48-8914-e75cbda9a73a"
      },
      "source": [
        "dataset.drop(columns=['id'], axis = 1, inplace = True)\n",
        "dataset.describe()"
      ],
      "execution_count": 340,
      "outputs": [
        {
          "output_type": "execute_result",
          "data": {
            "text/html": [
              "<div>\n",
              "<style scoped>\n",
              "    .dataframe tbody tr th:only-of-type {\n",
              "        vertical-align: middle;\n",
              "    }\n",
              "\n",
              "    .dataframe tbody tr th {\n",
              "        vertical-align: top;\n",
              "    }\n",
              "\n",
              "    .dataframe thead th {\n",
              "        text-align: right;\n",
              "    }\n",
              "</style>\n",
              "<table border=\"1\" class=\"dataframe\">\n",
              "  <thead>\n",
              "    <tr style=\"text-align: right;\">\n",
              "      <th></th>\n",
              "      <th>age</th>\n",
              "      <th>hypertension</th>\n",
              "      <th>heart_disease</th>\n",
              "      <th>avg_glucose_level</th>\n",
              "      <th>bmi</th>\n",
              "      <th>stroke</th>\n",
              "    </tr>\n",
              "  </thead>\n",
              "  <tbody>\n",
              "    <tr>\n",
              "      <th>count</th>\n",
              "      <td>5110.000000</td>\n",
              "      <td>5110.000000</td>\n",
              "      <td>5110.000000</td>\n",
              "      <td>5110.000000</td>\n",
              "      <td>4909.000000</td>\n",
              "      <td>5110.000000</td>\n",
              "    </tr>\n",
              "    <tr>\n",
              "      <th>mean</th>\n",
              "      <td>43.226614</td>\n",
              "      <td>0.097456</td>\n",
              "      <td>0.054012</td>\n",
              "      <td>106.147677</td>\n",
              "      <td>28.893237</td>\n",
              "      <td>0.048728</td>\n",
              "    </tr>\n",
              "    <tr>\n",
              "      <th>std</th>\n",
              "      <td>22.612647</td>\n",
              "      <td>0.296607</td>\n",
              "      <td>0.226063</td>\n",
              "      <td>45.283560</td>\n",
              "      <td>7.854067</td>\n",
              "      <td>0.215320</td>\n",
              "    </tr>\n",
              "    <tr>\n",
              "      <th>min</th>\n",
              "      <td>0.080000</td>\n",
              "      <td>0.000000</td>\n",
              "      <td>0.000000</td>\n",
              "      <td>55.120000</td>\n",
              "      <td>10.300000</td>\n",
              "      <td>0.000000</td>\n",
              "    </tr>\n",
              "    <tr>\n",
              "      <th>25%</th>\n",
              "      <td>25.000000</td>\n",
              "      <td>0.000000</td>\n",
              "      <td>0.000000</td>\n",
              "      <td>77.245000</td>\n",
              "      <td>23.500000</td>\n",
              "      <td>0.000000</td>\n",
              "    </tr>\n",
              "    <tr>\n",
              "      <th>50%</th>\n",
              "      <td>45.000000</td>\n",
              "      <td>0.000000</td>\n",
              "      <td>0.000000</td>\n",
              "      <td>91.885000</td>\n",
              "      <td>28.100000</td>\n",
              "      <td>0.000000</td>\n",
              "    </tr>\n",
              "    <tr>\n",
              "      <th>75%</th>\n",
              "      <td>61.000000</td>\n",
              "      <td>0.000000</td>\n",
              "      <td>0.000000</td>\n",
              "      <td>114.090000</td>\n",
              "      <td>33.100000</td>\n",
              "      <td>0.000000</td>\n",
              "    </tr>\n",
              "    <tr>\n",
              "      <th>max</th>\n",
              "      <td>82.000000</td>\n",
              "      <td>1.000000</td>\n",
              "      <td>1.000000</td>\n",
              "      <td>271.740000</td>\n",
              "      <td>97.600000</td>\n",
              "      <td>1.000000</td>\n",
              "    </tr>\n",
              "  </tbody>\n",
              "</table>\n",
              "</div>"
            ],
            "text/plain": [
              "               age  hypertension  ...          bmi       stroke\n",
              "count  5110.000000   5110.000000  ...  4909.000000  5110.000000\n",
              "mean     43.226614      0.097456  ...    28.893237     0.048728\n",
              "std      22.612647      0.296607  ...     7.854067     0.215320\n",
              "min       0.080000      0.000000  ...    10.300000     0.000000\n",
              "25%      25.000000      0.000000  ...    23.500000     0.000000\n",
              "50%      45.000000      0.000000  ...    28.100000     0.000000\n",
              "75%      61.000000      0.000000  ...    33.100000     0.000000\n",
              "max      82.000000      1.000000  ...    97.600000     1.000000\n",
              "\n",
              "[8 rows x 6 columns]"
            ]
          },
          "metadata": {
            "tags": []
          },
          "execution_count": 340
        }
      ]
    },
    {
      "cell_type": "code",
      "metadata": {
        "colab": {
          "base_uri": "https://localhost:8080/"
        },
        "id": "-WzoUkgW3pIf",
        "outputId": "52d25f65-5085-4c0c-a0a7-d309ced43d1f"
      },
      "source": [
        "print(dataset.value_counts(\"gender\")) # f - 2994, m - 2115, other - 1\n",
        "print(\"\\n\", dataset.value_counts(\"hypertension\")) # 0 - 4612, 1 - 498\n",
        "print(\"\\n\",dataset.value_counts(\"heart_disease\")) # 0 - 4834, 1 - 276\n",
        "print(\"\\n\",dataset.value_counts(\"ever_married\")) # y - 3353, n - 1757\n",
        "print(\"\\n\",dataset.value_counts(\"work_type\")) # Private - 2925, Self-employed - 819, children - 687, Govt_job - 657, Never_worked - 22\n",
        "print(\"\\n\",dataset.value_counts(\"Residence_type\")) #Urban - 2596, Rural - 2514\n",
        "print(\"\\n\",dataset.value_counts(\"smoking_status\")) # never smoked - 1892, Unknown - 1544, formerly smoked - 885, smokes - 789\n",
        "print(\"\\n\",dataset.value_counts(\"stroke\")) # 0 - 4861, 1 - 249"
      ],
      "execution_count": 341,
      "outputs": [
        {
          "output_type": "stream",
          "text": [
            "gender\n",
            "Female    2994\n",
            "Male      2115\n",
            "Other        1\n",
            "dtype: int64\n",
            "\n",
            " hypertension\n",
            "0    4612\n",
            "1     498\n",
            "dtype: int64\n",
            "\n",
            " heart_disease\n",
            "0    4834\n",
            "1     276\n",
            "dtype: int64\n",
            "\n",
            " ever_married\n",
            "Yes    3353\n",
            "No     1757\n",
            "dtype: int64\n",
            "\n",
            " work_type\n",
            "Private          2925\n",
            "Self-employed     819\n",
            "children          687\n",
            "Govt_job          657\n",
            "Never_worked       22\n",
            "dtype: int64\n",
            "\n",
            " Residence_type\n",
            "Urban    2596\n",
            "Rural    2514\n",
            "dtype: int64\n",
            "\n",
            " smoking_status\n",
            "never smoked       1892\n",
            "Unknown            1544\n",
            "formerly smoked     885\n",
            "smokes              789\n",
            "dtype: int64\n",
            "\n",
            " stroke\n",
            "0    4861\n",
            "1     249\n",
            "dtype: int64\n"
          ],
          "name": "stdout"
        }
      ]
    },
    {
      "cell_type": "code",
      "metadata": {
        "colab": {
          "base_uri": "https://localhost:8080/"
        },
        "id": "yBYxIP-JjgvI",
        "outputId": "a178a137-cd9f-42a2-aee3-38141e50d44d"
      },
      "source": [
        "child = dataset.loc[dataset['age'] <= 14]\n",
        "#print(child.value_counts(\"work_type\")) \n",
        "st = child.loc[dataset['stroke'] == 1]\n",
        "print(st.age) \n",
        "# у нас есть достаточно много строк, где возраст явно с ошибками, но судя по worktype большинство из них дети\n",
        "print(\"диабетики:\", len(dataset.avg_glucose_level.loc[dataset['avg_glucose_level'] >= 125]))\n",
        "# avg gl - 70 mg/dl - 100 mg/dl  - normal, до 70 - hypoglycemia, от 100 до 125 - prediabetic, до 300 - diabetic\n",
        "print(\"гипокликемия:\", len(dataset.avg_glucose_level.loc[dataset['avg_glucose_level'] <= 70]))\n",
        "\n",
        "print(dataset['bmi'].loc[dataset['bmi'] >= 60]) \n",
        "\n",
        "# bmi - under_weight до 18.5, normal <25, overweight, <30, obese 40\n",
        "# у нас есть 13 человек с bmi больше 60 - это может быть вес от 135кг (если 150 см = 60 имт) до 200кг (181кг\\150см = 78 имт)\n",
        "print(dataset.loc[dataset['bmi'] <= 16].value_counts(\"stroke\")) \n",
        "# Низкие значения имт - в основном у детей, для них норма ниже"
      ],
      "execution_count": 342,
      "outputs": [
        {
          "output_type": "stream",
          "text": [
            "162     1.32\n",
            "245    14.00\n",
            "Name: age, dtype: float64\n",
            "диабетики: 1000\n",
            "гипокликемия: 756\n",
            "270     60.9\n",
            "358     64.8\n",
            "466     60.2\n",
            "544     71.9\n",
            "928     78.0\n",
            "1559    66.8\n",
            "2128    97.6\n",
            "2764    63.3\n",
            "2840    61.2\n",
            "3825    61.6\n",
            "4188    64.4\n",
            "4209    92.0\n",
            "4838    60.9\n",
            "Name: bmi, dtype: float64\n",
            "stroke\n",
            "0    92\n",
            "dtype: int64\n"
          ],
          "name": "stdout"
        }
      ]
    },
    {
      "cell_type": "code",
      "metadata": {
        "colab": {
          "base_uri": "https://localhost:8080/",
          "height": 306
        },
        "id": "2-mBFCtvvRHJ",
        "outputId": "1531052c-1775-4b37-841a-a6775afffc62"
      },
      "source": [
        "stroke = dataset[dataset.stroke == 1]\n",
        "no_stroke = dataset[dataset.stroke == 0]\n",
        "print(\"stroke\", stroke.shape, \"no_stroke\", no_stroke.shape)\n",
        "\n",
        "plt.rcParams.update({'font.size': 12})\n",
        "fig, axs = plt.subplots(ncols=3, figsize=(16, 4))\n",
        "\n",
        "stroke[\"age\"].plot.hist(alpha=0.5,color='red',bins=50, ax=axs[0])\n",
        "no_stroke[\"age\"].plot.hist(alpha=0.5,color='blue',bins=50, ax=axs[0])\n",
        "axs[0].legend(['age\\n stroke','no_stroke'])\n",
        "\n",
        "stroke[\"avg_glucose_level\"].plot.hist(alpha=0.5,color='red',bins=50, ax=axs[1])\n",
        "no_stroke[\"avg_glucose_level\"].plot.hist(alpha=0.5,color='blue',bins=50, ax=axs[1])\n",
        "axs[1].legend(['glucose\\n stroke','no_stroke'])\n",
        "\n",
        "stroke[\"bmi\"].plot.hist(alpha=0.5,color='red',bins=50, ax=axs[2])\n",
        "no_stroke[\"bmi\"].plot.hist(alpha=0.5,color='blue',bins=50, ax=axs[2])\n",
        "axs[2].legend(['bmi\\n stroke','no_stroke'])"
      ],
      "execution_count": 343,
      "outputs": [
        {
          "output_type": "stream",
          "text": [
            "stroke (249, 11) no_stroke (4861, 11)\n"
          ],
          "name": "stdout"
        },
        {
          "output_type": "execute_result",
          "data": {
            "text/plain": [
              "<matplotlib.legend.Legend at 0x7f7ed7775b90>"
            ]
          },
          "metadata": {
            "tags": []
          },
          "execution_count": 343
        },
        {
          "output_type": "display_data",
          "data": {
            "image/png": "[encoded data removed]",
            "text/plain": [
              "<Figure size 1152x288 with 3 Axes>"
            ]
          },
          "metadata": {
            "tags": [],
            "needs_background": "light"
          }
        }
      ]
    },
    {
      "cell_type": "code",
      "metadata": {
        "colab": {
          "base_uri": "https://localhost:8080/",
          "height": 572
        },
        "id": "rDVnO27ZdWnA",
        "outputId": "7b0b7705-69a9-46a6-dc19-2ad44f333987"
      },
      "source": [
        "plt.rcParams.update({'font.size': 12})\n",
        "fig, axs = plt.subplots(ncols=4, figsize=(18, 4))\n",
        "sns.countplot(x=\"stroke\",data=dataset,hue='gender', ax=axs[0])\n",
        "sns.countplot(x=\"stroke\",data=dataset,hue='hypertension', ax=axs[1])\n",
        "sns.countplot(x=\"stroke\",data=dataset,hue='heart_disease', ax=axs[2])\n",
        "sns.countplot(x=\"stroke\",data=dataset,hue='ever_married', ax=axs[3])\n",
        "fig, axs = plt.subplots(ncols=3, figsize=(18, 4))\n",
        "sns.countplot(x=\"stroke\",data=dataset,hue='work_type', ax=axs[0])\n",
        "sns.countplot(x=\"stroke\",data=dataset,hue='Residence_type', ax=axs[1])\n",
        "sns.countplot(x=\"stroke\",data=dataset,hue='smoking_status', ax=axs[2])"
      ],
      "execution_count": 344,
      "outputs": [
        {
          "output_type": "execute_result",
          "data": {
            "text/plain": [
              "<matplotlib.axes._subplots.AxesSubplot at 0x7f7ed73bc050>"
            ]
          },
          "metadata": {
            "tags": []
          },
          "execution_count": 344
        },
        {
          "output_type": "display_data",
          "data": {
            "image/png": "[encoded data removed]",
            "text/plain": [
              "<Figure size 1296x288 with 4 Axes>"
            ]
          },
          "metadata": {
            "tags": [],
            "needs_background": "light"
          }
        },
        {
          "output_type": "display_data",
          "data": {
            "image/png": "[encoded data removed]",
            "text/plain": [
              "<Figure size 1296x288 with 3 Axes>"
            ]
          },
          "metadata": {
            "tags": [],
            "needs_background": "light"
          }
        }
      ]
    },
    {
      "cell_type": "code",
      "metadata": {
        "colab": {
          "base_uri": "https://localhost:8080/",
          "height": 174
        },
        "id": "oDFCccmK6w5M",
        "outputId": "ca1f9315-cb28-475c-ccfe-391a47d8f35d"
      },
      "source": [
        "plt.subplot(2,1,2)\n",
        "sns.scatterplot(x=stroke['age'],y=stroke['avg_glucose_level'],hue=stroke['stroke'])\n",
        "plt.tight_layout()\n",
        "plt.show()"
      ],
      "execution_count": 345,
      "outputs": [
        {
          "output_type": "display_data",
          "data": {
            "image/png": "[encoded data removed]",
            "text/plain": [
              "<Figure size 432x288 with 1 Axes>"
            ]
          },
          "metadata": {
            "tags": [],
            "needs_background": "light"
          }
        }
      ]
    },
    {
      "cell_type": "code",
      "metadata": {
        "colab": {
          "base_uri": "https://localhost:8080/",
          "height": 237
        },
        "id": "_vhoWcYhtzZu",
        "outputId": "01b73a2a-c229-4552-bf56-d2f1944bfad0"
      },
      "source": [
        "dataset.corr()"
      ],
      "execution_count": 346,
      "outputs": [
        {
          "output_type": "execute_result",
          "data": {
            "text/html": [
              "<div>\n",
              "<style scoped>\n",
              "    .dataframe tbody tr th:only-of-type {\n",
              "        vertical-align: middle;\n",
              "    }\n",
              "\n",
              "    .dataframe tbody tr th {\n",
              "        vertical-align: top;\n",
              "    }\n",
              "\n",
              "    .dataframe thead th {\n",
              "        text-align: right;\n",
              "    }\n",
              "</style>\n",
              "<table border=\"1\" class=\"dataframe\">\n",
              "  <thead>\n",
              "    <tr style=\"text-align: right;\">\n",
              "      <th></th>\n",
              "      <th>age</th>\n",
              "      <th>hypertension</th>\n",
              "      <th>heart_disease</th>\n",
              "      <th>avg_glucose_level</th>\n",
              "      <th>bmi</th>\n",
              "      <th>stroke</th>\n",
              "    </tr>\n",
              "  </thead>\n",
              "  <tbody>\n",
              "    <tr>\n",
              "      <th>age</th>\n",
              "      <td>1.000000</td>\n",
              "      <td>0.276398</td>\n",
              "      <td>0.263796</td>\n",
              "      <td>0.238171</td>\n",
              "      <td>0.333398</td>\n",
              "      <td>0.245257</td>\n",
              "    </tr>\n",
              "    <tr>\n",
              "      <th>hypertension</th>\n",
              "      <td>0.276398</td>\n",
              "      <td>1.000000</td>\n",
              "      <td>0.108306</td>\n",
              "      <td>0.174474</td>\n",
              "      <td>0.167811</td>\n",
              "      <td>0.127904</td>\n",
              "    </tr>\n",
              "    <tr>\n",
              "      <th>heart_disease</th>\n",
              "      <td>0.263796</td>\n",
              "      <td>0.108306</td>\n",
              "      <td>1.000000</td>\n",
              "      <td>0.161857</td>\n",
              "      <td>0.041357</td>\n",
              "      <td>0.134914</td>\n",
              "    </tr>\n",
              "    <tr>\n",
              "      <th>avg_glucose_level</th>\n",
              "      <td>0.238171</td>\n",
              "      <td>0.174474</td>\n",
              "      <td>0.161857</td>\n",
              "      <td>1.000000</td>\n",
              "      <td>0.175502</td>\n",
              "      <td>0.131945</td>\n",
              "    </tr>\n",
              "    <tr>\n",
              "      <th>bmi</th>\n",
              "      <td>0.333398</td>\n",
              "      <td>0.167811</td>\n",
              "      <td>0.041357</td>\n",
              "      <td>0.175502</td>\n",
              "      <td>1.000000</td>\n",
              "      <td>0.042374</td>\n",
              "    </tr>\n",
              "    <tr>\n",
              "      <th>stroke</th>\n",
              "      <td>0.245257</td>\n",
              "      <td>0.127904</td>\n",
              "      <td>0.134914</td>\n",
              "      <td>0.131945</td>\n",
              "      <td>0.042374</td>\n",
              "      <td>1.000000</td>\n",
              "    </tr>\n",
              "  </tbody>\n",
              "</table>\n",
              "</div>"
            ],
            "text/plain": [
              "                        age  hypertension  ...       bmi    stroke\n",
              "age                1.000000      0.276398  ...  0.333398  0.245257\n",
              "hypertension       0.276398      1.000000  ...  0.167811  0.127904\n",
              "heart_disease      0.263796      0.108306  ...  0.041357  0.134914\n",
              "avg_glucose_level  0.238171      0.174474  ...  0.175502  0.131945\n",
              "bmi                0.333398      0.167811  ...  1.000000  0.042374\n",
              "stroke             0.245257      0.127904  ...  0.042374  1.000000\n",
              "\n",
              "[6 rows x 6 columns]"
            ]
          },
          "metadata": {
            "tags": []
          },
          "execution_count": 346
        }
      ]
    },
    {
      "cell_type": "markdown",
      "metadata": {
        "id": "hr0AU3ZmzPID"
      },
      "source": [
        "# 3. Предобработка данных\n",
        "Видно, что у нас есть пропуски в bmi, а также есть пациенты, у которых неизвестен статус курения. Необходимо обработать эти значения, а также преобразовать категориальные признаки - age, work_type.\n",
        "Бинарные признаки - hypertension, heart_disease, Residence_type, ever_married, gender (other всего один, можно его отбросить).\n",
        "Столбец id отбросим. \n",
        "Признаки age, work_type,  можно преобразовать, разделив возраст на категории и проведя бинаризацию, для  bmi необходимо заполнить пропуски"
      ]
    },
    {
      "cell_type": "code",
      "metadata": {
        "id": "ygn9Cotl-SZC",
        "colab": {
          "base_uri": "https://localhost:8080/",
          "height": 419
        },
        "outputId": "baa31ba9-d4fc-4d1f-c188-6854fce1b65a"
      },
      "source": [
        "# Удалим лишнего пациента с \"другим\" полом \n",
        "print(dataset.shape)\n",
        "dataset = dataset.drop(np.where(dataset['gender'] == \"Other\")[0])\n",
        "print(dataset.value_counts(\"gender\"))\n",
        "print(dataset.shape)\n",
        "\n",
        "# Преобразуем возраст в категориальный признак. \n",
        "def process_age(df, cut_points, label_names):\n",
        "    df['age'] = df['age'].replace(np.NaN, -0.5) #fillna\n",
        "    df['Age_categories'] = pd.cut(df['age'], bins=cut_points, labels=label_names)\n",
        "    return df\n",
        "\n",
        "# Нас в основном интересуют пациенты с возрастом от 35-55 до 80. \n",
        "cut_points = [0, 18, 35, 55, 65, 100]\n",
        "label_names = [\"Infant\", \"Young\", \"Adult\", \"Aged\", \"Eldest\"]\n",
        "dataset = process_age(dataset, cut_points, label_names)\n",
        "\n",
        "sns.countplot(x=\"stroke\",data=dataset,hue='Age_categories')"
      ],
      "execution_count": 347,
      "outputs": [
        {
          "output_type": "stream",
          "text": [
            "(5110, 11)\n",
            "gender\n",
            "Female    2994\n",
            "Male      2115\n",
            "dtype: int64\n",
            "(5109, 11)\n"
          ],
          "name": "stdout"
        },
        {
          "output_type": "execute_result",
          "data": {
            "text/plain": [
              "<matplotlib.axes._subplots.AxesSubplot at 0x7f7ed7f3bbd0>"
            ]
          },
          "metadata": {
            "tags": []
          },
          "execution_count": 347
        },
        {
          "output_type": "display_data",
          "data": {
            "image/png": "[encoded data removed]",
            "text/plain": [
              "<Figure size 432x288 with 1 Axes>"
            ]
          },
          "metadata": {
            "tags": [],
            "needs_background": "light"
          }
        }
      ]
    },
    {
      "cell_type": "code",
      "metadata": {
        "id": "xB_gBS5wnGbY",
        "outputId": "191040eb-cf4b-40c6-bc7e-bbe3732884ab",
        "colab": {
          "base_uri": "https://localhost:8080/",
          "height": 309
        }
      },
      "source": [
        "age_cat_pivot = dataset.pivot_table(index=\"Age_categories\",values=\"stroke\")\n",
        "age_cat_pivot.plot.bar()\n",
        "plt.show()"
      ],
      "execution_count": 348,
      "outputs": [
        {
          "output_type": "display_data",
          "data": {
            "image/png": "[encoded data removed]",
            "text/plain": [
              "<Figure size 432x288 with 1 Axes>"
            ]
          },
          "metadata": {
            "tags": [],
            "needs_background": "light"
          }
        }
      ]
    },
    {
      "cell_type": "code",
      "metadata": {
        "id": "g59lM_RVkD2l"
      },
      "source": [
        "def create_dummies(df, column_name):\n",
        "    dum = pd.get_dummies(df[column_name], prefix=column_name)\n",
        "    df = pd.concat([df,dum],axis=1)\n",
        "    return df\n",
        "\n",
        "dataset = create_dummies(dataset, \"gender\")\n",
        "dataset = create_dummies(dataset, \"work_type\")\n",
        "dataset = create_dummies(dataset, \"Age_categories\")"
      ],
      "execution_count": 349,
      "outputs": []
    },
    {
      "cell_type": "code",
      "metadata": {
        "id": "OKveaGWRx57v"
      },
      "source": [
        "dataset = dataset.drop(columns=['gender', 'age', 'ever_married', \"work_type\", \"Age_categories\", \"Residence_type\", \"smoking_status\"], axis=1)"
      ],
      "execution_count": 350,
      "outputs": []
    },
    {
      "cell_type": "code",
      "metadata": {
        "colab": {
          "base_uri": "https://localhost:8080/"
        },
        "id": "8UyYGPsr2o-o",
        "outputId": "8d63a597-51b9-498c-e808-f9c6bdabcb05"
      },
      "source": [
        "miss_bmi = dataset[dataset.bmi.isna()]\n",
        "print(\"missing:\", len(miss_bmi))\n",
        "print(\"missing with stroke:\", len(miss_bmi[miss_bmi.stroke == 1]))\n",
        "print(\"В наборе данных у 40 из 249 пациентов с инсультом неизвестен ИМТ\")"
      ],
      "execution_count": 351,
      "outputs": [
        {
          "output_type": "stream",
          "text": [
            "missing: 201\n",
            "missing with stroke: 40\n",
            "В наборе данных у 40 из 249 пациентов с инсультом неизвестен ИМТ\n"
          ],
          "name": "stdout"
        }
      ]
    },
    {
      "cell_type": "code",
      "metadata": {
        "colab": {
          "base_uri": "https://localhost:8080/",
          "height": 620
        },
        "id": "QjDzE7eYuZLT",
        "outputId": "48ca8260-8f38-42fe-a607-af1eecc0f9ad"
      },
      "source": [
        "dataset.corr()"
      ],
      "execution_count": 352,
      "outputs": [
        {
          "output_type": "execute_result",
          "data": {
            "text/html": [
              "<div>\n",
              "<style scoped>\n",
              "    .dataframe tbody tr th:only-of-type {\n",
              "        vertical-align: middle;\n",
              "    }\n",
              "\n",
              "    .dataframe tbody tr th {\n",
              "        vertical-align: top;\n",
              "    }\n",
              "\n",
              "    .dataframe thead th {\n",
              "        text-align: right;\n",
              "    }\n",
              "</style>\n",
              "<table border=\"1\" class=\"dataframe\">\n",
              "  <thead>\n",
              "    <tr style=\"text-align: right;\">\n",
              "      <th></th>\n",
              "      <th>hypertension</th>\n",
              "      <th>heart_disease</th>\n",
              "      <th>avg_glucose_level</th>\n",
              "      <th>bmi</th>\n",
              "      <th>stroke</th>\n",
              "      <th>gender_Female</th>\n",
              "      <th>gender_Male</th>\n",
              "      <th>work_type_Govt_job</th>\n",
              "      <th>work_type_Never_worked</th>\n",
              "      <th>work_type_Private</th>\n",
              "      <th>work_type_Self-employed</th>\n",
              "      <th>work_type_children</th>\n",
              "      <th>Age_categories_Infant</th>\n",
              "      <th>Age_categories_Young</th>\n",
              "      <th>Age_categories_Adult</th>\n",
              "      <th>Age_categories_Aged</th>\n",
              "      <th>Age_categories_Eldest</th>\n",
              "    </tr>\n",
              "  </thead>\n",
              "  <tbody>\n",
              "    <tr>\n",
              "      <th>hypertension</th>\n",
              "      <td>1.000000</td>\n",
              "      <td>0.108292</td>\n",
              "      <td>0.174540</td>\n",
              "      <td>0.167770</td>\n",
              "      <td>0.127891</td>\n",
              "      <td>-0.021223</td>\n",
              "      <td>0.021223</td>\n",
              "      <td>0.017661</td>\n",
              "      <td>-0.021612</td>\n",
              "      <td>-0.005358</td>\n",
              "      <td>0.115417</td>\n",
              "      <td>-0.129535</td>\n",
              "      <td>-0.151884</td>\n",
              "      <td>-0.128488</td>\n",
              "      <td>-0.012534</td>\n",
              "      <td>0.082445</td>\n",
              "      <td>0.219069</td>\n",
              "    </tr>\n",
              "    <tr>\n",
              "      <th>heart_disease</th>\n",
              "      <td>0.108292</td>\n",
              "      <td>1.000000</td>\n",
              "      <td>0.161907</td>\n",
              "      <td>0.041322</td>\n",
              "      <td>0.134905</td>\n",
              "      <td>-0.085685</td>\n",
              "      <td>0.085685</td>\n",
              "      <td>0.001312</td>\n",
              "      <td>-0.015715</td>\n",
              "      <td>0.000068</td>\n",
              "      <td>0.086742</td>\n",
              "      <td>-0.091654</td>\n",
              "      <td>-0.109437</td>\n",
              "      <td>-0.112175</td>\n",
              "      <td>-0.077429</td>\n",
              "      <td>0.038351</td>\n",
              "      <td>0.276218</td>\n",
              "    </tr>\n",
              "    <tr>\n",
              "      <th>avg_glucose_level</th>\n",
              "      <td>0.174540</td>\n",
              "      <td>0.161907</td>\n",
              "      <td>1.000000</td>\n",
              "      <td>0.175672</td>\n",
              "      <td>0.131991</td>\n",
              "      <td>-0.054722</td>\n",
              "      <td>0.054722</td>\n",
              "      <td>0.013908</td>\n",
              "      <td>-0.014665</td>\n",
              "      <td>0.016451</td>\n",
              "      <td>0.062770</td>\n",
              "      <td>-0.102195</td>\n",
              "      <td>-0.117384</td>\n",
              "      <td>-0.136431</td>\n",
              "      <td>-0.020209</td>\n",
              "      <td>0.092376</td>\n",
              "      <td>0.193326</td>\n",
              "    </tr>\n",
              "    <tr>\n",
              "      <th>bmi</th>\n",
              "      <td>0.167770</td>\n",
              "      <td>0.041322</td>\n",
              "      <td>0.175672</td>\n",
              "      <td>1.000000</td>\n",
              "      <td>0.042341</td>\n",
              "      <td>0.026164</td>\n",
              "      <td>-0.026164</td>\n",
              "      <td>0.079526</td>\n",
              "      <td>-0.028615</td>\n",
              "      <td>0.208205</td>\n",
              "      <td>0.072634</td>\n",
              "      <td>-0.448779</td>\n",
              "      <td>-0.431770</td>\n",
              "      <td>0.015241</td>\n",
              "      <td>0.224344</td>\n",
              "      <td>0.131400</td>\n",
              "      <td>0.031260</td>\n",
              "    </tr>\n",
              "    <tr>\n",
              "      <th>stroke</th>\n",
              "      <td>0.127891</td>\n",
              "      <td>0.134905</td>\n",
              "      <td>0.131991</td>\n",
              "      <td>0.042341</td>\n",
              "      <td>1.000000</td>\n",
              "      <td>-0.009081</td>\n",
              "      <td>0.009081</td>\n",
              "      <td>0.002660</td>\n",
              "      <td>-0.014885</td>\n",
              "      <td>0.011927</td>\n",
              "      <td>0.062150</td>\n",
              "      <td>-0.083888</td>\n",
              "      <td>-0.101056</td>\n",
              "      <td>-0.108106</td>\n",
              "      <td>-0.075308</td>\n",
              "      <td>0.047698</td>\n",
              "      <td>0.253072</td>\n",
              "    </tr>\n",
              "    <tr>\n",
              "      <th>gender_Female</th>\n",
              "      <td>-0.021223</td>\n",
              "      <td>-0.085685</td>\n",
              "      <td>-0.054722</td>\n",
              "      <td>0.026164</td>\n",
              "      <td>-0.009081</td>\n",
              "      <td>1.000000</td>\n",
              "      <td>-1.000000</td>\n",
              "      <td>0.016598</td>\n",
              "      <td>-0.011486</td>\n",
              "      <td>0.032502</td>\n",
              "      <td>0.026045</td>\n",
              "      <td>-0.089226</td>\n",
              "      <td>-0.088884</td>\n",
              "      <td>0.073141</td>\n",
              "      <td>0.029733</td>\n",
              "      <td>-0.031078</td>\n",
              "      <td>0.006585</td>\n",
              "    </tr>\n",
              "    <tr>\n",
              "      <th>gender_Male</th>\n",
              "      <td>0.021223</td>\n",
              "      <td>0.085685</td>\n",
              "      <td>0.054722</td>\n",
              "      <td>-0.026164</td>\n",
              "      <td>0.009081</td>\n",
              "      <td>-1.000000</td>\n",
              "      <td>1.000000</td>\n",
              "      <td>-0.016598</td>\n",
              "      <td>0.011486</td>\n",
              "      <td>-0.032502</td>\n",
              "      <td>-0.026045</td>\n",
              "      <td>0.089226</td>\n",
              "      <td>0.088884</td>\n",
              "      <td>-0.073141</td>\n",
              "      <td>-0.029733</td>\n",
              "      <td>0.031078</td>\n",
              "      <td>-0.006585</td>\n",
              "    </tr>\n",
              "    <tr>\n",
              "      <th>work_type_Govt_job</th>\n",
              "      <td>0.017661</td>\n",
              "      <td>0.001312</td>\n",
              "      <td>0.013908</td>\n",
              "      <td>0.079526</td>\n",
              "      <td>0.002660</td>\n",
              "      <td>0.016598</td>\n",
              "      <td>-0.016598</td>\n",
              "      <td>1.000000</td>\n",
              "      <td>-0.025263</td>\n",
              "      <td>-0.444394</td>\n",
              "      <td>-0.167849</td>\n",
              "      <td>-0.151417</td>\n",
              "      <td>-0.165834</td>\n",
              "      <td>-0.038999</td>\n",
              "      <td>0.132087</td>\n",
              "      <td>0.055098</td>\n",
              "      <td>-0.001637</td>\n",
              "    </tr>\n",
              "    <tr>\n",
              "      <th>work_type_Never_worked</th>\n",
              "      <td>-0.021612</td>\n",
              "      <td>-0.015715</td>\n",
              "      <td>-0.014665</td>\n",
              "      <td>-0.028615</td>\n",
              "      <td>-0.014885</td>\n",
              "      <td>-0.011486</td>\n",
              "      <td>0.011486</td>\n",
              "      <td>-0.025263</td>\n",
              "      <td>1.000000</td>\n",
              "      <td>-0.076075</td>\n",
              "      <td>-0.028734</td>\n",
              "      <td>-0.025921</td>\n",
              "      <td>0.125115</td>\n",
              "      <td>-0.016907</td>\n",
              "      <td>-0.042697</td>\n",
              "      <td>-0.026872</td>\n",
              "      <td>-0.031735</td>\n",
              "    </tr>\n",
              "    <tr>\n",
              "      <th>work_type_Private</th>\n",
              "      <td>-0.005358</td>\n",
              "      <td>0.000068</td>\n",
              "      <td>0.016451</td>\n",
              "      <td>0.208205</td>\n",
              "      <td>0.011927</td>\n",
              "      <td>0.032502</td>\n",
              "      <td>-0.032502</td>\n",
              "      <td>-0.444394</td>\n",
              "      <td>-0.076075</td>\n",
              "      <td>1.000000</td>\n",
              "      <td>-0.505448</td>\n",
              "      <td>-0.455965</td>\n",
              "      <td>-0.349888</td>\n",
              "      <td>0.251991</td>\n",
              "      <td>0.110815</td>\n",
              "      <td>0.039129</td>\n",
              "      <td>-0.075091</td>\n",
              "    </tr>\n",
              "    <tr>\n",
              "      <th>work_type_Self-employed</th>\n",
              "      <td>0.115417</td>\n",
              "      <td>0.086742</td>\n",
              "      <td>0.062770</td>\n",
              "      <td>0.072634</td>\n",
              "      <td>0.062150</td>\n",
              "      <td>0.026045</td>\n",
              "      <td>-0.026045</td>\n",
              "      <td>-0.167849</td>\n",
              "      <td>-0.028734</td>\n",
              "      <td>-0.505448</td>\n",
              "      <td>1.000000</td>\n",
              "      <td>-0.172219</td>\n",
              "      <td>-0.183359</td>\n",
              "      <td>-0.122421</td>\n",
              "      <td>-0.024369</td>\n",
              "      <td>0.051523</td>\n",
              "      <td>0.285281</td>\n",
              "    </tr>\n",
              "    <tr>\n",
              "      <th>work_type_children</th>\n",
              "      <td>-0.129535</td>\n",
              "      <td>-0.091654</td>\n",
              "      <td>-0.102195</td>\n",
              "      <td>-0.448779</td>\n",
              "      <td>-0.083888</td>\n",
              "      <td>-0.089226</td>\n",
              "      <td>0.089226</td>\n",
              "      <td>-0.151417</td>\n",
              "      <td>-0.025921</td>\n",
              "      <td>-0.455965</td>\n",
              "      <td>-0.172219</td>\n",
              "      <td>1.000000</td>\n",
              "      <td>0.843303</td>\n",
              "      <td>-0.192268</td>\n",
              "      <td>-0.255909</td>\n",
              "      <td>-0.161061</td>\n",
              "      <td>-0.190205</td>\n",
              "    </tr>\n",
              "    <tr>\n",
              "      <th>Age_categories_Infant</th>\n",
              "      <td>-0.151884</td>\n",
              "      <td>-0.109437</td>\n",
              "      <td>-0.117384</td>\n",
              "      <td>-0.431770</td>\n",
              "      <td>-0.101056</td>\n",
              "      <td>-0.088884</td>\n",
              "      <td>0.088884</td>\n",
              "      <td>-0.165834</td>\n",
              "      <td>0.125115</td>\n",
              "      <td>-0.349888</td>\n",
              "      <td>-0.183359</td>\n",
              "      <td>0.843303</td>\n",
              "      <td>1.000000</td>\n",
              "      <td>-0.227994</td>\n",
              "      <td>-0.303461</td>\n",
              "      <td>-0.190988</td>\n",
              "      <td>-0.225548</td>\n",
              "    </tr>\n",
              "    <tr>\n",
              "      <th>Age_categories_Young</th>\n",
              "      <td>-0.128488</td>\n",
              "      <td>-0.112175</td>\n",
              "      <td>-0.136431</td>\n",
              "      <td>0.015241</td>\n",
              "      <td>-0.108106</td>\n",
              "      <td>0.073141</td>\n",
              "      <td>-0.073141</td>\n",
              "      <td>-0.038999</td>\n",
              "      <td>-0.016907</td>\n",
              "      <td>0.251991</td>\n",
              "      <td>-0.122421</td>\n",
              "      <td>-0.192268</td>\n",
              "      <td>-0.227994</td>\n",
              "      <td>1.000000</td>\n",
              "      <td>-0.316706</td>\n",
              "      <td>-0.199324</td>\n",
              "      <td>-0.235392</td>\n",
              "    </tr>\n",
              "    <tr>\n",
              "      <th>Age_categories_Adult</th>\n",
              "      <td>-0.012534</td>\n",
              "      <td>-0.077429</td>\n",
              "      <td>-0.020209</td>\n",
              "      <td>0.224344</td>\n",
              "      <td>-0.075308</td>\n",
              "      <td>0.029733</td>\n",
              "      <td>-0.029733</td>\n",
              "      <td>0.132087</td>\n",
              "      <td>-0.042697</td>\n",
              "      <td>0.110815</td>\n",
              "      <td>-0.024369</td>\n",
              "      <td>-0.255909</td>\n",
              "      <td>-0.303461</td>\n",
              "      <td>-0.316706</td>\n",
              "      <td>1.000000</td>\n",
              "      <td>-0.265301</td>\n",
              "      <td>-0.313308</td>\n",
              "    </tr>\n",
              "    <tr>\n",
              "      <th>Age_categories_Aged</th>\n",
              "      <td>0.082445</td>\n",
              "      <td>0.038351</td>\n",
              "      <td>0.092376</td>\n",
              "      <td>0.131400</td>\n",
              "      <td>0.047698</td>\n",
              "      <td>-0.031078</td>\n",
              "      <td>0.031078</td>\n",
              "      <td>0.055098</td>\n",
              "      <td>-0.026872</td>\n",
              "      <td>0.039129</td>\n",
              "      <td>0.051523</td>\n",
              "      <td>-0.161061</td>\n",
              "      <td>-0.190988</td>\n",
              "      <td>-0.199324</td>\n",
              "      <td>-0.265301</td>\n",
              "      <td>1.000000</td>\n",
              "      <td>-0.197185</td>\n",
              "    </tr>\n",
              "    <tr>\n",
              "      <th>Age_categories_Eldest</th>\n",
              "      <td>0.219069</td>\n",
              "      <td>0.276218</td>\n",
              "      <td>0.193326</td>\n",
              "      <td>0.031260</td>\n",
              "      <td>0.253072</td>\n",
              "      <td>0.006585</td>\n",
              "      <td>-0.006585</td>\n",
              "      <td>-0.001637</td>\n",
              "      <td>-0.031735</td>\n",
              "      <td>-0.075091</td>\n",
              "      <td>0.285281</td>\n",
              "      <td>-0.190205</td>\n",
              "      <td>-0.225548</td>\n",
              "      <td>-0.235392</td>\n",
              "      <td>-0.313308</td>\n",
              "      <td>-0.197185</td>\n",
              "      <td>1.000000</td>\n",
              "    </tr>\n",
              "  </tbody>\n",
              "</table>\n",
              "</div>"
            ],
            "text/plain": [
              "                         hypertension  ...  Age_categories_Eldest\n",
              "hypertension                 1.000000  ...               0.219069\n",
              "heart_disease                0.108292  ...               0.276218\n",
              "avg_glucose_level            0.174540  ...               0.193326\n",
              "bmi                          0.167770  ...               0.031260\n",
              "stroke                       0.127891  ...               0.253072\n",
              "gender_Female               -0.021223  ...               0.006585\n",
              "gender_Male                  0.021223  ...              -0.006585\n",
              "work_type_Govt_job           0.017661  ...              -0.001637\n",
              "work_type_Never_worked      -0.021612  ...              -0.031735\n",
              "work_type_Private           -0.005358  ...              -0.075091\n",
              "work_type_Self-employed      0.115417  ...               0.285281\n",
              "work_type_children          -0.129535  ...              -0.190205\n",
              "Age_categories_Infant       -0.151884  ...              -0.225548\n",
              "Age_categories_Young        -0.128488  ...              -0.235392\n",
              "Age_categories_Adult        -0.012534  ...              -0.313308\n",
              "Age_categories_Aged          0.082445  ...              -0.197185\n",
              "Age_categories_Eldest        0.219069  ...               1.000000\n",
              "\n",
              "[17 rows x 17 columns]"
            ]
          },
          "metadata": {
            "tags": []
          },
          "execution_count": 352
        }
      ]
    },
    {
      "cell_type": "code",
      "metadata": {
        "colab": {
          "base_uri": "https://localhost:8080/"
        },
        "id": "Hjd0VGxD47rn",
        "outputId": "d9fcb8b1-d41b-4e8c-a97f-4b7961c13fb9"
      },
      "source": [
        "# пробуем предсказать имт, вместо медианы\\среднего\n",
        "data = dataset.copy()\n",
        "data = data[~data.bmi.isna()]\n",
        "print(data.shape)\n",
        "y = data['bmi']\n",
        "\n",
        "data = data[[\"hypertension\", 'avg_glucose_level', 'work_type_children', \n",
        "             'Age_categories_Infant', 'Age_categories_Young', 'Age_categories_Adult', 'Age_categories_Aged', 'Age_categories_Eldest']]"
      ],
      "execution_count": 353,
      "outputs": [
        {
          "output_type": "stream",
          "text": [
            "(4908, 17)\n"
          ],
          "name": "stdout"
        }
      ]
    },
    {
      "cell_type": "code",
      "metadata": {
        "colab": {
          "base_uri": "https://localhost:8080/"
        },
        "id": "zoUfy_qpTgSu",
        "outputId": "800d3756-2194-43ed-a4da-e6c15951ddd3"
      },
      "source": [
        "from sklearn.ensemble import GradientBoostingRegressor\n",
        "\n",
        "x_train, x_test, y_train, y_test = train_test_split(data, y, train_size=0.8, random_state=42)\n",
        "print(x_train.shape, x_test.shape, y_train.shape, y_test.shape) \n",
        "\n",
        "model = Pipeline( steps=[ ('scale',StandardScaler()),\n",
        "                          ('lr',GradientBoostingRegressor(random_state=42))])\n",
        "model.fit(x_train, y_train)\n",
        "y_pred = model.predict(x_test)\n",
        "\n",
        "print('Предсказанные значения:\\n', np.around(list(y_pred[:50]), 1))\n",
        "print('Истинные значения:\\n', np.around(list(y_test[:50]), 1))"
      ],
      "execution_count": 354,
      "outputs": [
        {
          "output_type": "stream",
          "text": [
            "(3926, 8) (982, 8) (3926,) (982,)\n",
            "Предсказанные значения:\n",
            " [29.5 30.8 30.1 29.1 30.9 28.2 29.5 28.2 30.5 25.7 29.3 28.8 30.8 29.\n",
            " 30.2 39.9 28.7 29.3 30.9 30.9 30.9 30.9 35.3 30.9 30.5 30.6 30.4 26.3\n",
            " 27.6 29.2 33.6 29.1 33.8 29.1 19.7 29.9 29.9 30.9 31.9 30.8 30.7 32.7\n",
            " 19.7 29.8 19.7 29.3 20.3 29.8 29.  29. ]\n",
            "Истинные значения:\n",
            " [32.3 31.4 32.1 25.3 22.2 20.1 23.2 30.3 24.8 21.2 32.  24.4 26.4 16.9\n",
            " 30.5 35.1 23.6 35.3 32.4 22.7 23.1 24.1 38.9 39.1 17.3 33.7 37.7 22.6\n",
            " 36.4 29.2 28.4 28.4 24.6 46.5 18.4 35.5 27.9 21.5 24.1 44.  28.1 37.4\n",
            " 27.5 52.8 20.5 29.6 18.6 37.  41.3 43. ]\n"
          ],
          "name": "stdout"
        }
      ]
    },
    {
      "cell_type": "code",
      "metadata": {
        "colab": {
          "base_uri": "https://localhost:8080/"
        },
        "id": "xMvXndKOYQLa",
        "outputId": "8c1bb37a-ff1b-4ad9-8073-d0635f9163ab"
      },
      "source": [
        "from sklearn.metrics import r2_score\n",
        "\n",
        "train = pd.concat([x_train,y_train],axis=1)\n",
        "test = pd.concat([x_test,y_test],axis=1)\n",
        "y_pred = test.copy()\n",
        "\n",
        "bmi_mean = np.mean(train['bmi'])\n",
        "y_pred['bmi'] = bmi_mean\n",
        "print('Model score:', model.score(x_test, y_test))\n",
        "print('Mean score: ', r2_score(y_test, y_pred.bmi)) # Model score: 0.24322853880598097\n",
        "# видно, что модель дает хоть и не очень точные, но достаточно качественные значения, в отличие от усреднения"
      ],
      "execution_count": 355,
      "outputs": [
        {
          "output_type": "stream",
          "text": [
            "Model score: 0.24322853880598097\n",
            "Mean score:  -0.0011478514902276693\n"
          ],
          "name": "stdout"
        }
      ]
    },
    {
      "cell_type": "code",
      "metadata": {
        "id": "WDlLrxPAjBjl"
      },
      "source": [
        "# Теперь предскажем имт для NAN\n",
        "model = Pipeline( steps=[ ('scale',StandardScaler()),\n",
        "                          ('lr',GradientBoostingRegressor(random_state=42))])\n",
        "model.fit(data, y)\n",
        "\n",
        "X = miss_bmi[[\"hypertension\", 'avg_glucose_level', 'work_type_children', \n",
        "             'Age_categories_Infant', 'Age_categories_Young', 'Age_categories_Adult', 'Age_categories_Aged', 'Age_categories_Eldest']]\n",
        "y_pred = model.predict(X)\n",
        "dataset = dataset.copy()\n",
        "dataset.loc[miss_bmi.index,'bmi'] = pd.Series(y_pred,index=miss_bmi.index)"
      ],
      "execution_count": 356,
      "outputs": []
    },
    {
      "cell_type": "code",
      "metadata": {
        "id": "g3fxF6jBVFBy",
        "outputId": "9f9e7206-8d2e-4210-8928-7a06a30123d7",
        "colab": {
          "base_uri": "https://localhost:8080/",
          "height": 243
        }
      },
      "source": [
        "dataset.head(5)"
      ],
      "execution_count": 357,
      "outputs": [
        {
          "output_type": "execute_result",
          "data": {
            "text/html": [
              "<div>\n",
              "<style scoped>\n",
              "    .dataframe tbody tr th:only-of-type {\n",
              "        vertical-align: middle;\n",
              "    }\n",
              "\n",
              "    .dataframe tbody tr th {\n",
              "        vertical-align: top;\n",
              "    }\n",
              "\n",
              "    .dataframe thead th {\n",
              "        text-align: right;\n",
              "    }\n",
              "</style>\n",
              "<table border=\"1\" class=\"dataframe\">\n",
              "  <thead>\n",
              "    <tr style=\"text-align: right;\">\n",
              "      <th></th>\n",
              "      <th>hypertension</th>\n",
              "      <th>heart_disease</th>\n",
              "      <th>avg_glucose_level</th>\n",
              "      <th>bmi</th>\n",
              "      <th>stroke</th>\n",
              "      <th>gender_Female</th>\n",
              "      <th>gender_Male</th>\n",
              "      <th>work_type_Govt_job</th>\n",
              "      <th>work_type_Never_worked</th>\n",
              "      <th>work_type_Private</th>\n",
              "      <th>work_type_Self-employed</th>\n",
              "      <th>work_type_children</th>\n",
              "      <th>Age_categories_Infant</th>\n",
              "      <th>Age_categories_Young</th>\n",
              "      <th>Age_categories_Adult</th>\n",
              "      <th>Age_categories_Aged</th>\n",
              "      <th>Age_categories_Eldest</th>\n",
              "    </tr>\n",
              "  </thead>\n",
              "  <tbody>\n",
              "    <tr>\n",
              "      <th>0</th>\n",
              "      <td>0</td>\n",
              "      <td>1</td>\n",
              "      <td>228.69</td>\n",
              "      <td>36.600000</td>\n",
              "      <td>1</td>\n",
              "      <td>0</td>\n",
              "      <td>1</td>\n",
              "      <td>0</td>\n",
              "      <td>0</td>\n",
              "      <td>1</td>\n",
              "      <td>0</td>\n",
              "      <td>0</td>\n",
              "      <td>0</td>\n",
              "      <td>0</td>\n",
              "      <td>0</td>\n",
              "      <td>0</td>\n",
              "      <td>1</td>\n",
              "    </tr>\n",
              "    <tr>\n",
              "      <th>1</th>\n",
              "      <td>0</td>\n",
              "      <td>0</td>\n",
              "      <td>202.21</td>\n",
              "      <td>35.270048</td>\n",
              "      <td>1</td>\n",
              "      <td>1</td>\n",
              "      <td>0</td>\n",
              "      <td>0</td>\n",
              "      <td>0</td>\n",
              "      <td>0</td>\n",
              "      <td>1</td>\n",
              "      <td>0</td>\n",
              "      <td>0</td>\n",
              "      <td>0</td>\n",
              "      <td>0</td>\n",
              "      <td>1</td>\n",
              "      <td>0</td>\n",
              "    </tr>\n",
              "    <tr>\n",
              "      <th>2</th>\n",
              "      <td>0</td>\n",
              "      <td>1</td>\n",
              "      <td>105.92</td>\n",
              "      <td>32.500000</td>\n",
              "      <td>1</td>\n",
              "      <td>0</td>\n",
              "      <td>1</td>\n",
              "      <td>0</td>\n",
              "      <td>0</td>\n",
              "      <td>1</td>\n",
              "      <td>0</td>\n",
              "      <td>0</td>\n",
              "      <td>0</td>\n",
              "      <td>0</td>\n",
              "      <td>0</td>\n",
              "      <td>0</td>\n",
              "      <td>1</td>\n",
              "    </tr>\n",
              "    <tr>\n",
              "      <th>3</th>\n",
              "      <td>0</td>\n",
              "      <td>0</td>\n",
              "      <td>171.23</td>\n",
              "      <td>34.400000</td>\n",
              "      <td>1</td>\n",
              "      <td>1</td>\n",
              "      <td>0</td>\n",
              "      <td>0</td>\n",
              "      <td>0</td>\n",
              "      <td>1</td>\n",
              "      <td>0</td>\n",
              "      <td>0</td>\n",
              "      <td>0</td>\n",
              "      <td>0</td>\n",
              "      <td>1</td>\n",
              "      <td>0</td>\n",
              "      <td>0</td>\n",
              "    </tr>\n",
              "    <tr>\n",
              "      <th>4</th>\n",
              "      <td>1</td>\n",
              "      <td>0</td>\n",
              "      <td>174.12</td>\n",
              "      <td>24.000000</td>\n",
              "      <td>1</td>\n",
              "      <td>1</td>\n",
              "      <td>0</td>\n",
              "      <td>0</td>\n",
              "      <td>0</td>\n",
              "      <td>0</td>\n",
              "      <td>1</td>\n",
              "      <td>0</td>\n",
              "      <td>0</td>\n",
              "      <td>0</td>\n",
              "      <td>0</td>\n",
              "      <td>0</td>\n",
              "      <td>1</td>\n",
              "    </tr>\n",
              "  </tbody>\n",
              "</table>\n",
              "</div>"
            ],
            "text/plain": [
              "   hypertension  heart_disease  ...  Age_categories_Aged  Age_categories_Eldest\n",
              "0             0              1  ...                    0                      1\n",
              "1             0              0  ...                    1                      0\n",
              "2             0              1  ...                    0                      1\n",
              "3             0              0  ...                    0                      0\n",
              "4             1              0  ...                    0                      1\n",
              "\n",
              "[5 rows x 17 columns]"
            ]
          },
          "metadata": {
            "tags": []
          },
          "execution_count": 357
        }
      ]
    },
    {
      "cell_type": "code",
      "metadata": {
        "id": "w49PVLi_VKAA",
        "outputId": "d80bc741-9bd8-46d2-cfc5-9790a81c6ee7",
        "colab": {
          "base_uri": "https://localhost:8080/"
        }
      },
      "source": [
        "dataset.info()"
      ],
      "execution_count": 358,
      "outputs": [
        {
          "output_type": "stream",
          "text": [
            "<class 'pandas.core.frame.DataFrame'>\n",
            "Int64Index: 5109 entries, 0 to 5109\n",
            "Data columns (total 17 columns):\n",
            " #   Column                   Non-Null Count  Dtype  \n",
            "---  ------                   --------------  -----  \n",
            " 0   hypertension             5109 non-null   int64  \n",
            " 1   heart_disease            5109 non-null   int64  \n",
            " 2   avg_glucose_level        5109 non-null   float64\n",
            " 3   bmi                      5109 non-null   float64\n",
            " 4   stroke                   5109 non-null   int64  \n",
            " 5   gender_Female            5109 non-null   uint8  \n",
            " 6   gender_Male              5109 non-null   uint8  \n",
            " 7   work_type_Govt_job       5109 non-null   uint8  \n",
            " 8   work_type_Never_worked   5109 non-null   uint8  \n",
            " 9   work_type_Private        5109 non-null   uint8  \n",
            " 10  work_type_Self-employed  5109 non-null   uint8  \n",
            " 11  work_type_children       5109 non-null   uint8  \n",
            " 12  Age_categories_Infant    5109 non-null   uint8  \n",
            " 13  Age_categories_Young     5109 non-null   uint8  \n",
            " 14  Age_categories_Adult     5109 non-null   uint8  \n",
            " 15  Age_categories_Aged      5109 non-null   uint8  \n",
            " 16  Age_categories_Eldest    5109 non-null   uint8  \n",
            "dtypes: float64(2), int64(3), uint8(12)\n",
            "memory usage: 459.4 KB\n"
          ],
          "name": "stdout"
        }
      ]
    },
    {
      "cell_type": "code",
      "metadata": {
        "id": "RQZA2jxVVUWy",
        "outputId": "a12aeca0-b146-40c3-f0a3-e9ff82d241dc",
        "colab": {
          "base_uri": "https://localhost:8080/",
          "height": 338
        }
      },
      "source": [
        "dataset.describe()"
      ],
      "execution_count": 359,
      "outputs": [
        {
          "output_type": "execute_result",
          "data": {
            "text/html": [
              "<div>\n",
              "<style scoped>\n",
              "    .dataframe tbody tr th:only-of-type {\n",
              "        vertical-align: middle;\n",
              "    }\n",
              "\n",
              "    .dataframe tbody tr th {\n",
              "        vertical-align: top;\n",
              "    }\n",
              "\n",
              "    .dataframe thead th {\n",
              "        text-align: right;\n",
              "    }\n",
              "</style>\n",
              "<table border=\"1\" class=\"dataframe\">\n",
              "  <thead>\n",
              "    <tr style=\"text-align: right;\">\n",
              "      <th></th>\n",
              "      <th>hypertension</th>\n",
              "      <th>heart_disease</th>\n",
              "      <th>avg_glucose_level</th>\n",
              "      <th>bmi</th>\n",
              "      <th>stroke</th>\n",
              "      <th>gender_Female</th>\n",
              "      <th>gender_Male</th>\n",
              "      <th>work_type_Govt_job</th>\n",
              "      <th>work_type_Never_worked</th>\n",
              "      <th>work_type_Private</th>\n",
              "      <th>work_type_Self-employed</th>\n",
              "      <th>work_type_children</th>\n",
              "      <th>Age_categories_Infant</th>\n",
              "      <th>Age_categories_Young</th>\n",
              "      <th>Age_categories_Adult</th>\n",
              "      <th>Age_categories_Aged</th>\n",
              "      <th>Age_categories_Eldest</th>\n",
              "    </tr>\n",
              "  </thead>\n",
              "  <tbody>\n",
              "    <tr>\n",
              "      <th>count</th>\n",
              "      <td>5109.000000</td>\n",
              "      <td>5109.000000</td>\n",
              "      <td>5109.000000</td>\n",
              "      <td>5109.000000</td>\n",
              "      <td>5109.000000</td>\n",
              "      <td>5109.000000</td>\n",
              "      <td>5109.000000</td>\n",
              "      <td>5109.000000</td>\n",
              "      <td>5109.000000</td>\n",
              "      <td>5109.000000</td>\n",
              "      <td>5109.000000</td>\n",
              "      <td>5109.000000</td>\n",
              "      <td>5109.000000</td>\n",
              "      <td>5109.000000</td>\n",
              "      <td>5109.000000</td>\n",
              "      <td>5109.000000</td>\n",
              "      <td>5109.000000</td>\n",
              "    </tr>\n",
              "    <tr>\n",
              "      <th>mean</th>\n",
              "      <td>0.097475</td>\n",
              "      <td>0.054022</td>\n",
              "      <td>106.140399</td>\n",
              "      <td>28.953612</td>\n",
              "      <td>0.048738</td>\n",
              "      <td>0.586025</td>\n",
              "      <td>0.413975</td>\n",
              "      <td>0.128597</td>\n",
              "      <td>0.004306</td>\n",
              "      <td>0.572323</td>\n",
              "      <td>0.160305</td>\n",
              "      <td>0.134469</td>\n",
              "      <td>0.179291</td>\n",
              "      <td>0.192210</td>\n",
              "      <td>0.296536</td>\n",
              "      <td>0.143081</td>\n",
              "      <td>0.188882</td>\n",
              "    </tr>\n",
              "    <tr>\n",
              "      <th>std</th>\n",
              "      <td>0.296633</td>\n",
              "      <td>0.226084</td>\n",
              "      <td>45.285004</td>\n",
              "      <td>7.744213</td>\n",
              "      <td>0.215340</td>\n",
              "      <td>0.492592</td>\n",
              "      <td>0.492592</td>\n",
              "      <td>0.334786</td>\n",
              "      <td>0.065486</td>\n",
              "      <td>0.494790</td>\n",
              "      <td>0.366925</td>\n",
              "      <td>0.341188</td>\n",
              "      <td>0.383634</td>\n",
              "      <td>0.394076</td>\n",
              "      <td>0.456775</td>\n",
              "      <td>0.350190</td>\n",
              "      <td>0.391453</td>\n",
              "    </tr>\n",
              "    <tr>\n",
              "      <th>min</th>\n",
              "      <td>0.000000</td>\n",
              "      <td>0.000000</td>\n",
              "      <td>55.120000</td>\n",
              "      <td>10.300000</td>\n",
              "      <td>0.000000</td>\n",
              "      <td>0.000000</td>\n",
              "      <td>0.000000</td>\n",
              "      <td>0.000000</td>\n",
              "      <td>0.000000</td>\n",
              "      <td>0.000000</td>\n",
              "      <td>0.000000</td>\n",
              "      <td>0.000000</td>\n",
              "      <td>0.000000</td>\n",
              "      <td>0.000000</td>\n",
              "      <td>0.000000</td>\n",
              "      <td>0.000000</td>\n",
              "      <td>0.000000</td>\n",
              "    </tr>\n",
              "    <tr>\n",
              "      <th>25%</th>\n",
              "      <td>0.000000</td>\n",
              "      <td>0.000000</td>\n",
              "      <td>77.240000</td>\n",
              "      <td>23.700000</td>\n",
              "      <td>0.000000</td>\n",
              "      <td>0.000000</td>\n",
              "      <td>0.000000</td>\n",
              "      <td>0.000000</td>\n",
              "      <td>0.000000</td>\n",
              "      <td>0.000000</td>\n",
              "      <td>0.000000</td>\n",
              "      <td>0.000000</td>\n",
              "      <td>0.000000</td>\n",
              "      <td>0.000000</td>\n",
              "      <td>0.000000</td>\n",
              "      <td>0.000000</td>\n",
              "      <td>0.000000</td>\n",
              "    </tr>\n",
              "    <tr>\n",
              "      <th>50%</th>\n",
              "      <td>0.000000</td>\n",
              "      <td>0.000000</td>\n",
              "      <td>91.880000</td>\n",
              "      <td>28.300000</td>\n",
              "      <td>0.000000</td>\n",
              "      <td>1.000000</td>\n",
              "      <td>0.000000</td>\n",
              "      <td>0.000000</td>\n",
              "      <td>0.000000</td>\n",
              "      <td>1.000000</td>\n",
              "      <td>0.000000</td>\n",
              "      <td>0.000000</td>\n",
              "      <td>0.000000</td>\n",
              "      <td>0.000000</td>\n",
              "      <td>0.000000</td>\n",
              "      <td>0.000000</td>\n",
              "      <td>0.000000</td>\n",
              "    </tr>\n",
              "    <tr>\n",
              "      <th>75%</th>\n",
              "      <td>0.000000</td>\n",
              "      <td>0.000000</td>\n",
              "      <td>114.090000</td>\n",
              "      <td>33.100000</td>\n",
              "      <td>0.000000</td>\n",
              "      <td>1.000000</td>\n",
              "      <td>1.000000</td>\n",
              "      <td>0.000000</td>\n",
              "      <td>0.000000</td>\n",
              "      <td>1.000000</td>\n",
              "      <td>0.000000</td>\n",
              "      <td>0.000000</td>\n",
              "      <td>0.000000</td>\n",
              "      <td>0.000000</td>\n",
              "      <td>1.000000</td>\n",
              "      <td>0.000000</td>\n",
              "      <td>0.000000</td>\n",
              "    </tr>\n",
              "    <tr>\n",
              "      <th>max</th>\n",
              "      <td>1.000000</td>\n",
              "      <td>1.000000</td>\n",
              "      <td>271.740000</td>\n",
              "      <td>97.600000</td>\n",
              "      <td>1.000000</td>\n",
              "      <td>1.000000</td>\n",
              "      <td>1.000000</td>\n",
              "      <td>1.000000</td>\n",
              "      <td>1.000000</td>\n",
              "      <td>1.000000</td>\n",
              "      <td>1.000000</td>\n",
              "      <td>1.000000</td>\n",
              "      <td>1.000000</td>\n",
              "      <td>1.000000</td>\n",
              "      <td>1.000000</td>\n",
              "      <td>1.000000</td>\n",
              "      <td>1.000000</td>\n",
              "    </tr>\n",
              "  </tbody>\n",
              "</table>\n",
              "</div>"
            ],
            "text/plain": [
              "       hypertension  heart_disease  ...  Age_categories_Aged  Age_categories_Eldest\n",
              "count   5109.000000    5109.000000  ...          5109.000000            5109.000000\n",
              "mean       0.097475       0.054022  ...             0.143081               0.188882\n",
              "std        0.296633       0.226084  ...             0.350190               0.391453\n",
              "min        0.000000       0.000000  ...             0.000000               0.000000\n",
              "25%        0.000000       0.000000  ...             0.000000               0.000000\n",
              "50%        0.000000       0.000000  ...             0.000000               0.000000\n",
              "75%        0.000000       0.000000  ...             0.000000               0.000000\n",
              "max        1.000000       1.000000  ...             1.000000               1.000000\n",
              "\n",
              "[8 rows x 17 columns]"
            ]
          },
          "metadata": {
            "tags": []
          },
          "execution_count": 359
        }
      ]
    },
    {
      "cell_type": "code",
      "metadata": {
        "id": "eoqVvxRpVbMb",
        "outputId": "c8130a83-481b-42e3-807e-29edd13da6f4",
        "colab": {
          "base_uri": "https://localhost:8080/",
          "height": 287
        }
      },
      "source": [
        "dataset[\"bmi\"].plot.hist(alpha=0.5,color='blue',bins=50)"
      ],
      "execution_count": 360,
      "outputs": [
        {
          "output_type": "execute_result",
          "data": {
            "text/plain": [
              "<matplotlib.axes._subplots.AxesSubplot at 0x7f7ed893a710>"
            ]
          },
          "metadata": {
            "tags": []
          },
          "execution_count": 360
        },
        {
          "output_type": "display_data",
          "data": {
            "image/png": "[encoded data removed]",
            "text/plain": [
              "<Figure size 432x288 with 1 Axes>"
            ]
          },
          "metadata": {
            "tags": [],
            "needs_background": "light"
          }
        }
      ]
    },
    {
      "cell_type": "code",
      "metadata": {
        "id": "ZCBATMxmxBoe",
        "outputId": "9c4fd327-1ca5-4615-de14-739383683580",
        "colab": {
          "base_uri": "https://localhost:8080/"
        }
      },
      "source": [
        "corr_matrix = dataset.corr()\n",
        "corr_matrix[\"stroke\"].sort_values(ascending=False) "
      ],
      "execution_count": 361,
      "outputs": [
        {
          "output_type": "execute_result",
          "data": {
            "text/plain": [
              "stroke                     1.000000\n",
              "Age_categories_Eldest      0.253072\n",
              "heart_disease              0.134905\n",
              "avg_glucose_level          0.131991\n",
              "hypertension               0.127891\n",
              "work_type_Self-employed    0.062150\n",
              "Age_categories_Aged        0.047698\n",
              "bmi                        0.042067\n",
              "work_type_Private          0.011927\n",
              "gender_Male                0.009081\n",
              "work_type_Govt_job         0.002660\n",
              "gender_Female             -0.009081\n",
              "work_type_Never_worked    -0.014885\n",
              "Age_categories_Adult      -0.075308\n",
              "work_type_children        -0.083888\n",
              "Age_categories_Infant     -0.101056\n",
              "Age_categories_Young      -0.108106\n",
              "Name: stroke, dtype: float64"
            ]
          },
          "metadata": {
            "tags": []
          },
          "execution_count": 361
        }
      ]
    },
    {
      "cell_type": "markdown",
      "metadata": {
        "id": "xLSt8MmV-SZH"
      },
      "source": [
        "# 4. Обучение и настройка гиперпараметров моделей\n",
        "Используемые модели:\n",
        "1. Логистическую регрессию (`LogisticRegression`).\n",
        "1. Метод опорных векторов (`SVC`).\n",
        "1. Наивный байесовский классификатор (`MultinomialNB`).\n",
        "1. Деревья решений (`DecisionTreeClassifier`).\n",
        "1. Случайный лес (`RandomForestClassifier`).\n",
        "1. AdaBoost (`AdaBoost`).\n",
        "1. Градиентный бустинг (`GradientBoostingClassifier`).\n",
        "1. Бэггинг (`BaggingClassifier`)\n",
        "\n",
        "\n"
      ]
    },
    {
      "cell_type": "code",
      "metadata": {
        "colab": {
          "base_uri": "https://localhost:8080/"
        },
        "id": "qrsqbPOvi02d",
        "outputId": "a970c160-1449-4bdd-94de-bcbd4fb7f156"
      },
      "source": [
        "y = dataset['stroke']\n",
        "X = dataset[['gender_Female', 'gender_Male','avg_glucose_level','bmi', \n",
        "             'work_type_Govt_job', 'work_type_Never_worked', 'work_type_Private', 'work_type_Self-employed',\n",
        "             \"hypertension\", \"heart_disease\",\n",
        "             'Age_categories_Infant', 'Age_categories_Young', 'Age_categories_Adult', 'Age_categories_Aged',\n",
        "             'Age_categories_Eldest']] #X.drop(columns=drop_cols, axis=1)\n",
        "\n",
        "sss = StratifiedShuffleSplit(n_splits=5, train_size=0.7, random_state=42)\n",
        "sss.get_n_splits(X, y)\n",
        "print(sss)\n",
        "for train_index, test_index in sss.split(X, y):\n",
        "    x_train, x_test = X.iloc[train_index], X.iloc[test_index]\n",
        "    y_train, y_test = y.iloc[train_index], y.iloc[test_index]\n",
        "\n",
        "print(y_train.value_counts(), y_test.value_counts()) # Видим, что распределение классов сохранено"
      ],
      "execution_count": 362,
      "outputs": [
        {
          "output_type": "stream",
          "text": [
            "StratifiedShuffleSplit(n_splits=5, random_state=42, test_size=None,\n",
            "            train_size=0.7)\n",
            "0    3402\n",
            "1     174\n",
            "Name: stroke, dtype: int64 0    1458\n",
            "1      75\n",
            "Name: stroke, dtype: int64\n"
          ],
          "name": "stdout"
        }
      ]
    },
    {
      "cell_type": "markdown",
      "metadata": {
        "id": "RP2sHlpM-SZJ"
      },
      "source": [
        "Выбираем с использованием `Pipeline` и `GridSearchCV` оптимальную архитектуру:\n"
      ]
    },
    {
      "cell_type": "code",
      "metadata": {
        "id": "1Yj2cJq2lRgW",
        "colab": {
          "base_uri": "https://localhost:8080/",
          "height": 705
        },
        "outputId": "cfdf53a9-46ae-453e-999a-44a5641e0649"
      },
      "source": [
        "warnings.filterwarnings('ignore') \n",
        "\n",
        "classifiers = [\n",
        "    LogisticRegression(),\n",
        "    SVC(),\n",
        "    MultinomialNB(),\n",
        "    DecisionTreeClassifier(),\n",
        "    RandomForestClassifier(),\n",
        "    AdaBoostClassifier(),\n",
        "    GradientBoostingClassifier(),\n",
        "    BaggingClassifier()\n",
        "    ]\n",
        "\n",
        "# LogisticRegression()\n",
        "params1 = {\"poly__degree\": range(1,3,1), 'clf__C': [0.1, 0.2, 0.05], \n",
        "           \"clf__solver\": ['newton-cg', 'lbfgs', 'sag', 'saga'], \"clf__max_iter\": [2000,3000], \n",
        "           \"clf__class_weight\": [\"balanced\", {0:1,1:15}, {0:1,1:10}]\n",
        "           } \n",
        "# SVC\n",
        "params2 = {\"poly__degree\": range(1,3,1), \"clf__kernel\":[\"rbf\", \"poly\", \"linear\", \"sigmoid\"], \n",
        "           \"clf__gamma\": [\"auto\", \"scale\"], \"clf__degree\":range(1,6,1), \n",
        "           \"clf__class_weight\": [\"balanced\", {0:1,1:15}, {0:1,1:20}, {0:1,1:10}]}\n",
        "# MultinomialNB()\n",
        "params3 = {\"poly__degree\": range(1,3,1),\"clf__fit_prior\": ['True', 'False'],\n",
        "           \"clf__alpha\": np.arange(0.8,1.2,0.1), \"clf__class_prior\": [[.2,.8],[.8, .2]]} # no none\n",
        "# DecisionTreeClassifier()\n",
        "params4 = {\"poly__degree\": range(1,3,1),\"clf__criterion\":[\"gini\", \"entropy\"], \n",
        "           \"clf__max_depth\": range(10,15,1),\"clf__min_samples_leaf\": range(8,14,1), \n",
        "           \"clf__min_samples_split\": range(2,10,2), \"clf__class_weight\": [\"balanced\", {0:1,1:15}] }   \n",
        "# RandomForestClassifier()\n",
        "params5 = {\"poly__degree\": range(1,3,1),\"clf__criterion\":[\"gini\", \"entropy\"], \"clf__max_depth\": range(10,15,1),\n",
        "           \"clf__class_weight\":[\"balanced\", \"balanced_subsample\", {0:1,1:15}, {0:1,1:20}, {0:1,1:10}], \n",
        "            \"clf__min_samples_leaf\": range(7,14,1), \"clf__n_estimators\":range(50,150,50)} \n",
        "# AdaBoostClassifier()\n",
        "params6 = {\"poly__degree\": range(1,3,1),\"clf__learning_rate\":np.arange(0.2,1,0.2), \n",
        "           \"clf__n_estimators\":range(20,60,20), \"clf__algorithm\":[\"SAMME\", \"SAMME.R\"],\n",
        "           \"clf__base_estimator\":[SVC(class_weight={0: 1, 1: 10},kernel='sigmoid',degree=1, gamma=\"auto\"),\n",
        "                                  SVC(class_weight={0: 1, 1: 10},kernel='poly',degree=2, gamma=\"auto\"), \n",
        "                                  SVC(class_weight={0: 1, 1: 10},kernel='poly',degree=1, gamma=\"auto\")]\n",
        "           } \n",
        "# GradientBoostingClassifier()\n",
        "params7 = {\"poly__degree\": range(1,3,1),\"clf__loss\":[\"deviance\", \"exponential\"], \n",
        "           \"clf__learning_rate\":[0.09,0.1,0.08], \"clf__n_estimators\":range(20,100,40),\n",
        "           \"clf__min_samples_leaf\": [1,2,3], \"clf__max_depth\": range(10,14,2)}\n",
        "# BaggingClassifier()\n",
        "params8 = {\"poly__degree\": range(1,2,1),\n",
        "           \"clf__base_estimator\":[DecisionTreeClassifier(class_weight={0: 1, 1: 15}, criterion='gini', \n",
        "                                  max_depth=10, min_samples_leaf=9, min_samples_split=2),\n",
        "                                  SVC(class_weight={0: 1, 1: 10},kernel='poly',degree=1, gamma=\"auto\")],\n",
        "           \"clf__n_estimators\":range(10,50,20), \"clf__max_samples\":[0.5, 1.0], \"clf__max_features\":[0.5, 1.0]\n",
        "           }\n",
        "parameters = [params1, params2, params3, params4, params5, params6, params7, params8]\n",
        "i = 0\n",
        "\n",
        "kfolds = StratifiedKFold(5, random_state=42)\n",
        "for classifier in classifiers:\n",
        "    print(classifier)\n",
        "    pipe = Pipeline(steps=[('feature_selection', SelectFromModel(LinearSVC(C=0.01, penalty=\"l2\", dual=False,max_iter=2000, random_state=42))),\n",
        "                            ('scaler', MinMaxScaler()), #MinMaxScaler() StandardScaler()\n",
        "                            ('poly', PolynomialFeatures()),\n",
        "                            ('clf', classifier) \n",
        "                      ])\n",
        "    grid_cv = model_selection.GridSearchCV(pipe, parameters[i], scoring='recall_micro', cv=kfolds.split(x_train,y_train)) \n",
        "    grid_cv.fit(x_train, y_train)\n",
        "    print(\"model best score: \", grid_cv.best_score_)    \n",
        "    print(grid_cv.best_params_)\n",
        "    model = grid_cv.best_estimator_\n",
        "    print(\"model test score: \", model.score(x_test, y_test))\n",
        "\n",
        "    y_pred = model.predict(x_test)\n",
        "    print(classification_report(y_pred,y_test))\n",
        "    plot_confusion_matrix(model, x_test, y_test, values_format='d')\n",
        "    plt.show()\n",
        "    try:      \n",
        "      fig = go.Figure()\n",
        "      fig.add_trace(go.Bar(x=x_test.columns,y = model['clf'].feature_importances_))\n",
        "      fig.update_layout(title='Feature selection results',xaxis_title='Model',yaxis_title='F1 Score')\n",
        "      fig.show()\n",
        "    except AttributeError:\n",
        "      print(AttributeError)\n",
        "\n",
        "    i+=1"
      ],
      "execution_count": null,
      "outputs": [
        {
          "output_type": "stream",
          "text": [
            "LogisticRegression(C=1.0, class_weight=None, dual=False, fit_intercept=True,\n",
            "                   intercept_scaling=1, l1_ratio=None, max_iter=100,\n",
            "                   multi_class='auto', n_jobs=None, penalty='l2',\n",
            "                   random_state=None, solver='lbfgs', tol=0.0001, verbose=0,\n",
            "                   warm_start=False)\n",
            "model best score:  0.8626897683322264\n",
            "{'clf__C': 0.2, 'clf__class_weight': {0: 1, 1: 10}, 'clf__max_iter': 2000, 'clf__solver': 'saga', 'poly__degree': 2}\n",
            "model test score:  0.9510763209393346\n",
            "              precision    recall  f1-score   support\n",
            "\n",
            "           0       1.00      0.95      0.97      1533\n",
            "           1       0.00      0.00      0.00         0\n",
            "\n",
            "    accuracy                           0.95      1533\n",
            "   macro avg       0.50      0.48      0.49      1533\n",
            "weighted avg       1.00      0.95      0.97      1533\n",
            "\n"
          ],
          "name": "stdout"
        },
        {
          "output_type": "display_data",
          "data": {
            "image/png": "[encoded data removed]",
            "text/plain": [
              "<Figure size 432x288 with 2 Axes>"
            ]
          },
          "metadata": {
            "tags": [],
            "needs_background": "light"
          }
        },
        {
          "output_type": "stream",
          "text": [
            "<class 'AttributeError'>\n",
            "SVC(C=1.0, break_ties=False, cache_size=200, class_weight=None, coef0=0.0,\n",
            "    decision_function_shape='ovr', degree=3, gamma='scale', kernel='rbf',\n",
            "    max_iter=-1, probability=False, random_state=None, shrinking=True,\n",
            "    tol=0.001, verbose=False)\n"
          ],
          "name": "stdout"
        }
      ]
    },
    {
      "cell_type": "markdown",
      "metadata": {
        "id": "WgB3EN52enaZ"
      },
      "source": [
        "Теперь попробуем без feature selection"
      ]
    },
    {
      "cell_type": "code",
      "metadata": {
        "id": "vKMqE4nlee5q"
      },
      "source": [
        "warnings.filterwarnings('ignore') \n",
        "i = 0\n",
        "for classifier in classifiers:\n",
        "    print(classifier)\n",
        "    pipe = Pipeline(steps=[\n",
        "                            ('scaler', MinMaxScaler()), #MinMaxScaler() StandardScaler()\n",
        "                            ('poly', PolynomialFeatures()),\n",
        "                            ('clf', classifier) \n",
        "                      ])\n",
        "    grid_cv = model_selection.GridSearchCV(pipe, parameters[i], scoring='recall_micro', cv=kfolds.split(x_train,y_train)) \n",
        "    grid_cv.fit(x_train, y_train)\n",
        "    print(\"model best score: \", grid_cv.best_score_)    \n",
        "    print(grid_cv.best_params_)\n",
        "    model = grid_cv.best_estimator_\n",
        "    print(\"model test score: \", model.score(x_test, y_test))\n",
        "\n",
        "    y_pred = model.predict(x_test)\n",
        "    print(classification_report(y_pred,y_test))\n",
        "    plot_confusion_matrix(model, x_test, y_test, values_format='d')\n",
        "    plt.show()\n",
        "    try:      \n",
        "      fig = go.Figure()\n",
        "      fig.add_trace(go.Bar(x=x_test.columns,y = model['clf'].feature_importances_))\n",
        "      fig.update_layout(title='Feature selection results',xaxis_title='Model',yaxis_title='F1 Score')\n",
        "      fig.show()\n",
        "    except AttributeError:\n",
        "      print(AttributeError)\n",
        "\n",
        "    i+=1"
      ],
      "execution_count": null,
      "outputs": []
    },
    {
      "cell_type": "code",
      "metadata": {
        "id": "MfnU-YLE1hxK"
      },
      "source": [
        "# RandomForestClassifier()\n",
        "rfc = {\"clf__criterion\":[\"gini\", \"entropy\"], \"clf__class_weight\":[\"balanced\", \"balanced_subsample\"], \n",
        "           \"clf__max_depth\": range(6,12,2), \"clf__min_samples_leaf\": range(5,9,1), \"clf__n_estimators\":[50,100]} \n",
        "pipe = Pipeline(steps=[     ('scaler', MinMaxScaler()), #MinMaxScaler() StandardScaler()\n",
        "                            ('poly', PolynomialFeatures()),\n",
        "                            ('clf', RandomForestClassifier()) \n",
        "                      ])\n",
        "grid_cv = model_selection.GridSearchCV(pipe, rfc, scoring='f1')\n",
        "grid_cv.fit(x_train, y_train)\n",
        "print(\"model best score: \", grid_cv.best_score_)    \n",
        "print(grid_cv.best_params_)\n",
        "model = grid_cv.best_estimator_"
      ],
      "execution_count": null,
      "outputs": []
    },
    {
      "cell_type": "code",
      "metadata": {
        "id": "BAUoB3PAi4RY"
      },
      "source": [
        "y_pred = model.predict(x_test)"
      ],
      "execution_count": null,
      "outputs": []
    },
    {
      "cell_type": "code",
      "metadata": {
        "id": "mwu5HfGOjNq9"
      },
      "source": [
        "# посмотрим, какие случаи не предсказала  модель\n",
        "real = pd.concat([x_test, y_test], axis=1)\n",
        "pred = real.copy()\n",
        "pred[\"stroke2\"] = y_pred\n",
        "print(pred.shape, real.shape)\n",
        "\n",
        "pred = pd.concat([real, pred.stroke2], axis=1)\n",
        "real = real[real.stroke == 1]\n",
        "pred = pred[pred.stroke2 == 1]\n",
        "print(pred.shape)"
      ],
      "execution_count": null,
      "outputs": []
    },
    {
      "cell_type": "code",
      "metadata": {
        "id": "QWqkhKKyj3tc"
      },
      "source": [
        "pd.options.display.max_rows = 210\n",
        "pred # 156"
      ],
      "execution_count": null,
      "outputs": []
    },
    {
      "cell_type": "code",
      "metadata": {
        "id": "6qqLG82xRGZM"
      },
      "source": [
        "fig = go.Figure()\n",
        "fig.add_trace(go.Bar(x=x_test.columns,y = model['clf'].feature_importances_))\n",
        "fig.update_layout(title='The Importance Of The Original Attributes On Our Prediction',xaxis_title='Model',yaxis_title='F1 Score')\n",
        "fig.show()"
      ],
      "execution_count": null,
      "outputs": []
    },
    {
      "cell_type": "code",
      "metadata": {
        "id": "3YcUuWJT9IDi"
      },
      "source": [
        "print(classification_report(y_pred,y_test))"
      ],
      "execution_count": null,
      "outputs": []
    },
    {
      "cell_type": "code",
      "metadata": {
        "id": "tB3vMxyxOPGJ"
      },
      "source": [
        "plot_confusion_matrix(model, x_test, y_test, values_format='d')"
      ],
      "execution_count": null,
      "outputs": []
    }
  ]
}