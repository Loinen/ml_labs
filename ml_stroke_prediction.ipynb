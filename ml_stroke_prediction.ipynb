{
  "nbformat": 4,
  "nbformat_minor": 0,
  "metadata": {
    "colab": {
      "name": "stroke_prediction.ipynb",
      "provenance": [],
      "authorship_tag": "ABX9TyN4fLGsdgbOD4nVlgWHSTIV",
      "include_colab_link": true
    },
    "kernelspec": {
      "name": "python3",
      "display_name": "Python 3"
    },
    "language_info": {
      "name": "python"
    },
    "accelerator": "TPU"
  },
  "cells": [
    {
      "cell_type": "markdown",
      "metadata": {
        "id": "view-in-github",
        "colab_type": "text"
      },
      "source": [
        "<a href=\"https://colab.research.google.com/github/Loinen/ml_labs/blob/main/ml_stroke_prediction.ipynb\" target=\"_parent\"><img src=\"https://colab.research.google.com/assets/colab-badge.svg\" alt=\"Open In Colab\"/></a>"
      ]
    },
    {
      "cell_type": "markdown",
      "metadata": {
        "id": "OYsMHtyE-SY4"
      },
      "source": [
        "# ПОСТРОЕНИЕ ПРЕДСКАЗАТЕЛЬНОЙ МОДЕЛИ ВОЗНИКНОВЕНИЯ ИНСУЛЬТА"
      ]
    },
    {
      "cell_type": "markdown",
      "metadata": {
        "id": "4uDaYQuO-SY8"
      },
      "source": [
        "В данной работе будет построена предсказательная модель возникновения инсульта на основе данных о [пациентах](https://www.kaggle.com/fedesoriano/stroke-prediction-dataset) c kaggle."
      ]
    },
    {
      "cell_type": "markdown",
      "metadata": {
        "id": "kgI_NOXe-SY9"
      },
      "source": [
        "# 1. Загрузка данных и библиотек"
      ]
    },
    {
      "cell_type": "code",
      "metadata": {
        "id": "UGjOXIIc-SZA",
        "colab": {
          "base_uri": "https://localhost:8080/"
        },
        "outputId": "8e3729a2-e078-4ce8-9ef5-506acb46021b"
      },
      "source": [
        "import numpy as np\n",
        "import matplotlib.pyplot as plt\n",
        "import pandas as pd\n",
        "import seaborn as sns\n",
        "\n",
        "from sklearn.preprocessing import PolynomialFeatures, StandardScaler, MinMaxScaler\n",
        "from sklearn.linear_model import LogisticRegression\n",
        "from sklearn.svm import SVC\n",
        "from sklearn.neighbors import KNeighborsClassifier\n",
        "from sklearn.naive_bayes import MultinomialNB\n",
        "from sklearn.tree import DecisionTreeClassifier\n",
        "from sklearn.ensemble import RandomForestClassifier, AdaBoostClassifier, GradientBoostingClassifier, ExtraTreesClassifier\n",
        "from sklearn.pipeline import Pipeline\n",
        "from sklearn.model_selection import train_test_split, GridSearchCV\n",
        "from sklearn import model_selection\n",
        "from sklearn.metrics import classification_report, plot_confusion_matrix\n",
        "from sklearn.feature_selection import SelectFromModel\n",
        "\n",
        "import plotly.graph_objs as go\n",
        "\n",
        "%matplotlib inline\n",
        "\n",
        "dataset = pd.read_csv(\"stroke_data.csv\")\n",
        "print(dataset.shape)"
      ],
      "execution_count": 579,
      "outputs": [
        {
          "output_type": "stream",
          "text": [
            "(5110, 12)\n"
          ],
          "name": "stdout"
        }
      ]
    },
    {
      "cell_type": "markdown",
      "metadata": {
        "id": "RzESnbVq-SZB"
      },
      "source": [
        "# 2. Анализ датасета\n",
        "\n",
        "1.   id: уникальный идентификатор\n",
        "2.   gender: Male, Female, Other\n",
        "3.   age: возраст пациента\n",
        "4.   hypertension: 0, если у пациента нет артериальной гипертензии, 1, если есть\n",
        "5.   heart_disease: 0, если у пациента нет сердечных заболеваний, 1, если есть\n",
        "6.   ever_married: No или Yes\n",
        "7.   work_type: children, Govt_jov, Never_worked, Private или Self-employed - тип занятости\n",
        "8.   Residence_type: Rural - Сельский или Urban - Городской\n",
        "9.   avg_gluosis_level: средний уровень глюкозы в крови\n",
        "10.  bmi: индекс массы тела\n",
        "11.  smoking_status: статус курения - formerly smoked - «ранее курил», never smoked, smokes или Unknown\n",
        "12.  stroke: 1, если у пациента был инсульт, или 0, если нет.\n"
      ]
    },
    {
      "cell_type": "code",
      "metadata": {
        "colab": {
          "base_uri": "https://localhost:8080/"
        },
        "id": "PuYrgvkN0_st",
        "outputId": "0a9f4cec-1ec1-407d-a854-c1171c8e177a"
      },
      "source": [
        "dataset.info()"
      ],
      "execution_count": 580,
      "outputs": [
        {
          "output_type": "stream",
          "text": [
            "<class 'pandas.core.frame.DataFrame'>\n",
            "RangeIndex: 5110 entries, 0 to 5109\n",
            "Data columns (total 12 columns):\n",
            " #   Column             Non-Null Count  Dtype  \n",
            "---  ------             --------------  -----  \n",
            " 0   id                 5110 non-null   int64  \n",
            " 1   gender             5110 non-null   object \n",
            " 2   age                5110 non-null   float64\n",
            " 3   hypertension       5110 non-null   int64  \n",
            " 4   heart_disease      5110 non-null   int64  \n",
            " 5   ever_married       5110 non-null   object \n",
            " 6   work_type          5110 non-null   object \n",
            " 7   Residence_type     5110 non-null   object \n",
            " 8   avg_glucose_level  5110 non-null   float64\n",
            " 9   bmi                4909 non-null   float64\n",
            " 10  smoking_status     5110 non-null   object \n",
            " 11  stroke             5110 non-null   int64  \n",
            "dtypes: float64(3), int64(4), object(5)\n",
            "memory usage: 479.2+ KB\n"
          ],
          "name": "stdout"
        }
      ]
    },
    {
      "cell_type": "code",
      "metadata": {
        "colab": {
          "base_uri": "https://localhost:8080/",
          "height": 0
        },
        "id": "Ydq7HzFjzZwr",
        "outputId": "eda415f6-a4ec-4367-e272-78fcae81b6c5"
      },
      "source": [
        "dataset.drop(columns=['id'], axis = 1, inplace = True)\n",
        "dataset.describe()"
      ],
      "execution_count": 581,
      "outputs": [
        {
          "output_type": "execute_result",
          "data": {
            "text/html": [
              "<div>\n",
              "<style scoped>\n",
              "    .dataframe tbody tr th:only-of-type {\n",
              "        vertical-align: middle;\n",
              "    }\n",
              "\n",
              "    .dataframe tbody tr th {\n",
              "        vertical-align: top;\n",
              "    }\n",
              "\n",
              "    .dataframe thead th {\n",
              "        text-align: right;\n",
              "    }\n",
              "</style>\n",
              "<table border=\"1\" class=\"dataframe\">\n",
              "  <thead>\n",
              "    <tr style=\"text-align: right;\">\n",
              "      <th></th>\n",
              "      <th>age</th>\n",
              "      <th>hypertension</th>\n",
              "      <th>heart_disease</th>\n",
              "      <th>avg_glucose_level</th>\n",
              "      <th>bmi</th>\n",
              "      <th>stroke</th>\n",
              "    </tr>\n",
              "  </thead>\n",
              "  <tbody>\n",
              "    <tr>\n",
              "      <th>count</th>\n",
              "      <td>5110.000000</td>\n",
              "      <td>5110.000000</td>\n",
              "      <td>5110.000000</td>\n",
              "      <td>5110.000000</td>\n",
              "      <td>4909.000000</td>\n",
              "      <td>5110.000000</td>\n",
              "    </tr>\n",
              "    <tr>\n",
              "      <th>mean</th>\n",
              "      <td>43.226614</td>\n",
              "      <td>0.097456</td>\n",
              "      <td>0.054012</td>\n",
              "      <td>106.147677</td>\n",
              "      <td>28.893237</td>\n",
              "      <td>0.048728</td>\n",
              "    </tr>\n",
              "    <tr>\n",
              "      <th>std</th>\n",
              "      <td>22.612647</td>\n",
              "      <td>0.296607</td>\n",
              "      <td>0.226063</td>\n",
              "      <td>45.283560</td>\n",
              "      <td>7.854067</td>\n",
              "      <td>0.215320</td>\n",
              "    </tr>\n",
              "    <tr>\n",
              "      <th>min</th>\n",
              "      <td>0.080000</td>\n",
              "      <td>0.000000</td>\n",
              "      <td>0.000000</td>\n",
              "      <td>55.120000</td>\n",
              "      <td>10.300000</td>\n",
              "      <td>0.000000</td>\n",
              "    </tr>\n",
              "    <tr>\n",
              "      <th>25%</th>\n",
              "      <td>25.000000</td>\n",
              "      <td>0.000000</td>\n",
              "      <td>0.000000</td>\n",
              "      <td>77.245000</td>\n",
              "      <td>23.500000</td>\n",
              "      <td>0.000000</td>\n",
              "    </tr>\n",
              "    <tr>\n",
              "      <th>50%</th>\n",
              "      <td>45.000000</td>\n",
              "      <td>0.000000</td>\n",
              "      <td>0.000000</td>\n",
              "      <td>91.885000</td>\n",
              "      <td>28.100000</td>\n",
              "      <td>0.000000</td>\n",
              "    </tr>\n",
              "    <tr>\n",
              "      <th>75%</th>\n",
              "      <td>61.000000</td>\n",
              "      <td>0.000000</td>\n",
              "      <td>0.000000</td>\n",
              "      <td>114.090000</td>\n",
              "      <td>33.100000</td>\n",
              "      <td>0.000000</td>\n",
              "    </tr>\n",
              "    <tr>\n",
              "      <th>max</th>\n",
              "      <td>82.000000</td>\n",
              "      <td>1.000000</td>\n",
              "      <td>1.000000</td>\n",
              "      <td>271.740000</td>\n",
              "      <td>97.600000</td>\n",
              "      <td>1.000000</td>\n",
              "    </tr>\n",
              "  </tbody>\n",
              "</table>\n",
              "</div>"
            ],
            "text/plain": [
              "               age  hypertension  ...          bmi       stroke\n",
              "count  5110.000000   5110.000000  ...  4909.000000  5110.000000\n",
              "mean     43.226614      0.097456  ...    28.893237     0.048728\n",
              "std      22.612647      0.296607  ...     7.854067     0.215320\n",
              "min       0.080000      0.000000  ...    10.300000     0.000000\n",
              "25%      25.000000      0.000000  ...    23.500000     0.000000\n",
              "50%      45.000000      0.000000  ...    28.100000     0.000000\n",
              "75%      61.000000      0.000000  ...    33.100000     0.000000\n",
              "max      82.000000      1.000000  ...    97.600000     1.000000\n",
              "\n",
              "[8 rows x 6 columns]"
            ]
          },
          "metadata": {
            "tags": []
          },
          "execution_count": 581
        }
      ]
    },
    {
      "cell_type": "code",
      "metadata": {
        "colab": {
          "base_uri": "https://localhost:8080/"
        },
        "id": "-WzoUkgW3pIf",
        "outputId": "de093d23-5470-4246-85b5-1bdb03c0d169"
      },
      "source": [
        "print(dataset.value_counts(\"gender\")) # f - 2994, m - 2115, other - 1\n",
        "print(\"\\n\", dataset.value_counts(\"hypertension\")) # 0 - 4612, 1 - 498\n",
        "print(\"\\n\",dataset.value_counts(\"heart_disease\")) # 0 - 4834, 1 - 276\n",
        "print(\"\\n\",dataset.value_counts(\"ever_married\")) # y - 3353, n - 1757\n",
        "print(\"\\n\",dataset.value_counts(\"work_type\")) # Private - 2925, Self-employed - 819, children - 687, Govt_job - 657, Never_worked - 22\n",
        "print(\"\\n\",dataset.value_counts(\"Residence_type\")) #Urban - 2596, Rural - 2514\n",
        "print(\"\\n\",dataset.value_counts(\"smoking_status\")) # never smoked - 1892, Unknown - 1544, formerly smoked - 885, smokes - 789\n",
        "print(\"\\n\",dataset.value_counts(\"stroke\")) # 0 - 4861, 1 - 249"
      ],
      "execution_count": 582,
      "outputs": [
        {
          "output_type": "stream",
          "text": [
            "gender\n",
            "Female    2994\n",
            "Male      2115\n",
            "Other        1\n",
            "dtype: int64\n",
            "\n",
            " hypertension\n",
            "0    4612\n",
            "1     498\n",
            "dtype: int64\n",
            "\n",
            " heart_disease\n",
            "0    4834\n",
            "1     276\n",
            "dtype: int64\n",
            "\n",
            " ever_married\n",
            "Yes    3353\n",
            "No     1757\n",
            "dtype: int64\n",
            "\n",
            " work_type\n",
            "Private          2925\n",
            "Self-employed     819\n",
            "children          687\n",
            "Govt_job          657\n",
            "Never_worked       22\n",
            "dtype: int64\n",
            "\n",
            " Residence_type\n",
            "Urban    2596\n",
            "Rural    2514\n",
            "dtype: int64\n",
            "\n",
            " smoking_status\n",
            "never smoked       1892\n",
            "Unknown            1544\n",
            "formerly smoked     885\n",
            "smokes              789\n",
            "dtype: int64\n",
            "\n",
            " stroke\n",
            "0    4861\n",
            "1     249\n",
            "dtype: int64\n"
          ],
          "name": "stdout"
        }
      ]
    },
    {
      "cell_type": "code",
      "metadata": {
        "colab": {
          "base_uri": "https://localhost:8080/"
        },
        "id": "yBYxIP-JjgvI",
        "outputId": "83dd6789-a44e-4cd0-8ff9-1433bd61ce06"
      },
      "source": [
        "child = dataset.loc[dataset['age'] <= 14]\n",
        "#print(child.value_counts(\"work_type\")) \n",
        "st = child.loc[dataset['stroke'] == 1]\n",
        "print(st.age) \n",
        "# у нас есть достаточно много строк, где возраст явно с ошибками, но судя по worktype большинство из них дети\n",
        "print(\"диабетики:\", len(dataset.avg_glucose_level.loc[dataset['avg_glucose_level'] >= 125]))\n",
        "# avg gl - 70 mg/dl - 100 mg/dl  - normal, до 70 - hypoglycemia, от 100 до 125 - prediabetic, до 300 - diabetic\n",
        "print(\"гипокликемия:\", len(dataset.avg_glucose_level.loc[dataset['avg_glucose_level'] <= 70]))\n",
        "\n",
        "print(dataset['bmi'].loc[dataset['bmi'] >= 60]) \n",
        "\n",
        "# bmi - under_weight до 18.5, normal <25, overweight, <30, obese 40\n",
        "# у нас есть 13 человек с bmi больше 60 - это может быть вес от 135кг (если 150 см = 60 имт) до 200кг (181кг\\150см = 78 имт)\n",
        "print(dataset.loc[dataset['bmi'] <= 16].value_counts(\"stroke\")) \n",
        "# Низкие значения имт - в основном у детей, для них норма ниже"
      ],
      "execution_count": 583,
      "outputs": [
        {
          "output_type": "stream",
          "text": [
            "162     1.32\n",
            "245    14.00\n",
            "Name: age, dtype: float64\n",
            "диабетики: 1000\n",
            "гипокликемия: 756\n",
            "270     60.9\n",
            "358     64.8\n",
            "466     60.2\n",
            "544     71.9\n",
            "928     78.0\n",
            "1559    66.8\n",
            "2128    97.6\n",
            "2764    63.3\n",
            "2840    61.2\n",
            "3825    61.6\n",
            "4188    64.4\n",
            "4209    92.0\n",
            "4838    60.9\n",
            "Name: bmi, dtype: float64\n",
            "stroke\n",
            "0    92\n",
            "dtype: int64\n"
          ],
          "name": "stdout"
        }
      ]
    },
    {
      "cell_type": "code",
      "metadata": {
        "colab": {
          "base_uri": "https://localhost:8080/",
          "height": 0
        },
        "id": "2-mBFCtvvRHJ",
        "outputId": "3a3414d0-4235-46ac-de29-182510b49acb"
      },
      "source": [
        "stroke = dataset[dataset.stroke == 1]\n",
        "no_stroke = dataset[dataset.stroke == 0]\n",
        "print(\"stroke\", stroke.shape, \"no_stroke\", no_stroke.shape)\n",
        "\n",
        "plt.rcParams.update({'font.size': 12})\n",
        "fig, axs = plt.subplots(ncols=3, figsize=(16, 4))\n",
        "\n",
        "stroke[\"age\"].plot.hist(alpha=0.5,color='red',bins=50, ax=axs[0])\n",
        "no_stroke[\"age\"].plot.hist(alpha=0.5,color='blue',bins=50, ax=axs[0])\n",
        "axs[0].legend(['age\\n stroke','no_stroke'])\n",
        "\n",
        "stroke[\"avg_glucose_level\"].plot.hist(alpha=0.5,color='red',bins=50, ax=axs[1])\n",
        "no_stroke[\"avg_glucose_level\"].plot.hist(alpha=0.5,color='blue',bins=50, ax=axs[1])\n",
        "axs[1].legend(['glucose\\n stroke','no_stroke'])\n",
        "\n",
        "stroke[\"bmi\"].plot.hist(alpha=0.5,color='red',bins=50, ax=axs[2])\n",
        "no_stroke[\"bmi\"].plot.hist(alpha=0.5,color='blue',bins=50, ax=axs[2])\n",
        "axs[2].legend(['bmi\\n stroke','no_stroke'])"
      ],
      "execution_count": 584,
      "outputs": [
        {
          "output_type": "stream",
          "text": [
            "stroke (249, 11) no_stroke (4861, 11)\n"
          ],
          "name": "stdout"
        },
        {
          "output_type": "execute_result",
          "data": {
            "text/plain": [
              "<matplotlib.legend.Legend at 0x7f4a7183fa90>"
            ]
          },
          "metadata": {
            "tags": []
          },
          "execution_count": 584
        },
        {
          "output_type": "display_data",
          "data": {
            "image/png": "[encoded data removed]",
            "text/plain": [
              "<Figure size 1152x288 with 3 Axes>"
            ]
          },
          "metadata": {
            "tags": [],
            "needs_background": "light"
          }
        }
      ]
    },
    {
      "cell_type": "code",
      "metadata": {
        "colab": {
          "base_uri": "https://localhost:8080/",
          "height": 0
        },
        "id": "rDVnO27ZdWnA",
        "outputId": "eac149dd-fbc3-421c-e991-36b5c4005605"
      },
      "source": [
        "plt.rcParams.update({'font.size': 12})\n",
        "fig, axs = plt.subplots(ncols=4, figsize=(18, 4))\n",
        "sns.countplot(x=\"stroke\",data=dataset,hue='gender', ax=axs[0])\n",
        "sns.countplot(x=\"stroke\",data=dataset,hue='hypertension', ax=axs[1])\n",
        "sns.countplot(x=\"stroke\",data=dataset,hue='heart_disease', ax=axs[2])\n",
        "sns.countplot(x=\"stroke\",data=dataset,hue='ever_married', ax=axs[3])\n",
        "fig, axs = plt.subplots(ncols=3, figsize=(18, 4))\n",
        "sns.countplot(x=\"stroke\",data=dataset,hue='work_type', ax=axs[0])\n",
        "sns.countplot(x=\"stroke\",data=dataset,hue='Residence_type', ax=axs[1])\n",
        "sns.countplot(x=\"stroke\",data=dataset,hue='smoking_status', ax=axs[2])"
      ],
      "execution_count": 585,
      "outputs": [
        {
          "output_type": "execute_result",
          "data": {
            "text/plain": [
              "<matplotlib.axes._subplots.AxesSubplot at 0x7f4a7141e910>"
            ]
          },
          "metadata": {
            "tags": []
          },
          "execution_count": 585
        },
        {
          "output_type": "display_data",
          "data": {
            "image/png": "[encoded data removed]",
            "text/plain": [
              "<Figure size 1296x288 with 4 Axes>"
            ]
          },
          "metadata": {
            "tags": [],
            "needs_background": "light"
          }
        },
        {
          "output_type": "display_data",
          "data": {
            "image/png": "[encoded data removed]",
            "text/plain": [
              "<Figure size 1296x288 with 3 Axes>"
            ]
          },
          "metadata": {
            "tags": [],
            "needs_background": "light"
          }
        }
      ]
    },
    {
      "cell_type": "code",
      "metadata": {
        "colab": {
          "base_uri": "https://localhost:8080/",
          "height": 0
        },
        "id": "oDFCccmK6w5M",
        "outputId": "4499823b-8da4-444d-be58-890495821ea7"
      },
      "source": [
        "plt.subplot(2,1,2)\n",
        "sns.scatterplot(x=stroke['age'],y=stroke['avg_glucose_level'],hue=stroke['stroke'])\n",
        "plt.tight_layout()\n",
        "plt.show()"
      ],
      "execution_count": 586,
      "outputs": [
        {
          "output_type": "display_data",
          "data": {
            "image/png": "[encoded data removed]",
            "text/plain": [
              "<Figure size 432x288 with 1 Axes>"
            ]
          },
          "metadata": {
            "tags": [],
            "needs_background": "light"
          }
        }
      ]
    },
    {
      "cell_type": "code",
      "metadata": {
        "id": "_vhoWcYhtzZu",
        "outputId": "aa8bc1b0-fcab-4fc6-c7bf-a4307ff61cb5",
        "colab": {
          "base_uri": "https://localhost:8080/",
          "height": 0
        }
      },
      "source": [
        "dataset.corr()"
      ],
      "execution_count": 587,
      "outputs": [
        {
          "output_type": "execute_result",
          "data": {
            "text/html": [
              "<div>\n",
              "<style scoped>\n",
              "    .dataframe tbody tr th:only-of-type {\n",
              "        vertical-align: middle;\n",
              "    }\n",
              "\n",
              "    .dataframe tbody tr th {\n",
              "        vertical-align: top;\n",
              "    }\n",
              "\n",
              "    .dataframe thead th {\n",
              "        text-align: right;\n",
              "    }\n",
              "</style>\n",
              "<table border=\"1\" class=\"dataframe\">\n",
              "  <thead>\n",
              "    <tr style=\"text-align: right;\">\n",
              "      <th></th>\n",
              "      <th>age</th>\n",
              "      <th>hypertension</th>\n",
              "      <th>heart_disease</th>\n",
              "      <th>avg_glucose_level</th>\n",
              "      <th>bmi</th>\n",
              "      <th>stroke</th>\n",
              "    </tr>\n",
              "  </thead>\n",
              "  <tbody>\n",
              "    <tr>\n",
              "      <th>age</th>\n",
              "      <td>1.000000</td>\n",
              "      <td>0.276398</td>\n",
              "      <td>0.263796</td>\n",
              "      <td>0.238171</td>\n",
              "      <td>0.333398</td>\n",
              "      <td>0.245257</td>\n",
              "    </tr>\n",
              "    <tr>\n",
              "      <th>hypertension</th>\n",
              "      <td>0.276398</td>\n",
              "      <td>1.000000</td>\n",
              "      <td>0.108306</td>\n",
              "      <td>0.174474</td>\n",
              "      <td>0.167811</td>\n",
              "      <td>0.127904</td>\n",
              "    </tr>\n",
              "    <tr>\n",
              "      <th>heart_disease</th>\n",
              "      <td>0.263796</td>\n",
              "      <td>0.108306</td>\n",
              "      <td>1.000000</td>\n",
              "      <td>0.161857</td>\n",
              "      <td>0.041357</td>\n",
              "      <td>0.134914</td>\n",
              "    </tr>\n",
              "    <tr>\n",
              "      <th>avg_glucose_level</th>\n",
              "      <td>0.238171</td>\n",
              "      <td>0.174474</td>\n",
              "      <td>0.161857</td>\n",
              "      <td>1.000000</td>\n",
              "      <td>0.175502</td>\n",
              "      <td>0.131945</td>\n",
              "    </tr>\n",
              "    <tr>\n",
              "      <th>bmi</th>\n",
              "      <td>0.333398</td>\n",
              "      <td>0.167811</td>\n",
              "      <td>0.041357</td>\n",
              "      <td>0.175502</td>\n",
              "      <td>1.000000</td>\n",
              "      <td>0.042374</td>\n",
              "    </tr>\n",
              "    <tr>\n",
              "      <th>stroke</th>\n",
              "      <td>0.245257</td>\n",
              "      <td>0.127904</td>\n",
              "      <td>0.134914</td>\n",
              "      <td>0.131945</td>\n",
              "      <td>0.042374</td>\n",
              "      <td>1.000000</td>\n",
              "    </tr>\n",
              "  </tbody>\n",
              "</table>\n",
              "</div>"
            ],
            "text/plain": [
              "                        age  hypertension  ...       bmi    stroke\n",
              "age                1.000000      0.276398  ...  0.333398  0.245257\n",
              "hypertension       0.276398      1.000000  ...  0.167811  0.127904\n",
              "heart_disease      0.263796      0.108306  ...  0.041357  0.134914\n",
              "avg_glucose_level  0.238171      0.174474  ...  0.175502  0.131945\n",
              "bmi                0.333398      0.167811  ...  1.000000  0.042374\n",
              "stroke             0.245257      0.127904  ...  0.042374  1.000000\n",
              "\n",
              "[6 rows x 6 columns]"
            ]
          },
          "metadata": {
            "tags": []
          },
          "execution_count": 587
        }
      ]
    },
    {
      "cell_type": "markdown",
      "metadata": {
        "id": "hr0AU3ZmzPID"
      },
      "source": [
        "# 3. Предобработка данных\n",
        "Видно, что у нас есть пропуски в bmi, а также есть пациенты, у которых неизвестен статус курения. Необходимо обработать эти значения, а также категориальные признаки - age, smoking_status, work_type.\n",
        "Бинарные признаки - hypertension, heart_disease, Residence_type, ever_married, gender (other всего один, можно его отбросить).\n",
        "Столбец id отбросим. \n",
        "Признаки age, work_type, avg_glucose_level, bmi можно преобразовать. Для bmi можно обозначить норму, неизвестный статус и превышение нормы. Желательно, чтобы в обучающую выборку попали хотя бы несколько пациентов, у которых есть статус Never_worked, а также обязательно - часть тех, у кого был инсульт и хотя бы немного с 0 для heart_disease и hypertension\n",
        "\n",
        "\n"
      ]
    },
    {
      "cell_type": "code",
      "metadata": {
        "id": "ygn9Cotl-SZC",
        "colab": {
          "base_uri": "https://localhost:8080/",
          "height": 424
        },
        "outputId": "b06f24a7-feed-435b-d66d-edf319e7a3b0"
      },
      "source": [
        "# Удалим лишнего пациента с \"другим\" полом \n",
        "print(dataset.shape)\n",
        "dataset = dataset.drop(np.where(dataset['gender'] == \"Other\")[0])\n",
        "print(dataset.value_counts(\"gender\"))\n",
        "print(dataset.shape)\n",
        "\n",
        "# Преобразуем возраст в категориальный признак. \n",
        "def process_age(df, cut_points, label_names):\n",
        "    df['age'] = df['age'].replace(np.NaN, -0.5) #fillna\n",
        "    df['Age_categories'] = pd.cut(df['age'], bins=cut_points, labels=label_names)\n",
        "    return df\n",
        "\n",
        "# Нас в основном интересуют пациенты с возрастом от 35-55 до 80. \n",
        "cut_points = [0, 18, 35, 55, 65, 100]\n",
        "label_names = [\"Infant\", \"Young\", \"Adult\", \"Aged\", \"Eldest\"]\n",
        "dataset = process_age(dataset, cut_points, label_names)\n",
        "\n",
        "age_cat_pivot = dataset.pivot_table(index=\"Age_categories\",values=\"stroke\")\n",
        "age_cat_pivot.plot.bar()\n",
        "plt.show()"
      ],
      "execution_count": 588,
      "outputs": [
        {
          "output_type": "stream",
          "text": [
            "(5110, 11)\n",
            "gender\n",
            "Female    2994\n",
            "Male      2115\n",
            "dtype: int64\n",
            "(5109, 11)\n"
          ],
          "name": "stdout"
        },
        {
          "output_type": "display_data",
          "data": {
            "image/png": "[encoded data removed]",
            "text/plain": [
              "<Figure size 432x288 with 1 Axes>"
            ]
          },
          "metadata": {
            "tags": [],
            "needs_background": "light"
          }
        }
      ]
    },
    {
      "cell_type": "code",
      "metadata": {
        "id": "g59lM_RVkD2l"
      },
      "source": [
        "def create_dummies(df, column_name):\n",
        "    dum = pd.get_dummies(df[column_name], prefix=column_name)\n",
        "    df = pd.concat([df,dum],axis=1)\n",
        "    return df\n",
        "\n",
        "dataset = create_dummies(dataset, \"hypertension\")\n",
        "dataset = create_dummies(dataset, \"heart_disease\")\n",
        "dataset = create_dummies(dataset, \"Residence_type\")\n",
        "dataset = create_dummies(dataset, \"gender\")\n",
        "\n",
        "dataset = create_dummies(dataset, \"work_type\")\n",
        "dataset = create_dummies(dataset, \"Age_categories\")"
      ],
      "execution_count": 589,
      "outputs": []
    },
    {
      "cell_type": "code",
      "metadata": {
        "id": "OKveaGWRx57v"
      },
      "source": [
        "dataset = dataset.drop(columns=['gender', 'ever_married', \"work_type\", \"Age_categories\", \"Residence_type\", \"smoking_status\", \"hypertension\", \"heart_disease\"], axis=1)"
      ],
      "execution_count": 590,
      "outputs": []
    },
    {
      "cell_type": "code",
      "metadata": {
        "colab": {
          "base_uri": "https://localhost:8080/"
        },
        "id": "8UyYGPsr2o-o",
        "outputId": "5f95748e-ad28-4fea-ab4f-343c0cf2436a"
      },
      "source": [
        "miss_bmi = dataset[dataset.bmi.isna()]\n",
        "print(\"missing:\", len(miss_bmi))\n",
        "print(\"missing with stroke:\", len(miss_bmi[miss_bmi.stroke == 1]))\n",
        "print(\"В наборе данных у 40 из 249 пациентов с инсультом неизвестен ИМТ\")"
      ],
      "execution_count": 591,
      "outputs": [
        {
          "output_type": "stream",
          "text": [
            "missing: 201\n",
            "missing with stroke: 40\n",
            "В наборе данных у 40 из 249 пациентов с инсультом неизвестен ИМТ\n"
          ],
          "name": "stdout"
        }
      ]
    },
    {
      "cell_type": "code",
      "metadata": {
        "colab": {
          "base_uri": "https://localhost:8080/"
        },
        "id": "Hjd0VGxD47rn",
        "outputId": "79358109-17a3-48be-b844-95d4bc000989"
      },
      "source": [
        "# пробуем предсказать имт, вместо медианы\\среднего\n",
        "data = dataset.copy()\n",
        "data = data[~data.bmi.isna()]\n",
        "print(data.shape)\n",
        "y = data['bmi']\n",
        "\n",
        "data = data[['hypertension_0', 'hypertension_1', 'avg_glucose_level', 'work_type_children', \n",
        "             'Age_categories_Infant', 'Age_categories_Young', 'Age_categories_Adult', 'Age_categories_Aged', 'Age_categories_Eldest']]"
      ],
      "execution_count": 592,
      "outputs": [
        {
          "output_type": "stream",
          "text": [
            "(4908, 22)\n"
          ],
          "name": "stdout"
        }
      ]
    },
    {
      "cell_type": "code",
      "metadata": {
        "colab": {
          "base_uri": "https://localhost:8080/"
        },
        "id": "zoUfy_qpTgSu",
        "outputId": "bd3f5992-218e-41ed-c744-2a2cd1a4ad2c"
      },
      "source": [
        "from sklearn.ensemble import GradientBoostingRegressor\n",
        "\n",
        "# у нас всего 249 пациентов с инсультом из 5к. все они находятся в начале датасета\n",
        "x_train, x_test, y_train, y_test = train_test_split(data, y, train_size=0.8, random_state=42)\n",
        "print(x_train.shape, x_test.shape, y_train.shape, y_test.shape) \n",
        "\n",
        "model = Pipeline( steps=[ ('scale',StandardScaler()),\n",
        "                          ('lr',GradientBoostingRegressor(random_state=42))])\n",
        "model.fit(x_train, y_train)\n",
        "y_pred = model.predict(x_test)\n",
        "\n",
        "print('Предсказанные значения:\\n', np.around(list(y_pred[:50]), 1))\n",
        "print('Истинные значения:\\n', np.around(list(y_test[:50]), 1))"
      ],
      "execution_count": 593,
      "outputs": [
        {
          "output_type": "stream",
          "text": [
            "(3926, 9) (982, 9) (3926,) (982,)\n",
            "Предсказанные значения:\n",
            " [29.5 30.8 30.1 29.1 30.9 28.2 29.5 28.2 30.5 25.7 29.3 28.8 30.8 29.\n",
            " 30.2 39.9 28.7 29.3 30.9 30.9 30.9 30.9 35.3 30.9 30.5 30.6 30.4 26.3\n",
            " 27.6 29.2 33.6 29.1 33.8 29.1 19.7 29.9 29.9 30.9 31.9 30.8 30.7 32.7\n",
            " 19.7 29.8 19.7 29.3 20.3 29.8 29.  29. ]\n",
            "Истинные значения:\n",
            " [32.3 31.4 32.1 25.3 22.2 20.1 23.2 30.3 24.8 21.2 32.  24.4 26.4 16.9\n",
            " 30.5 35.1 23.6 35.3 32.4 22.7 23.1 24.1 38.9 39.1 17.3 33.7 37.7 22.6\n",
            " 36.4 29.2 28.4 28.4 24.6 46.5 18.4 35.5 27.9 21.5 24.1 44.  28.1 37.4\n",
            " 27.5 52.8 20.5 29.6 18.6 37.  41.3 43. ]\n"
          ],
          "name": "stdout"
        }
      ]
    },
    {
      "cell_type": "code",
      "metadata": {
        "colab": {
          "base_uri": "https://localhost:8080/"
        },
        "id": "xMvXndKOYQLa",
        "outputId": "1ebb1ae3-2af5-480c-8834-2306c028e986"
      },
      "source": [
        "from sklearn.metrics import accuracy_score, r2_score\n",
        "\n",
        "train = pd.concat([x_train,y_train],axis=1)\n",
        "test = pd.concat([x_test,y_test],axis=1)\n",
        "y_pred = test.copy()\n",
        "\n",
        "bmi_mean = np.mean(train['bmi'])\n",
        "y_pred['bmi'] = bmi_mean\n",
        "print('Model score:', model.score(x_test, y_test))\n",
        "print('Mean score: ', r2_score(y_test, y_pred.bmi)) # Model score: 0.24334161688879252\n",
        "# видно, что модель дает хоть и не очень точные, но достаточно качественные значения, в отличие от усреднения"
      ],
      "execution_count": 594,
      "outputs": [
        {
          "output_type": "stream",
          "text": [
            "Model score: 0.24334161688879252\n",
            "Mean score:  -0.0011478514902276693\n"
          ],
          "name": "stdout"
        }
      ]
    },
    {
      "cell_type": "code",
      "metadata": {
        "id": "WDlLrxPAjBjl"
      },
      "source": [
        "# Теперь предскажем имт для NAN\n",
        "model = Pipeline( steps=[ ('scale',StandardScaler()),\n",
        "                          ('lr',GradientBoostingRegressor(random_state=42))])\n",
        "model.fit(data, y)\n",
        "\n",
        "X = miss_bmi[['hypertension_0', 'hypertension_1','avg_glucose_level', 'work_type_children', \n",
        "             'Age_categories_Infant', 'Age_categories_Young', 'Age_categories_Adult', 'Age_categories_Aged', 'Age_categories_Eldest']]\n",
        "y_pred = model.predict(X)\n",
        "dataset = dataset.copy()\n",
        "dataset.loc[miss_bmi.index,'bmi'] = pd.Series(y_pred,index=miss_bmi.index)"
      ],
      "execution_count": 595,
      "outputs": []
    },
    {
      "cell_type": "code",
      "metadata": {
        "id": "QjDzE7eYuZLT",
        "outputId": "a5a5dfbe-b96b-4228-9a70-55c621be9d31",
        "colab": {
          "base_uri": "https://localhost:8080/",
          "height": 777
        }
      },
      "source": [
        "dataset.corr()"
      ],
      "execution_count": 596,
      "outputs": [
        {
          "output_type": "execute_result",
          "data": {
            "text/html": [
              "<div>\n",
              "<style scoped>\n",
              "    .dataframe tbody tr th:only-of-type {\n",
              "        vertical-align: middle;\n",
              "    }\n",
              "\n",
              "    .dataframe tbody tr th {\n",
              "        vertical-align: top;\n",
              "    }\n",
              "\n",
              "    .dataframe thead th {\n",
              "        text-align: right;\n",
              "    }\n",
              "</style>\n",
              "<table border=\"1\" class=\"dataframe\">\n",
              "  <thead>\n",
              "    <tr style=\"text-align: right;\">\n",
              "      <th></th>\n",
              "      <th>age</th>\n",
              "      <th>avg_glucose_level</th>\n",
              "      <th>bmi</th>\n",
              "      <th>stroke</th>\n",
              "      <th>hypertension_0</th>\n",
              "      <th>hypertension_1</th>\n",
              "      <th>heart_disease_0</th>\n",
              "      <th>heart_disease_1</th>\n",
              "      <th>Residence_type_Rural</th>\n",
              "      <th>Residence_type_Urban</th>\n",
              "      <th>gender_Female</th>\n",
              "      <th>gender_Male</th>\n",
              "      <th>work_type_Govt_job</th>\n",
              "      <th>work_type_Never_worked</th>\n",
              "      <th>work_type_Private</th>\n",
              "      <th>work_type_Self-employed</th>\n",
              "      <th>work_type_children</th>\n",
              "      <th>Age_categories_Infant</th>\n",
              "      <th>Age_categories_Young</th>\n",
              "      <th>Age_categories_Adult</th>\n",
              "      <th>Age_categories_Aged</th>\n",
              "      <th>Age_categories_Eldest</th>\n",
              "    </tr>\n",
              "  </thead>\n",
              "  <tbody>\n",
              "    <tr>\n",
              "      <th>age</th>\n",
              "      <td>1.000000</td>\n",
              "      <td>0.238323</td>\n",
              "      <td>0.334523</td>\n",
              "      <td>0.245239</td>\n",
              "      <td>-0.276367</td>\n",
              "      <td>0.276367</td>\n",
              "      <td>-0.263777</td>\n",
              "      <td>0.263777</td>\n",
              "      <td>-0.014031</td>\n",
              "      <td>0.014031</td>\n",
              "      <td>0.027752</td>\n",
              "      <td>-0.027752</td>\n",
              "      <td>0.129965</td>\n",
              "      <td>-0.078667</td>\n",
              "      <td>0.116678</td>\n",
              "      <td>0.327949</td>\n",
              "      <td>-0.634320</td>\n",
              "      <td>-0.703862</td>\n",
              "      <td>-0.342969</td>\n",
              "      <td>0.078950</td>\n",
              "      <td>0.306990</td>\n",
              "      <td>0.668314</td>\n",
              "    </tr>\n",
              "    <tr>\n",
              "      <th>avg_glucose_level</th>\n",
              "      <td>0.238323</td>\n",
              "      <td>1.000000</td>\n",
              "      <td>0.182611</td>\n",
              "      <td>0.131991</td>\n",
              "      <td>-0.174540</td>\n",
              "      <td>0.174540</td>\n",
              "      <td>-0.161907</td>\n",
              "      <td>0.161907</td>\n",
              "      <td>0.004783</td>\n",
              "      <td>-0.004783</td>\n",
              "      <td>-0.054722</td>\n",
              "      <td>0.054722</td>\n",
              "      <td>0.013908</td>\n",
              "      <td>-0.014665</td>\n",
              "      <td>0.016451</td>\n",
              "      <td>0.062770</td>\n",
              "      <td>-0.102195</td>\n",
              "      <td>-0.117384</td>\n",
              "      <td>-0.136431</td>\n",
              "      <td>-0.020209</td>\n",
              "      <td>0.092376</td>\n",
              "      <td>0.193326</td>\n",
              "    </tr>\n",
              "    <tr>\n",
              "      <th>bmi</th>\n",
              "      <td>0.334523</td>\n",
              "      <td>0.182611</td>\n",
              "      <td>1.000000</td>\n",
              "      <td>0.042145</td>\n",
              "      <td>-0.172230</td>\n",
              "      <td>0.172230</td>\n",
              "      <td>-0.043819</td>\n",
              "      <td>0.043819</td>\n",
              "      <td>0.001014</td>\n",
              "      <td>-0.001014</td>\n",
              "      <td>0.023867</td>\n",
              "      <td>-0.023867</td>\n",
              "      <td>0.079568</td>\n",
              "      <td>-0.028946</td>\n",
              "      <td>0.207985</td>\n",
              "      <td>0.073527</td>\n",
              "      <td>-0.453212</td>\n",
              "      <td>-0.436635</td>\n",
              "      <td>0.015490</td>\n",
              "      <td>0.224432</td>\n",
              "      <td>0.133727</td>\n",
              "      <td>0.030805</td>\n",
              "    </tr>\n",
              "    <tr>\n",
              "      <th>stroke</th>\n",
              "      <td>0.245239</td>\n",
              "      <td>0.131991</td>\n",
              "      <td>0.042145</td>\n",
              "      <td>1.000000</td>\n",
              "      <td>-0.127891</td>\n",
              "      <td>0.127891</td>\n",
              "      <td>-0.134905</td>\n",
              "      <td>0.134905</td>\n",
              "      <td>-0.015415</td>\n",
              "      <td>0.015415</td>\n",
              "      <td>-0.009081</td>\n",
              "      <td>0.009081</td>\n",
              "      <td>0.002660</td>\n",
              "      <td>-0.014885</td>\n",
              "      <td>0.011927</td>\n",
              "      <td>0.062150</td>\n",
              "      <td>-0.083888</td>\n",
              "      <td>-0.101056</td>\n",
              "      <td>-0.108106</td>\n",
              "      <td>-0.075308</td>\n",
              "      <td>0.047698</td>\n",
              "      <td>0.253072</td>\n",
              "    </tr>\n",
              "    <tr>\n",
              "      <th>hypertension_0</th>\n",
              "      <td>-0.276367</td>\n",
              "      <td>-0.174540</td>\n",
              "      <td>-0.172230</td>\n",
              "      <td>-0.127891</td>\n",
              "      <td>1.000000</td>\n",
              "      <td>-1.000000</td>\n",
              "      <td>0.108292</td>\n",
              "      <td>-0.108292</td>\n",
              "      <td>-0.007980</td>\n",
              "      <td>0.007980</td>\n",
              "      <td>0.021223</td>\n",
              "      <td>-0.021223</td>\n",
              "      <td>-0.017661</td>\n",
              "      <td>0.021612</td>\n",
              "      <td>0.005358</td>\n",
              "      <td>-0.115417</td>\n",
              "      <td>0.129535</td>\n",
              "      <td>0.151884</td>\n",
              "      <td>0.128488</td>\n",
              "      <td>0.012534</td>\n",
              "      <td>-0.082445</td>\n",
              "      <td>-0.219069</td>\n",
              "    </tr>\n",
              "    <tr>\n",
              "      <th>hypertension_1</th>\n",
              "      <td>0.276367</td>\n",
              "      <td>0.174540</td>\n",
              "      <td>0.172230</td>\n",
              "      <td>0.127891</td>\n",
              "      <td>-1.000000</td>\n",
              "      <td>1.000000</td>\n",
              "      <td>-0.108292</td>\n",
              "      <td>0.108292</td>\n",
              "      <td>0.007980</td>\n",
              "      <td>-0.007980</td>\n",
              "      <td>-0.021223</td>\n",
              "      <td>0.021223</td>\n",
              "      <td>0.017661</td>\n",
              "      <td>-0.021612</td>\n",
              "      <td>-0.005358</td>\n",
              "      <td>0.115417</td>\n",
              "      <td>-0.129535</td>\n",
              "      <td>-0.151884</td>\n",
              "      <td>-0.128488</td>\n",
              "      <td>-0.012534</td>\n",
              "      <td>0.082445</td>\n",
              "      <td>0.219069</td>\n",
              "    </tr>\n",
              "    <tr>\n",
              "      <th>heart_disease_0</th>\n",
              "      <td>-0.263777</td>\n",
              "      <td>-0.161907</td>\n",
              "      <td>-0.043819</td>\n",
              "      <td>-0.134905</td>\n",
              "      <td>0.108292</td>\n",
              "      <td>-0.108292</td>\n",
              "      <td>1.000000</td>\n",
              "      <td>-1.000000</td>\n",
              "      <td>0.003045</td>\n",
              "      <td>-0.003045</td>\n",
              "      <td>0.085685</td>\n",
              "      <td>-0.085685</td>\n",
              "      <td>-0.001312</td>\n",
              "      <td>0.015715</td>\n",
              "      <td>-0.000068</td>\n",
              "      <td>-0.086742</td>\n",
              "      <td>0.091654</td>\n",
              "      <td>0.109437</td>\n",
              "      <td>0.112175</td>\n",
              "      <td>0.077429</td>\n",
              "      <td>-0.038351</td>\n",
              "      <td>-0.276218</td>\n",
              "    </tr>\n",
              "    <tr>\n",
              "      <th>heart_disease_1</th>\n",
              "      <td>0.263777</td>\n",
              "      <td>0.161907</td>\n",
              "      <td>0.043819</td>\n",
              "      <td>0.134905</td>\n",
              "      <td>-0.108292</td>\n",
              "      <td>0.108292</td>\n",
              "      <td>-1.000000</td>\n",
              "      <td>1.000000</td>\n",
              "      <td>-0.003045</td>\n",
              "      <td>0.003045</td>\n",
              "      <td>-0.085685</td>\n",
              "      <td>0.085685</td>\n",
              "      <td>0.001312</td>\n",
              "      <td>-0.015715</td>\n",
              "      <td>0.000068</td>\n",
              "      <td>0.086742</td>\n",
              "      <td>-0.091654</td>\n",
              "      <td>-0.109437</td>\n",
              "      <td>-0.112175</td>\n",
              "      <td>-0.077429</td>\n",
              "      <td>0.038351</td>\n",
              "      <td>0.276218</td>\n",
              "    </tr>\n",
              "    <tr>\n",
              "      <th>Residence_type_Rural</th>\n",
              "      <td>-0.014031</td>\n",
              "      <td>0.004783</td>\n",
              "      <td>0.001014</td>\n",
              "      <td>-0.015415</td>\n",
              "      <td>-0.007980</td>\n",
              "      <td>0.007980</td>\n",
              "      <td>0.003045</td>\n",
              "      <td>-0.003045</td>\n",
              "      <td>1.000000</td>\n",
              "      <td>-1.000000</td>\n",
              "      <td>-0.006105</td>\n",
              "      <td>0.006105</td>\n",
              "      <td>-0.013056</td>\n",
              "      <td>-0.022848</td>\n",
              "      <td>0.018005</td>\n",
              "      <td>-0.010508</td>\n",
              "      <td>0.002388</td>\n",
              "      <td>0.010656</td>\n",
              "      <td>-0.006978</td>\n",
              "      <td>0.004120</td>\n",
              "      <td>0.008316</td>\n",
              "      <td>-0.015665</td>\n",
              "    </tr>\n",
              "    <tr>\n",
              "      <th>Residence_type_Urban</th>\n",
              "      <td>0.014031</td>\n",
              "      <td>-0.004783</td>\n",
              "      <td>-0.001014</td>\n",
              "      <td>0.015415</td>\n",
              "      <td>0.007980</td>\n",
              "      <td>-0.007980</td>\n",
              "      <td>-0.003045</td>\n",
              "      <td>0.003045</td>\n",
              "      <td>-1.000000</td>\n",
              "      <td>1.000000</td>\n",
              "      <td>0.006105</td>\n",
              "      <td>-0.006105</td>\n",
              "      <td>0.013056</td>\n",
              "      <td>0.022848</td>\n",
              "      <td>-0.018005</td>\n",
              "      <td>0.010508</td>\n",
              "      <td>-0.002388</td>\n",
              "      <td>-0.010656</td>\n",
              "      <td>0.006978</td>\n",
              "      <td>-0.004120</td>\n",
              "      <td>-0.008316</td>\n",
              "      <td>0.015665</td>\n",
              "    </tr>\n",
              "    <tr>\n",
              "      <th>gender_Female</th>\n",
              "      <td>0.027752</td>\n",
              "      <td>-0.054722</td>\n",
              "      <td>0.023867</td>\n",
              "      <td>-0.009081</td>\n",
              "      <td>0.021223</td>\n",
              "      <td>-0.021223</td>\n",
              "      <td>0.085685</td>\n",
              "      <td>-0.085685</td>\n",
              "      <td>-0.006105</td>\n",
              "      <td>0.006105</td>\n",
              "      <td>1.000000</td>\n",
              "      <td>-1.000000</td>\n",
              "      <td>0.016598</td>\n",
              "      <td>-0.011486</td>\n",
              "      <td>0.032502</td>\n",
              "      <td>0.026045</td>\n",
              "      <td>-0.089226</td>\n",
              "      <td>-0.088884</td>\n",
              "      <td>0.073141</td>\n",
              "      <td>0.029733</td>\n",
              "      <td>-0.031078</td>\n",
              "      <td>0.006585</td>\n",
              "    </tr>\n",
              "    <tr>\n",
              "      <th>gender_Male</th>\n",
              "      <td>-0.027752</td>\n",
              "      <td>0.054722</td>\n",
              "      <td>-0.023867</td>\n",
              "      <td>0.009081</td>\n",
              "      <td>-0.021223</td>\n",
              "      <td>0.021223</td>\n",
              "      <td>-0.085685</td>\n",
              "      <td>0.085685</td>\n",
              "      <td>0.006105</td>\n",
              "      <td>-0.006105</td>\n",
              "      <td>-1.000000</td>\n",
              "      <td>1.000000</td>\n",
              "      <td>-0.016598</td>\n",
              "      <td>0.011486</td>\n",
              "      <td>-0.032502</td>\n",
              "      <td>-0.026045</td>\n",
              "      <td>0.089226</td>\n",
              "      <td>0.088884</td>\n",
              "      <td>-0.073141</td>\n",
              "      <td>-0.029733</td>\n",
              "      <td>0.031078</td>\n",
              "      <td>-0.006585</td>\n",
              "    </tr>\n",
              "    <tr>\n",
              "      <th>work_type_Govt_job</th>\n",
              "      <td>0.129965</td>\n",
              "      <td>0.013908</td>\n",
              "      <td>0.079568</td>\n",
              "      <td>0.002660</td>\n",
              "      <td>-0.017661</td>\n",
              "      <td>0.017661</td>\n",
              "      <td>-0.001312</td>\n",
              "      <td>0.001312</td>\n",
              "      <td>-0.013056</td>\n",
              "      <td>0.013056</td>\n",
              "      <td>0.016598</td>\n",
              "      <td>-0.016598</td>\n",
              "      <td>1.000000</td>\n",
              "      <td>-0.025263</td>\n",
              "      <td>-0.444394</td>\n",
              "      <td>-0.167849</td>\n",
              "      <td>-0.151417</td>\n",
              "      <td>-0.165834</td>\n",
              "      <td>-0.038999</td>\n",
              "      <td>0.132087</td>\n",
              "      <td>0.055098</td>\n",
              "      <td>-0.001637</td>\n",
              "    </tr>\n",
              "    <tr>\n",
              "      <th>work_type_Never_worked</th>\n",
              "      <td>-0.078667</td>\n",
              "      <td>-0.014665</td>\n",
              "      <td>-0.028946</td>\n",
              "      <td>-0.014885</td>\n",
              "      <td>0.021612</td>\n",
              "      <td>-0.021612</td>\n",
              "      <td>0.015715</td>\n",
              "      <td>-0.015715</td>\n",
              "      <td>-0.022848</td>\n",
              "      <td>0.022848</td>\n",
              "      <td>-0.011486</td>\n",
              "      <td>0.011486</td>\n",
              "      <td>-0.025263</td>\n",
              "      <td>1.000000</td>\n",
              "      <td>-0.076075</td>\n",
              "      <td>-0.028734</td>\n",
              "      <td>-0.025921</td>\n",
              "      <td>0.125115</td>\n",
              "      <td>-0.016907</td>\n",
              "      <td>-0.042697</td>\n",
              "      <td>-0.026872</td>\n",
              "      <td>-0.031735</td>\n",
              "    </tr>\n",
              "    <tr>\n",
              "      <th>work_type_Private</th>\n",
              "      <td>0.116678</td>\n",
              "      <td>0.016451</td>\n",
              "      <td>0.207985</td>\n",
              "      <td>0.011927</td>\n",
              "      <td>0.005358</td>\n",
              "      <td>-0.005358</td>\n",
              "      <td>-0.000068</td>\n",
              "      <td>0.000068</td>\n",
              "      <td>0.018005</td>\n",
              "      <td>-0.018005</td>\n",
              "      <td>0.032502</td>\n",
              "      <td>-0.032502</td>\n",
              "      <td>-0.444394</td>\n",
              "      <td>-0.076075</td>\n",
              "      <td>1.000000</td>\n",
              "      <td>-0.505448</td>\n",
              "      <td>-0.455965</td>\n",
              "      <td>-0.349888</td>\n",
              "      <td>0.251991</td>\n",
              "      <td>0.110815</td>\n",
              "      <td>0.039129</td>\n",
              "      <td>-0.075091</td>\n",
              "    </tr>\n",
              "    <tr>\n",
              "      <th>work_type_Self-employed</th>\n",
              "      <td>0.327949</td>\n",
              "      <td>0.062770</td>\n",
              "      <td>0.073527</td>\n",
              "      <td>0.062150</td>\n",
              "      <td>-0.115417</td>\n",
              "      <td>0.115417</td>\n",
              "      <td>-0.086742</td>\n",
              "      <td>0.086742</td>\n",
              "      <td>-0.010508</td>\n",
              "      <td>0.010508</td>\n",
              "      <td>0.026045</td>\n",
              "      <td>-0.026045</td>\n",
              "      <td>-0.167849</td>\n",
              "      <td>-0.028734</td>\n",
              "      <td>-0.505448</td>\n",
              "      <td>1.000000</td>\n",
              "      <td>-0.172219</td>\n",
              "      <td>-0.183359</td>\n",
              "      <td>-0.122421</td>\n",
              "      <td>-0.024369</td>\n",
              "      <td>0.051523</td>\n",
              "      <td>0.285281</td>\n",
              "    </tr>\n",
              "    <tr>\n",
              "      <th>work_type_children</th>\n",
              "      <td>-0.634320</td>\n",
              "      <td>-0.102195</td>\n",
              "      <td>-0.453212</td>\n",
              "      <td>-0.083888</td>\n",
              "      <td>0.129535</td>\n",
              "      <td>-0.129535</td>\n",
              "      <td>0.091654</td>\n",
              "      <td>-0.091654</td>\n",
              "      <td>0.002388</td>\n",
              "      <td>-0.002388</td>\n",
              "      <td>-0.089226</td>\n",
              "      <td>0.089226</td>\n",
              "      <td>-0.151417</td>\n",
              "      <td>-0.025921</td>\n",
              "      <td>-0.455965</td>\n",
              "      <td>-0.172219</td>\n",
              "      <td>1.000000</td>\n",
              "      <td>0.843303</td>\n",
              "      <td>-0.192268</td>\n",
              "      <td>-0.255909</td>\n",
              "      <td>-0.161061</td>\n",
              "      <td>-0.190205</td>\n",
              "    </tr>\n",
              "    <tr>\n",
              "      <th>Age_categories_Infant</th>\n",
              "      <td>-0.703862</td>\n",
              "      <td>-0.117384</td>\n",
              "      <td>-0.436635</td>\n",
              "      <td>-0.101056</td>\n",
              "      <td>0.151884</td>\n",
              "      <td>-0.151884</td>\n",
              "      <td>0.109437</td>\n",
              "      <td>-0.109437</td>\n",
              "      <td>0.010656</td>\n",
              "      <td>-0.010656</td>\n",
              "      <td>-0.088884</td>\n",
              "      <td>0.088884</td>\n",
              "      <td>-0.165834</td>\n",
              "      <td>0.125115</td>\n",
              "      <td>-0.349888</td>\n",
              "      <td>-0.183359</td>\n",
              "      <td>0.843303</td>\n",
              "      <td>1.000000</td>\n",
              "      <td>-0.227994</td>\n",
              "      <td>-0.303461</td>\n",
              "      <td>-0.190988</td>\n",
              "      <td>-0.225548</td>\n",
              "    </tr>\n",
              "    <tr>\n",
              "      <th>Age_categories_Young</th>\n",
              "      <td>-0.342969</td>\n",
              "      <td>-0.136431</td>\n",
              "      <td>0.015490</td>\n",
              "      <td>-0.108106</td>\n",
              "      <td>0.128488</td>\n",
              "      <td>-0.128488</td>\n",
              "      <td>0.112175</td>\n",
              "      <td>-0.112175</td>\n",
              "      <td>-0.006978</td>\n",
              "      <td>0.006978</td>\n",
              "      <td>0.073141</td>\n",
              "      <td>-0.073141</td>\n",
              "      <td>-0.038999</td>\n",
              "      <td>-0.016907</td>\n",
              "      <td>0.251991</td>\n",
              "      <td>-0.122421</td>\n",
              "      <td>-0.192268</td>\n",
              "      <td>-0.227994</td>\n",
              "      <td>1.000000</td>\n",
              "      <td>-0.316706</td>\n",
              "      <td>-0.199324</td>\n",
              "      <td>-0.235392</td>\n",
              "    </tr>\n",
              "    <tr>\n",
              "      <th>Age_categories_Adult</th>\n",
              "      <td>0.078950</td>\n",
              "      <td>-0.020209</td>\n",
              "      <td>0.224432</td>\n",
              "      <td>-0.075308</td>\n",
              "      <td>0.012534</td>\n",
              "      <td>-0.012534</td>\n",
              "      <td>0.077429</td>\n",
              "      <td>-0.077429</td>\n",
              "      <td>0.004120</td>\n",
              "      <td>-0.004120</td>\n",
              "      <td>0.029733</td>\n",
              "      <td>-0.029733</td>\n",
              "      <td>0.132087</td>\n",
              "      <td>-0.042697</td>\n",
              "      <td>0.110815</td>\n",
              "      <td>-0.024369</td>\n",
              "      <td>-0.255909</td>\n",
              "      <td>-0.303461</td>\n",
              "      <td>-0.316706</td>\n",
              "      <td>1.000000</td>\n",
              "      <td>-0.265301</td>\n",
              "      <td>-0.313308</td>\n",
              "    </tr>\n",
              "    <tr>\n",
              "      <th>Age_categories_Aged</th>\n",
              "      <td>0.306990</td>\n",
              "      <td>0.092376</td>\n",
              "      <td>0.133727</td>\n",
              "      <td>0.047698</td>\n",
              "      <td>-0.082445</td>\n",
              "      <td>0.082445</td>\n",
              "      <td>-0.038351</td>\n",
              "      <td>0.038351</td>\n",
              "      <td>0.008316</td>\n",
              "      <td>-0.008316</td>\n",
              "      <td>-0.031078</td>\n",
              "      <td>0.031078</td>\n",
              "      <td>0.055098</td>\n",
              "      <td>-0.026872</td>\n",
              "      <td>0.039129</td>\n",
              "      <td>0.051523</td>\n",
              "      <td>-0.161061</td>\n",
              "      <td>-0.190988</td>\n",
              "      <td>-0.199324</td>\n",
              "      <td>-0.265301</td>\n",
              "      <td>1.000000</td>\n",
              "      <td>-0.197185</td>\n",
              "    </tr>\n",
              "    <tr>\n",
              "      <th>Age_categories_Eldest</th>\n",
              "      <td>0.668314</td>\n",
              "      <td>0.193326</td>\n",
              "      <td>0.030805</td>\n",
              "      <td>0.253072</td>\n",
              "      <td>-0.219069</td>\n",
              "      <td>0.219069</td>\n",
              "      <td>-0.276218</td>\n",
              "      <td>0.276218</td>\n",
              "      <td>-0.015665</td>\n",
              "      <td>0.015665</td>\n",
              "      <td>0.006585</td>\n",
              "      <td>-0.006585</td>\n",
              "      <td>-0.001637</td>\n",
              "      <td>-0.031735</td>\n",
              "      <td>-0.075091</td>\n",
              "      <td>0.285281</td>\n",
              "      <td>-0.190205</td>\n",
              "      <td>-0.225548</td>\n",
              "      <td>-0.235392</td>\n",
              "      <td>-0.313308</td>\n",
              "      <td>-0.197185</td>\n",
              "      <td>1.000000</td>\n",
              "    </tr>\n",
              "  </tbody>\n",
              "</table>\n",
              "</div>"
            ],
            "text/plain": [
              "                              age  ...  Age_categories_Eldest\n",
              "age                      1.000000  ...               0.668314\n",
              "avg_glucose_level        0.238323  ...               0.193326\n",
              "bmi                      0.334523  ...               0.030805\n",
              "stroke                   0.245239  ...               0.253072\n",
              "hypertension_0          -0.276367  ...              -0.219069\n",
              "hypertension_1           0.276367  ...               0.219069\n",
              "heart_disease_0         -0.263777  ...              -0.276218\n",
              "heart_disease_1          0.263777  ...               0.276218\n",
              "Residence_type_Rural    -0.014031  ...              -0.015665\n",
              "Residence_type_Urban     0.014031  ...               0.015665\n",
              "gender_Female            0.027752  ...               0.006585\n",
              "gender_Male             -0.027752  ...              -0.006585\n",
              "work_type_Govt_job       0.129965  ...              -0.001637\n",
              "work_type_Never_worked  -0.078667  ...              -0.031735\n",
              "work_type_Private        0.116678  ...              -0.075091\n",
              "work_type_Self-employed  0.327949  ...               0.285281\n",
              "work_type_children      -0.634320  ...              -0.190205\n",
              "Age_categories_Infant   -0.703862  ...              -0.225548\n",
              "Age_categories_Young    -0.342969  ...              -0.235392\n",
              "Age_categories_Adult     0.078950  ...              -0.313308\n",
              "Age_categories_Aged      0.306990  ...              -0.197185\n",
              "Age_categories_Eldest    0.668314  ...               1.000000\n",
              "\n",
              "[22 rows x 22 columns]"
            ]
          },
          "metadata": {
            "tags": []
          },
          "execution_count": 596
        }
      ]
    },
    {
      "cell_type": "markdown",
      "metadata": {
        "id": "1dZylz7X-SZE"
      },
      "source": [
        " # 4. Примените различные преобразования признаков (`PolynomialFeatures`)."
      ]
    },
    {
      "cell_type": "code",
      "metadata": {
        "id": "uuXKuP4_-SZG"
      },
      "source": [
        "# tpoly = PolynomialFeatures(degree=3, interaction_only=True)\n",
        "# tpoly3 = tpoly.fit_transform(train)\n",
        "# fpoly = PolynomialFeatures(degree=3, interaction_only=False)\n",
        "# fpoly3 = fpoly.fit_transform(train)"
      ],
      "execution_count": 597,
      "outputs": []
    },
    {
      "cell_type": "markdown",
      "metadata": {
        "id": "xLSt8MmV-SZH"
      },
      "source": [
        "__Задание 5.__  \n",
        "Обучите несколько классификаторов, в том числе:  \n",
        "1. Логистическую регрессию (`LogisticRegression`).\n",
        "1. Метод опорных векторов (`SVC`).\n",
        "1. Метод *k* ближайших соседей (`KNeighborsClassifier`).\n",
        "1. Наивный байесовский классификатор (`MultinomialNB`).\n",
        "1. Деревья решений (`DecisionTreeClassifier`).\n",
        "1. Случайный лес (`RandomForestClassifier`).\n",
        "1. AdaBoost (`AdaBoost`).\n",
        "1. Градиентный бустинг (`GradientBoostingClassifier`).\n",
        "\n",
        "Для обучения и проверки качества можно использовать функцию `train_test_split()`."
      ]
    },
    {
      "cell_type": "code",
      "metadata": {
        "colab": {
          "base_uri": "https://localhost:8080/"
        },
        "id": "qrsqbPOvi02d",
        "outputId": "094ab6b2-0155-42c3-d4bf-11e1dfb3f5c7"
      },
      "source": [
        "from sklearn.model_selection import StratifiedShuffleSplit\n",
        "# Разделим на тестовую, валидационную и обучающие выборки \n",
        "print(dataset.columns)\n",
        "y = dataset['stroke']\n",
        "X = dataset.copy()\n",
        "X = dataset[['gender_Female', 'gender_Male','avg_glucose_level','bmi', \n",
        "             'hypertension_0','hypertension_1', 'heart_disease_0', 'heart_disease_1',\n",
        "             'work_type_Govt_job', 'work_type_Never_worked', 'work_type_Private', 'work_type_Self-employed',\n",
        "             'Age_categories_Infant', 'Age_categories_Young', 'Age_categories_Adult', 'Age_categories_Aged',\n",
        "             'Age_categories_Eldest']] #X.drop(columns=drop_cols, axis=1)\n",
        "\n",
        "sss = StratifiedShuffleSplit(n_splits=4, train_size=0.7, random_state=42)\n",
        "sss.get_n_splits(X, y)\n",
        "print(sss)\n",
        "for train_index, test_index in sss.split(X, y):\n",
        "    x_train, x_test = X.iloc[train_index], X.iloc[test_index]\n",
        "    y_train, y_test = y.iloc[train_index], y.iloc[test_index]\n",
        "\n",
        "print(y_train.value_counts(), y_test.value_counts()) # Видим, что распределение классов сохранено"
      ],
      "execution_count": 626,
      "outputs": [
        {
          "output_type": "stream",
          "text": [
            "Index(['age', 'avg_glucose_level', 'bmi', 'stroke', 'hypertension_0',\n",
            "       'hypertension_1', 'heart_disease_0', 'heart_disease_1',\n",
            "       'Residence_type_Rural', 'Residence_type_Urban', 'gender_Female',\n",
            "       'gender_Male', 'work_type_Govt_job', 'work_type_Never_worked',\n",
            "       'work_type_Private', 'work_type_Self-employed', 'work_type_children',\n",
            "       'Age_categories_Infant', 'Age_categories_Young', 'Age_categories_Adult',\n",
            "       'Age_categories_Aged', 'Age_categories_Eldest'],\n",
            "      dtype='object')\n",
            "StratifiedShuffleSplit(n_splits=4, random_state=42, test_size=None,\n",
            "            train_size=0.7)\n",
            "0    3402\n",
            "1     174\n",
            "Name: stroke, dtype: int64 0    1458\n",
            "1      75\n",
            "Name: stroke, dtype: int64\n"
          ],
          "name": "stdout"
        }
      ]
    },
    {
      "cell_type": "markdown",
      "metadata": {
        "id": "RP2sHlpM-SZJ"
      },
      "source": [
        "__Задание 6.__  \n",
        "При помощи `Pipeline` и `GridSearchCV` выберите оптимальную архитектуру:\n",
        "1. Метод масштабирования.\n",
        "1. Степень полинома в `PolynomialFeatures`.\n",
        "1. Параметры классификаторов (в том числе, параметры регуляризации).\n",
        "\n",
        "Заносите в таблицу Excel результаты тестирования (варианты параметров, оценки качества)."
      ]
    },
    {
      "cell_type": "code",
      "metadata": {
        "id": "1Yj2cJq2lRgW",
        "colab": {
          "base_uri": "https://localhost:8080/",
          "height": 1000
        },
        "outputId": "557c6458-d3ff-4982-cf20-6841162fb351"
      },
      "source": [
        "from sklearn.svm import LinearSVC\n",
        "classifiers = [\n",
        "    LogisticRegression(),\n",
        "    SVC(),\n",
        "    KNeighborsClassifier(),\n",
        "    DecisionTreeClassifier(),\n",
        "    RandomForestClassifier(),\n",
        "    AdaBoostClassifier(),\n",
        "    GradientBoostingClassifier(),\n",
        "    LinearSVC()\n",
        "    ]\n",
        "\n",
        "# LogisticRegression()\n",
        "params1 = {\n",
        "     'clf__C': [0.001, 0.01, 0.1, 1, 10, 100], \"clf__solver\": ['newton-cg', 'lbfgs', 'liblinear', 'sag', 'saga'], \"clf__max_iter\": [3000,3500],\n",
        "           } \n",
        "# SVC\n",
        "params2 = {\"poly__degree\": range(1,2,1),\"clf__kernel\":[\"rbf\", \"poly\", \"linear\", \"sigmoid\"], \"clf__gamma\": [\"auto\", \"scale\"], \n",
        "           \"clf__degree\":range(1,6,1)}\n",
        "# KNeighborsClassifier()\n",
        "params3 = {\"poly__degree\": range(1,2,1),\"clf__n_neighbors\": range(4,10,1), \"clf__weights\": [\"uniform\", \"distance\"],\n",
        "         \"clf__algorithm\": ['ball_tree', 'kd_tree']}\n",
        "# MultinomialNB()\n",
        "params4 = {\"poly__degree\": range(1,2,1),\"clf__fit_prior\": ['True', 'False'], \"clf__alpha\": np.arange(0.8,1.2,0.1)}\n",
        "# DecisionTreeClassifier()\n",
        "params5 = {\"poly__degree\": range(1,2,1),\"clf__criterion\":[\"gini\", \"entropy\"], \"clf__max_depth\": range(14,18,1),\n",
        "           \"clf__min_samples_leaf\": range(8,14,1), \"clf__class_weight\": [\"balanced\", {0:1,1:5}] }   \n",
        "# RandomForestClassifier()\n",
        "params6 = {\"poly__degree\": range(1,2,1),\"clf__criterion\":[\"gini\", \"entropy\"], \"clf__class_weight\":[\"balanced\", \"balanced_subsample\"], \n",
        "           \"clf__max_depth\": range(10,28,2), \"clf__min_samples_leaf\": range(5,12,1), \"clf__n_estimators\":range(50,150,50)} \n",
        "# AdaBoostClassifier()\n",
        "params7 = {\"poly__degree\": range(1,2,1),\"clf__learning_rate\":np.arange(0.2,1.1,0.1), \"clf__n_estimators\":range(20,60,20),\n",
        "         \"clf__algorithm\":[\"SAMME\", \"SAMME.R\"]} \n",
        "# GradientBoostingClassifier()\n",
        "params8 = {\"poly__degree\": range(1,2,1),\"clf__loss\":[\"deviance\", \"exponential\"], \n",
        "           #\"clf__learning_rate\":[0.09,0.085,0.1], \"clf__n_estimators\":range(80,120,20),\n",
        "           #\"clf__min_samples_leaf\": range(1,4,1), \"clf__max_depth\": range(5,15,1), \n",
        "           #\"clf__max_features\": [\"auto\", \"sqrt\", \"log2\"], \"clf__validation_fraction\":np.arange(0.01,0.2,0.05)\n",
        "           }\n",
        "params9 = {\n",
        "        } \n",
        "parameters = [params1, params2, params3,  params5, params6, params7, params8, params9]\n",
        "i = 0\n",
        "for classifier in classifiers:\n",
        "    print(classifier)\n",
        "    pipe = Pipeline(steps=[('feature_selection', SelectFromModel(LinearSVC(C=0.01, penalty=\"l2\", dual=False,max_iter=2000))),\n",
        "                            ('scaler', StandardScaler()), #MinMaxScaler() StandardScaler()\n",
        "                            ('poly', PolynomialFeatures()),\n",
        "                            ('clf', classifier) # , return_train_score = True\n",
        "                      ])\n",
        "    # выбираем balanced_accuracy, а не accuracy, так как классы несбалансированы\n",
        "    grid_cv = model_selection.GridSearchCV(pipe, parameters[i], scoring='recall_macro') \n",
        "    grid_cv.fit(x_train, y_train)\n",
        "    print(\"model best f1 score: \", grid_cv.best_score_)    \n",
        "    print(grid_cv.best_params_)\n",
        "    model = grid_cv.best_estimator_\n",
        "    print(\"model test score: \", model.score(x_test, y_test))\n",
        "\n",
        "    y_pred = model.predict(x_test)\n",
        "    print(classification_report(y_pred,y_test))\n",
        "    plot_confusion_matrix(model, x_test, y_test, values_format='d')\n",
        "    plt.show()\n",
        "    try:      \n",
        "      fig = go.Figure()\n",
        "      fig.add_trace(go.Bar(x=x_test.columns,y = model['clf'].feature_importances_))\n",
        "      fig.update_layout(title='Feature selection results',xaxis_title='Model',yaxis_title='F1 Score')\n",
        "      fig.show()\n",
        "    except AttributeError:\n",
        "      print(AttributeError)\n",
        "\n",
        "    i+=1"
      ],
      "execution_count": null,
      "outputs": [
        {
          "output_type": "stream",
          "text": [
            "LogisticRegression(C=1.0, class_weight=None, dual=False, fit_intercept=True,\n",
            "                   intercept_scaling=1, l1_ratio=None, max_iter=100,\n",
            "                   multi_class='auto', n_jobs=None, penalty='l2',\n",
            "                   random_state=None, solver='lbfgs', tol=0.0001, verbose=0,\n",
            "                   warm_start=False)\n"
          ],
          "name": "stdout"
        },
        {
          "output_type": "stream",
          "text": [
            "/usr/local/lib/python3.7/dist-packages/sklearn/linear_model/_sag.py:330: ConvergenceWarning:\n",
            "\n",
            "The max_iter was reached which means the coef_ did not converge\n",
            "\n"
          ],
          "name": "stderr"
        },
        {
          "output_type": "stream",
          "text": [
            "model best f1 score:  0.5\n",
            "{'clf__C': 0.001, 'clf__max_iter': 3000, 'clf__solver': 'newton-cg'}\n",
            "model test score:  0.9510763209393346\n",
            "              precision    recall  f1-score   support\n",
            "\n",
            "           0       1.00      0.95      0.97      1533\n",
            "           1       0.00      0.00      0.00         0\n",
            "\n",
            "    accuracy                           0.95      1533\n",
            "   macro avg       0.50      0.48      0.49      1533\n",
            "weighted avg       1.00      0.95      0.97      1533\n",
            "\n"
          ],
          "name": "stdout"
        },
        {
          "output_type": "stream",
          "text": [
            "/usr/local/lib/python3.7/dist-packages/sklearn/metrics/_classification.py:1272: UndefinedMetricWarning:\n",
            "\n",
            "Recall and F-score are ill-defined and being set to 0.0 in labels with no true samples. Use `zero_division` parameter to control this behavior.\n",
            "\n"
          ],
          "name": "stderr"
        },
        {
          "output_type": "display_data",
          "data": {
            "image/png": "[encoded data removed]",
            "text/plain": [
              "<Figure size 432x288 with 2 Axes>"
            ]
          },
          "metadata": {
            "tags": [],
            "needs_background": "light"
          }
        },
        {
          "output_type": "stream",
          "text": [
            "<class 'AttributeError'>\n",
            "SVC(C=1.0, break_ties=False, cache_size=200, class_weight=None, coef0=0.0,\n",
            "    decision_function_shape='ovr', degree=3, gamma='scale', kernel='rbf',\n",
            "    max_iter=-1, probability=False, random_state=None, shrinking=True,\n",
            "    tol=0.001, verbose=False)\n",
            "model best f1 score:  0.5041603117017732\n",
            "{'clf__degree': 1, 'clf__gamma': 'auto', 'clf__kernel': 'sigmoid', 'poly__degree': 1}\n",
            "model test score:  0.9302022178734507\n",
            "              precision    recall  f1-score   support\n",
            "\n",
            "           0       0.97      0.96      0.96      1479\n",
            "           1       0.15      0.20      0.17        54\n",
            "\n",
            "    accuracy                           0.93      1533\n",
            "   macro avg       0.56      0.58      0.57      1533\n",
            "weighted avg       0.94      0.93      0.94      1533\n",
            "\n"
          ],
          "name": "stdout"
        },
        {
          "output_type": "display_data",
          "data": {
            "image/png": "[encoded data removed]",
            "text/plain": [
              "<Figure size 432x288 with 2 Axes>"
            ]
          },
          "metadata": {
            "tags": [],
            "needs_background": "light"
          }
        },
        {
          "output_type": "stream",
          "text": [
            "<class 'AttributeError'>\n",
            "KNeighborsClassifier(algorithm='auto', leaf_size=30, metric='minkowski',\n",
            "                     metric_params=None, n_jobs=None, n_neighbors=5, p=2,\n",
            "                     weights='uniform')\n",
            "model best f1 score:  0.5013865546218488\n",
            "{'clf__algorithm': 'ball_tree', 'clf__n_neighbors': 5, 'clf__weights': 'uniform', 'poly__degree': 1}\n",
            "model test score:  0.9510763209393346\n"
          ],
          "name": "stdout"
        },
        {
          "output_type": "stream",
          "text": [
            "/usr/local/lib/python3.7/dist-packages/sklearn/metrics/_classification.py:1272: UndefinedMetricWarning:\n",
            "\n",
            "Recall and F-score are ill-defined and being set to 0.0 in labels with no true samples. Use `zero_division` parameter to control this behavior.\n",
            "\n"
          ],
          "name": "stderr"
        },
        {
          "output_type": "stream",
          "text": [
            "              precision    recall  f1-score   support\n",
            "\n",
            "           0       1.00      0.95      0.97      1533\n",
            "           1       0.00      0.00      0.00         0\n",
            "\n",
            "    accuracy                           0.95      1533\n",
            "   macro avg       0.50      0.48      0.49      1533\n",
            "weighted avg       1.00      0.95      0.97      1533\n",
            "\n"
          ],
          "name": "stdout"
        },
        {
          "output_type": "display_data",
          "data": {
            "image/png": "[encoded data removed]",
            "text/plain": [
              "<Figure size 432x288 with 2 Axes>"
            ]
          },
          "metadata": {
            "tags": [],
            "needs_background": "light"
          }
        },
        {
          "output_type": "stream",
          "text": [
            "<class 'AttributeError'>\n",
            "DecisionTreeClassifier(ccp_alpha=0.0, class_weight=None, criterion='gini',\n",
            "                       max_depth=None, max_features=None, max_leaf_nodes=None,\n",
            "                       min_impurity_decrease=0.0, min_impurity_split=None,\n",
            "                       min_samples_leaf=1, min_samples_split=2,\n",
            "                       min_weight_fraction_leaf=0.0, presort='deprecated',\n",
            "                       random_state=None, splitter='best')\n",
            "model best f1 score:  0.7810783696738608\n",
            "{'clf__class_weight': 'balanced', 'clf__criterion': 'gini', 'clf__max_depth': 14, 'clf__min_samples_leaf': 8, 'poly__degree': 1}\n",
            "model test score:  0.7012393998695369\n",
            "              precision    recall  f1-score   support\n",
            "\n",
            "           0       0.70      0.99      0.82      1030\n",
            "           1       0.80      0.12      0.21       503\n",
            "\n",
            "    accuracy                           0.70      1533\n",
            "   macro avg       0.75      0.55      0.51      1533\n",
            "weighted avg       0.73      0.70      0.62      1533\n",
            "\n"
          ],
          "name": "stdout"
        },
        {
          "output_type": "display_data",
          "data": {
            "image/png": "[encoded data removed]",
            "text/plain": [
              "<Figure size 432x288 with 2 Axes>"
            ]
          },
          "metadata": {
            "tags": [],
            "needs_background": "light"
          }
        },
        {
          "output_type": "display_data",
          "data": {
            "text/html": [
              "<html>\n",
              "<head><meta charset=\"utf-8\" /></head>\n",
              "<body>\n",
              "    <div>\n",
              "            <script src=\"https://cdnjs.cloudflare.com/ajax/libs/mathjax/2.7.5/MathJax.js?config=TeX-AMS-MML_SVG\"></script><script type=\"text/javascript\">if (window.MathJax) {MathJax.Hub.Config({SVG: {font: \"STIX-Web\"}});}</script>\n",
              "                <script type=\"text/javascript\">window.PlotlyConfig = {MathJaxConfig: 'local'};</script>\n",
              "        <script src=\"https://cdn.plot.ly/plotly-latest.min.js\"></script>    \n",
              "            <div id=\"00720431-77b3-4732-96bc-da36961f8650\" class=\"plotly-graph-div\" style=\"height:525px; width:100%;\"></div>\n",
              "            <script type=\"text/javascript\">\n",
              "                \n",
              "                    window.PLOTLYENV=window.PLOTLYENV || {};\n",
              "                    \n",
              "                if (document.getElementById(\"00720431-77b3-4732-96bc-da36961f8650\")) {\n",
              "                    Plotly.newPlot(\n",
              "                        '00720431-77b3-4732-96bc-da36961f8650',\n",
              "                        [{\"type\": \"bar\", \"x\": [\"gender_Female\", \"gender_Male\", \"avg_glucose_level\", \"bmi\", \"hypertension_0\", \"hypertension_1\", \"heart_disease_0\", \"heart_disease_1\", \"work_type_Govt_job\", \"work_type_Never_worked\", \"work_type_Private\", \"work_type_Self-employed\", \"Age_categories_Infant\", \"Age_categories_Young\", \"Age_categories_Adult\", \"Age_categories_Aged\", \"Age_categories_Eldest\"], \"y\": [0.0, 0.0021369646160802804, 0.03388155263336377, 0.04658048473210742, 0.01848092945889775, 0.1472547714604291, 0.10476380089457694, 0.08486745049894148, 0.5620340457056031]}],\n",
              "                        {\"template\": {\"data\": {\"bar\": [{\"error_x\": {\"color\": \"#2a3f5f\"}, \"error_y\": {\"color\": \"#2a3f5f\"}, \"marker\": {\"line\": {\"color\": \"#E5ECF6\", \"width\": 0.5}}, \"type\": \"bar\"}], \"barpolar\": [{\"marker\": {\"line\": {\"color\": \"#E5ECF6\", \"width\": 0.5}}, \"type\": \"barpolar\"}], \"carpet\": [{\"aaxis\": {\"endlinecolor\": \"#2a3f5f\", \"gridcolor\": \"white\", \"linecolor\": \"white\", \"minorgridcolor\": \"white\", \"startlinecolor\": \"#2a3f5f\"}, \"baxis\": {\"endlinecolor\": \"#2a3f5f\", \"gridcolor\": \"white\", \"linecolor\": \"white\", \"minorgridcolor\": \"white\", \"startlinecolor\": \"#2a3f5f\"}, \"type\": \"carpet\"}], \"choropleth\": [{\"colorbar\": {\"outlinewidth\": 0, \"ticks\": \"\"}, \"type\": \"choropleth\"}], \"contour\": [{\"colorbar\": {\"outlinewidth\": 0, \"ticks\": \"\"}, \"colorscale\": [[0.0, \"#0d0887\"], [0.1111111111111111, \"#46039f\"], [0.2222222222222222, \"#7201a8\"], [0.3333333333333333, \"#9c179e\"], [0.4444444444444444, \"#bd3786\"], [0.5555555555555556, \"#d8576b\"], [0.6666666666666666, \"#ed7953\"], [0.7777777777777778, \"#fb9f3a\"], [0.8888888888888888, \"#fdca26\"], [1.0, \"#f0f921\"]], \"type\": \"contour\"}], \"contourcarpet\": [{\"colorbar\": {\"outlinewidth\": 0, \"ticks\": \"\"}, \"type\": \"contourcarpet\"}], \"heatmap\": [{\"colorbar\": {\"outlinewidth\": 0, \"ticks\": \"\"}, \"colorscale\": [[0.0, \"#0d0887\"], [0.1111111111111111, \"#46039f\"], [0.2222222222222222, \"#7201a8\"], [0.3333333333333333, \"#9c179e\"], [0.4444444444444444, \"#bd3786\"], [0.5555555555555556, \"#d8576b\"], [0.6666666666666666, \"#ed7953\"], [0.7777777777777778, \"#fb9f3a\"], [0.8888888888888888, \"#fdca26\"], [1.0, \"#f0f921\"]], \"type\": \"heatmap\"}], \"heatmapgl\": [{\"colorbar\": {\"outlinewidth\": 0, \"ticks\": \"\"}, \"colorscale\": [[0.0, \"#0d0887\"], [0.1111111111111111, \"#46039f\"], [0.2222222222222222, \"#7201a8\"], [0.3333333333333333, \"#9c179e\"], [0.4444444444444444, \"#bd3786\"], [0.5555555555555556, \"#d8576b\"], [0.6666666666666666, \"#ed7953\"], [0.7777777777777778, \"#fb9f3a\"], [0.8888888888888888, \"#fdca26\"], [1.0, \"#f0f921\"]], \"type\": \"heatmapgl\"}], \"histogram\": [{\"marker\": {\"colorbar\": {\"outlinewidth\": 0, \"ticks\": \"\"}}, \"type\": \"histogram\"}], \"histogram2d\": [{\"colorbar\": {\"outlinewidth\": 0, \"ticks\": \"\"}, \"colorscale\": [[0.0, \"#0d0887\"], [0.1111111111111111, \"#46039f\"], [0.2222222222222222, \"#7201a8\"], [0.3333333333333333, \"#9c179e\"], [0.4444444444444444, \"#bd3786\"], [0.5555555555555556, \"#d8576b\"], [0.6666666666666666, \"#ed7953\"], [0.7777777777777778, \"#fb9f3a\"], [0.8888888888888888, \"#fdca26\"], [1.0, \"#f0f921\"]], \"type\": \"histogram2d\"}], \"histogram2dcontour\": [{\"colorbar\": {\"outlinewidth\": 0, \"ticks\": \"\"}, \"colorscale\": [[0.0, \"#0d0887\"], [0.1111111111111111, \"#46039f\"], [0.2222222222222222, \"#7201a8\"], [0.3333333333333333, \"#9c179e\"], [0.4444444444444444, \"#bd3786\"], [0.5555555555555556, \"#d8576b\"], [0.6666666666666666, \"#ed7953\"], [0.7777777777777778, \"#fb9f3a\"], [0.8888888888888888, \"#fdca26\"], [1.0, \"#f0f921\"]], \"type\": \"histogram2dcontour\"}], \"mesh3d\": [{\"colorbar\": {\"outlinewidth\": 0, \"ticks\": \"\"}, \"type\": \"mesh3d\"}], \"parcoords\": [{\"line\": {\"colorbar\": {\"outlinewidth\": 0, \"ticks\": \"\"}}, \"type\": \"parcoords\"}], \"pie\": [{\"automargin\": true, \"type\": \"pie\"}], \"scatter\": [{\"marker\": {\"colorbar\": {\"outlinewidth\": 0, \"ticks\": \"\"}}, \"type\": \"scatter\"}], \"scatter3d\": [{\"line\": {\"colorbar\": {\"outlinewidth\": 0, \"ticks\": \"\"}}, \"marker\": {\"colorbar\": {\"outlinewidth\": 0, \"ticks\": \"\"}}, \"type\": \"scatter3d\"}], \"scattercarpet\": [{\"marker\": {\"colorbar\": {\"outlinewidth\": 0, \"ticks\": \"\"}}, \"type\": \"scattercarpet\"}], \"scattergeo\": [{\"marker\": {\"colorbar\": {\"outlinewidth\": 0, \"ticks\": \"\"}}, \"type\": \"scattergeo\"}], \"scattergl\": [{\"marker\": {\"colorbar\": {\"outlinewidth\": 0, \"ticks\": \"\"}}, \"type\": \"scattergl\"}], \"scattermapbox\": [{\"marker\": {\"colorbar\": {\"outlinewidth\": 0, \"ticks\": \"\"}}, \"type\": \"scattermapbox\"}], \"scatterpolar\": [{\"marker\": {\"colorbar\": {\"outlinewidth\": 0, \"ticks\": \"\"}}, \"type\": \"scatterpolar\"}], \"scatterpolargl\": [{\"marker\": {\"colorbar\": {\"outlinewidth\": 0, \"ticks\": \"\"}}, \"type\": \"scatterpolargl\"}], \"scatterternary\": [{\"marker\": {\"colorbar\": {\"outlinewidth\": 0, \"ticks\": \"\"}}, \"type\": \"scatterternary\"}], \"surface\": [{\"colorbar\": {\"outlinewidth\": 0, \"ticks\": \"\"}, \"colorscale\": [[0.0, \"#0d0887\"], [0.1111111111111111, \"#46039f\"], [0.2222222222222222, \"#7201a8\"], [0.3333333333333333, \"#9c179e\"], [0.4444444444444444, \"#bd3786\"], [0.5555555555555556, \"#d8576b\"], [0.6666666666666666, \"#ed7953\"], [0.7777777777777778, \"#fb9f3a\"], [0.8888888888888888, \"#fdca26\"], [1.0, \"#f0f921\"]], \"type\": \"surface\"}], \"table\": [{\"cells\": {\"fill\": {\"color\": \"#EBF0F8\"}, \"line\": {\"color\": \"white\"}}, \"header\": {\"fill\": {\"color\": \"#C8D4E3\"}, \"line\": {\"color\": \"white\"}}, \"type\": \"table\"}]}, \"layout\": {\"annotationdefaults\": {\"arrowcolor\": \"#2a3f5f\", \"arrowhead\": 0, \"arrowwidth\": 1}, \"coloraxis\": {\"colorbar\": {\"outlinewidth\": 0, \"ticks\": \"\"}}, \"colorscale\": {\"diverging\": [[0, \"#8e0152\"], [0.1, \"#c51b7d\"], [0.2, \"#de77ae\"], [0.3, \"#f1b6da\"], [0.4, \"#fde0ef\"], [0.5, \"#f7f7f7\"], [0.6, \"#e6f5d0\"], [0.7, \"#b8e186\"], [0.8, \"#7fbc41\"], [0.9, \"#4d9221\"], [1, \"#276419\"]], \"sequential\": [[0.0, \"#0d0887\"], [0.1111111111111111, \"#46039f\"], [0.2222222222222222, \"#7201a8\"], [0.3333333333333333, \"#9c179e\"], [0.4444444444444444, \"#bd3786\"], [0.5555555555555556, \"#d8576b\"], [0.6666666666666666, \"#ed7953\"], [0.7777777777777778, \"#fb9f3a\"], [0.8888888888888888, \"#fdca26\"], [1.0, \"#f0f921\"]], \"sequentialminus\": [[0.0, \"#0d0887\"], [0.1111111111111111, \"#46039f\"], [0.2222222222222222, \"#7201a8\"], [0.3333333333333333, \"#9c179e\"], [0.4444444444444444, \"#bd3786\"], [0.5555555555555556, \"#d8576b\"], [0.6666666666666666, \"#ed7953\"], [0.7777777777777778, \"#fb9f3a\"], [0.8888888888888888, \"#fdca26\"], [1.0, \"#f0f921\"]]}, \"colorway\": [\"#636efa\", \"#EF553B\", \"#00cc96\", \"#ab63fa\", \"#FFA15A\", \"#19d3f3\", \"#FF6692\", \"#B6E880\", \"#FF97FF\", \"#FECB52\"], \"font\": {\"color\": \"#2a3f5f\"}, \"geo\": {\"bgcolor\": \"white\", \"lakecolor\": \"white\", \"landcolor\": \"#E5ECF6\", \"showlakes\": true, \"showland\": true, \"subunitcolor\": \"white\"}, \"hoverlabel\": {\"align\": \"left\"}, \"hovermode\": \"closest\", \"mapbox\": {\"style\": \"light\"}, \"paper_bgcolor\": \"white\", \"plot_bgcolor\": \"#E5ECF6\", \"polar\": {\"angularaxis\": {\"gridcolor\": \"white\", \"linecolor\": \"white\", \"ticks\": \"\"}, \"bgcolor\": \"#E5ECF6\", \"radialaxis\": {\"gridcolor\": \"white\", \"linecolor\": \"white\", \"ticks\": \"\"}}, \"scene\": {\"xaxis\": {\"backgroundcolor\": \"#E5ECF6\", \"gridcolor\": \"white\", \"gridwidth\": 2, \"linecolor\": \"white\", \"showbackground\": true, \"ticks\": \"\", \"zerolinecolor\": \"white\"}, \"yaxis\": {\"backgroundcolor\": \"#E5ECF6\", \"gridcolor\": \"white\", \"gridwidth\": 2, \"linecolor\": \"white\", \"showbackground\": true, \"ticks\": \"\", \"zerolinecolor\": \"white\"}, \"zaxis\": {\"backgroundcolor\": \"#E5ECF6\", \"gridcolor\": \"white\", \"gridwidth\": 2, \"linecolor\": \"white\", \"showbackground\": true, \"ticks\": \"\", \"zerolinecolor\": \"white\"}}, \"shapedefaults\": {\"line\": {\"color\": \"#2a3f5f\"}}, \"ternary\": {\"aaxis\": {\"gridcolor\": \"white\", \"linecolor\": \"white\", \"ticks\": \"\"}, \"baxis\": {\"gridcolor\": \"white\", \"linecolor\": \"white\", \"ticks\": \"\"}, \"bgcolor\": \"#E5ECF6\", \"caxis\": {\"gridcolor\": \"white\", \"linecolor\": \"white\", \"ticks\": \"\"}}, \"title\": {\"x\": 0.05}, \"xaxis\": {\"automargin\": true, \"gridcolor\": \"white\", \"linecolor\": \"white\", \"ticks\": \"\", \"title\": {\"standoff\": 15}, \"zerolinecolor\": \"white\", \"zerolinewidth\": 2}, \"yaxis\": {\"automargin\": true, \"gridcolor\": \"white\", \"linecolor\": \"white\", \"ticks\": \"\", \"title\": {\"standoff\": 15}, \"zerolinecolor\": \"white\", \"zerolinewidth\": 2}}}, \"title\": {\"text\": \"Feature selection results\"}, \"xaxis\": {\"title\": {\"text\": \"Model\"}}, \"yaxis\": {\"title\": {\"text\": \"F1 Score\"}}},\n",
              "                        {\"responsive\": true}\n",
              "                    ).then(function(){\n",
              "                            \n",
              "var gd = document.getElementById('00720431-77b3-4732-96bc-da36961f8650');\n",
              "var x = new MutationObserver(function (mutations, observer) {{\n",
              "        var display = window.getComputedStyle(gd).display;\n",
              "        if (!display || display === 'none') {{\n",
              "            console.log([gd, 'removed!']);\n",
              "            Plotly.purge(gd);\n",
              "            observer.disconnect();\n",
              "        }}\n",
              "}});\n",
              "\n",
              "// Listen for the removal of the full notebook cells\n",
              "var notebookContainer = gd.closest('#notebook-container');\n",
              "if (notebookContainer) {{\n",
              "    x.observe(notebookContainer, {childList: true});\n",
              "}}\n",
              "\n",
              "// Listen for the clearing of the current output cell\n",
              "var outputEl = gd.closest('.output');\n",
              "if (outputEl) {{\n",
              "    x.observe(outputEl, {childList: true});\n",
              "}}\n",
              "\n",
              "                        })\n",
              "                };\n",
              "                \n",
              "            </script>\n",
              "        </div>\n",
              "</body>\n",
              "</html>"
            ]
          },
          "metadata": {
            "tags": []
          }
        },
        {
          "output_type": "stream",
          "text": [
            "RandomForestClassifier(bootstrap=True, ccp_alpha=0.0, class_weight=None,\n",
            "                       criterion='gini', max_depth=None, max_features='auto',\n",
            "                       max_leaf_nodes=None, max_samples=None,\n",
            "                       min_impurity_decrease=0.0, min_impurity_split=None,\n",
            "                       min_samples_leaf=1, min_samples_split=2,\n",
            "                       min_weight_fraction_leaf=0.0, n_estimators=100,\n",
            "                       n_jobs=None, oob_score=False, random_state=None,\n",
            "                       verbose=0, warm_start=False)\n"
          ],
          "name": "stdout"
        }
      ]
    },
    {
      "cell_type": "code",
      "metadata": {
        "colab": {
          "base_uri": "https://localhost:8080/"
        },
        "id": "MfnU-YLE1hxK",
        "outputId": "239b1008-cc3f-49ee-a96a-f86d2db14bae"
      },
      "source": [
        "# RandomForestClassifier()\n",
        "rfc = {\"clf__criterion\":[\"gini\", \"entropy\"], \"clf__class_weight\":[\"balanced\", \"balanced_subsample\"], \n",
        "           \"clf__max_depth\": range(6,12,2), \"clf__min_samples_leaf\": range(5,9,1), \"clf__n_estimators\":[50,100]} \n",
        "pipe = Pipeline(steps=[     ('scaler', MinMaxScaler()), #MinMaxScaler() StandardScaler()\n",
        "                            ('poly', PolynomialFeatures()),\n",
        "                            ('clf', RandomForestClassifier()) \n",
        "                      ])\n",
        "grid_cv = model_selection.GridSearchCV(pipe, rfc, scoring='f1')\n",
        "grid_cv.fit(x_train, y_train)\n",
        "print(\"model best score: \", grid_cv.best_score_)    \n",
        "print(grid_cv.best_params_)\n",
        "model = grid_cv.best_estimator_"
      ],
      "execution_count": 625,
      "outputs": [
        {
          "output_type": "stream",
          "text": [
            "model best score:  0.25636931255172424\n",
            "{'clf__class_weight': 'balanced_subsample', 'clf__criterion': 'entropy', 'clf__max_depth': 6, 'clf__min_samples_leaf': 7, 'clf__n_estimators': 50}\n"
          ],
          "name": "stdout"
        }
      ]
    },
    {
      "cell_type": "code",
      "metadata": {
        "id": "BAUoB3PAi4RY"
      },
      "source": [
        "y_pred = model.predict(x_test)"
      ],
      "execution_count": null,
      "outputs": []
    },
    {
      "cell_type": "code",
      "metadata": {
        "id": "mwu5HfGOjNq9"
      },
      "source": [
        "# посмотрим, какие случаи не предсказала  модель\n",
        "real = pd.concat([x_test, y_test], axis=1)\n",
        "pred = real.copy()\n",
        "pred[\"stroke2\"] = y_pred\n",
        "print(pred.shape, real.shape)\n",
        "\n",
        "pred = pd.concat([real, pred.stroke2], axis=1)\n",
        "real = real[real.stroke == 1]\n",
        "pred = pred[pred.stroke2 == 1]\n",
        "print(pred.shape)"
      ],
      "execution_count": null,
      "outputs": []
    },
    {
      "cell_type": "code",
      "metadata": {
        "id": "QWqkhKKyj3tc"
      },
      "source": [
        "pd.options.display.max_rows = 210\n",
        "pred # 156"
      ],
      "execution_count": null,
      "outputs": []
    },
    {
      "cell_type": "code",
      "metadata": {
        "id": "6qqLG82xRGZM"
      },
      "source": [
        "fig = go.Figure()\n",
        "fig.add_trace(go.Bar(x=x_test.columns,y = model['clf'].feature_importances_))\n",
        "fig.update_layout(title='The Importance Of The Original Attributes On Our Prediction',xaxis_title='Model',yaxis_title='F1 Score')\n",
        "fig.show()"
      ],
      "execution_count": null,
      "outputs": []
    },
    {
      "cell_type": "code",
      "metadata": {
        "id": "3YcUuWJT9IDi"
      },
      "source": [
        "print(classification_report(y_pred,y_test))"
      ],
      "execution_count": null,
      "outputs": []
    },
    {
      "cell_type": "code",
      "metadata": {
        "id": "tB3vMxyxOPGJ"
      },
      "source": [
        "plot_confusion_matrix(model, x_test, y_test, values_format='d')"
      ],
      "execution_count": null,
      "outputs": []
    },
    {
      "cell_type": "code",
      "metadata": {
        "id": "WriQxgbsRd1c"
      },
      "source": [
        "sns.countplot(x=\"stroke\",data=dataset,hue='Age_categories')"
      ],
      "execution_count": null,
      "outputs": []
    }
  ]
}