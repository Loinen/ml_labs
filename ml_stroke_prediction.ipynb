{
  "nbformat": 4,
  "nbformat_minor": 0,
  "metadata": {
    "colab": {
      "name": "stroke_prediction.ipynb",
      "provenance": [],
      "authorship_tag": "ABX9TyMmVMtEu1jWOhEx9nppNdQw",
      "include_colab_link": true
    },
    "kernelspec": {
      "name": "python3",
      "display_name": "Python 3"
    },
    "language_info": {
      "name": "python"
    },
    "accelerator": "GPU"
  },
  "cells": [
    {
      "cell_type": "markdown",
      "metadata": {
        "id": "view-in-github",
        "colab_type": "text"
      },
      "source": [
        "<a href=\"https://colab.research.google.com/github/Loinen/ml_labs/blob/main/ml_stroke_prediction.ipynb\" target=\"_parent\"><img src=\"https://colab.research.google.com/assets/colab-badge.svg\" alt=\"Open In Colab\"/></a>"
      ]
    },
    {
      "cell_type": "markdown",
      "metadata": {
        "id": "OYsMHtyE-SY4"
      },
      "source": [
        "# ПОСТРОЕНИЕ ПРЕДСКАЗАТЕЛЬНОЙ МОДЕЛИ ВОЗНИКНОВЕНИЯ ИНСУЛЬТА"
      ]
    },
    {
      "cell_type": "markdown",
      "metadata": {
        "id": "4uDaYQuO-SY8"
      },
      "source": [
        "В данной работе будет построена предсказательная модель возникновения инсульта на основе данных о [пациентах](https://www.kaggle.com/fedesoriano/stroke-prediction-dataset) c kaggle."
      ]
    },
    {
      "cell_type": "markdown",
      "metadata": {
        "id": "kgI_NOXe-SY9"
      },
      "source": [
        "# 1. Загрузка данных и библиотек"
      ]
    },
    {
      "cell_type": "code",
      "metadata": {
        "id": "UGjOXIIc-SZA",
        "colab": {
          "base_uri": "https://localhost:8080/"
        },
        "outputId": "31ba7fee-dc76-45dc-e907-b8bffcfcec4e"
      },
      "source": [
        "import numpy as np\n",
        "import matplotlib.pyplot as plt\n",
        "import pandas as pd\n",
        "import seaborn as sns\n",
        "\n",
        "from sklearn.preprocessing import PolynomialFeatures, StandardScaler, MinMaxScaler\n",
        "from sklearn.linear_model import LogisticRegression\n",
        "from sklearn.svm import SVC\n",
        "from sklearn.neighbors import KNeighborsClassifier\n",
        "from sklearn.naive_bayes import MultinomialNB\n",
        "from sklearn.tree import DecisionTreeClassifier\n",
        "from sklearn.ensemble import RandomForestClassifier, AdaBoostClassifier, GradientBoostingClassifier\n",
        "from sklearn.pipeline import Pipeline\n",
        "from sklearn.model_selection import train_test_split, GridSearchCV\n",
        "from sklearn.preprocessing import StandardScaler, MinMaxScaler\n",
        "import sklearn.model_selection as model_selection\n",
        "\n",
        "%matplotlib inline\n",
        "\n",
        "dataset = pd.read_csv(\"stroke_data.csv\")\n",
        "print(dataset.shape)\n"
      ],
      "execution_count": 2,
      "outputs": [
        {
          "output_type": "stream",
          "text": [
            "(5110, 12)\n"
          ],
          "name": "stdout"
        }
      ]
    },
    {
      "cell_type": "markdown",
      "metadata": {
        "id": "RzESnbVq-SZB"
      },
      "source": [
        "# 2. Анализ датасета\n",
        "\n",
        "1.   id: уникальный идентификатор\n",
        "2.   gender: Male, Female, Other\n",
        "3.   age: возраст пациента\n",
        "4.   hypertension: 0, если у пациента нет артериальной гипертензии, 1, если есть\n",
        "5.   heart_disease: 0, если у пациента нет сердечных заболеваний, 1, если есть\n",
        "6.   ever_married: No или Yes\n",
        "7.   work_type: children, Govt_jov, Never_worked, Private или Self-employed - тип занятости\n",
        "8.   Residence_type: Rural - Сельский или Urban - Городской\n",
        "9.   avg_gluosis_level: средний уровень глюкозы в крови\n",
        "10.  bmi: индекс массы тела\n",
        "11.  smoking_status: статус курения - formerly smoked - «ранее курил», never smoked, smokes или Unknown\n",
        "12.  stroke: 1, если у пациента был инсульт, или 0, если нет.\n"
      ]
    },
    {
      "cell_type": "code",
      "metadata": {
        "colab": {
          "base_uri": "https://localhost:8080/",
          "height": 300
        },
        "id": "Ydq7HzFjzZwr",
        "outputId": "2b2d8fb4-b5dc-4125-b66b-ef31702d21bd"
      },
      "source": [
        "dataset.describe()"
      ],
      "execution_count": 3,
      "outputs": [
        {
          "output_type": "execute_result",
          "data": {
            "text/html": [
              "<div>\n",
              "<style scoped>\n",
              "    .dataframe tbody tr th:only-of-type {\n",
              "        vertical-align: middle;\n",
              "    }\n",
              "\n",
              "    .dataframe tbody tr th {\n",
              "        vertical-align: top;\n",
              "    }\n",
              "\n",
              "    .dataframe thead th {\n",
              "        text-align: right;\n",
              "    }\n",
              "</style>\n",
              "<table border=\"1\" class=\"dataframe\">\n",
              "  <thead>\n",
              "    <tr style=\"text-align: right;\">\n",
              "      <th></th>\n",
              "      <th>id</th>\n",
              "      <th>age</th>\n",
              "      <th>hypertension</th>\n",
              "      <th>heart_disease</th>\n",
              "      <th>avg_glucose_level</th>\n",
              "      <th>bmi</th>\n",
              "      <th>stroke</th>\n",
              "    </tr>\n",
              "  </thead>\n",
              "  <tbody>\n",
              "    <tr>\n",
              "      <th>count</th>\n",
              "      <td>5110.000000</td>\n",
              "      <td>5110.000000</td>\n",
              "      <td>5110.000000</td>\n",
              "      <td>5110.000000</td>\n",
              "      <td>5110.000000</td>\n",
              "      <td>4909.000000</td>\n",
              "      <td>5110.000000</td>\n",
              "    </tr>\n",
              "    <tr>\n",
              "      <th>mean</th>\n",
              "      <td>36517.829354</td>\n",
              "      <td>43.226614</td>\n",
              "      <td>0.097456</td>\n",
              "      <td>0.054012</td>\n",
              "      <td>106.147677</td>\n",
              "      <td>28.893237</td>\n",
              "      <td>0.048728</td>\n",
              "    </tr>\n",
              "    <tr>\n",
              "      <th>std</th>\n",
              "      <td>21161.721625</td>\n",
              "      <td>22.612647</td>\n",
              "      <td>0.296607</td>\n",
              "      <td>0.226063</td>\n",
              "      <td>45.283560</td>\n",
              "      <td>7.854067</td>\n",
              "      <td>0.215320</td>\n",
              "    </tr>\n",
              "    <tr>\n",
              "      <th>min</th>\n",
              "      <td>67.000000</td>\n",
              "      <td>0.080000</td>\n",
              "      <td>0.000000</td>\n",
              "      <td>0.000000</td>\n",
              "      <td>55.120000</td>\n",
              "      <td>10.300000</td>\n",
              "      <td>0.000000</td>\n",
              "    </tr>\n",
              "    <tr>\n",
              "      <th>25%</th>\n",
              "      <td>17741.250000</td>\n",
              "      <td>25.000000</td>\n",
              "      <td>0.000000</td>\n",
              "      <td>0.000000</td>\n",
              "      <td>77.245000</td>\n",
              "      <td>23.500000</td>\n",
              "      <td>0.000000</td>\n",
              "    </tr>\n",
              "    <tr>\n",
              "      <th>50%</th>\n",
              "      <td>36932.000000</td>\n",
              "      <td>45.000000</td>\n",
              "      <td>0.000000</td>\n",
              "      <td>0.000000</td>\n",
              "      <td>91.885000</td>\n",
              "      <td>28.100000</td>\n",
              "      <td>0.000000</td>\n",
              "    </tr>\n",
              "    <tr>\n",
              "      <th>75%</th>\n",
              "      <td>54682.000000</td>\n",
              "      <td>61.000000</td>\n",
              "      <td>0.000000</td>\n",
              "      <td>0.000000</td>\n",
              "      <td>114.090000</td>\n",
              "      <td>33.100000</td>\n",
              "      <td>0.000000</td>\n",
              "    </tr>\n",
              "    <tr>\n",
              "      <th>max</th>\n",
              "      <td>72940.000000</td>\n",
              "      <td>82.000000</td>\n",
              "      <td>1.000000</td>\n",
              "      <td>1.000000</td>\n",
              "      <td>271.740000</td>\n",
              "      <td>97.600000</td>\n",
              "      <td>1.000000</td>\n",
              "    </tr>\n",
              "  </tbody>\n",
              "</table>\n",
              "</div>"
            ],
            "text/plain": [
              "                 id          age  ...          bmi       stroke\n",
              "count   5110.000000  5110.000000  ...  4909.000000  5110.000000\n",
              "mean   36517.829354    43.226614  ...    28.893237     0.048728\n",
              "std    21161.721625    22.612647  ...     7.854067     0.215320\n",
              "min       67.000000     0.080000  ...    10.300000     0.000000\n",
              "25%    17741.250000    25.000000  ...    23.500000     0.000000\n",
              "50%    36932.000000    45.000000  ...    28.100000     0.000000\n",
              "75%    54682.000000    61.000000  ...    33.100000     0.000000\n",
              "max    72940.000000    82.000000  ...    97.600000     1.000000\n",
              "\n",
              "[8 rows x 7 columns]"
            ]
          },
          "metadata": {
            "tags": []
          },
          "execution_count": 3
        }
      ]
    },
    {
      "cell_type": "code",
      "metadata": {
        "colab": {
          "base_uri": "https://localhost:8080/"
        },
        "id": "PuYrgvkN0_st",
        "outputId": "0ddc4223-2578-4ec3-8626-9ce6ba7cb55f"
      },
      "source": [
        "dataset.info()"
      ],
      "execution_count": 4,
      "outputs": [
        {
          "output_type": "stream",
          "text": [
            "<class 'pandas.core.frame.DataFrame'>\n",
            "RangeIndex: 5110 entries, 0 to 5109\n",
            "Data columns (total 12 columns):\n",
            " #   Column             Non-Null Count  Dtype  \n",
            "---  ------             --------------  -----  \n",
            " 0   id                 5110 non-null   int64  \n",
            " 1   gender             5110 non-null   object \n",
            " 2   age                5110 non-null   float64\n",
            " 3   hypertension       5110 non-null   int64  \n",
            " 4   heart_disease      5110 non-null   int64  \n",
            " 5   ever_married       5110 non-null   object \n",
            " 6   work_type          5110 non-null   object \n",
            " 7   Residence_type     5110 non-null   object \n",
            " 8   avg_glucose_level  5110 non-null   float64\n",
            " 9   bmi                4909 non-null   float64\n",
            " 10  smoking_status     5110 non-null   object \n",
            " 11  stroke             5110 non-null   int64  \n",
            "dtypes: float64(3), int64(4), object(5)\n",
            "memory usage: 479.2+ KB\n"
          ],
          "name": "stdout"
        }
      ]
    },
    {
      "cell_type": "code",
      "metadata": {
        "id": "-WzoUkgW3pIf"
      },
      "source": [
        "# print(dataset.value_counts(\"gender\")) # f - 2994, m - 2115, other - 1\n",
        "# print(dataset.value_counts(\"age\"))\n",
        "# print(dataset.value_counts(\"hypertension\")) 0 - 4612, 1 - 498\n",
        "# print(dataset.value_counts(\"heart_disease\")) # 0 - 4834, 1 - 276\n",
        "# print(dataset.value_counts(\"ever_married\")) # y - 3353, n - 1757\n",
        "# print(dataset.value_counts(\"work_type\")) # Private - 2925, Self-employed - 819, children - 687, Govt_job - 657, Never_worked - 22\n",
        "# print(dataset.value_counts(\"Residence_type\")) #Urban - 2596, Rural - 2514\n",
        "# print(dataset.value_counts(\"avg_glucose_level\"))\n",
        "# print(dataset.value_counts(\"bmi\"))\n",
        "# print(dataset.value_counts(\"smoking_status\")) # never smoked - 1892, Unknown - 1544, formerly smoked - 885, smokes - 789\n",
        "# print(dataset.value_counts(\"stroke\")) # 0 - 4861, 1 - 249"
      ],
      "execution_count": 5,
      "outputs": []
    },
    {
      "cell_type": "code",
      "metadata": {
        "colab": {
          "base_uri": "https://localhost:8080/"
        },
        "id": "yBYxIP-JjgvI",
        "outputId": "b196fea0-5b8b-44f8-bb91-57bcc53d8fb4"
      },
      "source": [
        "child = dataset.loc[dataset['age'] <= 14]\n",
        "print(child.value_counts(\"work_type\")) \n",
        "# у нас есть достаточно много строк, где возраст явно с ошибками, но судя по worktype большинство из них дети\n",
        "print(dataset.avg_glucose_level.loc[dataset['avg_glucose_level'] >= 260]) \n",
        "# avg gl - 70 mg/dl - 100 mg/dl  - normal, до 70 - hypoglycemia, от 100 до 125 - prediabetic, до 300 - diabetic\n",
        "\n",
        "print(dataset['bmi'].loc[dataset['bmi'] >= 60]) \n",
        "\n",
        "# bmi = under_weight = 18.5, normal <24.9 overweight <29.9 obese 39.9\n",
        "# у нас есть 13 человек с bmi больше 60 - это может быть вес от 135кг (если 150 см = 60 имт) до 200кг (181кг-150см = 78 имт), \n",
        "# теоретически, это могут быть выбросы. Низкие значения имт - в основном у детей, для них норма ниже"
      ],
      "execution_count": 6,
      "outputs": [
        {
          "output_type": "stream",
          "text": [
            "work_type\n",
            "children         657\n",
            "Private           29\n",
            "Self-employed      6\n",
            "Never_worked       6\n",
            "Govt_job           1\n",
            "dtype: int64\n",
            "135     263.32\n",
            "193     271.74\n",
            "1207    267.76\n",
            "2462    266.59\n",
            "3088    267.61\n",
            "3215    260.85\n",
            "3393    263.56\n",
            "4457    261.67\n",
            "4983    267.60\n",
            "Name: avg_glucose_level, dtype: float64\n",
            "270     60.9\n",
            "358     64.8\n",
            "466     60.2\n",
            "544     71.9\n",
            "928     78.0\n",
            "1559    66.8\n",
            "2128    97.6\n",
            "2764    63.3\n",
            "2840    61.2\n",
            "3825    61.6\n",
            "4188    64.4\n",
            "4209    92.0\n",
            "4838    60.9\n",
            "Name: bmi, dtype: float64\n"
          ],
          "name": "stdout"
        }
      ]
    },
    {
      "cell_type": "markdown",
      "metadata": {
        "id": "hr0AU3ZmzPID"
      },
      "source": [
        "# 3. Предобработка данных\n",
        "Видно, что у нас есть пропуски в bmi, а также есть пациенты, у которых неизвестен статус курения. Необходимо обработать эти значения, а также категориальные признаки - age, smoking_status, work_type.\n",
        "Бинарные признаки - hypertension, heart_disease, Residence_type, ever_married, gender (other всего один, можно его отбросить).\n",
        "Столбец id отбросим. \n",
        "Признаки age, work_type, avg_glucose_level, bmi можно преобразовать. Для bmi можно обозначить норму, неизвестный статус и превышение нормы. Желательно, чтобы в обучающую выборку попали хотя бы несколько пациентов, у которых есть статус Never_worked, а также обязательно - часть тех, у кого был инсульт и хотя бы немного с 0 для heart_disease и hypertension\n",
        "\n",
        "\n"
      ]
    },
    {
      "cell_type": "code",
      "metadata": {
        "colab": {
          "base_uri": "https://localhost:8080/",
          "height": 780
        },
        "id": "2-mBFCtvvRHJ",
        "outputId": "bd753e5b-3086-427a-b515-7ee8bfc23e95"
      },
      "source": [
        "stroke = dataset[dataset.stroke == 1]\n",
        "no_stroke = dataset[dataset.stroke == 0]\n",
        "print(\"stroke\", stroke.shape, \"no_stroke\", no_stroke.shape)\n",
        "\n",
        "stroke[\"age\"].plot.hist(alpha=0.5,color='red',bins=50)\n",
        "no_stroke[\"age\"].plot.hist(alpha=0.5,color='blue',bins=50)\n",
        "plt.legend(['stroke','no_stroke'])\n",
        "plt.show()\n",
        "\n",
        "stroke[\"avg_glucose_level\"].plot.hist(alpha=0.5,color='red',bins=50)\n",
        "no_stroke[\"avg_glucose_level\"].plot.hist(alpha=0.5,color='blue',bins=50)\n",
        "plt.legend(['stroke','no_stroke'])\n",
        "plt.show()\n",
        "\n",
        "stroke[\"bmi\"].plot.hist(alpha=0.5,color='red',bins=50)\n",
        "no_stroke[\"bmi\"].plot.hist(alpha=0.5,color='blue',bins=50)\n",
        "plt.legend(['stroke','no_stroke'])\n",
        "plt.show()"
      ],
      "execution_count": 7,
      "outputs": [
        {
          "output_type": "stream",
          "text": [
            "stroke (249, 12) no_stroke (4861, 12)\n"
          ],
          "name": "stdout"
        },
        {
          "output_type": "display_data",
          "data": {
            "image/png": "[encoded data removed]",
            "text/plain": [
              "<Figure size 432x288 with 1 Axes>"
            ]
          },
          "metadata": {
            "tags": [],
            "needs_background": "light"
          }
        },
        {
          "output_type": "display_data",
          "data": {
            "image/png": "[encoded data removed]",
            "text/plain": [
              "<Figure size 432x288 with 1 Axes>"
            ]
          },
          "metadata": {
            "tags": [],
            "needs_background": "light"
          }
        },
        {
          "output_type": "display_data",
          "data": {
            "image/png": "[encoded data removed]",
            "text/plain": [
              "<Figure size 432x288 with 1 Axes>"
            ]
          },
          "metadata": {
            "tags": [],
            "needs_background": "light"
          }
        }
      ]
    },
    {
      "cell_type": "code",
      "metadata": {
        "id": "oDFCccmK6w5M",
        "outputId": "22df4c70-adef-4d67-eba0-74f5c77b2f90",
        "colab": {
          "base_uri": "https://localhost:8080/",
          "height": 174
        }
      },
      "source": [
        "plt.subplot(2,1,2)\n",
        "sns.scatterplot(x=stroke['age'],y=stroke['avg_glucose_level'],hue=stroke['stroke'])\n",
        "plt.tight_layout()\n",
        "plt.show()"
      ],
      "execution_count": 8,
      "outputs": [
        {
          "output_type": "display_data",
          "data": {
            "image/png": "[encoded data removed]",
            "text/plain": [
              "<Figure size 432x288 with 1 Axes>"
            ]
          },
          "metadata": {
            "tags": [],
            "needs_background": "light"
          }
        }
      ]
    },
    {
      "cell_type": "code",
      "metadata": {
        "id": "KQUuzuox-Yc2"
      },
      "source": [
        ""
      ],
      "execution_count": 8,
      "outputs": []
    },
    {
      "cell_type": "code",
      "metadata": {
        "id": "ygn9Cotl-SZC",
        "colab": {
          "base_uri": "https://localhost:8080/",
          "height": 416
        },
        "outputId": "04e0b65c-ecd9-408f-811c-1746b2734ab2"
      },
      "source": [
        "# Удалим лишнего пациента с \"другим\" полом \n",
        "print(dataset.shape)\n",
        "dataset = dataset.drop(np.where(dataset['gender'] == \"Other\")[0])\n",
        "print(dataset.value_counts(\"gender\"))\n",
        "print(dataset.shape)\n",
        "\n",
        "# Преобразуем возраст в категориальный признак. \n",
        "def process_age(df, cut_points, label_names):\n",
        "    df['age'] = df['age'].replace(np.NaN, -0.5) #fillna\n",
        "    df['Age_categories'] = pd.cut(df['age'], bins=cut_points, labels=label_names)\n",
        "    return df\n",
        "\n",
        "# Нас в основном интересуют пациенты с возрастом от 35-55 до 80. \n",
        "cut_points = [-1, 0, 18, 35, 55, 65, 100]\n",
        "label_names = [\"Missing\", \"Infant\", \"Young\", \"Adult\", \"Aged\", \"Eldest\"]\n",
        "dataset = process_age(dataset, cut_points, label_names)\n",
        "\n",
        "age_cat_pivot = dataset.pivot_table(index=\"Age_categories\",values=\"stroke\")\n",
        "age_cat_pivot.plot.bar()\n",
        "plt.show()"
      ],
      "execution_count": 9,
      "outputs": [
        {
          "output_type": "stream",
          "text": [
            "(5110, 12)\n",
            "gender\n",
            "Female    2994\n",
            "Male      2115\n",
            "dtype: int64\n",
            "(5109, 12)\n"
          ],
          "name": "stdout"
        },
        {
          "output_type": "display_data",
          "data": {
            "image/png": "[encoded data removed]",
            "text/plain": [
              "<Figure size 432x288 with 1 Axes>"
            ]
          },
          "metadata": {
            "tags": [],
            "needs_background": "light"
          }
        }
      ]
    },
    {
      "cell_type": "code",
      "metadata": {
        "id": "g59lM_RVkD2l"
      },
      "source": [
        "def create_dummies(df, column_name):\n",
        "    dum = pd.get_dummies(df[column_name], prefix=column_name)\n",
        "    df = pd.concat([df,dum],axis=1)\n",
        "    return df\n",
        "\n",
        "dataset = create_dummies(dataset, \"hypertension\")\n",
        "dataset = create_dummies(dataset, \"heart_disease\")\n",
        "dataset = create_dummies(dataset, \"Residence_type\")\n",
        "dataset = create_dummies(dataset, \"ever_married\")\n",
        "dataset = create_dummies(dataset, \"gender\")\n",
        "\n",
        "dataset = create_dummies(dataset, \"work_type\")\n",
        "dataset = create_dummies(dataset, \"smoking_status\")\n",
        "dataset = create_dummies(dataset, \"Age_categories\")"
      ],
      "execution_count": 10,
      "outputs": []
    },
    {
      "cell_type": "code",
      "metadata": {
        "colab": {
          "base_uri": "https://localhost:8080/"
        },
        "id": "8UyYGPsr2o-o",
        "outputId": "f699ed0c-fbbe-44e3-e208-056ab3215aff"
      },
      "source": [
        "miss_bmi = dataset[dataset.bmi.isna()]\n",
        "print(\"missing:\", len(miss_bmi))\n",
        "print(\"missing with stroke:\", len(miss_bmi[miss_bmi.stroke == 1]))\n",
        "print(\"В наборе данных у 40 из 249 пациентов с инсультом неизвестен ИМТ\")"
      ],
      "execution_count": 11,
      "outputs": [
        {
          "output_type": "stream",
          "text": [
            "missing: 201\n",
            "missing with stroke: 40\n",
            "В наборе данных у 40 из 249 пациентов с инсультом неизвестен ИМТ\n"
          ],
          "name": "stdout"
        }
      ]
    },
    {
      "cell_type": "code",
      "metadata": {
        "colab": {
          "base_uri": "https://localhost:8080/"
        },
        "id": "Hjd0VGxD47rn",
        "outputId": "cb4286c8-676a-4d4f-9f4e-c5eb0fcd9cad"
      },
      "source": [
        "# пробуем предсказать имт, вместо медианы\\среднего\n",
        "data = dataset.copy()\n",
        "data = data[~data.bmi.isna()]\n",
        "print(data.shape)\n",
        "y = data['bmi']\n",
        "\n",
        "data = data[['hypertension', 'avg_glucose_level',  'Residence_type_Rural', \n",
        "             'Residence_type_Urban', 'gender_Female', 'gender_Male', 'work_type_children', \n",
        "             'Age_categories_Missing', 'Age_categories_Infant', 'Age_categories_Young', 'Age_categories_Adult', 'Age_categories_Aged', 'Age_categories_Eldest']]"
      ],
      "execution_count": 12,
      "outputs": [
        {
          "output_type": "stream",
          "text": [
            "(4908, 38)\n"
          ],
          "name": "stdout"
        }
      ]
    },
    {
      "cell_type": "code",
      "metadata": {
        "id": "zoUfy_qpTgSu",
        "outputId": "200c25d7-2f01-45ba-b7dc-89f681ba07f8",
        "colab": {
          "base_uri": "https://localhost:8080/"
        }
      },
      "source": [
        "from sklearn.ensemble import GradientBoostingRegressor\n",
        "\n",
        "# у нас всего 249 пациентов с инсультом из 5к. все они находятся в начале датасета\n",
        "x_train, x_test, y_train, y_test = train_test_split(data, y, train_size=0.8, random_state=42)\n",
        "print(x_train.shape, x_test.shape, y_train.shape, y_test.shape) \n",
        "\n",
        "model = Pipeline( steps=[ ('scale',StandardScaler()),\n",
        "                          ('lr',GradientBoostingRegressor(random_state=42))])\n",
        "model.fit(x_train, y_train)\n",
        "y_pred = model.predict(x_test)\n",
        "\n",
        "print('Предсказанные значения:\\n', np.around(list(y_pred[:50]), 1))\n",
        "print('Истинные значения:\\n', np.around(list(y_test[:50]), 1))"
      ],
      "execution_count": 13,
      "outputs": [
        {
          "output_type": "stream",
          "text": [
            "(3926, 13) (982, 13) (3926,) (982,)\n",
            "Предсказанные значения:\n",
            " [29.4 30.6 29.9 29.  31.  28.2 29.4 28.4 30.4 25.6 29.3 28.6 30.7 29.\n",
            " 30.2 39.8 28.8 29.5 30.9 31.  31.  31.  34.8 31.1 30.4 30.7 30.1 26.3\n",
            " 27.7 29.1 33.5 29.  32.8 29.  19.7 29.9 29.9 30.8 31.9 30.6 30.6 32.6\n",
            " 20.3 29.7 19.7 29.5 20.1 29.9 29.  29. ]\n",
            "Истинные значения:\n",
            " [32.3 31.4 32.1 25.3 22.2 20.1 23.2 30.3 24.8 21.2 32.  24.4 26.4 16.9\n",
            " 30.5 35.1 23.6 35.3 32.4 22.7 23.1 24.1 38.9 39.1 17.3 33.7 37.7 22.6\n",
            " 36.4 29.2 28.4 28.4 24.6 46.5 18.4 35.5 27.9 21.5 24.1 44.  28.1 37.4\n",
            " 27.5 52.8 20.5 29.6 18.6 37.  41.3 43. ]\n"
          ],
          "name": "stdout"
        }
      ]
    },
    {
      "cell_type": "code",
      "metadata": {
        "id": "xMvXndKOYQLa",
        "outputId": "9c620192-5dbb-45f0-d601-b5eb9d2f7edc",
        "colab": {
          "base_uri": "https://localhost:8080/"
        }
      },
      "source": [
        "from sklearn.metrics import accuracy_score, r2_score\n",
        "\n",
        "train = pd.concat([x_train,y_train],axis=1)\n",
        "test = pd.concat([x_test,y_test],axis=1)\n",
        "y_pred = test.copy()\n",
        "\n",
        "bmi_mean = np.mean(train['bmi'])\n",
        "y_pred['bmi'] = bmi_mean\n",
        "print('Model score:', model.score(x_test, y_test))\n",
        "print('Mean score: ', r2_score(y_test, y_pred.bmi))\n",
        "# видно, что модель дает хоть и не очень точные, но достаточно качественные значения, в отличие от усреднения"
      ],
      "execution_count": 14,
      "outputs": [
        {
          "output_type": "stream",
          "text": [
            "Model score: 0.24303576113098183\n",
            "Mean score:  -0.0011478514902276693\n"
          ],
          "name": "stdout"
        }
      ]
    },
    {
      "cell_type": "code",
      "metadata": {
        "id": "WDlLrxPAjBjl"
      },
      "source": [
        "# Теперь предскажем имт для NAN\n",
        "model = Pipeline( steps=[ ('scale',StandardScaler()),\n",
        "                          ('lr',GradientBoostingRegressor(random_state=42))])\n",
        "model.fit(data, y)\n",
        "\n",
        "X = miss_bmi[['age', 'hypertension', 'avg_glucose_level',  'Residence_type_Rural', \n",
        "             'Residence_type_Urban', 'gender_Female', 'gender_Male', 'work_type_children', \n",
        "             'Age_categories_Missing', 'Age_categories_Infant', 'Age_categories_Young', 'Age_categories_Adult', 'Age_categories_Aged']]\n",
        "y_pred = model.predict(X)\n",
        "dataset = dataset.copy()\n",
        "dataset.loc[miss_bmi.index,'bmi'] = pd.Series(y_pred,index=miss_bmi.index)"
      ],
      "execution_count": 15,
      "outputs": []
    },
    {
      "cell_type": "markdown",
      "metadata": {
        "id": "1dZylz7X-SZE"
      },
      "source": [
        "__Задание 4.__  \n",
        "Примените различные преобразования признаков (`PolynomialFeatures`)."
      ]
    },
    {
      "cell_type": "code",
      "metadata": {
        "id": "uuXKuP4_-SZG"
      },
      "source": [
        "# tpoly = PolynomialFeatures(degree=3, interaction_only=True)\n",
        "# tpoly3 = tpoly.fit_transform(train)\n",
        "# fpoly = PolynomialFeatures(degree=3, interaction_only=False)\n",
        "# fpoly3 = fpoly.fit_transform(train)"
      ],
      "execution_count": 16,
      "outputs": []
    },
    {
      "cell_type": "markdown",
      "metadata": {
        "id": "xLSt8MmV-SZH"
      },
      "source": [
        "__Задание 5.__  \n",
        "Обучите несколько классификаторов, в том числе:  \n",
        "1. Логистическую регрессию (`LogisticRegression`).\n",
        "1. Метод опорных векторов (`SVC`).\n",
        "1. Метод *k* ближайших соседей (`KNeighborsClassifier`).\n",
        "1. Наивный байесовский классификатор (`MultinomialNB`).\n",
        "1. Деревья решений (`DecisionTreeClassifier`).\n",
        "1. Случайный лес (`RandomForestClassifier`).\n",
        "1. AdaBoost (`AdaBoost`).\n",
        "1. Градиентный бустинг (`GradientBoostingClassifier`).\n",
        "\n",
        "Для обучения и проверки качества можно использовать функцию `train_test_split()`."
      ]
    },
    {
      "cell_type": "code",
      "metadata": {
        "id": "qrsqbPOvi02d",
        "outputId": "47dc9f54-87bb-4331-fa3d-8258e9050a83",
        "colab": {
          "base_uri": "https://localhost:8080/"
        }
      },
      "source": [
        "from sklearn.model_selection import StratifiedShuffleSplit\n",
        "# Разделим на тестовую, валидационную и обучающие выборки \n",
        "\n",
        "drop_cols = ['id', 'bmi', \"hypertension\", \"heart_disease\", \"Residence_type\", \n",
        "            'ever_married', \"gender\", \"smoking_status\", \"work_type\", \"Age_categories\", \"age\", 'stroke'] \n",
        "y = dataset['stroke']\n",
        "X = dataset.copy()\n",
        "X = X.drop(columns=drop_cols, axis=1)\n",
        "\n",
        "sss = StratifiedShuffleSplit(n_splits=5, train_size=0.8, random_state=42)\n",
        "sss.get_n_splits(X, y)\n",
        "print(sss)\n",
        "for train_index, test_index in sss.split(X, y):\n",
        "    x_train, x_test = X.iloc[train_index], X.iloc[test_index]\n",
        "    y_train, y_test = y.iloc[train_index], y.iloc[test_index]\n",
        "\n",
        "print(y_train.value_counts(), y_test.value_counts()) # Видим, что распределение классов сохранено"
      ],
      "execution_count": 17,
      "outputs": [
        {
          "output_type": "stream",
          "text": [
            "StratifiedShuffleSplit(n_splits=5, random_state=42, test_size=None,\n",
            "            train_size=0.8)\n",
            "0    3888\n",
            "1     199\n",
            "Name: stroke, dtype: int64 0    972\n",
            "1     50\n",
            "Name: stroke, dtype: int64\n"
          ],
          "name": "stdout"
        }
      ]
    },
    {
      "cell_type": "code",
      "metadata": {
        "colab": {
          "base_uri": "https://localhost:8080/"
        },
        "id": "iTfbnlicyszm",
        "outputId": "8621ca3d-db55-43b8-8a36-50dc3dce7e8d"
      },
      "source": [
        "# Логистическая регрессия\n",
        "lr = LogisticRegression(random_state=42)\n",
        "lr.fit(x_train, y_train) \n",
        "y_pred = lr.predict(x_test)\n",
        "print(lr.score(x_test, y_test))"
      ],
      "execution_count": 18,
      "outputs": [
        {
          "output_type": "stream",
          "text": [
            "0.9510763209393346\n"
          ],
          "name": "stdout"
        },
        {
          "output_type": "stream",
          "text": [
            "/usr/local/lib/python3.7/dist-packages/sklearn/linear_model/_logistic.py:940: ConvergenceWarning: lbfgs failed to converge (status=1):\n",
            "STOP: TOTAL NO. of ITERATIONS REACHED LIMIT.\n",
            "\n",
            "Increase the number of iterations (max_iter) or scale the data as shown in:\n",
            "    https://scikit-learn.org/stable/modules/preprocessing.html\n",
            "Please also refer to the documentation for alternative solver options:\n",
            "    https://scikit-learn.org/stable/modules/linear_model.html#logistic-regression\n",
            "  extra_warning_msg=_LOGISTIC_SOLVER_CONVERGENCE_MSG)\n"
          ],
          "name": "stderr"
        }
      ]
    },
    {
      "cell_type": "code",
      "metadata": {
        "colab": {
          "base_uri": "https://localhost:8080/"
        },
        "id": "Yiz_YG-ZyxEj",
        "outputId": "7d2c3396-79fe-4946-90d4-e37501a1489d"
      },
      "source": [
        "# Метод опорных векторов (SVC)\n",
        "svc = SVC(random_state=42)\n",
        "svc.fit(x_train, y_train)\n",
        "print(svc.score(x_test, y_test))"
      ],
      "execution_count": 19,
      "outputs": [
        {
          "output_type": "stream",
          "text": [
            "0.9510763209393346\n"
          ],
          "name": "stdout"
        }
      ]
    },
    {
      "cell_type": "code",
      "metadata": {
        "colab": {
          "base_uri": "https://localhost:8080/"
        },
        "id": "BRO8X7lIyxMl",
        "outputId": "1be91c06-cfc6-4732-9c17-405e1c369f46"
      },
      "source": [
        "# Метод k ближайших соседей (KNeighborsClassifier)\n",
        "knn = KNeighborsClassifier()\n",
        "knn.fit(x_train, y_train)\n",
        "print(knn.score(x_test, y_test))"
      ],
      "execution_count": 20,
      "outputs": [
        {
          "output_type": "stream",
          "text": [
            "0.9461839530332681\n"
          ],
          "name": "stdout"
        }
      ]
    },
    {
      "cell_type": "code",
      "metadata": {
        "colab": {
          "base_uri": "https://localhost:8080/"
        },
        "id": "5XZL0xBhyxYL",
        "outputId": "626ce2ab-f856-4d42-f9e0-e5d71445dd3a"
      },
      "source": [
        "# Наивный байесовский классификатор (MultinomialNB)\n",
        "gaussian = MultinomialNB()\n",
        "gaussian.fit(x_train, y_train)\n",
        "print(gaussian.score(x_test, y_test))"
      ],
      "execution_count": 21,
      "outputs": [
        {
          "output_type": "stream",
          "text": [
            "0.9197651663405088\n"
          ],
          "name": "stdout"
        }
      ]
    },
    {
      "cell_type": "code",
      "metadata": {
        "colab": {
          "base_uri": "https://localhost:8080/"
        },
        "id": "-UWMi3Uvyxep",
        "outputId": "a00152dd-a270-4bf5-bbea-3f0304c90f7f"
      },
      "source": [
        "# Деревья решений (DecisionTreeClassifier)\n",
        "decision_tree = DecisionTreeClassifier(random_state=42)\n",
        "decision_tree.fit(x_train, y_train)\n",
        "print(decision_tree.score(x_test, y_test))"
      ],
      "execution_count": 22,
      "outputs": [
        {
          "output_type": "stream",
          "text": [
            "0.9158512720156555\n"
          ],
          "name": "stdout"
        }
      ]
    },
    {
      "cell_type": "code",
      "metadata": {
        "colab": {
          "base_uri": "https://localhost:8080/"
        },
        "id": "xQiXvuaEy-Ta",
        "outputId": "2f3f20ec-0c70-4598-effe-eb204cf4fbc7"
      },
      "source": [
        "# Случайный лес (RandomForestClassifier)\n",
        "random_forest = RandomForestClassifier(random_state=42)\n",
        "random_forest.fit(x_train, y_train)\n",
        "print(random_forest.score(x_test, y_test))"
      ],
      "execution_count": 23,
      "outputs": [
        {
          "output_type": "stream",
          "text": [
            "0.9373776908023483\n"
          ],
          "name": "stdout"
        }
      ]
    },
    {
      "cell_type": "code",
      "metadata": {
        "colab": {
          "base_uri": "https://localhost:8080/"
        },
        "id": "M6TvjzVFy_sR",
        "outputId": "c9521351-c265-43cd-ea52-6dee83a2a233"
      },
      "source": [
        "# AdaBoost (AdaBoost)\n",
        "ada = AdaBoostClassifier(random_state=42)\n",
        "ada.fit(x_train, y_train)\n",
        "print(ada.score(x_test, y_test))"
      ],
      "execution_count": 24,
      "outputs": [
        {
          "output_type": "stream",
          "text": [
            "0.9500978473581213\n"
          ],
          "name": "stdout"
        }
      ]
    },
    {
      "cell_type": "code",
      "metadata": {
        "colab": {
          "base_uri": "https://localhost:8080/"
        },
        "id": "uDDKSGEozBQP",
        "outputId": "83a29123-1f96-43e2-b799-6bba8561a53e"
      },
      "source": [
        "# Градиентный бустинг (GradientBoostingClassifier)\n",
        "gbc = GradientBoostingClassifier(random_state=42).fit(x_train, y_train)\n",
        "print(gbc.score(x_test, y_test))"
      ],
      "execution_count": 25,
      "outputs": [
        {
          "output_type": "stream",
          "text": [
            "0.949119373776908\n"
          ],
          "name": "stdout"
        }
      ]
    },
    {
      "cell_type": "markdown",
      "metadata": {
        "id": "RP2sHlpM-SZJ"
      },
      "source": [
        "__Задание 6.__  \n",
        "При помощи `Pipeline` и `GridSearchCV` выберите оптимальную архитектуру:\n",
        "1. Метод масштабирования.\n",
        "1. Степень полинома в `PolynomialFeatures`.\n",
        "1. Параметры классификаторов (в том числе, параметры регуляризации).\n",
        "\n",
        "Заносите в таблицу Excel результаты тестирования (варианты параметров, оценки качества)."
      ]
    },
    {
      "cell_type": "code",
      "metadata": {
        "id": "1Yj2cJq2lRgW",
        "colab": {
          "base_uri": "https://localhost:8080/"
        },
        "outputId": "cbad7189-6a22-416d-98ec-84dff3c11205"
      },
      "source": [
        "\n",
        "classifiers = [\n",
        "    LogisticRegression(),\n",
        "    SVC(),\n",
        "    KNeighborsClassifier(),\n",
        "    MultinomialNB(),\n",
        "    DecisionTreeClassifier(),\n",
        "    RandomForestClassifier(),\n",
        "    AdaBoostClassifier(),\n",
        "    GradientBoostingClassifier()\n",
        "    ]\n",
        "\n",
        "# LogisticRegression()\n",
        "params1 = {\"poly__degree\": 1, \"clf__solver\": ['newton-cg', 'lbfgs', 'liblinear', 'sag', 'saga'], \n",
        "           \"clf__max_iter\": 700} # range start stop step\n",
        "# SVC\n",
        "params2 = {\"poly__degree\": range(1,4,1),\"clf__kernel\":[\"rbf\", \"poly\", \"linear\", \"sigmoid\"], \"clf__gamma\": [\"auto\", \"scale\"], \"clf__degree\":range(1,6,1)}\n",
        "# KNeighborsClassifier()\n",
        "params3 = {\"poly__degree\": range(1,4,1),\"clf__n_neighbors\": range(5,10,2), \"clf__weights\": [\"uniform\", \"distance\"],\n",
        "         \"clf__algorithm\": ['ball_tree', 'kd_tree']}\n",
        "# MultinomialNB()\n",
        "params4 = {\"poly__degree\": range(1,4,1),\"clf__fit_prior\": ['True', 'False'], \"clf__alpha\": [0.5,0.3,0.1]}\n",
        "# DecisionTreeClassifier()\n",
        "params5 = {\"poly__degree\": range(1,4,1),\"clf__criterion\":[\"gini\", \"entropy\"], \"clf__max_depth\": range(2,30,3), \"clf__min_samples_split\": [2,3],\n",
        "           \"clf__min_samples_leaf\": range(1,10,3)}   \n",
        "# RandomForestClassifier()\n",
        "params6 = {\"poly__degree\": range(1,4,1),\"clf__criterion\":[\"gini\", \"entropy\"], \"clf__class_weight\":[\"balanced\", \"balanced_subsample\"], \n",
        "           \"clf__max_depth\": range(4,10,2), \"clf__min_samples_leaf\": [1,2,5], \"clf__n_estimators\":range(50,150,50)} \n",
        "# AdaBoostClassifier()\n",
        "params7 = {\"poly__degree\": range(3,6,1),\"clf__learning_rate\":np.arange(0.3,0.7,0.1), \"clf__n_estimators\":range(20,60,20),\n",
        "         \"clf__algorithm\":[\"SAMME\", \"SAMME.R\"]} \n",
        "# GradientBoostingClassifier()\n",
        "params8 = {\"poly__degree\": range(3,5,1),\"clf__loss\":[\"deviance\", \"exponential\"], \n",
        "           \"clf__learning_rate\":[0.08,0.07,0.075], \"clf__n_estimators\":range(60,120,20),\n",
        "           \"clf__min_samples_leaf\": range(1,4,1), \"clf__max_depth\": range(1,4,1), \n",
        "           \"clf__max_features\": [\"auto\", \"sqrt\", \"log2\"], \"clf__validation_fraction\":np.arange(0.01,0.2,0.05)}\n",
        "\n",
        "\n",
        "parameters = [params1, params2, params3, params4, params5, params6, params7, params8]\n",
        "i = 0\n",
        "for classifier in classifiers:\n",
        "    print(classifier)\n",
        "    pipe = Pipeline(steps=[('scaler', MinMaxScaler()), #MinMaxScaler() StandardScaler()\n",
        "                            ('poly', PolynomialFeatures()),\n",
        "                            ('clf', classifier) # , return_train_score = True\n",
        "                      ])\n",
        "    grid_cv = model_selection.GridSearchCV(pipe, parameters[i], scoring='accuracy')\n",
        "    grid_cv.fit(x_train, y_train)\n",
        "    print(\"model best score: \", grid_cv.best_score_)    \n",
        "    print(grid_cv.best_params_)\n",
        "    model = grid_cv.best_estimator_\n",
        "    print(\"model test score: \", model.score(x_test, y_test))\n",
        "    i+=1"
      ],
      "execution_count": 1,
      "outputs": [
        {
          "output_type": "error",
          "ename": "NameError",
          "evalue": "ignored",
          "traceback": [
            "\u001b[0;31m---------------------------------------------------------------------------\u001b[0m",
            "\u001b[0;31mNameError\u001b[0m                                 Traceback (most recent call last)",
            "\u001b[0;32m<ipython-input-1-223556f27b98>\u001b[0m in \u001b[0;36m<module>\u001b[0;34m()\u001b[0m\n\u001b[1;32m      1\u001b[0m \u001b[0;34m\u001b[0m\u001b[0m\n\u001b[1;32m      2\u001b[0m classifiers = [\n\u001b[0;32m----> 3\u001b[0;31m     \u001b[0mLogisticRegression\u001b[0m\u001b[0;34m(\u001b[0m\u001b[0;34m)\u001b[0m\u001b[0;34m,\u001b[0m\u001b[0;34m\u001b[0m\u001b[0;34m\u001b[0m\u001b[0m\n\u001b[0m\u001b[1;32m      4\u001b[0m     \u001b[0mSVC\u001b[0m\u001b[0;34m(\u001b[0m\u001b[0;34m)\u001b[0m\u001b[0;34m,\u001b[0m\u001b[0;34m\u001b[0m\u001b[0;34m\u001b[0m\u001b[0m\n\u001b[1;32m      5\u001b[0m     \u001b[0mKNeighborsClassifier\u001b[0m\u001b[0;34m(\u001b[0m\u001b[0;34m)\u001b[0m\u001b[0;34m,\u001b[0m\u001b[0;34m\u001b[0m\u001b[0;34m\u001b[0m\u001b[0m\n",
            "\u001b[0;31mNameError\u001b[0m: name 'LogisticRegression' is not defined"
          ]
        }
      ]
    },
    {
      "cell_type": "markdown",
      "metadata": {
        "id": "VBYihCsN-SZK"
      },
      "source": [
        "__Задание 7.__  \n",
        "1. Выберите несколько лучших классификаторов (от 3 до 10).\n",
        "1. Обучите выбранные классификаторы на всех доступных размеченных данных.\n",
        "1. Получите результаты предсказания для тестовых данных.\n",
        "1. Отправьте результаты на сервер [Kaggle](https://ru.wikipedia.org/wiki/Титаник)."
      ]
    },
    {
      "cell_type": "code",
      "metadata": {
        "colab": {
          "base_uri": "https://localhost:8080/",
          "height": 621
        },
        "id": "unNr1_U3-SZL",
        "outputId": "57ace29c-5c2e-4930-eac3-961d9750ab3e"
      },
      "source": [
        "y = train['stroke']\n",
        "df = train.copy()\n",
        "df = df.drop(['Survived'], axis=1)\n",
        "test2 = pd.read_csv(\"test.csv\") \n",
        "test_ids = test2[\"PassengerId\"]\n",
        "\n",
        "# RandomForestClassifier()\n",
        "rfc = {\"poly__degree\": range(1,4,1),\"clf__criterion\":[\"gini\", \"entropy\"], \"clf__class_weight\":[\"balanced\", \"balanced_subsample\"], \n",
        "           \"clf__max_depth\": range(2,5,1), \"clf__min_samples_leaf\": [1,2,3], \"clf__n_estimators\":range(50,150,50)} \n",
        "pipe = Pipeline(steps=[     ('scaler', StandardScaler()), #MinMaxScaler() StandardScaler()\n",
        "                            ('poly', PolynomialFeatures()),\n",
        "                            ('clf', RandomForestClassifier()) \n",
        "                      ])\n",
        "grid_cv = model_selection.GridSearchCV(pipe, rfc, scoring='accuracy')\n",
        "grid_cv.fit(df, y)\n",
        "print(\"model best score: \", grid_cv.best_score_)    \n",
        "print(grid_cv.best_params_)\n",
        "model = grid_cv.best_estimator_\n",
        "\n",
        "test_predictions = model.predict(test)\n",
        "\n",
        "submission_df = {\"PassengerId\": test_ids,\n",
        "                 \"Survived\": test_predictions}\n",
        "\n",
        "submission = pd.DataFrame(submission_df)\n",
        "submission.to_csv('titanic_submission_rf.csv', index=False)"
      ],
      "execution_count": 26,
      "outputs": [
        {
          "output_type": "error",
          "ename": "KeyError",
          "evalue": "ignored",
          "traceback": [
            "\u001b[0;31m---------------------------------------------------------------------------\u001b[0m",
            "\u001b[0;31mKeyError\u001b[0m                                  Traceback (most recent call last)",
            "\u001b[0;32m/usr/local/lib/python3.7/dist-packages/pandas/core/indexes/base.py\u001b[0m in \u001b[0;36mget_loc\u001b[0;34m(self, key, method, tolerance)\u001b[0m\n\u001b[1;32m   2897\u001b[0m             \u001b[0;32mtry\u001b[0m\u001b[0;34m:\u001b[0m\u001b[0;34m\u001b[0m\u001b[0;34m\u001b[0m\u001b[0m\n\u001b[0;32m-> 2898\u001b[0;31m                 \u001b[0;32mreturn\u001b[0m \u001b[0mself\u001b[0m\u001b[0;34m.\u001b[0m\u001b[0m_engine\u001b[0m\u001b[0;34m.\u001b[0m\u001b[0mget_loc\u001b[0m\u001b[0;34m(\u001b[0m\u001b[0mcasted_key\u001b[0m\u001b[0;34m)\u001b[0m\u001b[0;34m\u001b[0m\u001b[0;34m\u001b[0m\u001b[0m\n\u001b[0m\u001b[1;32m   2899\u001b[0m             \u001b[0;32mexcept\u001b[0m \u001b[0mKeyError\u001b[0m \u001b[0;32mas\u001b[0m \u001b[0merr\u001b[0m\u001b[0;34m:\u001b[0m\u001b[0;34m\u001b[0m\u001b[0;34m\u001b[0m\u001b[0m\n",
            "\u001b[0;32mpandas/_libs/index.pyx\u001b[0m in \u001b[0;36mpandas._libs.index.IndexEngine.get_loc\u001b[0;34m()\u001b[0m\n",
            "\u001b[0;32mpandas/_libs/index.pyx\u001b[0m in \u001b[0;36mpandas._libs.index.IndexEngine.get_loc\u001b[0;34m()\u001b[0m\n",
            "\u001b[0;32mpandas/_libs/hashtable_class_helper.pxi\u001b[0m in \u001b[0;36mpandas._libs.hashtable.PyObjectHashTable.get_item\u001b[0;34m()\u001b[0m\n",
            "\u001b[0;32mpandas/_libs/hashtable_class_helper.pxi\u001b[0m in \u001b[0;36mpandas._libs.hashtable.PyObjectHashTable.get_item\u001b[0;34m()\u001b[0m\n",
            "\u001b[0;31mKeyError\u001b[0m: 'Survived'",
            "\nThe above exception was the direct cause of the following exception:\n",
            "\u001b[0;31mKeyError\u001b[0m                                  Traceback (most recent call last)",
            "\u001b[0;32m<ipython-input-26-eb49122f15f1>\u001b[0m in \u001b[0;36m<module>\u001b[0;34m()\u001b[0m\n\u001b[0;32m----> 1\u001b[0;31m \u001b[0my\u001b[0m \u001b[0;34m=\u001b[0m \u001b[0mtrain\u001b[0m\u001b[0;34m[\u001b[0m\u001b[0;34m'Survived'\u001b[0m\u001b[0;34m]\u001b[0m\u001b[0;34m\u001b[0m\u001b[0;34m\u001b[0m\u001b[0m\n\u001b[0m\u001b[1;32m      2\u001b[0m \u001b[0mdf\u001b[0m \u001b[0;34m=\u001b[0m \u001b[0mtrain\u001b[0m\u001b[0;34m.\u001b[0m\u001b[0mcopy\u001b[0m\u001b[0;34m(\u001b[0m\u001b[0;34m)\u001b[0m\u001b[0;34m\u001b[0m\u001b[0;34m\u001b[0m\u001b[0m\n\u001b[1;32m      3\u001b[0m \u001b[0mdf\u001b[0m \u001b[0;34m=\u001b[0m \u001b[0mdf\u001b[0m\u001b[0;34m.\u001b[0m\u001b[0mdrop\u001b[0m\u001b[0;34m(\u001b[0m\u001b[0;34m[\u001b[0m\u001b[0;34m'Survived'\u001b[0m\u001b[0;34m]\u001b[0m\u001b[0;34m,\u001b[0m \u001b[0maxis\u001b[0m\u001b[0;34m=\u001b[0m\u001b[0;36m1\u001b[0m\u001b[0;34m)\u001b[0m\u001b[0;34m\u001b[0m\u001b[0;34m\u001b[0m\u001b[0m\n\u001b[1;32m      4\u001b[0m \u001b[0mtest2\u001b[0m \u001b[0;34m=\u001b[0m \u001b[0mpd\u001b[0m\u001b[0;34m.\u001b[0m\u001b[0mread_csv\u001b[0m\u001b[0;34m(\u001b[0m\u001b[0;34m\"test.csv\"\u001b[0m\u001b[0;34m)\u001b[0m\u001b[0;34m\u001b[0m\u001b[0;34m\u001b[0m\u001b[0m\n\u001b[1;32m      5\u001b[0m \u001b[0mtest_ids\u001b[0m \u001b[0;34m=\u001b[0m \u001b[0mtest2\u001b[0m\u001b[0;34m[\u001b[0m\u001b[0;34m\"PassengerId\"\u001b[0m\u001b[0;34m]\u001b[0m\u001b[0;34m\u001b[0m\u001b[0;34m\u001b[0m\u001b[0m\n",
            "\u001b[0;32m/usr/local/lib/python3.7/dist-packages/pandas/core/frame.py\u001b[0m in \u001b[0;36m__getitem__\u001b[0;34m(self, key)\u001b[0m\n\u001b[1;32m   2904\u001b[0m             \u001b[0;32mif\u001b[0m \u001b[0mself\u001b[0m\u001b[0;34m.\u001b[0m\u001b[0mcolumns\u001b[0m\u001b[0;34m.\u001b[0m\u001b[0mnlevels\u001b[0m \u001b[0;34m>\u001b[0m \u001b[0;36m1\u001b[0m\u001b[0;34m:\u001b[0m\u001b[0;34m\u001b[0m\u001b[0;34m\u001b[0m\u001b[0m\n\u001b[1;32m   2905\u001b[0m                 \u001b[0;32mreturn\u001b[0m \u001b[0mself\u001b[0m\u001b[0;34m.\u001b[0m\u001b[0m_getitem_multilevel\u001b[0m\u001b[0;34m(\u001b[0m\u001b[0mkey\u001b[0m\u001b[0;34m)\u001b[0m\u001b[0;34m\u001b[0m\u001b[0;34m\u001b[0m\u001b[0m\n\u001b[0;32m-> 2906\u001b[0;31m             \u001b[0mindexer\u001b[0m \u001b[0;34m=\u001b[0m \u001b[0mself\u001b[0m\u001b[0;34m.\u001b[0m\u001b[0mcolumns\u001b[0m\u001b[0;34m.\u001b[0m\u001b[0mget_loc\u001b[0m\u001b[0;34m(\u001b[0m\u001b[0mkey\u001b[0m\u001b[0;34m)\u001b[0m\u001b[0;34m\u001b[0m\u001b[0;34m\u001b[0m\u001b[0m\n\u001b[0m\u001b[1;32m   2907\u001b[0m             \u001b[0;32mif\u001b[0m \u001b[0mis_integer\u001b[0m\u001b[0;34m(\u001b[0m\u001b[0mindexer\u001b[0m\u001b[0;34m)\u001b[0m\u001b[0;34m:\u001b[0m\u001b[0;34m\u001b[0m\u001b[0;34m\u001b[0m\u001b[0m\n\u001b[1;32m   2908\u001b[0m                 \u001b[0mindexer\u001b[0m \u001b[0;34m=\u001b[0m \u001b[0;34m[\u001b[0m\u001b[0mindexer\u001b[0m\u001b[0;34m]\u001b[0m\u001b[0;34m\u001b[0m\u001b[0;34m\u001b[0m\u001b[0m\n",
            "\u001b[0;32m/usr/local/lib/python3.7/dist-packages/pandas/core/indexes/base.py\u001b[0m in \u001b[0;36mget_loc\u001b[0;34m(self, key, method, tolerance)\u001b[0m\n\u001b[1;32m   2898\u001b[0m                 \u001b[0;32mreturn\u001b[0m \u001b[0mself\u001b[0m\u001b[0;34m.\u001b[0m\u001b[0m_engine\u001b[0m\u001b[0;34m.\u001b[0m\u001b[0mget_loc\u001b[0m\u001b[0;34m(\u001b[0m\u001b[0mcasted_key\u001b[0m\u001b[0;34m)\u001b[0m\u001b[0;34m\u001b[0m\u001b[0;34m\u001b[0m\u001b[0m\n\u001b[1;32m   2899\u001b[0m             \u001b[0;32mexcept\u001b[0m \u001b[0mKeyError\u001b[0m \u001b[0;32mas\u001b[0m \u001b[0merr\u001b[0m\u001b[0;34m:\u001b[0m\u001b[0;34m\u001b[0m\u001b[0;34m\u001b[0m\u001b[0m\n\u001b[0;32m-> 2900\u001b[0;31m                 \u001b[0;32mraise\u001b[0m \u001b[0mKeyError\u001b[0m\u001b[0;34m(\u001b[0m\u001b[0mkey\u001b[0m\u001b[0;34m)\u001b[0m \u001b[0;32mfrom\u001b[0m \u001b[0merr\u001b[0m\u001b[0;34m\u001b[0m\u001b[0;34m\u001b[0m\u001b[0m\n\u001b[0m\u001b[1;32m   2901\u001b[0m \u001b[0;34m\u001b[0m\u001b[0m\n\u001b[1;32m   2902\u001b[0m         \u001b[0;32mif\u001b[0m \u001b[0mtolerance\u001b[0m \u001b[0;32mis\u001b[0m \u001b[0;32mnot\u001b[0m \u001b[0;32mNone\u001b[0m\u001b[0;34m:\u001b[0m\u001b[0;34m\u001b[0m\u001b[0;34m\u001b[0m\u001b[0m\n",
            "\u001b[0;31mKeyError\u001b[0m: 'Survived'"
          ]
        }
      ]
    }
  ]
}